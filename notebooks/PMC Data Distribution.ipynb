{
 "cells": [
  {
   "cell_type": "code",
   "execution_count": 5,
   "metadata": {},
   "outputs": [],
   "source": [
    "import pandas as pd\n",
    "import numpy as np\n",
    "import pyodbc\n",
    "import matplotlib.pyplot as plt"
   ]
  },
  {
   "cell_type": "code",
   "execution_count": 204,
   "metadata": {},
   "outputs": [],
   "source": [
    "driver = '{SQL Server Native Client 11.0}'\n",
    "server = 'sql2017'\n",
    "db = 'plains_irasv6_uat'\n",
    "conn = pyodbc.connect(\"Driver=\"+driver+\";Server=\"+server+\";Database=\"+db+\";Trusted_Connection=yes;\")\n",
    "\n",
    "# performing query to database\n",
    "\n",
    "# q = \"\"\"set nocount on;\n",
    "#         select * from inlineinspectionrange r\n",
    "#         join listdomain ld on r.ilirtooldomainid = ld.id\n",
    "#         where ld.code like '%Ultra Sonic%'\"\"\"\n",
    "\n",
    "# q = \"\"\"set nocount on;\n",
    "#         select * from maop\"\"\"\n",
    "\n",
    "# q = \"\"\"set nocount on;\n",
    "#         select ld.code [type], lu.* from landuse lu\n",
    "#         join listdomain ld on lu.landusedomainid = ld.id\"\"\"\n",
    "\n",
    "# q = \"\"\"set nocount on;\n",
    "#         select ld.code [type1], ld2.code [type2], c.* from coatingcondition c\n",
    "#         join listdomain ld2 on c.CoatingCondWeldFoundDomainId = ld2.id\n",
    "#         join listdomain ld on c.CoatingCondLineFoundDomainId = ld.id\n",
    "# \"\"\"\n",
    "\n",
    "q = \"\"\"set nocount on;\n",
    "        select ld.code [type], c.* from coating c\n",
    "        join listdomain ld on c.CoatingWeldDomainId = ld.id\"\"\"\n",
    "\n",
    "# q = \"\"\"set nocount on;\n",
    "#         select ps.* from pipesegment ps\n",
    "#         --join listdomain ld on c.CoatingLineDomainId = ld.id\"\"\"\n",
    "\n",
    "# q = \"\"\"set nocount on;\n",
    "#         select cd.* from coverdepth cd\n",
    "#         --join listdomain ld on c.CoatingLineDomainId = ld.id\"\"\"\n",
    "\n",
    "# q = \"\"\"set nocount on;\n",
    "#         select ld.code [type], pc.* from productcomponent pc\n",
    "#         join listdomain ld on pc.ProductTypeDomainId = ld.id\"\"\"\n",
    "\n",
    "# q = \"\"\"set nocount on;\n",
    "#         select od.* from operatingdata od\n",
    "#         --join listdomain ld on pc.ProductTypeDomainId = ld.id\"\"\"\n",
    "\n",
    "# q = \"\"\"set nocount on;\n",
    "#         select ll.id [LLID], ld.code [type], (v.StationNum+mlv.FactorNum) [chainage], v.* from valve v\n",
    "#         join mlvcorrection mlv on v.stationseriesid = mlv.stationseriesid\n",
    "#         join stationseries ss on v.stationseriesid = ss.id\n",
    "#         join lineloop ll on ss.lineloopid = ll.id\n",
    "#         join listdomain ld on v.ValveTypeDomainId = ld.id\"\"\"\n",
    "\n",
    "# q = \"\"\"set nocount on;\n",
    "#         select ep.* from elevationprofile ep\n",
    "#         --join listdomain ld on pc.ProductTypeDomainId = ld.id\"\"\"\n",
    "\n",
    "# q = \"\"\"set nocount on;\n",
    "#         select ld.code [type], ca.* from classarea ca\n",
    "#         join listdomain ld on ca.ClassAreaRatingDomainId = ld.id\"\"\"\n",
    "\n",
    "# q = \"\"\"set nocount on;\n",
    "#         select /*ld.code [type],*/ cps.* from cpsurveyreading cps\n",
    "#         --join listdomain ld on ca.ClassAreaRatingDomainId = ld.id\"\"\"\n",
    "\n",
    "# q = \"\"\"set nocount on;\n",
    "#         select * from VirtualTableDataNum vtdn\n",
    "#         where vtdn.VirtualTableId = 145 --135 is iFilmsMeanCGR; 66 is full bore outflow; 154 is leak outflow\n",
    "#                                         --86 is leak pop\n",
    "#                                         --142 is rupture pop\n",
    "#                                         --144 is puncture pop\n",
    "                                        \n",
    "#                                         --87 is leak structure cost\n",
    "#                                         --143 is rupture structure cost\n",
    "#                                         --145 is punture structure cost\"\"\"\n",
    "\n",
    "# q = \"\"\"set nocount on;\n",
    "#         select /*ld.code [type],*/ cps.* from cpsurvey cps\n",
    "#         --join listdomain ld on ca.ClassAreaRatingDomainId = ld.id\"\"\"\n",
    "\n",
    "data = pd.read_sql_query(q,conn)\n",
    "\n",
    "conn.close()"
   ]
  },
  {
   "cell_type": "code",
   "execution_count": 152,
   "metadata": {},
   "outputs": [
    {
     "data": {
      "text/plain": [
       "count                       3\n",
       "unique                      3\n",
       "top       2018-02-08 00:00:00\n",
       "freq                        1\n",
       "first     2007-05-03 00:00:00\n",
       "last      2018-02-08 00:00:00\n",
       "Name: ILIRStartDate, dtype: object"
      ]
     },
     "execution_count": 152,
     "metadata": {},
     "output_type": "execute_result"
    }
   ],
   "source": [
    "\n",
    "# data['ILIRStartDate'] = pd.to_datetime(data['ILIRStartDate'])\n",
    "data.ILIRStartDate.describe()"
   ]
  },
  {
   "cell_type": "code",
   "execution_count": 132,
   "metadata": {},
   "outputs": [
    {
     "data": {
      "text/plain": [
       "count      673.000000\n",
       "mean      7459.225706\n",
       "std       3043.488107\n",
       "min        172.000000\n",
       "25%       5960.000000\n",
       "50%       8270.000000\n",
       "75%       9930.000000\n",
       "max      21646.900000\n",
       "Name: MaxAllowablePressure, dtype: float64"
      ]
     },
     "execution_count": 132,
     "metadata": {},
     "output_type": "execute_result"
    }
   ],
   "source": [
    "# (data.loc[data.MaxAllowablePressure>45,'MaxAllowablePressure']/6.89476).describe()\n",
    "data.loc[data.MaxAllowablePressure>45,'MaxAllowablePressure'].describe()"
   ]
  },
  {
   "cell_type": "code",
   "execution_count": 33,
   "metadata": {},
   "outputs": [
    {
     "data": {
      "text/plain": [
       "count            17595\n",
       "unique              11\n",
       "top       Agricultural\n",
       "freq              8305\n",
       "Name: type, dtype: object"
      ]
     },
     "execution_count": 33,
     "metadata": {},
     "output_type": "execute_result"
    }
   ],
   "source": [
    "# data.type = data.type.astype('category')\n",
    "data.type.describe()"
   ]
  },
  {
   "cell_type": "code",
   "execution_count": 208,
   "metadata": {},
   "outputs": [
    {
     "data": {
      "text/plain": [
       "count     0\n",
       "unique    0\n",
       "Name: CoatingInstallDate, dtype: int64"
      ]
     },
     "execution_count": 208,
     "metadata": {},
     "output_type": "execute_result"
    }
   ],
   "source": [
    "# data.type = data.type.astype('category')\n",
    "# data.iloc[:,6:12].describe(include='all')\n",
    "data.CoatingInstallDate.describe(include='all')"
   ]
  },
  {
   "cell_type": "code",
   "execution_count": 182,
   "metadata": {},
   "outputs": [
    {
     "data": {
      "text/plain": [
       "count                    7226\n",
       "unique                    131\n",
       "top       1971-01-01 00:00:00\n",
       "freq                      533\n",
       "first     1900-01-01 00:00:00\n",
       "last      2019-01-07 00:00:00\n",
       "Name: PipeInserviceDate, dtype: object"
      ]
     },
     "execution_count": 182,
     "metadata": {},
     "output_type": "execute_result"
    }
   ],
   "source": [
    "# data.columns\n",
    "# data.EffectiveStartDate = pd.to_datetime(data.EffectiveStartDate)\n",
    "# data.PipeInserviceDate = pd.to_datetime(data.PipeInserviceDate)\n",
    "# data.EffectiveStartDate.describe()\n",
    "data.PipeInserviceDate.describe()\n",
    "# data.PipeWallThickness.loc[(data.PipeWallThickness>0)& (data.PipeWallThickness <99)].describe()\n",
    "# data.PipeOutsideDiameter.loc[data.PipeOutsideDiameter<99].describe()\n",
    "# # data.PipeGrade.loc[(data.PipeGrade<99999) & (data.PipeGrade>20)].describe()\n",
    "# data.PipeToughness.dropna().describe()"
   ]
  },
  {
   "cell_type": "code",
   "execution_count": 47,
   "metadata": {},
   "outputs": [
    {
     "data": {
      "text/plain": [
       "count    189170.000000\n",
       "mean          1.274369\n",
       "std           0.528005\n",
       "min           0.000000\n",
       "25%           0.950000\n",
       "50%           1.170000\n",
       "75%           1.410000\n",
       "max          32.400000\n",
       "Name: CoverDepth, dtype: float64"
      ]
     },
     "execution_count": 47,
     "metadata": {},
     "output_type": "execute_result"
    }
   ],
   "source": [
    "data.CoverDepth.describe()"
   ]
  },
  {
   "cell_type": "code",
   "execution_count": 54,
   "metadata": {},
   "outputs": [
    {
     "data": {
      "text/plain": [
       "count            221\n",
       "unique             9\n",
       "top       Condensate\n",
       "freq              98\n",
       "Name: type, dtype: object"
      ]
     },
     "execution_count": 54,
     "metadata": {},
     "output_type": "execute_result"
    }
   ],
   "source": [
    "# data.type = data.type.astype('category')\n",
    "data.type.describe()"
   ]
  },
  {
   "cell_type": "code",
   "execution_count": 61,
   "metadata": {},
   "outputs": [
    {
     "data": {
      "text/plain": [
       "count    55.000000\n",
       "mean      9.916364\n",
       "std      10.469263\n",
       "min       3.500000\n",
       "25%       3.500000\n",
       "50%       7.000000\n",
       "75%      10.000000\n",
       "max      65.000000\n",
       "Name: OperatingTemperature, dtype: float64"
      ]
     },
     "execution_count": 61,
     "metadata": {},
     "output_type": "execute_result"
    }
   ],
   "source": [
    "# (data.OperatingTemperature* (9/5)+32).describe()\n",
    "data.OperatingTemperature.describe()\n",
    "#(0°C × 9/5) + 32 = 32°F"
   ]
  },
  {
   "cell_type": "code",
   "execution_count": 139,
   "metadata": {},
   "outputs": [
    {
     "data": {
      "text/plain": [
       "count    308.000000\n",
       "mean       4.535714\n",
       "std        6.252194\n",
       "min        1.000000\n",
       "25%        2.000000\n",
       "50%        2.000000\n",
       "75%        5.000000\n",
       "max       61.000000\n",
       "Name: StationNum, dtype: float64"
      ]
     },
     "execution_count": 139,
     "metadata": {},
     "output_type": "execute_result"
    }
   ],
   "source": [
    "# data.type = data.type.astype('category')\n",
    "# for x in data.type.unique():\n",
    "#     print(x)\n",
    "\n",
    "data.groupby('LLID').StationNum.agg('count').describe()\n",
    "# data.groupby('LLID').apply(lambda x: abs(np.mean(x['chainage'].shift(-1)-x['chainage']))).dropna().describe()"
   ]
  },
  {
   "cell_type": "code",
   "execution_count": 123,
   "metadata": {},
   "outputs": [
    {
     "data": {
      "text/plain": [
       "count    890623.000000\n",
       "mean        765.329979\n",
       "std         258.511076\n",
       "min         171.000000\n",
       "25%         614.195000\n",
       "50%         705.290000\n",
       "75%         971.000000\n",
       "max        1495.820000\n",
       "Name: Elevation, dtype: float64"
      ]
     },
     "execution_count": 123,
     "metadata": {},
     "output_type": "execute_result"
    }
   ],
   "source": [
    "data.Elevation.describe()"
   ]
  },
  {
   "cell_type": "code",
   "execution_count": 144,
   "metadata": {},
   "outputs": [
    {
     "data": {
      "text/plain": [
       "count     997\n",
       "unique      4\n",
       "top         1\n",
       "freq      574\n",
       "Name: type, dtype: object"
      ]
     },
     "execution_count": 144,
     "metadata": {},
     "output_type": "execute_result"
    }
   ],
   "source": [
    "data.type.describe()"
   ]
  },
  {
   "cell_type": "code",
   "execution_count": 156,
   "metadata": {},
   "outputs": [
    {
     "data": {
      "text/html": [
       "<div>\n",
       "<style scoped>\n",
       "    .dataframe tbody tr th:only-of-type {\n",
       "        vertical-align: middle;\n",
       "    }\n",
       "\n",
       "    .dataframe tbody tr th {\n",
       "        vertical-align: top;\n",
       "    }\n",
       "\n",
       "    .dataframe thead th {\n",
       "        text-align: right;\n",
       "    }\n",
       "</style>\n",
       "<table border=\"1\" class=\"dataframe\">\n",
       "  <thead>\n",
       "    <tr style=\"text-align: right;\">\n",
       "      <th></th>\n",
       "      <th>CPSurveyReadingOn</th>\n",
       "      <th>CPSurveyReadingOff</th>\n",
       "    </tr>\n",
       "  </thead>\n",
       "  <tbody>\n",
       "    <tr>\n",
       "      <th>min</th>\n",
       "      <td>795.000000</td>\n",
       "      <td>590.000000</td>\n",
       "    </tr>\n",
       "    <tr>\n",
       "      <th>max</th>\n",
       "      <td>4548.000000</td>\n",
       "      <td>2483.000000</td>\n",
       "    </tr>\n",
       "    <tr>\n",
       "      <th>mean</th>\n",
       "      <td>1540.412099</td>\n",
       "      <td>1249.442955</td>\n",
       "    </tr>\n",
       "    <tr>\n",
       "      <th>median</th>\n",
       "      <td>1511.000000</td>\n",
       "      <td>1234.000000</td>\n",
       "    </tr>\n",
       "  </tbody>\n",
       "</table>\n",
       "</div>"
      ],
      "text/plain": [
       "        CPSurveyReadingOn  CPSurveyReadingOff\n",
       "min            795.000000          590.000000\n",
       "max           4548.000000         2483.000000\n",
       "mean          1540.412099         1249.442955\n",
       "median        1511.000000         1234.000000"
      ]
     },
     "execution_count": 156,
     "metadata": {},
     "output_type": "execute_result"
    }
   ],
   "source": [
    "data.loc[:,['CPSurveyReadingOn','CPSurveyReadingOff']].agg(['min','max','mean','median'])"
   ]
  },
  {
   "cell_type": "code",
   "execution_count": 188,
   "metadata": {},
   "outputs": [
    {
     "data": {
      "text/plain": [
       "count    2.571700e+04\n",
       "mean     2.628269e+05\n",
       "std      2.013765e+06\n",
       "min      0.000000e+00\n",
       "25%      0.000000e+00\n",
       "50%      0.000000e+00\n",
       "75%      2.500000e+04\n",
       "max      9.707134e+07\n",
       "Name: DataFieldValueNum, dtype: float64"
      ]
     },
     "execution_count": 188,
     "metadata": {},
     "output_type": "execute_result"
    }
   ],
   "source": [
    "data.DataFieldValueNum.describe()"
   ]
  },
  {
   "cell_type": "code",
   "execution_count": 163,
   "metadata": {},
   "outputs": [
    {
     "data": {
      "text/plain": [
       "count                      45\n",
       "unique                     12\n",
       "top       2017-01-01 00:00:00\n",
       "freq                       19\n",
       "first     2016-01-01 00:00:00\n",
       "last      2017-01-01 00:00:00\n",
       "Name: CPSurveyDate, dtype: object"
      ]
     },
     "execution_count": 163,
     "metadata": {},
     "output_type": "execute_result"
    }
   ],
   "source": [
    "data.CPSurveyDate.describe()"
   ]
  },
  {
   "cell_type": "code",
   "execution_count": null,
   "metadata": {},
   "outputs": [],
   "source": []
  }
 ],
 "metadata": {
  "kernelspec": {
   "display_name": "Python 3",
   "language": "python",
   "name": "python3"
  },
  "language_info": {
   "codemirror_mode": {
    "name": "ipython",
    "version": 3
   },
   "file_extension": ".py",
   "mimetype": "text/x-python",
   "name": "python",
   "nbconvert_exporter": "python",
   "pygments_lexer": "ipython3",
   "version": "3.6.8"
  },
  "toc": {
   "base_numbering": 1,
   "nav_menu": {},
   "number_sections": true,
   "sideBar": true,
   "skip_h1_title": false,
   "title_cell": "Table of Contents",
   "title_sidebar": "Contents",
   "toc_cell": false,
   "toc_position": {},
   "toc_section_display": true,
   "toc_window_display": false
  }
 },
 "nbformat": 4,
 "nbformat_minor": 2
}
