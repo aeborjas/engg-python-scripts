{
 "cells": [
  {
   "cell_type": "code",
   "execution_count": 1,
   "metadata": {},
   "outputs": [],
   "source": [
    "import pandas as pd\n",
    "import pyodbc"
   ]
  },
  {
   "cell_type": "code",
   "execution_count": 2,
   "metadata": {},
   "outputs": [],
   "source": [
    "def sqlserver_sql(q, server = 'SQL2017', db = 'IPL_IRASV6_STAGE'):\n",
    "    driver = '{SQL Server Native Client 11.0}'\n",
    "    conn = pyodbc.connect(\"Driver=\"+driver+\";Server=\"+server+\";Database=\"+db+\";Trusted_Connection=yes;\")\n",
    "\n",
    "    # performing query to database\n",
    "    df = pd.read_sql_query(q,conn)\n",
    "\n",
    "    conn.close()\n",
    "    return df"
   ]
  },
  {
   "cell_type": "code",
   "execution_count": 3,
   "metadata": {},
   "outputs": [],
   "source": [
    "server2 = 'SQL2012'\n",
    "db2 = 'IPL_INTERCHANGE_PROD'"
   ]
  },
  {
   "cell_type": "markdown",
   "metadata": {},
   "source": [
    "Linear Queries"
   ]
  },
  {
   "cell_type": "code",
   "execution_count": 6,
   "metadata": {
    "scrolled": false
   },
   "outputs": [
    {
     "data": {
      "text/plain": [
       "241"
      ]
     },
     "metadata": {},
     "output_type": "display_data"
    },
    {
     "data": {
      "text/plain": [
       "241"
      ]
     },
     "metadata": {},
     "output_type": "display_data"
    }
   ],
   "source": [
    "table_stg = 'IRASCustomData1'\n",
    "table_inter = 'GeohazardPOF'\n",
    "\n",
    "q_stg = f\"\"\"select t.*, ll.LineName from {table_stg} t\n",
    "            join StationSeries ss on t.beginstationSeriesid = ss.id\n",
    "            join lineloop ll on ss.lineloopid = ll.id\n",
    "    \"\"\"\n",
    "\n",
    "vt_q_stg = f\"\"\"select t.*, vts.BeginStationSeriesId, vts.BeginStationNum, vts.EndStationNum, ll.LineName from VirtualTableDatalistdomain t\n",
    "                join VirtualTableStationing vts on t.VirtualTableStationingId = vts.VirtualTableStationingId and t.VirtualTableId = vts.VirtualTableId\n",
    "                join VirtualTable vt on t.VirtualTableId = vt.Id\n",
    "                join StationSeries ss on vts.BeginStationSeriesId = ss.Id\n",
    "                join LineLoop ll on ss.LineLoopId = ll.Id\n",
    "                where vt.virtualtablename = '{table_stg}'\n",
    "            \"\"\"\n",
    "q_inter = f\"\"\"select t.*, ll.LineName from ipl_{table_inter} t\n",
    "            join ipl_stationseries ss on t.beginstationseriesid = ss.id\n",
    "            join ipl_lineloop ll on ss.lineloopid = ll.id\n",
    "    \"\"\"\n",
    "el_inter = f\"\"\"select t.*, ll.LineName from ipl_{table_inter} t\n",
    "            join ipl_stationseries ss on t.stationseriesid = ss.id\n",
    "            join ipl_lineloop ll on ss.lineloopid = ll.id\n",
    "    \"\"\"\n",
    "\n",
    "stg_data = sqlserver_sql(q_stg)\n",
    "inter_data = sqlserver_sql(q_inter, server=server2, db=db2)\n",
    "\n",
    "display(stg_data.count().iloc[0])\n",
    "\n",
    "display(inter_data.count().iloc[0])"
   ]
  },
  {
   "cell_type": "code",
   "execution_count": 8,
   "metadata": {},
   "outputs": [
    {
     "name": "stderr",
     "output_type": "stream",
     "text": [
      "C:\\Users\\armando_borjas\\AppData\\Roaming\\Python\\Python36\\site-packages\\pandas\\core\\indexing.py:1418: FutureWarning: \n",
      "Passing list-likes to .loc or [] with any missing label will raise\n",
      "KeyError in the future, you can use .reindex() as an alternative.\n",
      "\n",
      "See the documentation here:\n",
      "https://pandas.pydata.org/pandas-docs/stable/user_guide/indexing.html#deprecate-loc-reindex-listlike\n",
      "  return self._getitem_tuple(key)\n"
     ]
    },
    {
     "data": {
      "text/html": [
       "<div>\n",
       "<style scoped>\n",
       "    .dataframe tbody tr th:only-of-type {\n",
       "        vertical-align: middle;\n",
       "    }\n",
       "\n",
       "    .dataframe tbody tr th {\n",
       "        vertical-align: top;\n",
       "    }\n",
       "\n",
       "    .dataframe thead th {\n",
       "        text-align: right;\n",
       "    }\n",
       "</style>\n",
       "<table border=\"1\" class=\"dataframe\">\n",
       "  <thead>\n",
       "    <tr style=\"text-align: right;\">\n",
       "      <th></th>\n",
       "      <th>Id_inter</th>\n",
       "      <th>Id_stg</th>\n",
       "      <th>SourceId</th>\n",
       "      <th>StationSeriesId</th>\n",
       "      <th>BeginStationSeriesId</th>\n",
       "      <th>PCT_DIFF</th>\n",
       "      <th>StationNum</th>\n",
       "      <th>BeginStationNum</th>\n",
       "    </tr>\n",
       "  </thead>\n",
       "  <tbody>\n",
       "  </tbody>\n",
       "</table>\n",
       "</div>"
      ],
      "text/plain": [
       "Empty DataFrame\n",
       "Columns: [Id_inter, Id_stg, SourceId, StationSeriesId, BeginStationSeriesId, PCT_DIFF, StationNum, BeginStationNum]\n",
       "Index: []"
      ]
     },
     "execution_count": 8,
     "metadata": {},
     "output_type": "execute_result"
    }
   ],
   "source": [
    "# stg_data.loc[:,'SourceId'] = stg_data.Id.astype(object)\n",
    "temp = inter_data.merge(stg_data,left_on='Id',right_on='SourceId', suffixes=('_inter','_stg'))\n",
    "# temp.loc[:,'STN_DIFF'] = temp.loc[:,['BeginStationNum_inter','BeginStationNum_stg']].apply(lambda x: x.BeginStationNum_inter.round(0) == x.BeginStationNum_stg.round(0), axis=1)\n",
    "temp.loc[:,'PCT_DIFF'] = temp.loc[:,['BeginStationNum_inter','BeginStationNum_stg']].apply(lambda x: (abs(x.BeginStationNum_inter-x.BeginStationNum_stg)*100.0)/x.BeginStationNum_inter, axis=1)\n",
    "# temp.loc[:,'PCT_DIFF'] = temp.loc[:,['StationNum','BeginStationNum']].apply(lambda x: (abs(x.StationNum-x.BeginStationNum)*100.0)/x.BeginStationNum, axis=1)\n",
    "\n",
    "# temp.loc[lambda x: x.PCT_DIFF> 1,['Id_inter','Id_stg','SourceId','BeginStationSeriesId_inter','BeginStationSeriesId_stg','PCT_DIFF','STN_DIFF','BeginStationNum_inter','BeginStationNum_stg']].round(0)\n",
    "# temp.loc[lambda x: x.PCT_DIFF> 1,['Id','VirtualTableStationingId','SourceId','BeginStationSeriesId_inter','BeginStationSeriesId_stg','PCT_DIFF','STN_DIFF','BeginStationNum_inter','BeginStationNum_stg']].round(0)\n",
    "temp.loc[lambda x: x.PCT_DIFF> 1,['Id_inter','Id_stg','SourceId','StationSeriesId','BeginStationSeriesId','PCT_DIFF','StationNum','BeginStationNum']].round(0)"
   ]
  },
  {
   "cell_type": "code",
   "execution_count": 10,
   "metadata": {},
   "outputs": [
    {
     "data": {
      "text/html": [
       "<div>\n",
       "<style scoped>\n",
       "    .dataframe tbody tr th:only-of-type {\n",
       "        vertical-align: middle;\n",
       "    }\n",
       "\n",
       "    .dataframe tbody tr th {\n",
       "        vertical-align: top;\n",
       "    }\n",
       "\n",
       "    .dataframe thead th {\n",
       "        text-align: right;\n",
       "    }\n",
       "</style>\n",
       "<table border=\"1\" class=\"dataframe\">\n",
       "  <thead>\n",
       "    <tr style=\"text-align: right;\">\n",
       "      <th></th>\n",
       "      <th>BeginStationNum_inter</th>\n",
       "      <th>BeginStationNum_stg</th>\n",
       "    </tr>\n",
       "  </thead>\n",
       "  <tbody>\n",
       "    <tr>\n",
       "      <th>0</th>\n",
       "      <td>565.535</td>\n",
       "      <td>565.53502</td>\n",
       "    </tr>\n",
       "    <tr>\n",
       "      <th>1</th>\n",
       "      <td>15263.614</td>\n",
       "      <td>15263.61449</td>\n",
       "    </tr>\n",
       "    <tr>\n",
       "      <th>2</th>\n",
       "      <td>13824.352</td>\n",
       "      <td>13824.35244</td>\n",
       "    </tr>\n",
       "    <tr>\n",
       "      <th>3</th>\n",
       "      <td>13525.505</td>\n",
       "      <td>13525.50543</td>\n",
       "    </tr>\n",
       "    <tr>\n",
       "      <th>4</th>\n",
       "      <td>15615.258</td>\n",
       "      <td>15615.25850</td>\n",
       "    </tr>\n",
       "    <tr>\n",
       "      <th>...</th>\n",
       "      <td>...</td>\n",
       "      <td>...</td>\n",
       "    </tr>\n",
       "    <tr>\n",
       "      <th>236</th>\n",
       "      <td>8055.839</td>\n",
       "      <td>8055.83926</td>\n",
       "    </tr>\n",
       "    <tr>\n",
       "      <th>237</th>\n",
       "      <td>29016.227</td>\n",
       "      <td>29016.22793</td>\n",
       "    </tr>\n",
       "    <tr>\n",
       "      <th>238</th>\n",
       "      <td>28962.296</td>\n",
       "      <td>28962.29692</td>\n",
       "    </tr>\n",
       "    <tr>\n",
       "      <th>239</th>\n",
       "      <td>1690.198</td>\n",
       "      <td>1690.19805</td>\n",
       "    </tr>\n",
       "    <tr>\n",
       "      <th>240</th>\n",
       "      <td>15800.527</td>\n",
       "      <td>15800.52750</td>\n",
       "    </tr>\n",
       "  </tbody>\n",
       "</table>\n",
       "<p>241 rows × 2 columns</p>\n",
       "</div>"
      ],
      "text/plain": [
       "     BeginStationNum_inter  BeginStationNum_stg\n",
       "0                  565.535            565.53502\n",
       "1                15263.614          15263.61449\n",
       "2                13824.352          13824.35244\n",
       "3                13525.505          13525.50543\n",
       "4                15615.258          15615.25850\n",
       "..                     ...                  ...\n",
       "236               8055.839           8055.83926\n",
       "237              29016.227          29016.22793\n",
       "238              28962.296          28962.29692\n",
       "239               1690.198           1690.19805\n",
       "240              15800.527          15800.52750\n",
       "\n",
       "[241 rows x 2 columns]"
      ]
     },
     "execution_count": 10,
     "metadata": {},
     "output_type": "execute_result"
    }
   ],
   "source": [
    "temp.filter(regex='.*Station.*')\n",
    "temp.loc[:,['BeginStationNum_inter','BeginStationNum_stg']]"
   ]
  },
  {
   "cell_type": "markdown",
   "metadata": {},
   "source": [
    "Point Queries"
   ]
  },
  {
   "cell_type": "code",
   "execution_count": 211,
   "metadata": {},
   "outputs": [
    {
     "data": {
      "text/plain": [
       "0"
      ]
     },
     "metadata": {},
     "output_type": "display_data"
    },
    {
     "data": {
      "text/plain": [
       "0"
      ]
     },
     "metadata": {},
     "output_type": "display_data"
    }
   ],
   "source": [
    "table_stg = 'inlineinspectionjoint'\n",
    "table_inter = 'inlineinspectionjoint'\n",
    "\n",
    "q_stg = f\"\"\"select t.*, ll.LineName from {table_stg} t\n",
    "            join StationSeries ss on t.StationSeriesId = ss.id\n",
    "            join lineloop ll on ss.lineloopid = ll.id\n",
    "    \"\"\"\n",
    "\n",
    "q_inter = f\"\"\"select t.*, ll.LineName from ipl_{table_inter} t\n",
    "            join ipl_stationseries ss on t.StationSeriesId = ss.id\n",
    "            join ipl_lineloop ll on ss.lineloopid = ll.id\n",
    "    \"\"\"\n",
    "\n",
    "stg_data = sqlserver_sql(q_stg)\n",
    "inter_data = sqlserver_sql(q_inter, server=server2, db=db2)\n",
    "\n",
    "display(stg_data.count().iloc[0])\n",
    "\n",
    "display(inter_data.count().iloc[0])"
   ]
  },
  {
   "cell_type": "code",
   "execution_count": 210,
   "metadata": {},
   "outputs": [
    {
     "name": "stderr",
     "output_type": "stream",
     "text": [
      "C:\\Python36\\lib\\site-packages\\ipykernel_launcher.py:3: RuntimeWarning: invalid value encountered in double_scalars\n",
      "  This is separate from the ipykernel package so we can avoid doing imports until\n"
     ]
    },
    {
     "data": {
      "text/html": [
       "<div>\n",
       "<style scoped>\n",
       "    .dataframe tbody tr th:only-of-type {\n",
       "        vertical-align: middle;\n",
       "    }\n",
       "\n",
       "    .dataframe tbody tr th {\n",
       "        vertical-align: top;\n",
       "    }\n",
       "\n",
       "    .dataframe thead th {\n",
       "        text-align: right;\n",
       "    }\n",
       "</style>\n",
       "<table border=\"1\" class=\"dataframe\">\n",
       "  <thead>\n",
       "    <tr style=\"text-align: right;\">\n",
       "      <th></th>\n",
       "      <th>Id_inter</th>\n",
       "      <th>Id_stg</th>\n",
       "      <th>SourceId</th>\n",
       "      <th>StationSeriesId_inter</th>\n",
       "      <th>StationSeriesId_stg</th>\n",
       "      <th>PCT_DIFF</th>\n",
       "      <th>STN_DIFF</th>\n",
       "      <th>StationNum_inter</th>\n",
       "      <th>StationNum_stg</th>\n",
       "    </tr>\n",
       "  </thead>\n",
       "  <tbody>\n",
       "  </tbody>\n",
       "</table>\n",
       "</div>"
      ],
      "text/plain": [
       "Empty DataFrame\n",
       "Columns: [Id_inter, Id_stg, SourceId, StationSeriesId_inter, StationSeriesId_stg, PCT_DIFF, STN_DIFF, StationNum_inter, StationNum_stg]\n",
       "Index: []"
      ]
     },
     "execution_count": 210,
     "metadata": {},
     "output_type": "execute_result"
    }
   ],
   "source": [
    "temp = inter_data.merge(stg_data,left_on='Id',right_on='SourceId', suffixes=('_inter','_stg'))\n",
    "temp.loc[:,'STN_DIFF'] = temp.loc[:,['StationNum_inter','StationNum_stg']].apply(lambda x: x.StationNum_inter.round(0) == x.StationNum_stg.round(0), axis=1)\n",
    "temp.loc[:,'PCT_DIFF'] = temp.loc[:,['StationNum_inter','StationNum_stg']].apply(lambda x: (abs(x.StationNum_inter-x.StationNum_stg)*100.0)/x.StationNum_inter, axis=1)\n",
    "\n",
    "temp.loc[lambda x: x.PCT_DIFF> 1,['Id_inter','Id_stg','SourceId','StationSeriesId_inter','StationSeriesId_stg','PCT_DIFF','STN_DIFF','StationNum_inter','StationNum_stg']].round(0)"
   ]
  },
  {
   "cell_type": "code",
   "execution_count": 208,
   "metadata": {},
   "outputs": [
    {
     "data": {
      "text/html": [
       "<div>\n",
       "<style scoped>\n",
       "    .dataframe tbody tr th:only-of-type {\n",
       "        vertical-align: middle;\n",
       "    }\n",
       "\n",
       "    .dataframe tbody tr th {\n",
       "        vertical-align: top;\n",
       "    }\n",
       "\n",
       "    .dataframe thead th {\n",
       "        text-align: right;\n",
       "    }\n",
       "</style>\n",
       "<table border=\"1\" class=\"dataframe\">\n",
       "  <thead>\n",
       "    <tr style=\"text-align: right;\">\n",
       "      <th></th>\n",
       "      <th>Id_inter</th>\n",
       "      <th>Id_stg</th>\n",
       "      <th>SourceId</th>\n",
       "      <th>StationSeriesId_inter</th>\n",
       "      <th>StationSeriesId_stg</th>\n",
       "      <th>PCT_DIFF</th>\n",
       "      <th>STN_DIFF</th>\n",
       "      <th>StationNum_inter</th>\n",
       "      <th>StationNum_stg</th>\n",
       "    </tr>\n",
       "  </thead>\n",
       "  <tbody>\n",
       "    <tr>\n",
       "      <th>0</th>\n",
       "      <td>1</td>\n",
       "      <td>1.0</td>\n",
       "      <td>1</td>\n",
       "      <td>439</td>\n",
       "      <td>439.0</td>\n",
       "      <td>0.0</td>\n",
       "      <td>True</td>\n",
       "      <td>888.0</td>\n",
       "      <td>888.0</td>\n",
       "    </tr>\n",
       "    <tr>\n",
       "      <th>1</th>\n",
       "      <td>2</td>\n",
       "      <td>2.0</td>\n",
       "      <td>2</td>\n",
       "      <td>223</td>\n",
       "      <td>223.0</td>\n",
       "      <td>0.0</td>\n",
       "      <td>True</td>\n",
       "      <td>10701.0</td>\n",
       "      <td>10701.0</td>\n",
       "    </tr>\n",
       "    <tr>\n",
       "      <th>2</th>\n",
       "      <td>3</td>\n",
       "      <td>3.0</td>\n",
       "      <td>3</td>\n",
       "      <td>306</td>\n",
       "      <td>306.0</td>\n",
       "      <td>0.0</td>\n",
       "      <td>True</td>\n",
       "      <td>27596.0</td>\n",
       "      <td>27596.0</td>\n",
       "    </tr>\n",
       "    <tr>\n",
       "      <th>4</th>\n",
       "      <td>5</td>\n",
       "      <td>5.0</td>\n",
       "      <td>5</td>\n",
       "      <td>30</td>\n",
       "      <td>30.0</td>\n",
       "      <td>0.0</td>\n",
       "      <td>True</td>\n",
       "      <td>6292.0</td>\n",
       "      <td>6292.0</td>\n",
       "    </tr>\n",
       "    <tr>\n",
       "      <th>5</th>\n",
       "      <td>6</td>\n",
       "      <td>6.0</td>\n",
       "      <td>6</td>\n",
       "      <td>52</td>\n",
       "      <td>52.0</td>\n",
       "      <td>0.0</td>\n",
       "      <td>True</td>\n",
       "      <td>278.0</td>\n",
       "      <td>278.0</td>\n",
       "    </tr>\n",
       "    <tr>\n",
       "      <th>...</th>\n",
       "      <td>...</td>\n",
       "      <td>...</td>\n",
       "      <td>...</td>\n",
       "      <td>...</td>\n",
       "      <td>...</td>\n",
       "      <td>...</td>\n",
       "      <td>...</td>\n",
       "      <td>...</td>\n",
       "      <td>...</td>\n",
       "    </tr>\n",
       "    <tr>\n",
       "      <th>94</th>\n",
       "      <td>222</td>\n",
       "      <td>222.0</td>\n",
       "      <td>222</td>\n",
       "      <td>153</td>\n",
       "      <td>153.0</td>\n",
       "      <td>0.0</td>\n",
       "      <td>True</td>\n",
       "      <td>4531.0</td>\n",
       "      <td>4531.0</td>\n",
       "    </tr>\n",
       "    <tr>\n",
       "      <th>96</th>\n",
       "      <td>224</td>\n",
       "      <td>224.0</td>\n",
       "      <td>224</td>\n",
       "      <td>330</td>\n",
       "      <td>330.0</td>\n",
       "      <td>0.0</td>\n",
       "      <td>True</td>\n",
       "      <td>22624.0</td>\n",
       "      <td>22624.0</td>\n",
       "    </tr>\n",
       "    <tr>\n",
       "      <th>97</th>\n",
       "      <td>225</td>\n",
       "      <td>225.0</td>\n",
       "      <td>225</td>\n",
       "      <td>330</td>\n",
       "      <td>330.0</td>\n",
       "      <td>0.0</td>\n",
       "      <td>True</td>\n",
       "      <td>36042.0</td>\n",
       "      <td>36042.0</td>\n",
       "    </tr>\n",
       "    <tr>\n",
       "      <th>98</th>\n",
       "      <td>226</td>\n",
       "      <td>226.0</td>\n",
       "      <td>226</td>\n",
       "      <td>330</td>\n",
       "      <td>330.0</td>\n",
       "      <td>0.0</td>\n",
       "      <td>True</td>\n",
       "      <td>47588.0</td>\n",
       "      <td>47588.0</td>\n",
       "    </tr>\n",
       "    <tr>\n",
       "      <th>99</th>\n",
       "      <td>227</td>\n",
       "      <td>227.0</td>\n",
       "      <td>227</td>\n",
       "      <td>330</td>\n",
       "      <td>330.0</td>\n",
       "      <td>0.0</td>\n",
       "      <td>True</td>\n",
       "      <td>71073.0</td>\n",
       "      <td>71073.0</td>\n",
       "    </tr>\n",
       "  </tbody>\n",
       "</table>\n",
       "<p>63 rows × 9 columns</p>\n",
       "</div>"
      ],
      "text/plain": [
       "   Id_inter  Id_stg SourceId StationSeriesId_inter  StationSeriesId_stg  \\\n",
       "0         1     1.0        1                   439                439.0   \n",
       "1         2     2.0        2                   223                223.0   \n",
       "2         3     3.0        3                   306                306.0   \n",
       "4         5     5.0        5                    30                 30.0   \n",
       "5         6     6.0        6                    52                 52.0   \n",
       "..      ...     ...      ...                   ...                  ...   \n",
       "94      222   222.0      222                   153                153.0   \n",
       "96      224   224.0      224                   330                330.0   \n",
       "97      225   225.0      225                   330                330.0   \n",
       "98      226   226.0      226                   330                330.0   \n",
       "99      227   227.0      227                   330                330.0   \n",
       "\n",
       "    PCT_DIFF  STN_DIFF  StationNum_inter  StationNum_stg  \n",
       "0        0.0      True             888.0           888.0  \n",
       "1        0.0      True           10701.0         10701.0  \n",
       "2        0.0      True           27596.0         27596.0  \n",
       "4        0.0      True            6292.0          6292.0  \n",
       "5        0.0      True             278.0           278.0  \n",
       "..       ...       ...               ...             ...  \n",
       "94       0.0      True            4531.0          4531.0  \n",
       "96       0.0      True           22624.0         22624.0  \n",
       "97       0.0      True           36042.0         36042.0  \n",
       "98       0.0      True           47588.0         47588.0  \n",
       "99       0.0      True           71073.0         71073.0  \n",
       "\n",
       "[63 rows x 9 columns]"
      ]
     },
     "execution_count": 208,
     "metadata": {},
     "output_type": "execute_result"
    }
   ],
   "source": [
    "temp.head(100).loc[lambda x: x.PCT_DIFF > 0,['Id_inter','Id_stg','SourceId','StationSeriesId_inter','StationSeriesId_stg','PCT_DIFF','STN_DIFF','StationNum_inter','StationNum_stg']].round(0)"
   ]
  }
 ],
 "metadata": {
  "hide_input": false,
  "kernelspec": {
   "display_name": "Python 3",
   "language": "python",
   "name": "python3"
  },
  "language_info": {
   "codemirror_mode": {
    "name": "ipython",
    "version": 3
   },
   "file_extension": ".py",
   "mimetype": "text/x-python",
   "name": "python",
   "nbconvert_exporter": "python",
   "pygments_lexer": "ipython3",
   "version": "3.6.8"
  },
  "toc": {
   "base_numbering": 1,
   "nav_menu": {},
   "number_sections": true,
   "sideBar": true,
   "skip_h1_title": false,
   "title_cell": "Table of Contents",
   "title_sidebar": "Contents",
   "toc_cell": false,
   "toc_position": {},
   "toc_section_display": true,
   "toc_window_display": false
  },
  "varInspector": {
   "cols": {
    "lenName": 16,
    "lenType": 16,
    "lenVar": 40
   },
   "kernels_config": {
    "python": {
     "delete_cmd_postfix": "",
     "delete_cmd_prefix": "del ",
     "library": "var_list.py",
     "varRefreshCmd": "print(var_dic_list())"
    },
    "r": {
     "delete_cmd_postfix": ") ",
     "delete_cmd_prefix": "rm(",
     "library": "var_list.r",
     "varRefreshCmd": "cat(var_dic_list()) "
    }
   },
   "types_to_exclude": [
    "module",
    "function",
    "builtin_function_or_method",
    "instance",
    "_Feature"
   ],
   "window_display": false
  }
 },
 "nbformat": 4,
 "nbformat_minor": 2
}
