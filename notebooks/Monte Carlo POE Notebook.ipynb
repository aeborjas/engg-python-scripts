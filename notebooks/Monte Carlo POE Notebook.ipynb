{
 "cells": [
  {
   "cell_type": "code",
   "execution_count": 1,
   "metadata": {},
   "outputs": [],
   "source": [
    "from scipy.stats import norm, gamma\n",
    "import time, datetime\n",
    "import numpy as np, pandas as pd\n",
    "import seaborn as sns\n",
    "import pyodbc\n",
    "import gc\n",
    "\n",
    "from simpoe.corrosion import failureStress, corrLimitStates\n",
    "from simpoe import unpacker, model_constants, distributer, cgr\n",
    "\n",
    "pd.set_option('display.max_columns', 500)\n",
    "\n",
    "import matplotlib.pyplot as plt\n",
    "import mpld3\n",
    "import plotly.offline as pyo\n",
    "import plotly.graph_objects as go\n",
    "from plotly.subplots import make_subplots\n",
    "\n",
    "mpld3.disable_notebook()\n",
    "plt.rcParams[\"figure.figsize\"] = (20,10)"
   ]
  },
  {
   "cell_type": "markdown",
   "metadata": {},
   "source": [
    "# Questions"
   ]
  },
  {
   "cell_type": "markdown",
   "metadata": {},
   "source": [
    "  * Q1. There are multiple distributions for outside diameter, grade, and wall thickness. What is the reasoning for using one over another?\n",
    "\n",
    "A: For OD, there is only 1 probabilistic distribution. For wall thickness, the mean 1.1, COV 1.0% is the most generic. Unsure about the grade distribution choice at this time."
   ]
  },
  {
   "cell_type": "markdown",
   "metadata": {},
   "source": [
    "* Q2. How to use the COV% values when distributions are Weibull?\n",
    "\n",
    "A: COV = (standard deviation / mean)_x_100. CSA Z662 provides ranges for mean and COV to use with a Weibull distribution. From these, one can use statistics to derive the **shape** and **scale** factors"
   ]
  },
  {
   "cell_type": "markdown",
   "metadata": {},
   "source": [
    " * Q3. How to roll individual POEs into failure frequencies?\n",
    "\n",
    "A: Original method would be to divide the POE by the assessment length. However, this could lead to distortion problems when the assessment length is very small. \n",
    "\n",
    "I recently found a formula referenced in some of our methodology sections that _normalizes_ POEs from an assessment length to 1 km:\n",
    "\n",
    "P_1km = 1 - (1 - POE)^(1.00/Assessment Length)\n",
    "\n",
    "However, I'm trying to look for the reasoning behind this formula. Additionally, from whom I've asked, I've gotten mixed opinions about this formula."
   ]
  },
  {
   "cell_type": "markdown",
   "metadata": {},
   "source": [
    "# Functions"
   ]
  },
  {
   "cell_type": "code",
   "execution_count": 2,
   "metadata": {},
   "outputs": [],
   "source": [
    "#the norm and gamma are functions from the scipy.stats module. norm is the normal distribution, and gamma is the gamma function.\n",
    "from scipy.stats import norm, gamma\n",
    "\n",
    "#python module for accessing and working with time.\n",
    "import datetime\n",
    "\n",
    "#numpy is a python module to work with arrays. pandas is a python module to work with tabular data.\n",
    "import numpy as np, pandas as pd\n",
    "\n",
    "#simpoe is a custom module I created to facilitate some of the functions required for POE. Please find the files for each of these modules in the \"poe dependencies\" folder.\n",
    "from simpoe.corrosion import failureStress, corrLimitStates\n",
    "from simpoe import unpacker, model_constants, distributer, cgr\n",
    "\n",
    "#corrpoe is the function I call to calculate POE. \n",
    "def corrpoe(df, n, cga_rate=10):\n",
    "    \"\"\"\n",
    "    Calculates POE using Monte Carlo approach\n",
    "    :param df: input pandas dataframe with input columns.\n",
    "\t:param n:  number of iterations to run Monte Carlo on.\n",
    "\t:param cga_rate:\tdefault value to use for fixed growth rate. Omitt, as it shouldn't be used in calculation anyways.\n",
    "    :return: returns a pandas dataframe (tabular object) with the inputs for each feature, and 33 columns for leak, rupture, and total POE for the year of analysis, and each of year 1 through year 10 after year of analysis.\n",
    "    \"\"\"\n",
    "    # Number of features is equal to number of rows in csv file\n",
    "    i = df.shape[0]\n",
    "    now = datetime.date.today()\n",
    "    \n",
    "    # Pipe properties extracted from the dataframe df. Please follow the \"unpacker.py\" file for explanation as to how this is carried out.\n",
    "    OD, WTm, Sm, Tm, OPm, Inst = unpacker.pipe_prop(df)\n",
    "    pipe_age = ((now - Inst).dt.days.values) / 365.25\n",
    "    \n",
    "    # Feature properties extracted from the dataframe df. Please follow the \"unpacker.py\" file for explanation as to how this is carried out.\n",
    "    fPDP, fL_measured, fW_measured, fstatus, ftype, fchainage = unpacker.feature_dim(df)\n",
    "    fID = df['FeatureID'].values\n",
    "    f_v_CGR = df['vendor_cgr_mmpyr'].fillna(np.nan).values\n",
    "    f_v_sd_CGR = df['vendor_cgr_sd'].fillna(np.nan).values\n",
    "    shape = df['shape'].values\n",
    "    scale = df['scale'].values\n",
    "    \n",
    "    # Inline inspection range properties extracted from the dataframe df. Please follow the \"unpacker.py\" file for explanation as to how this is carried out.\n",
    "    Insp, vendor, tool = unpacker.range_prop(df)\n",
    "\n",
    "    # Calculating the time difference between date of ILI and today, in fractional years.\n",
    "    time_delta = ((now - Insp).dt.days.values) / 365.25\n",
    "\n",
    "\t# defining the function for model error. This function uses the gamma.ppf() function part of the import statement above. The equivalent Excel function is GAMMA.INV()\n",
    "    def model_error(p):\n",
    "        return 0.914 + gamma.ppf(p, 2.175, scale=0.225)\n",
    "\n",
    "    # unit conversion to US units\n",
    "    WT = WTm / 25.4\n",
    "    S = (Sm * 1000) / 6.89476\n",
    "    OP = OPm / 6.89476\n",
    "\n",
    "    # Statistics fueled by CSA Z662 Annex O Tables O.6 and O.7\n",
    "    meanWT = 1.01\n",
    "    sdWT = 0.01\n",
    "    meanS = 1.10 #recommended from CSA Z662 2019\n",
    "    sdS = 0.035 #recommended from CSA Z662 2019\n",
    "\n",
    "    tool_D = 0.078 # in fraction WT\n",
    "    tool_L = 7.80 / 25.4 # in inches\n",
    "\n",
    "    # OD and MOP are not distributed. This function creates an array with the same value as the input\n",
    "    OD, OP = distributer.tiler(OD, OP, tuple_size=(n, 1))\n",
    "\n",
    "    # Setting a random seed\n",
    "    np.random.seed()\n",
    "\n",
    "\t#  Initializing arrays of size (n, i), containing random numbers from 0 to 1, for each of model error, wall thickness, grade, feature length, feature depth, and growth rate.\n",
    "    mE_n_1, WT_n_2, S_n_3, fL_n_5, fD_n_6, fGR_n_7 = distributer.random_prob_gen(6, iterations=n, features=i)\n",
    "\n",
    "    # the following 2 statements distribute the wall thickness and grade, using normal distributions. Equivalent Excel equation is NORM.INV()\n",
    "    WTd = norm.ppf(WT_n_2, loc=WT * meanWT, scale=WT * sdWT)\n",
    "    Sdist = norm.ppf(S_n_3, loc=S * meanS, scale=S * sdS)\n",
    "\n",
    "    # the following statement distributes the feature length in inches, using normal distribution, and ensures the length is not distributed below 0.0 mm.\n",
    "    fL = np.maximum(0, norm.ppf(fL_n_5, loc=fL_measured * 1.0 * (1 / 25.4), scale=tool_L))\n",
    "\n",
    "    # the following statement distributes the feature depth in inches, using normal distribution, and ensures the depth is not distributed below 0.0 mm.\n",
    "    fD_run = np.maximum(0, norm.ppf(fD_n_6, loc=fPDP * WT * 1.0, scale=tool_D * WT))\n",
    "\n",
    "#     fD_GR = cgr.cgr_weibull(fGR_n_7, 1.439, 0.1) / 25.4\n",
    "    # the following statement applies the growth rate assumptions. Please refer to the \"cgr.py\" file for the details on the cgr_mpy() and cgr_weibull() functions\n",
    "    fD_GR = np.where(np.isnan(f_v_CGR),\n",
    "                     np.where(fD_run>0.40,\n",
    "                            (fD_run)/((Insp-Inst).dt.days.values/365.25),\n",
    "                            np.maximum(0,cgr.cgr_weibull(fGR_n_7, shape, scale) / 25.4)),\n",
    "                             np.maximum(0, norm.ppf(fGR_n_7, loc=f_v_CGR * 1.0 * (1/25.4), scale=f_v_sd_CGR * (1/25.4))))\n",
    "    \n",
    "    # Please omitt the following commented code. I've kept this for traceability of different methods.\n",
    "    # if mechanism == \"CGA\":\n",
    "    #     fD_GR = cgr.cgr_mpy(cga_rate) / 25.4\n",
    "    # elif mechanism == \"weibull\":\n",
    "    #     fD_GR = cgr.cgr_weibull(fGR_n_7, shp_1, scl_1) / 25.4\n",
    "    # elif mechanism == \"logic\":   \n",
    "    #     fD_GR = np.where(pipe_age<=5,\n",
    "    #                     np.where(fD_run>0.20,\n",
    "    #                             (fD_run)/((Insp-Inst).dt.days.values/365.25),\n",
    "    #                             np.minimum(cgr.cgr_mpy(cga_rate) / 25.4, cgr.cgr_weibull(fGR_n_7, shp_1, scl_1) / 25.4)),\n",
    "    #                     np.where((pipe_age>5) & (pipe_age<=incubation_cap),\n",
    "    #                             cgr.cgr_weibull(fGR_n_7, shp_2, scl_2) / 25.4,\n",
    "    #                             cgr.cgr_weibull(fGR_n_7, shp_3, scl_3) / 25.4))\n",
    "    # elif mechanism == \"half-life\":\n",
    "    #     fD_GR = cgr.half_life(fD_run, Inst, Insp)  # fD_run is in inches\n",
    "    # elif mechanism == \"full-life\":\n",
    "    #     fD_GR = (fD_run)/((Insp-Inst).dt.days.values/365.25)\n",
    "    # elif mechanism == \"2.2%WT\":\n",
    "    #     fD_GR = cgr.pct_wt(WT)\n",
    "    # else:\n",
    "    #     raise Exception(\"Please select a valid mechanism: full-life | half-life | 2.2%WT | CGA | logic | weibull\")\n",
    "\n",
    "    # calculating the depth at the year of analysis\n",
    "    fD = fD_run + fD_GR * time_delta\n",
    "\n",
    "    # calculating the model error\n",
    "#     modelError = model_error(mE_n_1)\n",
    "\n",
    "    # calculating the Failure Stress in psi. Please refer to the \"failureStress.py\" file for the details on the calculation.\n",
    "    failure_stress = failureStress.modified_b31g(OD, WTd, Sdist, fL, fD, units=\"US\")\n",
    "\n",
    "    # calculating Failure pressure in psi, using the Barlow formula\n",
    "    failPress = 2 * failure_stress * WTd / OD\n",
    "\n",
    "    # comparing the failure pressures to the operating pressure of the pipeline. Please refer to the \"corrLimitStates.py\" file for details on the limit state checking.\n",
    "    ruptures, rupture_count = corrLimitStates.ls_corr_rupture(failPress, OP, bulk=True)\n",
    "\n",
    "    # comparing the depth at year of analysis with the wall thickness to see if the 80.0%WT criteria is exceeded. Please refer to the \"corrLimitStates.py\" file for details on the limit state checking.\n",
    "    leaks, leak_count = corrLimitStates.ls_corr_leak(WTd, fD, bulk=True)\n",
    "\n",
    "    # checking both leak and rupture limit states at the same time. Please refer to the \"corrLimitStates.py\" file for details.\n",
    "    fails, fail_count = corrLimitStates.ls_corr_tot(ruptures, leaks, bulk=True)\n",
    "\n",
    "    # setting up the projection of 10 years after year of analysis.\n",
    "    failure_projection = {'leaks':[None]*20,\n",
    "                         'ruptures':[None]*20,\n",
    "                         'fails':[None]*20}\n",
    "    \n",
    "    # Calculate POE for each of 10 years from year of analysis\n",
    "    for x in range(20):\n",
    "        # Add 1 year of corrosion growth\n",
    "        fD += fD_GR*(1.0)\n",
    "        \n",
    "        # recalculate Failure Stress in psi\n",
    "        failure_stress = failureStress.modified_b31g(OD, WTd, Sdist, fL, fD, units=\"US\")\n",
    "\n",
    "        # recalculate Failure pressure in psi\n",
    "        failPress = 2 * failure_stress * WTd / OD\n",
    "\n",
    "        # redetermine limit state exceedances\n",
    "        rupture_proj, failure_projection['ruptures'][x] = corrLimitStates.ls_corr_rupture(failPress, OP, bulk=True)\n",
    "        leak_proj, failure_projection['leaks'][x] = corrLimitStates.ls_corr_leak(WTd, fD, bulk=True)\n",
    "        _, failure_projection['fails'][x] = corrLimitStates.ls_corr_tot(rupture_proj, leak_proj, bulk=True)\n",
    "        \n",
    "    # setting up a container to hold all the information to be returned as results\n",
    "    return_dict = {\"FeatureID\":fID,\n",
    "                   \"PDP_frac\": fPDP,\n",
    "                   \"flength\": fL_measured,\n",
    "                   \"iterations\": np.size(fails, axis=0),\n",
    "                   \"rupture_count_YOA\": rupture_count,\n",
    "                   \"leak_count_YOA\": leak_count,\n",
    "                   \"fail_count_YOA\": fail_count,\n",
    "                   \"rupture_count_Y1\": failure_projection['ruptures'][0],\n",
    "                   \"leak_count_Y1\": failure_projection['leaks'][0],\n",
    "                   \"fail_count_Y1\": failure_projection['fails'][0],\n",
    "                   \"rupture_count_Y2\": failure_projection['ruptures'][1],\n",
    "                   \"leak_count_Y2\": failure_projection['leaks'][1],\n",
    "                   \"fail_count_Y2\": failure_projection['fails'][1],\n",
    "                   \"rupture_count_Y3\": failure_projection['ruptures'][2],\n",
    "                   \"leak_count_Y3\": failure_projection['leaks'][2],\n",
    "                   \"fail_count_Y3\": failure_projection['fails'][2],\n",
    "                   \"rupture_count_Y4\": failure_projection['ruptures'][3],\n",
    "                   \"leak_count_Y4\": failure_projection['leaks'][3],\n",
    "                   \"fail_count_Y4\": failure_projection['fails'][3],\n",
    "                   \"rupture_count_Y5\": failure_projection['ruptures'][4],\n",
    "                   \"leak_count_Y5\": failure_projection['leaks'][4],\n",
    "                   \"fail_count_Y5\": failure_projection['fails'][4],\n",
    "                   \"rupture_count_Y6\": failure_projection['ruptures'][5],\n",
    "                   \"leak_count_Y6\": failure_projection['leaks'][5],\n",
    "                   \"fail_count_Y6\": failure_projection['fails'][5],\n",
    "                   \"rupture_count_Y7\": failure_projection['ruptures'][6],\n",
    "                   \"leak_count_Y7\": failure_projection['leaks'][6],\n",
    "                   \"fail_count_Y7\": failure_projection['fails'][6],\n",
    "                   \"rupture_count_Y8\": failure_projection['ruptures'][7],\n",
    "                   \"leak_count_Y8\": failure_projection['leaks'][7],\n",
    "                   \"fail_count_Y8\": failure_projection['fails'][7],\n",
    "                   \"rupture_count_Y9\": failure_projection['ruptures'][8],\n",
    "                   \"leak_count_Y9\": failure_projection['leaks'][8],\n",
    "                   \"fail_count_Y9\": failure_projection['fails'][8],\n",
    "                   \"rupture_count_Y10\": failure_projection['ruptures'][9],\n",
    "                   \"leak_count_Y10\": failure_projection['leaks'][9],\n",
    "                   \"fail_count_Y10\": failure_projection['fails'][9],\n",
    "                   \"rupture_count_Y11\": failure_projection['ruptures'][10],\n",
    "                   \"leak_count_Y11\": failure_projection['leaks'][10],\n",
    "                   \"fail_count_Y11\": failure_projection['fails'][10],\n",
    "                   \"rupture_count_Y12\": failure_projection['ruptures'][11],\n",
    "                   \"leak_count_Y12\": failure_projection['leaks'][11],\n",
    "                   \"fail_count_Y12\": failure_projection['fails'][11],\n",
    "                   \"rupture_count_Y13\": failure_projection['ruptures'][12],\n",
    "                   \"leak_count_Y13\": failure_projection['leaks'][12],\n",
    "                   \"fail_count_Y13\": failure_projection['fails'][12],\n",
    "                   \"rupture_count_Y14\": failure_projection['ruptures'][13],\n",
    "                   \"leak_count_Y14\": failure_projection['leaks'][13],\n",
    "                   \"fail_count_Y14\": failure_projection['fails'][13],\n",
    "                   \"rupture_count_Y15\": failure_projection['ruptures'][14],\n",
    "                   \"leak_count_Y15\": failure_projection['leaks'][14],\n",
    "                   \"fail_count_Y15\": failure_projection['fails'][14],\n",
    "                   \"rupture_count_Y16\": failure_projection['ruptures'][15],\n",
    "                   \"leak_count_Y16\": failure_projection['leaks'][15],\n",
    "                   \"fail_count_Y16\": failure_projection['fails'][15],\n",
    "                   \"rupture_count_Y17\": failure_projection['ruptures'][16],\n",
    "                   \"leak_count_Y17\": failure_projection['leaks'][16],\n",
    "                   \"fail_count_Y17\": failure_projection['fails'][16],\n",
    "                   \"rupture_count_Y18\": failure_projection['ruptures'][17],\n",
    "                   \"leak_count_Y18\": failure_projection['leaks'][17],\n",
    "                   \"fail_count_Y18\": failure_projection['fails'][17],\n",
    "                   \"rupture_count_Y19\": failure_projection['ruptures'][18],\n",
    "                   \"leak_count_Y19\": failure_projection['leaks'][18],\n",
    "                   \"fail_count_Y19\": failure_projection['fails'][18],\n",
    "                   \"rupture_count_Y20\": failure_projection['ruptures'][19],\n",
    "                   \"leak_count_Y20\": failure_projection['leaks'][19],\n",
    "                   \"fail_count_Y20\": failure_projection['fails'][19],\n",
    "                   \"nan\": np.zeros((i,))\n",
    "                   }\n",
    "    # converting the container to a tabulat object using pandas\n",
    "    return_df = pd.DataFrame(return_dict).set_index('FeatureID')\n",
    "\n",
    "    return return_df"
   ]
  },
  {
   "cell_type": "code",
   "execution_count": 3,
   "metadata": {},
   "outputs": [],
   "source": [
    "def critical_depth_modified_b31g(od, wt, s, p, fL, units=\"SI\"):\n",
    "    \"\"\"\n",
    "    Calculates the failure stress using the Modified B31G Equation\n",
    "    :param od:  Pipe outside diameter, in mm (SI), or inches (US)\n",
    "    :param wt:  Pipe wall thickness, in mm (SI), or inches (US)\n",
    "    :param s:   Pipe grade, in kPa (SI), or psi (US)\n",
    "    :param p:   pressure, in kPa (SI), or psi (US)\n",
    "    :param fL:  feature length, in mm (SI), or inches (US)\n",
    "    :param units: flag for which units to use, \"SI\" or \"US\", default \"SI\"\n",
    "    :return: Critical depth, in mm (SI), or inches (US)\n",
    "    \"\"\"\n",
    "\n",
    "    l2Dt = np.power(fL, 2.0)/(od*wt)\n",
    "    Mt = np.where(l2Dt <= 50.0,\n",
    "                  np.sqrt( 1.0 +(0.6275*l2Dt)-(0.003375*np.power(l2Dt, 2.0))),\n",
    "                  0.032*l2Dt+3.3)\n",
    "    if units==\"SI\":\n",
    "        flowS = s + 68947.6\n",
    "    else:\n",
    "        flowS = s + 10000.0\n",
    "\n",
    "    opStress = (p*od)/(2.*wt)\n",
    "    \n",
    "    critical_d = ((opStress-flowS)*wt)/(0.85*((opStress/Mt)-flowS))\n",
    "    return np.minimum(critical_d/wt,0.8)"
   ]
  },
  {
   "cell_type": "code",
   "execution_count": 4,
   "metadata": {},
   "outputs": [],
   "source": [
    "def sql_query(q,server = 'sql2014',db = 'ppl_irasv6_prod'):\n",
    "    driver = '{SQL Server Native Client 11.0}'\n",
    "    conn = pyodbc.connect(\"Driver=\"+driver+\";Server=\"+server+\";Database=\"+db+\";Trusted_Connection=yes;\")\n",
    "    temp = pd.read_sql_query(q,conn)\n",
    "    conn.close()\n",
    "    return temp"
   ]
  },
  {
   "cell_type": "code",
   "execution_count": 5,
   "metadata": {},
   "outputs": [],
   "source": [
    "def get_ili_ranges(line):\n",
    "    q1 = f\"\"\"set nocount on;\n",
    "            select ll.LineName, ld.code [status], r.* from InlineInspectionRange r\n",
    "            join StationSeries ss on r.BeginStationSeriesId = ss.Id\n",
    "            join LineLoop ll on ss.LineLoopId = ll.Id\n",
    "            join ListDomain ld on r.ILIRStatusDomainId = ld.Id\n",
    "            where ll.LineName like '%{line}%'\n",
    "            order by r.ILIRStartDate desc\"\"\"\n",
    "\n",
    "    return sql_query(q1)\n"
   ]
  },
  {
   "cell_type": "code",
   "execution_count": 6,
   "metadata": {
    "scrolled": false
   },
   "outputs": [],
   "source": [
    "def get_features_from_ilir(ilirid):\n",
    "    q2 = f\"\"\"select\n",
    "            a.PipeInserviceDate,\n",
    "            a.PipeWallThickness,\n",
    "            r.ilirstartdate,\n",
    "            ld.code [status], \n",
    "            ld2.code [type], \n",
    "            f.ILIFSurfaceInd, \n",
    "            (f.StationNum*mlv.MultiplierNum+mlv.FactorNum) [chainage], \n",
    "            f.ILIFPeakDepthPct \n",
    "            from InlineInspectionFeature f\n",
    "\n",
    "            join ListDomain ld on f.ILIFStatusDomainId = ld.Id\n",
    "            join ListDomain ld2 on f.ILIFTypeDomainId = ld2.Id\n",
    "            join StationSeries ss on f.StationSeriesId = ss.id\n",
    "            join LineLoop ll on ss.LineLoopId = ll.Id\n",
    "            join inlineinspectionrange r on f.inlineinspectionrangeid = r.id\n",
    "            join MLVCorrection mlv on f.StationSeriesId = mlv.StationSeriesId\n",
    "            join \n",
    "                (select ll.id [LinloopId], ps.EffectiveStartDate, ps.PipeInserviceDate, ps.PipeOutsideDiameter, ps.PipeWallThickness, ps.PipeGrade, (ps.BeginStationNum*mlv1.MultiplierNum+mlv1.FactorNum) [begin_c], (ps.EndStationNum*mlv2.MultiplierNum+mlv2.FactorNum) [end_c] from PipeSegment ps\n",
    "                join StationSeries ss on ps.BeginStationSeriesId = ss.id\n",
    "                join LineLoop ll on ss.LineLoopId = ll.Id\n",
    "                join MLVCorrection mlv1 on ps.BeginStationSeriesId = mlv1.StationSeriesId\n",
    "                join MLVCorrection mlv2 on ps.EndStationSeriesId = mlv2.StationSeriesId\n",
    "                ) a on ((f.StationNum*mlv.MultiplierNum+mlv.FactorNum) between a.begin_c and a.end_c) and a.LinloopId = ll.id\n",
    "\n",
    "            where f.InlineInspectionRangeId = {ilirid}\"\"\"\n",
    "\n",
    "    return sql_query(q2)"
   ]
  },
  {
   "cell_type": "code",
   "execution_count": 7,
   "metadata": {},
   "outputs": [],
   "source": [
    "def get_features_for_poe(ILIRID, start=1, amt=999999999):\n",
    "    query = f\"\"\"select\n",
    "            c.RN,\n",
    "            ll.linename [line],\n",
    "\n",
    "            ld4.code [vendor], \n",
    "\n",
    "            format(r.ILIRStartDate,'yyyy-MM-dd') [ILIRStartDate],\n",
    "            ld3.code [tool],\n",
    "\n",
    "            f.ILIFFeatureNumber [FeatureID],\n",
    "            ld.code [status], \n",
    "            ld2.code [type],\n",
    "            (f.StationNum*mlv.MultiplierNum+mlv.FactorNum) [chainage_m], \n",
    "            f.ILIFSurfaceInd, \n",
    "            f.ILIFPeakDepthPct [depth_fraction], \n",
    "            f.ILIFLength [length_mm], \n",
    "            f.ILIFWidth [width_mm],\n",
    "            f.GrowthRate [vendor_cgr_mmpyr],\n",
    "            f.GrowthRateStdDev [vendor_cgr_sd],\n",
    "\n",
    "            format(a.PipeInserviceDate,'yyyy-MM-dd') [install_date],\n",
    "            a.PipeOutsideDiameter [OD_inch],\n",
    "            a.PipeWallThickness [WT_mm],\n",
    "            a.PipeGrade [grade_MPa],\n",
    "            a.PipeToughness [toughness_J],\n",
    "            a.[begin_ps_c],\n",
    "            a.[end_ps_c],\n",
    "\n",
    "            d.coating_type,\n",
    "            d.POECoatingYearsCrsnFree [incubation_yrs],\n",
    "            d.begin_co_c,\n",
    "            d.end_co_c,\n",
    "\n",
    "            b.MAOP_kPa,\n",
    "            b.begin_maop_c,\n",
    "            b.end_maop_c  \n",
    "\n",
    "            from InlineInspectionFeature f\n",
    "\n",
    "            left join ListDomain ld on f.ILIFStatusDomainId = ld.Id\n",
    "            left join ListDomain ld2 on f.ILIFTypeDomainId = ld2.Id\n",
    "            left join StationSeries ss on f.StationSeriesId = ss.id\n",
    "            left join LineLoop ll on ss.LineLoopId = ll.Id\n",
    "            left join inlineinspectionrange r on f.inlineinspectionrangeid = r.id\n",
    "            left join ListDomain ld3 on r.ILIRToolDomainId = ld3.Id\n",
    "            left join InlineInspection i on f.InlineInspectionId = i.Id\n",
    "            left join ListDomain ld4 on i.ILICompanyDomainId = ld4.Id\n",
    "            left join MLVCorrection mlv on f.StationSeriesId = mlv.StationSeriesId\n",
    "\n",
    "            left join \n",
    "                (select ll.id [LinloopId],\n",
    "                ll.LineName,\n",
    "                ps.EffectiveStartDate,\n",
    "                ps.PipeInserviceDate,\n",
    "                ps.PipeOutsideDiameter,\n",
    "                ps.PipeWallThickness,\n",
    "                ps.PipeGrade,\n",
    "                ps.PipeToughness,\n",
    "                (ps.BeginStationNum*mlv1.MultiplierNum+mlv1.FactorNum) [begin_ps_c],\n",
    "                (ps.EndStationNum*mlv2.MultiplierNum+mlv2.FactorNum) [end_ps_c]\n",
    "                from PipeSegment ps\n",
    "                join StationSeries ss on ps.BeginStationSeriesId = ss.id\n",
    "                join LineLoop ll on ss.LineLoopId = ll.Id\n",
    "                join MLVCorrection mlv1 on ps.BeginStationSeriesId = mlv1.StationSeriesId\n",
    "                join MLVCorrection mlv2 on ps.EndStationSeriesId = mlv2.StationSeriesId\n",
    "                where ps.EffectiveEndDate is null\n",
    "                ) a on ((f.StationNum*mlv.MultiplierNum+mlv.FactorNum) between a.[begin_ps_c] and a.[end_ps_c]) and a.LinloopId = ll.id\n",
    "\n",
    "            left join \n",
    "                (select ll.id [LinloopId],\n",
    "                ll.LineName,\n",
    "                maop.EffectiveEndDate,\n",
    "                maop.BeginStationSeriesId,\n",
    "                maop.MaxAllowablePressure [MAOP_kPa],\n",
    "                maop.BeginStationNum*mlv1.MultiplierNum+mlv1.FactorNum [begin_maop_c],\n",
    "                maop.EndStationNum*mlv2.MultiplierNum+mlv2.FactorNum [end_maop_c]\n",
    "                from maop maop\n",
    "                join StationSeries ss on ss.id = maop.BeginStationSeriesId\n",
    "                join LineLoop ll on ss.LineLoopId = ll.Id\n",
    "                join MLVCorrection mlv1 on maop.BeginStationSeriesId = mlv1.StationSeriesId\n",
    "                join MLVCorrection mlv2 on maop.EndStationSeriesId = mlv2.StationSeriesId\n",
    "                where maop.EffectiveEndDate is null\n",
    "                ) b on ((f.StationNum*mlv.MultiplierNum+mlv.FactorNum) between b.[begin_maop_c] and b.[end_maop_c]) and b.[LinloopId] = ll.id \n",
    "\n",
    "            left join\n",
    "                (select ROW_NUMBER() over(partition by ff.InlineInspectionRangeId order by ff.id asc)  [RN],\n",
    "                ff.id,\n",
    "                ff.InlineInspectionRangeId\n",
    "                from InlineInspectionFeature ff\n",
    "                )  c on f.Id = c.Id and f.InlineInspectionRangeId = c.InlineInspectionRangeId\n",
    "\n",
    "            left join \n",
    "                (select ll.id [LinloopId],\n",
    "                ll.LineName,\n",
    "                co.EffectiveStartDate,\n",
    "                ld.code [coating_type],\n",
    "                (co.BeginStationNum*mlv1.MultiplierNum+mlv1.FactorNum) [begin_co_c],\n",
    "                (co.EndStationNum*mlv2.MultiplierNum+mlv2.FactorNum) [end_co_c],\n",
    "                poe_c.POECoatingYearsCrsnFree\n",
    "                from Coating co\n",
    "                join StationSeries ss on co.BeginStationSeriesId = ss.id\n",
    "                join LineLoop ll on ss.LineLoopId = ll.Id\n",
    "                join ListDomain ld on co.CoatingLineDomainId = ld.Id\n",
    "                join MLVCorrection mlv1 on co.BeginStationSeriesId = mlv1.StationSeriesId\n",
    "                join MLVCorrection mlv2 on co.EndStationSeriesId = mlv2.StationSeriesId\n",
    "                \n",
    "                join POECoatingProperty poe_c on co.CoatingLineDomainId = poe_c.CoatingLineDomainId\n",
    "                \n",
    "                where co.EffectiveEndDate is null\n",
    "                ) d on ((f.StationNum*mlv.MultiplierNum+mlv.FactorNum) between d.[begin_co_c] and d.[end_co_c]) and d.LinloopId = ll.id\n",
    "\n",
    "            where f.InlineInspectionRangeId = {ILIRID} and (c.RN between {start} and {start+amt})\n",
    "            order by chainage_m asc\"\"\"\n",
    "    \n",
    "    return sql_query(query)"
   ]
  },
  {
   "cell_type": "code",
   "execution_count": 8,
   "metadata": {},
   "outputs": [],
   "source": [
    "def weibull_fitter(var):\n",
    "    def best_fit_m_b(xs,ys):\n",
    "        m = ( ((np.mean(xs)*np.mean(ys)) - np.mean(xs*ys)) /\n",
    "              ((np.mean(xs)**2) - np.mean(xs**2)))\n",
    "\n",
    "        b = np.mean(ys) - m*np.mean(xs)\n",
    "\n",
    "        return m, b\n",
    "\n",
    "#     def sqerror(ys_orig,ys_line):\n",
    "#         return sum((ys_line-ys_orig)**2)\n",
    "\n",
    "\n",
    "#     def rsquared(ys_orig,ys_line):\n",
    "#         y_mean_line = np.array([np.mean(ys_orig) for y in ys_orig])\n",
    "#         sq_error_regr = sqerror(ys_orig,ys_line)\n",
    "#         sq_error_y_mean = sqerror(ys_orig,y_mean_line)\n",
    "#         return 1 - (sq_error_regr/sq_error_y_mean)\n",
    "\n",
    "    var = pd.DataFrame(var)\n",
    "    \n",
    "    #rename column to 'data', sort ascending, drop values that are negative, and reset index\n",
    "    var.columns = ['data']\n",
    "    var = var.sort_values(by='data')\n",
    "    var = var.drop( var[ var['data']<=0 ].index )\n",
    "    var = var.reset_index(drop=True)\n",
    "\n",
    "    #create rank, median rank variables\n",
    "    var['rank'] = var.index+1\n",
    "    var['median_rank'] = (var['rank']-0.3)/(var['rank'].max()+0.4)\n",
    "    \n",
    "    var['inv_median_rank'] = 1/(1-var['median_rank'])\n",
    "    var['ln_data']=np.log(var['data'])\n",
    "    var['ln_ln_inv_median_rank'] = np.log(np.log(var['inv_median_rank']))\n",
    "\n",
    "    #find the best fit of the ln(data) and the ln(ln(inverse median rank))\n",
    "    m, b = best_fit_m_b(var['ln_data'],var['ln_ln_inv_median_rank'])\n",
    "    shape = m\n",
    "    scale = np.exp((-b)/shape)\n",
    "\n",
    "#     regression_line = np.array(m*var['ln_data']+b)\n",
    "#     r_squared = rsquared(var['ln_ln_inv_median_rank'],regression_line)\n",
    "\n",
    "#     print(f\"shape parameter= {shape:0.4f}\")\n",
    "#     print(f\"scale parameter= {scale:0.4f}\")\n",
    "#     print(f\"Coefficient of determination (R-squared)= {r_squared:0.2%}\")\n",
    "\n",
    "#     plt.scatter(var['ln_data'],var['ln_ln_inv_median_rank'], s=10, edgecolors='k')\n",
    "#     plt.plot(var['ln_data'],regression_line, color='g')\n",
    "#     plt.title('Weibull Distribution Fitting for Data')\n",
    "#     plt.xlabel('ln(data)')\n",
    "#     plt.ylabel('ln(ln(inv_median_rank))')\n",
    "#     plt.show()\n",
    "    \n",
    "    return shape, scale"
   ]
  },
  {
   "cell_type": "markdown",
   "metadata": {},
   "source": [
    "# 10 Year Monte Carlo Mock Calculator"
   ]
  },
  {
   "cell_type": "code",
   "execution_count": null,
   "metadata": {
    "scrolled": true
   },
   "outputs": [],
   "source": [
    "q = '''select ld.code [coating_type], poe_c.* from poecoatingproperty poe_c\n",
    "        join listdomain ld on poe_c.CoatingLineDomainId = ld.id\n",
    "      '''\n",
    "\n",
    "# display(sql_query(q).query('coating_type.str.startswith(\"2LPE\")'))\n",
    "\n",
    "flag = 2\n",
    "if flag == 1:\n",
    "    q = '''select ps.pipeinservicedate, ld.code, r.* from inlineinspectionrange r\n",
    "            join listdomain ld on r.ilirtooldomainid = ld.id\n",
    "            join stationseries ss on r.beginstationseriesid = ss.id\n",
    "            join pipesegment ps on ss.id = ps.beginstationseriesid\n",
    "            order by r.ilirstartdate desc'''\n",
    "    display(sql_query(q).iloc[350:400,:])\n",
    "elif flag == 2:\n",
    "    CSV_FILE_NAME = 'sample_of_inputs.csv'\n",
    "    test_df = pd.read_csv(CSV_FILE_NAME, header=0)\n",
    "    test_df = get_features_for_poe(1779)\n",
    "\n",
    "    test_df.fillna({'incubation_yrs':0.0}, inplace=True)\n",
    "    test_df.install_date = pd.to_datetime(test_df.install_date)\n",
    "    test_df.ILIRStartDate = pd.to_datetime(test_df.ILIRStartDate)\n",
    "    test_df.loc[:, 'time_delta'] = np.minimum(50.-test_df.loc[:,'incubation_yrs'],(test_df.ILIRStartDate - test_df.install_date).dt.days/365.25)\n",
    "    test_df.loc[:, 'growth_rate_mmpyr'] = (test_df.depth_fraction*test_df.WT_mm)/test_df.time_delta\n",
    "    display(test_df)"
   ]
  },
  {
   "cell_type": "code",
   "execution_count": 13,
   "metadata": {},
   "outputs": [
    {
     "name": "stdout",
     "output_type": "stream",
     "text": [
      "Variable                       Type                          Data/Info\n",
      "----------------------------------------------------------------------\n",
      "CSV_FILE_NAME                  str                           sample_of_inputs.csv\n",
      "NamespaceMagics                MetaHasTraits                 <class 'IPython.core.magi<...>mespace.NamespaceMagics'>\n",
      "cgr                            module                        <module 'simpoe.cgr' from<...>ackages\\\\simpoe\\\\cgr.py'>\n",
      "corrLimitStates                module                        <module 'simpoe.corrosion<...>ion\\\\corrLimitStates.py'>\n",
      "corrpoe                        function                      <function corrpoe at 0x000002680A710D08>\n",
      "critical_depth_modified_b31g   function                      <function critical_depth_<...>1g at 0x000002680A710620>\n",
      "datetime                       module                        <module 'datetime' from '<...>hon36\\\\lib\\\\datetime.py'>\n",
      "depthScale                     float                         0.3\n",
      "df                             DataFrame                             shape     scale  <...>\\n[189 rows x 27 columns]\n",
      "distributer                    module                        <module 'simpoe.distribut<...>\\simpoe\\\\distributer.py'>\n",
      "failureStress                  module                        <module 'simpoe.corrosion<...>osion\\\\failureStress.py'>\n",
      "filters                        dict                          n=2\n",
      "flag                           int                           1\n",
      "gamma                          gamma_gen                     <scipy.stats._continuous_<...>ct at 0x0000026806843CC0>\n",
      "gc                             module                        <module 'gc' (built-in)>\n",
      "get_features_for_poe           function                      <function get_features_fo<...>oe at 0x000002680A710EA0>\n",
      "get_features_from_ilir         function                      <function get_features_fr<...>ir at 0x00000268689B48C8>\n",
      "get_ili_ranges                 function                      <function get_ili_ranges at 0x00000268689B4840>\n",
      "get_ipython                    function                      <function get_ipython at 0x000002686677FD08>\n",
      "getsizeof                      builtin_function_or_method    <built-in function getsizeof>\n",
      "go                             module                        <module 'plotly.graph_obj<...>lotly\\\\graph_objects.py'>\n",
      "iter                           int                           1000000\n",
      "json                           module                        <module 'json' from 'C:\\\\<...>\\lib\\\\json\\\\__init__.py'>\n",
      "make_subplots                  function                      <function make_subplots at 0x000002680955B0D0>\n",
      "model_constants                module                        <module 'simpoe.model_con<...>poe\\\\model_constants.py'>\n",
      "mpld3                          module                        <module 'mpld3' from 'C:\\<...>ges\\\\mpld3\\\\__init__.py'>\n",
      "noise_filter                   str                           growth_rate_mmpyr>0.001\n",
      "norm                           norm_gen                      <scipy.stats._continuous_<...>ct at 0x00000268067DE9E8>\n",
      "np                             module                        <module 'numpy' from 'C:\\<...>ges\\\\numpy\\\\__init__.py'>\n",
      "pd                             module                        <module 'pandas' from 'C:<...>es\\\\pandas\\\\__init__.py'>\n",
      "plt                            module                        <module 'matplotlib.pyplo<...>\\\\matplotlib\\\\pyplot.py'>\n",
      "pyo                            module                        <module 'plotly.offline' <...>y\\\\offline\\\\__init__.py'>\n",
      "pyodbc                         module                        <module 'pyodbc' from 'C:<...>odbc.cp36-win_amd64.pyd'>\n",
      "query_1_e                      str                           ILIFSurfaceInd.str.contai<...>ns('E') & time_delta < 5.\n",
      "query_1_i                      str                           ILIFSurfaceInd.str.contai<...>ns('I') & time_delta < 5.\n",
      "query_2_e                      str                           ILIFSurfaceInd.str.contai<...>a < 40. & time_delta >= 5\n",
      "query_2_i                      str                           ILIFSurfaceInd.str.contai<...>a < 40. & time_delta >= 5\n",
      "query_3_e                      str                           ILIFSurfaceInd.str.contai<...>('E') & time_delta >= 40.\n",
      "query_3_i                      str                           ILIFSurfaceInd.str.contai<...>('I') & time_delta >= 40.\n",
      "result                         DataFrame                                PDP_frac  flen<...>\\n[189 rows x 67 columns]\n",
      "sns                            module                        <module 'seaborn' from 'C<...>s\\\\seaborn\\\\__init__.py'>\n",
      "sql_query                      function                      <function sql_query at 0x00000268689B41E0>\n",
      "time                           module                        <module 'time' (built-in)>\n",
      "unpacker                       module                        <module 'simpoe.unpacker'<...>es\\\\simpoe\\\\unpacker.py'>\n",
      "var_dic_list                   function                      <function var_dic_list at 0x0000026876CEEC80>\n",
      "weibull_fitter                 function                      <function weibull_fitter at 0x000002680A710730>\n"
     ]
    }
   ],
   "source": [
    "%whos"
   ]
  },
  {
   "cell_type": "code",
   "execution_count": 16,
   "metadata": {},
   "outputs": [],
   "source": [
    "del df\n",
    "del result"
   ]
  },
  {
   "cell_type": "code",
   "execution_count": 11,
   "metadata": {
    "scrolled": false
   },
   "outputs": [
    {
     "name": "stdout",
     "output_type": "stream",
     "text": [
      "Features loaded...\n",
      "Growth rates calculated. Fitting Weibull distributions...\n",
      "CGR Assumption #1 determined...\n",
      "CGR Assumption #2 determined...\n",
      "CGR Assumption #3 determined...\n",
      "Filtering ILIFsurfaceInd column for \"['E', 'I']\" features for [].\n",
      "Calculating POE...\n"
     ]
    },
    {
     "ename": "MemoryError",
     "evalue": "Unable to allocate array with shape (1000000, 189) and data type float64",
     "output_type": "error",
     "traceback": [
      "\u001b[1;31m---------------------------------------------------------------------------\u001b[0m",
      "\u001b[1;31mMemoryError\u001b[0m                               Traceback (most recent call last)",
      "\u001b[1;32m<timed exec>\u001b[0m in \u001b[0;36m<module>\u001b[1;34m\u001b[0m\n",
      "\u001b[1;32m<ipython-input-2-319cb3366b96>\u001b[0m in \u001b[0;36mcorrpoe\u001b[1;34m(df, n, cga_rate)\u001b[0m\n\u001b[0;32m    140\u001b[0m \u001b[1;33m\u001b[0m\u001b[0m\n\u001b[0;32m    141\u001b[0m         \u001b[1;31m# recalculate Failure Stress in psi\u001b[0m\u001b[1;33m\u001b[0m\u001b[1;33m\u001b[0m\u001b[1;33m\u001b[0m\u001b[0m\n\u001b[1;32m--> 142\u001b[1;33m         \u001b[0mfailure_stress\u001b[0m \u001b[1;33m=\u001b[0m \u001b[0mfailureStress\u001b[0m\u001b[1;33m.\u001b[0m\u001b[0mmodified_b31g\u001b[0m\u001b[1;33m(\u001b[0m\u001b[0mOD\u001b[0m\u001b[1;33m,\u001b[0m \u001b[0mWTd\u001b[0m\u001b[1;33m,\u001b[0m \u001b[0mSdist\u001b[0m\u001b[1;33m,\u001b[0m \u001b[0mfL\u001b[0m\u001b[1;33m,\u001b[0m \u001b[0mfD\u001b[0m\u001b[1;33m,\u001b[0m \u001b[0munits\u001b[0m\u001b[1;33m=\u001b[0m\u001b[1;34m\"US\"\u001b[0m\u001b[1;33m)\u001b[0m \u001b[1;33m*\u001b[0m \u001b[0mmodelError\u001b[0m\u001b[1;33m\u001b[0m\u001b[1;33m\u001b[0m\u001b[0m\n\u001b[0m\u001b[0;32m    143\u001b[0m \u001b[1;33m\u001b[0m\u001b[0m\n\u001b[0;32m    144\u001b[0m         \u001b[1;31m# recalculate Failure pressure in psi\u001b[0m\u001b[1;33m\u001b[0m\u001b[1;33m\u001b[0m\u001b[1;33m\u001b[0m\u001b[0m\n",
      "\u001b[1;32mC:\\Python36\\lib\\site-packages\\simpoe\\corrosion\\failureStress.py\u001b[0m in \u001b[0;36mmodified_b31g\u001b[1;34m(od, wt, s, fL, fD, units)\u001b[0m\n\u001b[0;32m     22\u001b[0m         \u001b[0mflowS\u001b[0m \u001b[1;33m=\u001b[0m \u001b[0ms\u001b[0m \u001b[1;33m+\u001b[0m \u001b[1;36m10000.0\u001b[0m\u001b[1;33m\u001b[0m\u001b[1;33m\u001b[0m\u001b[0m\n\u001b[0;32m     23\u001b[0m \u001b[1;33m\u001b[0m\u001b[0m\n\u001b[1;32m---> 24\u001b[1;33m     \u001b[0mfailStress\u001b[0m \u001b[1;33m=\u001b[0m \u001b[0mflowS\u001b[0m \u001b[1;33m*\u001b[0m\u001b[1;33m(\u001b[0m \u001b[1;36m1.0\u001b[0m\u001b[1;33m-\u001b[0m \u001b[1;36m0.85\u001b[0m \u001b[1;33m*\u001b[0m \u001b[1;33m(\u001b[0m\u001b[0mfD\u001b[0m\u001b[1;33m/\u001b[0m\u001b[0mwt\u001b[0m\u001b[1;33m)\u001b[0m\u001b[1;33m)\u001b[0m \u001b[1;33m/\u001b[0m \u001b[1;33m(\u001b[0m\u001b[1;36m1.0\u001b[0m \u001b[1;33m-\u001b[0m \u001b[1;36m0.85\u001b[0m \u001b[1;33m*\u001b[0m \u001b[1;33m(\u001b[0m\u001b[0mfD\u001b[0m\u001b[1;33m/\u001b[0m\u001b[1;33m(\u001b[0m\u001b[0mwt\u001b[0m \u001b[1;33m*\u001b[0m \u001b[0mMt\u001b[0m\u001b[1;33m)\u001b[0m\u001b[1;33m)\u001b[0m\u001b[1;33m)\u001b[0m\u001b[1;33m\u001b[0m\u001b[1;33m\u001b[0m\u001b[0m\n\u001b[0m\u001b[0;32m     25\u001b[0m     \u001b[1;32mreturn\u001b[0m \u001b[0mfailStress\u001b[0m\u001b[1;33m\u001b[0m\u001b[1;33m\u001b[0m\u001b[0m\n",
      "\u001b[1;31mMemoryError\u001b[0m: Unable to allocate array with shape (1000000, 189) and data type float64"
     ]
    }
   ],
   "source": [
    "%%time\n",
    "#the next statement loads the CSV into a pandas dataframe\n",
    "flag = 1\n",
    "if flag == 1:\n",
    "    CSV_FILE_NAME = 'sample_of_inputs.csv'\n",
    "    df = pd.read_csv(CSV_FILE_NAME, header=0)\n",
    "elif flag == 2:\n",
    "    df = get_features_for_poe(1779,amt=100)\n",
    "\n",
    "print('Features loaded...')\n",
    "#This next set of lines converts the install_date and ILIRStartDate to datetime objects\n",
    "#   calculates the time delta between the ILI and the pipe installation date\n",
    "#   calculates the linear full-life growth rate for each feature\n",
    "df.fillna({'incubation_yrs':10.0}, inplace=True)\n",
    "df.install_date = pd.to_datetime(df.install_date)\n",
    "df.ILIRStartDate = pd.to_datetime(df.ILIRStartDate)\n",
    "df.loc[:, 'ILI_age_yrs'] = (df.ILIRStartDate - df.install_date).dt.days/365.25\n",
    "df.loc[:, 'time_delta'] = np.minimum(40.-df.loc[:,'incubation_yrs'],df.ILI_age_yrs)\n",
    "df.loc[:, 'growth_rate_mmpyr'] = (df.depth_fraction*df.WT_mm)/df.time_delta\n",
    "\n",
    "print('Growth rates calculated. Fitting Weibull distributions...')\n",
    "# Assumption #1 for growth rate, uses the weibull_fitter.py function\n",
    "#   filters applies conditional statement to detect whether features is internal or external, filters out anything with a CGR less than 0.01mm/yr, and features in pipe older than 5y\n",
    "# Assumption #2, uses the weibull_fitter.py function\n",
    "#   filters applies conditional statement to detect whether features is internal or external, filters out anything with a CGR less than 0.01mm/yr, and features in pipe younger than 5y or older than 40y\n",
    "# Assumption #3, uses the weibull_fitter.py function\n",
    "#   filters applies conditional statement to detect whether features is internal or external, filters out anything with a CGR less than 0.01mm/yr, and features in pipe younger than 40y\n",
    "\n",
    "noise_filter = \"growth_rate_mmpyr>0.001\"\n",
    "# query_1_e = \"time_delta < 5.\"\n",
    "# query_2_e = \"time_delta < 40. & time_delta >= 5\"\n",
    "# query_3_e = \"time_delta >= 40.\"\n",
    "\n",
    "query_1_e = \"ILIFSurfaceInd.str.contains('E') & time_delta < 5.\"\n",
    "query_1_i = \"ILIFSurfaceInd.str.contains('I') & time_delta < 5.\"\n",
    "query_2_e = \"ILIFSurfaceInd.str.contains('E') & time_delta < 40. & time_delta >= 5\"\n",
    "query_2_i = \"ILIFSurfaceInd.str.contains('I') & time_delta < 40. & time_delta >= 5\"\n",
    "query_3_e = \"ILIFSurfaceInd.str.contains('E') & time_delta >= 40.\"\n",
    "query_3_i = \"ILIFSurfaceInd.str.contains('I') & time_delta >= 40.\"\n",
    "\n",
    "depthScale = 0.3\n",
    "\n",
    "df = df.combine_first(df.apply(lambda x: [1.24959, 0.107359 + depthScale * ((x.depth_fraction-0.2))],result_type='expand', axis=1).loc[df.query(query_1_e).index,:])\n",
    "df = df.combine_first(df.apply(lambda x: [1.24959, 0.107359 + depthScale * ((x.depth_fraction-0.2))],result_type='expand', axis=1).loc[df.query(query_1_i).index,:])\n",
    "\n",
    "# df = df.combine_first(df.apply(lambda x: [1.24959, 0.107359],result_type='expand', axis=1).loc[df.query(query_1_e).index,:])\n",
    "# df = df.combine_first(df.apply(lambda x: [1.24959, 0.107359],result_type='expand', axis=1).loc[df.query(query_1_i).index,:])\n",
    "print('CGR Assumption #1 determined...')\n",
    "\n",
    "df = df.combine_first(df.apply(lambda x: weibull_fitter(df.query(f\"{query_2_e}\").loc[:,['growth_rate_mmpyr']]),result_type='expand', axis=1).loc[df.query(query_2_e).index,:])\n",
    "df = df.combine_first(df.apply(lambda x: weibull_fitter(df.query(f\"{query_2_i}\").loc[:,['growth_rate_mmpyr']]),result_type='expand', axis=1).loc[df.query(query_2_i).index,:])\n",
    "print('CGR Assumption #2 determined...')\n",
    "\n",
    "df = df.combine_first(df.apply(lambda x: weibull_fitter(df.query(f\"{query_3_e}\").loc[:,['growth_rate_mmpyr']]),result_type='expand', axis=1).loc[df.query(query_3_e).index,:])\n",
    "df = df.combine_first(df.apply(lambda x: weibull_fitter(df.query(f\"{query_3_i}\").loc[:,['growth_rate_mmpyr']]),result_type='expand', axis=1).loc[df.query(query_3_i).index,:])\n",
    "print('CGR Assumption #3 determined...')\n",
    "\n",
    "df.rename({0:'shape',1:'scale'}, axis=1, inplace=True)\n",
    "\n",
    "filters = {'value':['E','I'],\n",
    "          'FeatureIDs':[]}\n",
    "\n",
    "print(f'Filtering ILIFsurfaceInd column for \"{filters[\"value\"]}\" features for {filters[\"FeatureIDs\"]}.')\n",
    "\n",
    "if len(filters['FeatureIDs']) == 0:\n",
    "    pass\n",
    "else:\n",
    "    df = df.loc[lambda x: (x.FeatureID.isin(filters['FeatureIDs']))]\n",
    "      \n",
    "print('Calculating POE...')\n",
    "iter = 1_000_000\n",
    "result = corrpoe(df,iter)\n",
    "print('Done.')\n",
    "\n",
    "result.iloc[:, 3:] = result.iloc[:,3:].apply(lambda x: x/iter)#.applymap('{:.3e}'.format)\n",
    "result.loc[:,'iterations'] = result.loc[:,'iterations'].apply('{:,.0f}'.format)\n",
    "\n",
    "display(df.set_index('FeatureID').join(result).loc[:,:])#.to_clipboard())\n",
    "# display(df.set_index('FeatureID').join(result).loc[:,'depth_fraction':].filter(regex=\"leak\").T)\n",
    "# display(df.set_index('FeatureID').join(result).loc[:,'depth_fraction':].filter(regex=\"rupture\").T)\n",
    "# display(df.set_index('FeatureID').join(result).loc[:,'depth_fraction':].filter(regex=\"fail\").T)\n",
    "# display(df.set_index('FeatureID').join(result).loc[:,'depth_fraction':])"
   ]
  },
  {
   "cell_type": "code",
   "execution_count": 10,
   "metadata": {},
   "outputs": [],
   "source": [
    "df.set_index('FeatureID').join(result).loc[:,:].to_csv(\"sample_of_outputs.csv\")"
   ]
  },
  {
   "cell_type": "code",
   "execution_count": null,
   "metadata": {},
   "outputs": [],
   "source": [
    "# np.minimum(df.time_delta,40.)\n",
    "df.time_delta"
   ]
  },
  {
   "cell_type": "code",
   "execution_count": null,
   "metadata": {},
   "outputs": [],
   "source": [
    "df.set_index('FeatureID').join(result).loc[:,:].to_clipboard()"
   ]
  },
  {
   "cell_type": "code",
   "execution_count": 43,
   "metadata": {},
   "outputs": [
    {
     "data": {
      "text/plain": [
       "'2,993,731.00'"
      ]
     },
     "execution_count": 43,
     "metadata": {},
     "output_type": "execute_result"
    }
   ],
   "source": [
    "# df.set_index('FeatureID').join(result).filter(regex=f_mode).T.loc[:,col].index\n",
    "col"
   ]
  },
  {
   "cell_type": "markdown",
   "metadata": {},
   "source": [
    "## Plotting via matplotlib "
   ]
  },
  {
   "cell_type": "code",
   "execution_count": null,
   "metadata": {},
   "outputs": [],
   "source": [
    "f_mode = \"rupture\" # leak | rupture | fail\n",
    "\n",
    "## matplotlib approach ------------------------\n",
    "df.set_index('FeatureID').join(result).T.loc['depth_fraction':]\n",
    "df.set_index('FeatureID').join(result).loc[:,'depth_fraction':].filter(regex=f_mode).T.plot(kind='line', marker='o', linewidth=1.5)\n",
    "\n",
    "plt.yscale(\"log\")\n",
    "plt.grid(b=True, which='major', color='grey', linestyle='-', linewidth=0.5)\n",
    "plt.grid(b=True, which='minor', color='grey', linestyle='--', linewidth=0.5)"
   ]
  },
  {
   "cell_type": "markdown",
   "metadata": {},
   "source": [
    "## Plotting via Plotly "
   ]
  },
  {
   "cell_type": "code",
   "execution_count": 22,
   "metadata": {
    "scrolled": false
   },
   "outputs": [
    {
     "data": {
      "application/vnd.plotly.v1+json": {
       "config": {
        "linkText": "Export to plot.ly",
        "plotlyServerURL": "https://plot.ly",
        "showLink": false
       },
       "data": [
        {
         "hovertext": "3.00%, 11.00 mm",
         "name": "1088754",
         "type": "scatter",
         "x": [
          0,
          1,
          2,
          3,
          4,
          5,
          6,
          7,
          8,
          9,
          10
         ],
         "xaxis": "x",
         "y": [
          0,
          0,
          0,
          0,
          0,
          0,
          0,
          0,
          0,
          0,
          0
         ],
         "yaxis": "y"
        },
        {
         "hovertext": "4.00%, 11.00 mm",
         "name": "1088755",
         "type": "scatter",
         "x": [
          0,
          1,
          2,
          3,
          4,
          5,
          6,
          7,
          8,
          9,
          10
         ],
         "xaxis": "x",
         "y": [
          0,
          0,
          0,
          0,
          0,
          0,
          0,
          0,
          0,
          0,
          0
         ],
         "yaxis": "y"
        },
        {
         "hovertext": "3.00%, 12.00 mm",
         "name": "1088756",
         "type": "scatter",
         "x": [
          0,
          1,
          2,
          3,
          4,
          5,
          6,
          7,
          8,
          9,
          10
         ],
         "xaxis": "x",
         "y": [
          0,
          0,
          0,
          0,
          0,
          0,
          0,
          0,
          0,
          0,
          0
         ],
         "yaxis": "y"
        },
        {
         "hovertext": "3.00%, 20.00 mm",
         "name": "1088757",
         "type": "scatter",
         "x": [
          0,
          1,
          2,
          3,
          4,
          5,
          6,
          7,
          8,
          9,
          10
         ],
         "xaxis": "x",
         "y": [
          0,
          0,
          0,
          0,
          0,
          0,
          0,
          0,
          0,
          0,
          0
         ],
         "yaxis": "y"
        },
        {
         "hovertext": "4.00%, 12.00 mm",
         "name": "1088758",
         "type": "scatter",
         "x": [
          0,
          1,
          2,
          3,
          4,
          5,
          6,
          7,
          8,
          9,
          10
         ],
         "xaxis": "x",
         "y": [
          0,
          0,
          0,
          0,
          0,
          0,
          0,
          0,
          0,
          0,
          0
         ],
         "yaxis": "y"
        },
        {
         "hovertext": "13.00%, 21.00 mm",
         "name": "1088759",
         "type": "scatter",
         "x": [
          0,
          1,
          2,
          3,
          4,
          5,
          6,
          7,
          8,
          9,
          10
         ],
         "xaxis": "x",
         "y": [
          0,
          0,
          0,
          0,
          0,
          0,
          0,
          0,
          0,
          0,
          0
         ],
         "yaxis": "y"
        },
        {
         "hovertext": "5.00%, 22.00 mm",
         "name": "1088760",
         "type": "scatter",
         "x": [
          0,
          1,
          2,
          3,
          4,
          5,
          6,
          7,
          8,
          9,
          10
         ],
         "xaxis": "x",
         "y": [
          0,
          0,
          0,
          0,
          0,
          0,
          0,
          0,
          0,
          0,
          0
         ],
         "yaxis": "y"
        },
        {
         "hovertext": "5.00%, 33.00 mm",
         "name": "1088761",
         "type": "scatter",
         "x": [
          0,
          1,
          2,
          3,
          4,
          5,
          6,
          7,
          8,
          9,
          10
         ],
         "xaxis": "x",
         "y": [
          0,
          0,
          0,
          0,
          0,
          0,
          0,
          0,
          0,
          0,
          0
         ],
         "yaxis": "y"
        },
        {
         "hovertext": "3.00%, 40.00 mm",
         "name": "1088762",
         "type": "scatter",
         "x": [
          0,
          1,
          2,
          3,
          4,
          5,
          6,
          7,
          8,
          9,
          10
         ],
         "xaxis": "x",
         "y": [
          0,
          0,
          0,
          0,
          0,
          0,
          0,
          0,
          0,
          0,
          0
         ],
         "yaxis": "y"
        },
        {
         "hovertext": "3.00%, 23.00 mm",
         "name": "1088763",
         "type": "scatter",
         "x": [
          0,
          1,
          2,
          3,
          4,
          5,
          6,
          7,
          8,
          9,
          10
         ],
         "xaxis": "x",
         "y": [
          0,
          0,
          0,
          0,
          0,
          0,
          0,
          0,
          0,
          0,
          0
         ],
         "yaxis": "y"
        },
        {
         "hovertext": "3.00%, 13.00 mm",
         "name": "1088764",
         "type": "scatter",
         "x": [
          0,
          1,
          2,
          3,
          4,
          5,
          6,
          7,
          8,
          9,
          10
         ],
         "xaxis": "x",
         "y": [
          0,
          0,
          0,
          0,
          0,
          0,
          0,
          0,
          0,
          0,
          0
         ],
         "yaxis": "y"
        },
        {
         "hovertext": "3.00%, 12.00 mm",
         "name": "1088765",
         "type": "scatter",
         "x": [
          0,
          1,
          2,
          3,
          4,
          5,
          6,
          7,
          8,
          9,
          10
         ],
         "xaxis": "x",
         "y": [
          0,
          0,
          0,
          0,
          0,
          0,
          0,
          0,
          0,
          0,
          0
         ],
         "yaxis": "y"
        },
        {
         "hovertext": "3.00%, 22.00 mm",
         "name": "1088766",
         "type": "scatter",
         "x": [
          0,
          1,
          2,
          3,
          4,
          5,
          6,
          7,
          8,
          9,
          10
         ],
         "xaxis": "x",
         "y": [
          0,
          0,
          0,
          0,
          0,
          0,
          0,
          0,
          0,
          0,
          0
         ],
         "yaxis": "y"
        },
        {
         "hovertext": "3.00%, 19.00 mm",
         "name": "1088767",
         "type": "scatter",
         "x": [
          0,
          1,
          2,
          3,
          4,
          5,
          6,
          7,
          8,
          9,
          10
         ],
         "xaxis": "x",
         "y": [
          0,
          0,
          0,
          0,
          0,
          0,
          0,
          0,
          0,
          0,
          0
         ],
         "yaxis": "y"
        },
        {
         "hovertext": "3.00%, 31.00 mm",
         "name": "1088768",
         "type": "scatter",
         "x": [
          0,
          1,
          2,
          3,
          4,
          5,
          6,
          7,
          8,
          9,
          10
         ],
         "xaxis": "x",
         "y": [
          0,
          0,
          0,
          0,
          0,
          0,
          0,
          0,
          0,
          0,
          0
         ],
         "yaxis": "y"
        },
        {
         "hovertext": "4.00%, 40.00 mm",
         "name": "1088769",
         "type": "scatter",
         "x": [
          0,
          1,
          2,
          3,
          4,
          5,
          6,
          7,
          8,
          9,
          10
         ],
         "xaxis": "x",
         "y": [
          0,
          0,
          0,
          0,
          0,
          0,
          0,
          0,
          0,
          0,
          0
         ],
         "yaxis": "y"
        },
        {
         "hovertext": "3.00%, 21.00 mm",
         "name": "1088770",
         "type": "scatter",
         "x": [
          0,
          1,
          2,
          3,
          4,
          5,
          6,
          7,
          8,
          9,
          10
         ],
         "xaxis": "x",
         "y": [
          0,
          0,
          0,
          0,
          0,
          0,
          0,
          0,
          0,
          0,
          0
         ],
         "yaxis": "y"
        },
        {
         "hovertext": "3.00%, 12.00 mm",
         "name": "1088771",
         "type": "scatter",
         "x": [
          0,
          1,
          2,
          3,
          4,
          5,
          6,
          7,
          8,
          9,
          10
         ],
         "xaxis": "x",
         "y": [
          0,
          0,
          0,
          0,
          0,
          0,
          0,
          0,
          0,
          0,
          0
         ],
         "yaxis": "y"
        },
        {
         "hovertext": "5.00%, 45.00 mm",
         "name": "1088772",
         "type": "scatter",
         "x": [
          0,
          1,
          2,
          3,
          4,
          5,
          6,
          7,
          8,
          9,
          10
         ],
         "xaxis": "x",
         "y": [
          0,
          0,
          0,
          0,
          0,
          0,
          0,
          0,
          0,
          0,
          0
         ],
         "yaxis": "y"
        },
        {
         "hovertext": "5.00%, 60.00 mm",
         "name": "1088773",
         "type": "scatter",
         "x": [
          0,
          1,
          2,
          3,
          4,
          5,
          6,
          7,
          8,
          9,
          10
         ],
         "xaxis": "x",
         "y": [
          0,
          0,
          0,
          0,
          0,
          0,
          0,
          0,
          0,
          0,
          0
         ],
         "yaxis": "y"
        },
        {
         "hovertext": "3.00%, 16.00 mm",
         "name": "1088774",
         "type": "scatter",
         "x": [
          0,
          1,
          2,
          3,
          4,
          5,
          6,
          7,
          8,
          9,
          10
         ],
         "xaxis": "x",
         "y": [
          0,
          0,
          0,
          0,
          0,
          0,
          0,
          0,
          0,
          0,
          0
         ],
         "yaxis": "y"
        },
        {
         "hovertext": "5.00%, 59.00 mm",
         "name": "1088775",
         "type": "scatter",
         "x": [
          0,
          1,
          2,
          3,
          4,
          5,
          6,
          7,
          8,
          9,
          10
         ],
         "xaxis": "x",
         "y": [
          0,
          0,
          0,
          0,
          0,
          0,
          0,
          0,
          0,
          0,
          0
         ],
         "yaxis": "y"
        },
        {
         "hovertext": "4.00%, 16.00 mm",
         "name": "1088776",
         "type": "scatter",
         "x": [
          0,
          1,
          2,
          3,
          4,
          5,
          6,
          7,
          8,
          9,
          10
         ],
         "xaxis": "x",
         "y": [
          0,
          0,
          0,
          0,
          0,
          0,
          0,
          0,
          0,
          0,
          0
         ],
         "yaxis": "y"
        },
        {
         "hovertext": "4.00%, 12.00 mm",
         "name": "1088777",
         "type": "scatter",
         "x": [
          0,
          1,
          2,
          3,
          4,
          5,
          6,
          7,
          8,
          9,
          10
         ],
         "xaxis": "x",
         "y": [
          0,
          0,
          0,
          0,
          0,
          0,
          0,
          0,
          0,
          0,
          0
         ],
         "yaxis": "y"
        },
        {
         "hovertext": "3.00%, 27.00 mm",
         "name": "1088778",
         "type": "scatter",
         "x": [
          0,
          1,
          2,
          3,
          4,
          5,
          6,
          7,
          8,
          9,
          10
         ],
         "xaxis": "x",
         "y": [
          0,
          0,
          0,
          0,
          0,
          0,
          0,
          0,
          0,
          0,
          0
         ],
         "yaxis": "y"
        },
        {
         "hovertext": "4.00%, 12.00 mm",
         "name": "1088779",
         "type": "scatter",
         "x": [
          0,
          1,
          2,
          3,
          4,
          5,
          6,
          7,
          8,
          9,
          10
         ],
         "xaxis": "x",
         "y": [
          0,
          0,
          0,
          0,
          0,
          0,
          0,
          0,
          0,
          0,
          0
         ],
         "yaxis": "y"
        },
        {
         "hovertext": "4.00%, 17.00 mm",
         "name": "1088780",
         "type": "scatter",
         "x": [
          0,
          1,
          2,
          3,
          4,
          5,
          6,
          7,
          8,
          9,
          10
         ],
         "xaxis": "x",
         "y": [
          0,
          0,
          0,
          0,
          0,
          0,
          0,
          0,
          0,
          0,
          0
         ],
         "yaxis": "y"
        },
        {
         "hovertext": "3.00%, 12.00 mm",
         "name": "1088781",
         "type": "scatter",
         "x": [
          0,
          1,
          2,
          3,
          4,
          5,
          6,
          7,
          8,
          9,
          10
         ],
         "xaxis": "x",
         "y": [
          0,
          0,
          0,
          0,
          0,
          0,
          0,
          0,
          0,
          0,
          0
         ],
         "yaxis": "y"
        },
        {
         "hovertext": "4.00%, 12.00 mm",
         "name": "1088782",
         "type": "scatter",
         "x": [
          0,
          1,
          2,
          3,
          4,
          5,
          6,
          7,
          8,
          9,
          10
         ],
         "xaxis": "x",
         "y": [
          0,
          0,
          0,
          0,
          0,
          0,
          0,
          0,
          0,
          0,
          0
         ],
         "yaxis": "y"
        },
        {
         "hovertext": "3.00%, 24.00 mm",
         "name": "1088783",
         "type": "scatter",
         "x": [
          0,
          1,
          2,
          3,
          4,
          5,
          6,
          7,
          8,
          9,
          10
         ],
         "xaxis": "x",
         "y": [
          0,
          0,
          0,
          0,
          0,
          0,
          0,
          0,
          0,
          0,
          0
         ],
         "yaxis": "y"
        },
        {
         "hovertext": "5.00%, 72.00 mm",
         "name": "1088784",
         "type": "scatter",
         "x": [
          0,
          1,
          2,
          3,
          4,
          5,
          6,
          7,
          8,
          9,
          10
         ],
         "xaxis": "x",
         "y": [
          0,
          0,
          0,
          0,
          0,
          0,
          0,
          0,
          0,
          0,
          0
         ],
         "yaxis": "y"
        },
        {
         "hovertext": "10.00%, 40.00 mm",
         "name": "1088785",
         "type": "scatter",
         "x": [
          0,
          1,
          2,
          3,
          4,
          5,
          6,
          7,
          8,
          9,
          10
         ],
         "xaxis": "x",
         "y": [
          0,
          0,
          0,
          0,
          0,
          0,
          0,
          0,
          0,
          0,
          0
         ],
         "yaxis": "y"
        },
        {
         "hovertext": "7.00%, 23.00 mm",
         "name": "1088786",
         "type": "scatter",
         "x": [
          0,
          1,
          2,
          3,
          4,
          5,
          6,
          7,
          8,
          9,
          10
         ],
         "xaxis": "x",
         "y": [
          0,
          0,
          0,
          0,
          0,
          0,
          0,
          0,
          0,
          0,
          0
         ],
         "yaxis": "y"
        },
        {
         "hovertext": "3.00%, 25.00 mm",
         "name": "1088787",
         "type": "scatter",
         "x": [
          0,
          1,
          2,
          3,
          4,
          5,
          6,
          7,
          8,
          9,
          10
         ],
         "xaxis": "x",
         "y": [
          0,
          0,
          0,
          0,
          0,
          0,
          0,
          0,
          0,
          0,
          0
         ],
         "yaxis": "y"
        },
        {
         "hovertext": "4.00%, 67.00 mm",
         "name": "1088788",
         "type": "scatter",
         "x": [
          0,
          1,
          2,
          3,
          4,
          5,
          6,
          7,
          8,
          9,
          10
         ],
         "xaxis": "x",
         "y": [
          0,
          0,
          0,
          0,
          0,
          0,
          0,
          0,
          0,
          0,
          0
         ],
         "yaxis": "y"
        },
        {
         "hovertext": "14.00%, 27.00 mm",
         "name": "1088789",
         "type": "scatter",
         "x": [
          0,
          1,
          2,
          3,
          4,
          5,
          6,
          7,
          8,
          9,
          10
         ],
         "xaxis": "x",
         "y": [
          0,
          0,
          0,
          0,
          0,
          0,
          0,
          0,
          0,
          0,
          0
         ],
         "yaxis": "y"
        },
        {
         "hovertext": "4.00%, 16.00 mm",
         "name": "1088790",
         "type": "scatter",
         "x": [
          0,
          1,
          2,
          3,
          4,
          5,
          6,
          7,
          8,
          9,
          10
         ],
         "xaxis": "x",
         "y": [
          0,
          0,
          0,
          0,
          0,
          0,
          0,
          0,
          0,
          0,
          0
         ],
         "yaxis": "y"
        },
        {
         "hovertext": "3.00%, 18.00 mm",
         "name": "1088791",
         "type": "scatter",
         "x": [
          0,
          1,
          2,
          3,
          4,
          5,
          6,
          7,
          8,
          9,
          10
         ],
         "xaxis": "x",
         "y": [
          0,
          0,
          0,
          0,
          0,
          0,
          0,
          0,
          0,
          0,
          0
         ],
         "yaxis": "y"
        },
        {
         "hovertext": "3.00%, 11.00 mm",
         "name": "1088792",
         "type": "scatter",
         "x": [
          0,
          1,
          2,
          3,
          4,
          5,
          6,
          7,
          8,
          9,
          10
         ],
         "xaxis": "x",
         "y": [
          0,
          0,
          0,
          0,
          0,
          0,
          0,
          0,
          0,
          0,
          0
         ],
         "yaxis": "y"
        },
        {
         "hovertext": "3.00%, 18.00 mm",
         "name": "1088794",
         "type": "scatter",
         "x": [
          0,
          1,
          2,
          3,
          4,
          5,
          6,
          7,
          8,
          9,
          10
         ],
         "xaxis": "x",
         "y": [
          0,
          0,
          0,
          0,
          0,
          0,
          0,
          0,
          0,
          0,
          0
         ],
         "yaxis": "y"
        },
        {
         "hovertext": "3.00%, 15.00 mm",
         "name": "1088795",
         "type": "scatter",
         "x": [
          0,
          1,
          2,
          3,
          4,
          5,
          6,
          7,
          8,
          9,
          10
         ],
         "xaxis": "x",
         "y": [
          0,
          0,
          0,
          0,
          0,
          0,
          0,
          0,
          0,
          0,
          0
         ],
         "yaxis": "y"
        },
        {
         "hovertext": "3.00%, 11.00 mm",
         "name": "1088796",
         "type": "scatter",
         "x": [
          0,
          1,
          2,
          3,
          4,
          5,
          6,
          7,
          8,
          9,
          10
         ],
         "xaxis": "x",
         "y": [
          0,
          0,
          0,
          0,
          0,
          0,
          0,
          0,
          0,
          0,
          0
         ],
         "yaxis": "y"
        },
        {
         "hovertext": "4.00%, 11.00 mm",
         "name": "1088797",
         "type": "scatter",
         "x": [
          0,
          1,
          2,
          3,
          4,
          5,
          6,
          7,
          8,
          9,
          10
         ],
         "xaxis": "x",
         "y": [
          0,
          0,
          0,
          0,
          0,
          0,
          0,
          0,
          0,
          0,
          0
         ],
         "yaxis": "y"
        },
        {
         "hovertext": "3.00%, 11.00 mm",
         "name": "1088798",
         "type": "scatter",
         "x": [
          0,
          1,
          2,
          3,
          4,
          5,
          6,
          7,
          8,
          9,
          10
         ],
         "xaxis": "x",
         "y": [
          0,
          0,
          0,
          0,
          0,
          0,
          0,
          0,
          0,
          0,
          0
         ],
         "yaxis": "y"
        },
        {
         "hovertext": "3.00%, 11.00 mm",
         "name": "1088799",
         "type": "scatter",
         "x": [
          0,
          1,
          2,
          3,
          4,
          5,
          6,
          7,
          8,
          9,
          10
         ],
         "xaxis": "x",
         "y": [
          0,
          0,
          0,
          0,
          0,
          0,
          0,
          0,
          0,
          0,
          0
         ],
         "yaxis": "y"
        },
        {
         "hovertext": "5.00%, 11.00 mm",
         "name": "1088800",
         "type": "scatter",
         "x": [
          0,
          1,
          2,
          3,
          4,
          5,
          6,
          7,
          8,
          9,
          10
         ],
         "xaxis": "x",
         "y": [
          0,
          0,
          0,
          0,
          0,
          0,
          0,
          0,
          0,
          0,
          0
         ],
         "yaxis": "y"
        },
        {
         "hovertext": "5.00%, 25.00 mm",
         "name": "1088801",
         "type": "scatter",
         "x": [
          0,
          1,
          2,
          3,
          4,
          5,
          6,
          7,
          8,
          9,
          10
         ],
         "xaxis": "x",
         "y": [
          0,
          0,
          0,
          0,
          0,
          0,
          0,
          0,
          0,
          0,
          0
         ],
         "yaxis": "y"
        },
        {
         "hovertext": "4.00%, 17.00 mm",
         "name": "1088802",
         "type": "scatter",
         "x": [
          0,
          1,
          2,
          3,
          4,
          5,
          6,
          7,
          8,
          9,
          10
         ],
         "xaxis": "x",
         "y": [
          0,
          0,
          0,
          0,
          0,
          0,
          0,
          0,
          0,
          0,
          0
         ],
         "yaxis": "y"
        },
        {
         "hovertext": "4.00%, 16.00 mm",
         "name": "1088803",
         "type": "scatter",
         "x": [
          0,
          1,
          2,
          3,
          4,
          5,
          6,
          7,
          8,
          9,
          10
         ],
         "xaxis": "x",
         "y": [
          0,
          0,
          0,
          0,
          0,
          0,
          0,
          0,
          0,
          0,
          0
         ],
         "yaxis": "y"
        },
        {
         "hovertext": "3.00%, 17.00 mm",
         "name": "1088804",
         "type": "scatter",
         "x": [
          0,
          1,
          2,
          3,
          4,
          5,
          6,
          7,
          8,
          9,
          10
         ],
         "xaxis": "x",
         "y": [
          0,
          0,
          0,
          0,
          0,
          0,
          0,
          0,
          0,
          0,
          0
         ],
         "yaxis": "y"
        },
        {
         "hovertext": "14.00%, 20.00 mm",
         "name": "1088805",
         "type": "scatter",
         "x": [
          0,
          1,
          2,
          3,
          4,
          5,
          6,
          7,
          8,
          9,
          10
         ],
         "xaxis": "x",
         "y": [
          0,
          0,
          0,
          0,
          0,
          0,
          0,
          0,
          0,
          0,
          0
         ],
         "yaxis": "y"
        },
        {
         "hovertext": "3.00%, 11.00 mm",
         "name": "1088806",
         "type": "scatter",
         "x": [
          0,
          1,
          2,
          3,
          4,
          5,
          6,
          7,
          8,
          9,
          10
         ],
         "xaxis": "x",
         "y": [
          0,
          0,
          0,
          0,
          0,
          0,
          0,
          0,
          0,
          0,
          0
         ],
         "yaxis": "y"
        },
        {
         "hovertext": "17.00%, 47.00 mm",
         "name": "1088808",
         "type": "scatter",
         "x": [
          0,
          1,
          2,
          3,
          4,
          5,
          6,
          7,
          8,
          9,
          10
         ],
         "xaxis": "x",
         "y": [
          0,
          0,
          0,
          0,
          0,
          0,
          0,
          0,
          0,
          0,
          0
         ],
         "yaxis": "y"
        },
        {
         "hovertext": "2.00%, 22.00 mm",
         "name": "1088809",
         "type": "scatter",
         "x": [
          0,
          1,
          2,
          3,
          4,
          5,
          6,
          7,
          8,
          9,
          10
         ],
         "xaxis": "x",
         "y": [
          0,
          0,
          0,
          0,
          0,
          0,
          0,
          0,
          0,
          0,
          0
         ],
         "yaxis": "y"
        },
        {
         "hovertext": "3.00%, 25.00 mm",
         "name": "1088810",
         "type": "scatter",
         "x": [
          0,
          1,
          2,
          3,
          4,
          5,
          6,
          7,
          8,
          9,
          10
         ],
         "xaxis": "x",
         "y": [
          0,
          0,
          0,
          0,
          0,
          0,
          0,
          0,
          0,
          0,
          0
         ],
         "yaxis": "y"
        },
        {
         "hovertext": "3.00%, 34.00 mm",
         "name": "1088811",
         "type": "scatter",
         "x": [
          0,
          1,
          2,
          3,
          4,
          5,
          6,
          7,
          8,
          9,
          10
         ],
         "xaxis": "x",
         "y": [
          0,
          0,
          0,
          0,
          0,
          0,
          0,
          0,
          0,
          0,
          0
         ],
         "yaxis": "y"
        },
        {
         "hovertext": "3.00%, 35.00 mm",
         "name": "1088812",
         "type": "scatter",
         "x": [
          0,
          1,
          2,
          3,
          4,
          5,
          6,
          7,
          8,
          9,
          10
         ],
         "xaxis": "x",
         "y": [
          0,
          0,
          0,
          0,
          0,
          0,
          0,
          0,
          0,
          0,
          0
         ],
         "yaxis": "y"
        },
        {
         "hovertext": "3.00%, 31.00 mm",
         "name": "1088813",
         "type": "scatter",
         "x": [
          0,
          1,
          2,
          3,
          4,
          5,
          6,
          7,
          8,
          9,
          10
         ],
         "xaxis": "x",
         "y": [
          0,
          0,
          0,
          0,
          0,
          0,
          0,
          0,
          0,
          0,
          0
         ],
         "yaxis": "y"
        },
        {
         "hovertext": "3.00%, 11.00 mm",
         "name": "1088815",
         "type": "scatter",
         "x": [
          0,
          1,
          2,
          3,
          4,
          5,
          6,
          7,
          8,
          9,
          10
         ],
         "xaxis": "x",
         "y": [
          0,
          0,
          0,
          0,
          0,
          0,
          0,
          0,
          0,
          0,
          0
         ],
         "yaxis": "y"
        },
        {
         "hovertext": "3.00%, 37.00 mm",
         "name": "1088816",
         "type": "scatter",
         "x": [
          0,
          1,
          2,
          3,
          4,
          5,
          6,
          7,
          8,
          9,
          10
         ],
         "xaxis": "x",
         "y": [
          0,
          0,
          0,
          0,
          0,
          0,
          0,
          0,
          0,
          0,
          0
         ],
         "yaxis": "y"
        },
        {
         "hovertext": "4.00%, 26.00 mm",
         "name": "1088817",
         "type": "scatter",
         "x": [
          0,
          1,
          2,
          3,
          4,
          5,
          6,
          7,
          8,
          9,
          10
         ],
         "xaxis": "x",
         "y": [
          0,
          0,
          0,
          0,
          0,
          0,
          0,
          0,
          0,
          0,
          0
         ],
         "yaxis": "y"
        },
        {
         "hovertext": "3.00%, 19.00 mm",
         "name": "1088818",
         "type": "scatter",
         "x": [
          0,
          1,
          2,
          3,
          4,
          5,
          6,
          7,
          8,
          9,
          10
         ],
         "xaxis": "x",
         "y": [
          0,
          0,
          0,
          0,
          0,
          0,
          0,
          0,
          0,
          0,
          0
         ],
         "yaxis": "y"
        },
        {
         "hovertext": "3.00%, 11.00 mm",
         "name": "1088819",
         "type": "scatter",
         "x": [
          0,
          1,
          2,
          3,
          4,
          5,
          6,
          7,
          8,
          9,
          10
         ],
         "xaxis": "x",
         "y": [
          0,
          0,
          0,
          0,
          0,
          0,
          0,
          0,
          0,
          0,
          0
         ],
         "yaxis": "y"
        },
        {
         "hovertext": "13.00%, 33.00 mm",
         "name": "1088820",
         "type": "scatter",
         "x": [
          0,
          1,
          2,
          3,
          4,
          5,
          6,
          7,
          8,
          9,
          10
         ],
         "xaxis": "x",
         "y": [
          0,
          0,
          0,
          0,
          0,
          0,
          0,
          0,
          0,
          0,
          0
         ],
         "yaxis": "y"
        },
        {
         "hovertext": "3.00%, 11.00 mm",
         "name": "1088754",
         "type": "scatter",
         "x": [
          0,
          1,
          2,
          3,
          4,
          5,
          6,
          7,
          8,
          9,
          10
         ],
         "xaxis": "x2",
         "y": [
          0,
          0,
          0,
          0,
          0,
          0,
          0,
          0,
          0,
          0,
          0
         ],
         "yaxis": "y2"
        },
        {
         "hovertext": "4.00%, 11.00 mm",
         "name": "1088755",
         "type": "scatter",
         "x": [
          0,
          1,
          2,
          3,
          4,
          5,
          6,
          7,
          8,
          9,
          10
         ],
         "xaxis": "x2",
         "y": [
          0,
          0,
          0,
          0,
          0,
          0,
          0,
          0,
          0,
          0,
          0
         ],
         "yaxis": "y2"
        },
        {
         "hovertext": "3.00%, 12.00 mm",
         "name": "1088756",
         "type": "scatter",
         "x": [
          0,
          1,
          2,
          3,
          4,
          5,
          6,
          7,
          8,
          9,
          10
         ],
         "xaxis": "x2",
         "y": [
          0,
          0,
          0,
          0,
          0,
          0,
          0,
          0,
          0,
          0,
          0
         ],
         "yaxis": "y2"
        },
        {
         "hovertext": "3.00%, 20.00 mm",
         "name": "1088757",
         "type": "scatter",
         "x": [
          0,
          1,
          2,
          3,
          4,
          5,
          6,
          7,
          8,
          9,
          10
         ],
         "xaxis": "x2",
         "y": [
          0,
          0,
          0,
          0,
          0,
          0,
          0,
          0,
          0,
          0,
          0
         ],
         "yaxis": "y2"
        },
        {
         "hovertext": "4.00%, 12.00 mm",
         "name": "1088758",
         "type": "scatter",
         "x": [
          0,
          1,
          2,
          3,
          4,
          5,
          6,
          7,
          8,
          9,
          10
         ],
         "xaxis": "x2",
         "y": [
          0,
          0,
          0,
          0,
          0,
          0,
          0,
          0,
          0,
          0,
          0
         ],
         "yaxis": "y2"
        },
        {
         "hovertext": "13.00%, 21.00 mm",
         "name": "1088759",
         "type": "scatter",
         "x": [
          0,
          1,
          2,
          3,
          4,
          5,
          6,
          7,
          8,
          9,
          10
         ],
         "xaxis": "x2",
         "y": [
          0,
          0,
          0,
          0,
          0,
          0,
          0,
          0,
          0,
          0,
          0
         ],
         "yaxis": "y2"
        },
        {
         "hovertext": "5.00%, 22.00 mm",
         "name": "1088760",
         "type": "scatter",
         "x": [
          0,
          1,
          2,
          3,
          4,
          5,
          6,
          7,
          8,
          9,
          10
         ],
         "xaxis": "x2",
         "y": [
          0,
          0,
          0,
          0,
          0,
          0,
          0,
          0,
          0,
          0,
          0
         ],
         "yaxis": "y2"
        },
        {
         "hovertext": "5.00%, 33.00 mm",
         "name": "1088761",
         "type": "scatter",
         "x": [
          0,
          1,
          2,
          3,
          4,
          5,
          6,
          7,
          8,
          9,
          10
         ],
         "xaxis": "x2",
         "y": [
          0,
          0,
          0,
          0,
          0,
          0,
          0,
          0,
          0,
          0,
          0
         ],
         "yaxis": "y2"
        },
        {
         "hovertext": "3.00%, 40.00 mm",
         "name": "1088762",
         "type": "scatter",
         "x": [
          0,
          1,
          2,
          3,
          4,
          5,
          6,
          7,
          8,
          9,
          10
         ],
         "xaxis": "x2",
         "y": [
          0,
          0,
          0,
          0,
          0,
          0,
          0,
          0,
          0,
          0,
          0
         ],
         "yaxis": "y2"
        },
        {
         "hovertext": "3.00%, 23.00 mm",
         "name": "1088763",
         "type": "scatter",
         "x": [
          0,
          1,
          2,
          3,
          4,
          5,
          6,
          7,
          8,
          9,
          10
         ],
         "xaxis": "x2",
         "y": [
          0,
          0,
          0,
          0,
          0,
          0,
          0,
          0,
          0,
          0,
          0
         ],
         "yaxis": "y2"
        },
        {
         "hovertext": "3.00%, 13.00 mm",
         "name": "1088764",
         "type": "scatter",
         "x": [
          0,
          1,
          2,
          3,
          4,
          5,
          6,
          7,
          8,
          9,
          10
         ],
         "xaxis": "x2",
         "y": [
          0,
          0,
          0,
          0,
          0,
          0,
          0,
          0,
          0,
          0,
          0
         ],
         "yaxis": "y2"
        },
        {
         "hovertext": "3.00%, 12.00 mm",
         "name": "1088765",
         "type": "scatter",
         "x": [
          0,
          1,
          2,
          3,
          4,
          5,
          6,
          7,
          8,
          9,
          10
         ],
         "xaxis": "x2",
         "y": [
          0,
          0,
          0,
          0,
          0,
          0,
          0,
          0,
          0,
          0,
          0
         ],
         "yaxis": "y2"
        },
        {
         "hovertext": "3.00%, 22.00 mm",
         "name": "1088766",
         "type": "scatter",
         "x": [
          0,
          1,
          2,
          3,
          4,
          5,
          6,
          7,
          8,
          9,
          10
         ],
         "xaxis": "x2",
         "y": [
          0,
          0,
          0,
          0,
          0,
          0,
          0,
          0,
          0,
          0,
          0
         ],
         "yaxis": "y2"
        },
        {
         "hovertext": "3.00%, 19.00 mm",
         "name": "1088767",
         "type": "scatter",
         "x": [
          0,
          1,
          2,
          3,
          4,
          5,
          6,
          7,
          8,
          9,
          10
         ],
         "xaxis": "x2",
         "y": [
          0,
          0,
          0,
          0,
          0,
          0,
          0,
          0,
          0,
          0,
          0
         ],
         "yaxis": "y2"
        },
        {
         "hovertext": "3.00%, 31.00 mm",
         "name": "1088768",
         "type": "scatter",
         "x": [
          0,
          1,
          2,
          3,
          4,
          5,
          6,
          7,
          8,
          9,
          10
         ],
         "xaxis": "x2",
         "y": [
          0,
          0,
          0,
          0,
          0,
          0,
          0,
          0,
          0,
          0,
          0
         ],
         "yaxis": "y2"
        },
        {
         "hovertext": "4.00%, 40.00 mm",
         "name": "1088769",
         "type": "scatter",
         "x": [
          0,
          1,
          2,
          3,
          4,
          5,
          6,
          7,
          8,
          9,
          10
         ],
         "xaxis": "x2",
         "y": [
          0,
          0,
          0,
          0,
          0,
          0,
          0,
          0,
          0,
          0,
          0
         ],
         "yaxis": "y2"
        },
        {
         "hovertext": "3.00%, 21.00 mm",
         "name": "1088770",
         "type": "scatter",
         "x": [
          0,
          1,
          2,
          3,
          4,
          5,
          6,
          7,
          8,
          9,
          10
         ],
         "xaxis": "x2",
         "y": [
          0,
          0,
          0,
          0,
          0,
          0,
          0,
          0,
          0,
          0,
          0
         ],
         "yaxis": "y2"
        },
        {
         "hovertext": "3.00%, 12.00 mm",
         "name": "1088771",
         "type": "scatter",
         "x": [
          0,
          1,
          2,
          3,
          4,
          5,
          6,
          7,
          8,
          9,
          10
         ],
         "xaxis": "x2",
         "y": [
          0,
          0,
          0,
          0,
          0,
          0,
          0,
          0,
          0,
          0,
          0
         ],
         "yaxis": "y2"
        },
        {
         "hovertext": "5.00%, 45.00 mm",
         "name": "1088772",
         "type": "scatter",
         "x": [
          0,
          1,
          2,
          3,
          4,
          5,
          6,
          7,
          8,
          9,
          10
         ],
         "xaxis": "x2",
         "y": [
          0,
          0,
          0,
          0,
          0,
          0,
          0,
          0,
          0,
          0,
          0
         ],
         "yaxis": "y2"
        },
        {
         "hovertext": "5.00%, 60.00 mm",
         "name": "1088773",
         "type": "scatter",
         "x": [
          0,
          1,
          2,
          3,
          4,
          5,
          6,
          7,
          8,
          9,
          10
         ],
         "xaxis": "x2",
         "y": [
          0,
          0,
          0,
          0,
          0,
          0,
          0,
          0,
          0,
          0,
          0
         ],
         "yaxis": "y2"
        },
        {
         "hovertext": "3.00%, 16.00 mm",
         "name": "1088774",
         "type": "scatter",
         "x": [
          0,
          1,
          2,
          3,
          4,
          5,
          6,
          7,
          8,
          9,
          10
         ],
         "xaxis": "x2",
         "y": [
          0,
          0,
          0,
          0,
          0,
          0,
          0,
          0,
          0,
          0,
          0
         ],
         "yaxis": "y2"
        },
        {
         "hovertext": "5.00%, 59.00 mm",
         "name": "1088775",
         "type": "scatter",
         "x": [
          0,
          1,
          2,
          3,
          4,
          5,
          6,
          7,
          8,
          9,
          10
         ],
         "xaxis": "x2",
         "y": [
          0,
          0,
          0,
          0,
          0,
          0,
          0,
          0,
          0,
          0,
          0
         ],
         "yaxis": "y2"
        },
        {
         "hovertext": "4.00%, 16.00 mm",
         "name": "1088776",
         "type": "scatter",
         "x": [
          0,
          1,
          2,
          3,
          4,
          5,
          6,
          7,
          8,
          9,
          10
         ],
         "xaxis": "x2",
         "y": [
          0,
          0,
          0,
          0,
          0,
          0,
          0,
          0,
          0,
          0,
          0
         ],
         "yaxis": "y2"
        },
        {
         "hovertext": "4.00%, 12.00 mm",
         "name": "1088777",
         "type": "scatter",
         "x": [
          0,
          1,
          2,
          3,
          4,
          5,
          6,
          7,
          8,
          9,
          10
         ],
         "xaxis": "x2",
         "y": [
          0,
          0,
          0,
          0,
          0,
          0,
          0,
          0,
          0,
          0,
          0
         ],
         "yaxis": "y2"
        },
        {
         "hovertext": "3.00%, 27.00 mm",
         "name": "1088778",
         "type": "scatter",
         "x": [
          0,
          1,
          2,
          3,
          4,
          5,
          6,
          7,
          8,
          9,
          10
         ],
         "xaxis": "x2",
         "y": [
          0,
          0,
          0,
          0,
          0,
          0,
          0,
          0,
          0,
          0,
          0
         ],
         "yaxis": "y2"
        },
        {
         "hovertext": "4.00%, 12.00 mm",
         "name": "1088779",
         "type": "scatter",
         "x": [
          0,
          1,
          2,
          3,
          4,
          5,
          6,
          7,
          8,
          9,
          10
         ],
         "xaxis": "x2",
         "y": [
          0,
          0,
          0,
          0,
          0,
          0,
          0,
          0,
          0,
          0,
          0
         ],
         "yaxis": "y2"
        },
        {
         "hovertext": "4.00%, 17.00 mm",
         "name": "1088780",
         "type": "scatter",
         "x": [
          0,
          1,
          2,
          3,
          4,
          5,
          6,
          7,
          8,
          9,
          10
         ],
         "xaxis": "x2",
         "y": [
          0,
          0,
          0,
          0,
          0,
          0,
          0,
          0,
          0,
          0,
          0
         ],
         "yaxis": "y2"
        },
        {
         "hovertext": "3.00%, 12.00 mm",
         "name": "1088781",
         "type": "scatter",
         "x": [
          0,
          1,
          2,
          3,
          4,
          5,
          6,
          7,
          8,
          9,
          10
         ],
         "xaxis": "x2",
         "y": [
          0,
          0,
          0,
          0,
          0,
          0,
          0,
          0,
          0,
          0,
          0
         ],
         "yaxis": "y2"
        },
        {
         "hovertext": "4.00%, 12.00 mm",
         "name": "1088782",
         "type": "scatter",
         "x": [
          0,
          1,
          2,
          3,
          4,
          5,
          6,
          7,
          8,
          9,
          10
         ],
         "xaxis": "x2",
         "y": [
          0,
          0,
          0,
          0,
          0,
          0,
          0,
          0,
          0,
          0,
          0
         ],
         "yaxis": "y2"
        },
        {
         "hovertext": "3.00%, 24.00 mm",
         "name": "1088783",
         "type": "scatter",
         "x": [
          0,
          1,
          2,
          3,
          4,
          5,
          6,
          7,
          8,
          9,
          10
         ],
         "xaxis": "x2",
         "y": [
          0,
          0,
          0,
          0,
          0,
          0,
          0,
          0,
          0,
          0,
          0
         ],
         "yaxis": "y2"
        },
        {
         "hovertext": "5.00%, 72.00 mm",
         "name": "1088784",
         "type": "scatter",
         "x": [
          0,
          1,
          2,
          3,
          4,
          5,
          6,
          7,
          8,
          9,
          10
         ],
         "xaxis": "x2",
         "y": [
          0,
          0,
          0,
          0,
          0,
          0,
          0,
          0,
          0,
          0,
          0
         ],
         "yaxis": "y2"
        },
        {
         "hovertext": "10.00%, 40.00 mm",
         "name": "1088785",
         "type": "scatter",
         "x": [
          0,
          1,
          2,
          3,
          4,
          5,
          6,
          7,
          8,
          9,
          10
         ],
         "xaxis": "x2",
         "y": [
          0,
          0,
          0,
          0,
          0,
          0,
          0,
          0,
          0,
          0,
          0
         ],
         "yaxis": "y2"
        },
        {
         "hovertext": "7.00%, 23.00 mm",
         "name": "1088786",
         "type": "scatter",
         "x": [
          0,
          1,
          2,
          3,
          4,
          5,
          6,
          7,
          8,
          9,
          10
         ],
         "xaxis": "x2",
         "y": [
          0,
          0,
          0,
          0,
          0,
          0,
          0,
          0,
          0,
          0,
          0
         ],
         "yaxis": "y2"
        },
        {
         "hovertext": "3.00%, 25.00 mm",
         "name": "1088787",
         "type": "scatter",
         "x": [
          0,
          1,
          2,
          3,
          4,
          5,
          6,
          7,
          8,
          9,
          10
         ],
         "xaxis": "x2",
         "y": [
          0,
          0,
          0,
          0,
          0,
          0,
          0,
          0,
          0,
          0,
          0
         ],
         "yaxis": "y2"
        },
        {
         "hovertext": "4.00%, 67.00 mm",
         "name": "1088788",
         "type": "scatter",
         "x": [
          0,
          1,
          2,
          3,
          4,
          5,
          6,
          7,
          8,
          9,
          10
         ],
         "xaxis": "x2",
         "y": [
          0,
          0,
          0,
          0,
          0,
          0,
          0,
          0,
          0,
          0,
          0
         ],
         "yaxis": "y2"
        },
        {
         "hovertext": "14.00%, 27.00 mm",
         "name": "1088789",
         "type": "scatter",
         "x": [
          0,
          1,
          2,
          3,
          4,
          5,
          6,
          7,
          8,
          9,
          10
         ],
         "xaxis": "x2",
         "y": [
          0,
          0,
          0,
          0,
          0,
          0,
          0,
          0,
          0,
          0,
          0
         ],
         "yaxis": "y2"
        },
        {
         "hovertext": "4.00%, 16.00 mm",
         "name": "1088790",
         "type": "scatter",
         "x": [
          0,
          1,
          2,
          3,
          4,
          5,
          6,
          7,
          8,
          9,
          10
         ],
         "xaxis": "x2",
         "y": [
          0,
          0,
          0,
          0,
          0,
          0,
          0,
          0,
          0,
          0,
          0
         ],
         "yaxis": "y2"
        },
        {
         "hovertext": "3.00%, 18.00 mm",
         "name": "1088791",
         "type": "scatter",
         "x": [
          0,
          1,
          2,
          3,
          4,
          5,
          6,
          7,
          8,
          9,
          10
         ],
         "xaxis": "x2",
         "y": [
          0,
          0,
          0,
          0,
          0,
          0,
          0,
          0,
          0,
          0,
          0
         ],
         "yaxis": "y2"
        },
        {
         "hovertext": "3.00%, 11.00 mm",
         "name": "1088792",
         "type": "scatter",
         "x": [
          0,
          1,
          2,
          3,
          4,
          5,
          6,
          7,
          8,
          9,
          10
         ],
         "xaxis": "x2",
         "y": [
          0,
          0,
          0,
          0,
          0,
          0,
          0,
          0,
          0,
          0,
          0
         ],
         "yaxis": "y2"
        },
        {
         "hovertext": "3.00%, 18.00 mm",
         "name": "1088794",
         "type": "scatter",
         "x": [
          0,
          1,
          2,
          3,
          4,
          5,
          6,
          7,
          8,
          9,
          10
         ],
         "xaxis": "x2",
         "y": [
          0,
          0,
          0,
          0,
          0,
          0,
          0,
          0,
          0,
          0,
          0
         ],
         "yaxis": "y2"
        },
        {
         "hovertext": "3.00%, 15.00 mm",
         "name": "1088795",
         "type": "scatter",
         "x": [
          0,
          1,
          2,
          3,
          4,
          5,
          6,
          7,
          8,
          9,
          10
         ],
         "xaxis": "x2",
         "y": [
          0,
          0,
          0,
          0,
          0,
          0,
          0,
          0,
          0,
          0,
          0
         ],
         "yaxis": "y2"
        },
        {
         "hovertext": "3.00%, 11.00 mm",
         "name": "1088796",
         "type": "scatter",
         "x": [
          0,
          1,
          2,
          3,
          4,
          5,
          6,
          7,
          8,
          9,
          10
         ],
         "xaxis": "x2",
         "y": [
          0,
          0,
          0,
          0,
          0,
          0,
          0,
          0,
          0,
          0,
          0
         ],
         "yaxis": "y2"
        },
        {
         "hovertext": "4.00%, 11.00 mm",
         "name": "1088797",
         "type": "scatter",
         "x": [
          0,
          1,
          2,
          3,
          4,
          5,
          6,
          7,
          8,
          9,
          10
         ],
         "xaxis": "x2",
         "y": [
          0,
          0,
          0,
          0,
          0,
          0,
          0,
          0,
          0,
          0,
          0
         ],
         "yaxis": "y2"
        },
        {
         "hovertext": "3.00%, 11.00 mm",
         "name": "1088798",
         "type": "scatter",
         "x": [
          0,
          1,
          2,
          3,
          4,
          5,
          6,
          7,
          8,
          9,
          10
         ],
         "xaxis": "x2",
         "y": [
          0,
          0,
          0,
          0,
          0,
          0,
          0,
          0,
          0,
          0,
          0
         ],
         "yaxis": "y2"
        },
        {
         "hovertext": "3.00%, 11.00 mm",
         "name": "1088799",
         "type": "scatter",
         "x": [
          0,
          1,
          2,
          3,
          4,
          5,
          6,
          7,
          8,
          9,
          10
         ],
         "xaxis": "x2",
         "y": [
          0,
          0,
          0,
          0,
          0,
          0,
          0,
          0,
          0,
          0,
          0
         ],
         "yaxis": "y2"
        },
        {
         "hovertext": "5.00%, 11.00 mm",
         "name": "1088800",
         "type": "scatter",
         "x": [
          0,
          1,
          2,
          3,
          4,
          5,
          6,
          7,
          8,
          9,
          10
         ],
         "xaxis": "x2",
         "y": [
          0,
          0,
          0,
          0,
          0,
          0,
          0,
          0,
          0,
          0,
          0
         ],
         "yaxis": "y2"
        },
        {
         "hovertext": "5.00%, 25.00 mm",
         "name": "1088801",
         "type": "scatter",
         "x": [
          0,
          1,
          2,
          3,
          4,
          5,
          6,
          7,
          8,
          9,
          10
         ],
         "xaxis": "x2",
         "y": [
          0,
          0,
          0,
          0,
          0,
          0,
          0,
          0,
          0,
          0,
          0
         ],
         "yaxis": "y2"
        },
        {
         "hovertext": "4.00%, 17.00 mm",
         "name": "1088802",
         "type": "scatter",
         "x": [
          0,
          1,
          2,
          3,
          4,
          5,
          6,
          7,
          8,
          9,
          10
         ],
         "xaxis": "x2",
         "y": [
          0,
          0,
          0,
          0,
          0,
          0,
          0,
          0,
          0,
          0,
          0
         ],
         "yaxis": "y2"
        },
        {
         "hovertext": "4.00%, 16.00 mm",
         "name": "1088803",
         "type": "scatter",
         "x": [
          0,
          1,
          2,
          3,
          4,
          5,
          6,
          7,
          8,
          9,
          10
         ],
         "xaxis": "x2",
         "y": [
          0,
          0,
          0,
          0,
          0,
          0,
          0,
          0,
          0,
          0,
          0
         ],
         "yaxis": "y2"
        },
        {
         "hovertext": "3.00%, 17.00 mm",
         "name": "1088804",
         "type": "scatter",
         "x": [
          0,
          1,
          2,
          3,
          4,
          5,
          6,
          7,
          8,
          9,
          10
         ],
         "xaxis": "x2",
         "y": [
          0,
          0,
          0,
          0,
          0,
          0,
          0,
          0,
          0,
          0,
          0
         ],
         "yaxis": "y2"
        },
        {
         "hovertext": "14.00%, 20.00 mm",
         "name": "1088805",
         "type": "scatter",
         "x": [
          0,
          1,
          2,
          3,
          4,
          5,
          6,
          7,
          8,
          9,
          10
         ],
         "xaxis": "x2",
         "y": [
          0,
          0,
          0,
          0,
          0,
          0,
          0,
          0,
          0,
          0,
          0
         ],
         "yaxis": "y2"
        },
        {
         "hovertext": "3.00%, 11.00 mm",
         "name": "1088806",
         "type": "scatter",
         "x": [
          0,
          1,
          2,
          3,
          4,
          5,
          6,
          7,
          8,
          9,
          10
         ],
         "xaxis": "x2",
         "y": [
          0,
          0,
          0,
          0,
          0,
          0,
          0,
          0,
          0,
          0,
          0
         ],
         "yaxis": "y2"
        },
        {
         "hovertext": "17.00%, 47.00 mm",
         "name": "1088808",
         "type": "scatter",
         "x": [
          0,
          1,
          2,
          3,
          4,
          5,
          6,
          7,
          8,
          9,
          10
         ],
         "xaxis": "x2",
         "y": [
          0,
          0,
          0,
          0,
          0,
          0,
          0,
          0,
          0,
          0,
          0
         ],
         "yaxis": "y2"
        },
        {
         "hovertext": "2.00%, 22.00 mm",
         "name": "1088809",
         "type": "scatter",
         "x": [
          0,
          1,
          2,
          3,
          4,
          5,
          6,
          7,
          8,
          9,
          10
         ],
         "xaxis": "x2",
         "y": [
          0,
          0,
          0,
          0,
          0,
          0,
          0,
          0,
          0,
          0,
          0
         ],
         "yaxis": "y2"
        },
        {
         "hovertext": "3.00%, 25.00 mm",
         "name": "1088810",
         "type": "scatter",
         "x": [
          0,
          1,
          2,
          3,
          4,
          5,
          6,
          7,
          8,
          9,
          10
         ],
         "xaxis": "x2",
         "y": [
          0,
          0,
          0,
          0,
          0,
          0,
          0,
          0,
          0,
          0,
          0
         ],
         "yaxis": "y2"
        },
        {
         "hovertext": "3.00%, 34.00 mm",
         "name": "1088811",
         "type": "scatter",
         "x": [
          0,
          1,
          2,
          3,
          4,
          5,
          6,
          7,
          8,
          9,
          10
         ],
         "xaxis": "x2",
         "y": [
          0,
          0,
          0,
          0,
          0,
          0,
          0,
          0,
          0,
          0,
          0
         ],
         "yaxis": "y2"
        },
        {
         "hovertext": "3.00%, 35.00 mm",
         "name": "1088812",
         "type": "scatter",
         "x": [
          0,
          1,
          2,
          3,
          4,
          5,
          6,
          7,
          8,
          9,
          10
         ],
         "xaxis": "x2",
         "y": [
          0,
          0,
          0,
          0,
          0,
          0,
          0,
          0,
          0,
          0,
          0
         ],
         "yaxis": "y2"
        },
        {
         "hovertext": "3.00%, 31.00 mm",
         "name": "1088813",
         "type": "scatter",
         "x": [
          0,
          1,
          2,
          3,
          4,
          5,
          6,
          7,
          8,
          9,
          10
         ],
         "xaxis": "x2",
         "y": [
          0,
          0,
          0,
          0,
          0,
          0,
          0,
          0,
          0,
          0,
          0
         ],
         "yaxis": "y2"
        },
        {
         "hovertext": "3.00%, 11.00 mm",
         "name": "1088815",
         "type": "scatter",
         "x": [
          0,
          1,
          2,
          3,
          4,
          5,
          6,
          7,
          8,
          9,
          10
         ],
         "xaxis": "x2",
         "y": [
          0,
          0,
          0,
          0,
          0,
          0,
          0,
          0,
          0,
          0,
          0
         ],
         "yaxis": "y2"
        },
        {
         "hovertext": "3.00%, 37.00 mm",
         "name": "1088816",
         "type": "scatter",
         "x": [
          0,
          1,
          2,
          3,
          4,
          5,
          6,
          7,
          8,
          9,
          10
         ],
         "xaxis": "x2",
         "y": [
          0,
          0,
          0,
          0,
          0,
          0,
          0,
          0,
          0,
          0,
          0
         ],
         "yaxis": "y2"
        },
        {
         "hovertext": "4.00%, 26.00 mm",
         "name": "1088817",
         "type": "scatter",
         "x": [
          0,
          1,
          2,
          3,
          4,
          5,
          6,
          7,
          8,
          9,
          10
         ],
         "xaxis": "x2",
         "y": [
          0,
          0,
          0,
          0,
          0,
          0,
          0,
          0,
          0,
          0,
          0
         ],
         "yaxis": "y2"
        },
        {
         "hovertext": "3.00%, 19.00 mm",
         "name": "1088818",
         "type": "scatter",
         "x": [
          0,
          1,
          2,
          3,
          4,
          5,
          6,
          7,
          8,
          9,
          10
         ],
         "xaxis": "x2",
         "y": [
          0,
          0,
          0,
          0,
          0,
          0,
          0,
          0,
          0,
          0,
          0
         ],
         "yaxis": "y2"
        },
        {
         "hovertext": "3.00%, 11.00 mm",
         "name": "1088819",
         "type": "scatter",
         "x": [
          0,
          1,
          2,
          3,
          4,
          5,
          6,
          7,
          8,
          9,
          10
         ],
         "xaxis": "x2",
         "y": [
          0,
          0,
          0,
          0,
          0,
          0,
          0,
          0,
          0,
          0,
          0
         ],
         "yaxis": "y2"
        },
        {
         "hovertext": "13.00%, 33.00 mm",
         "name": "1088820",
         "type": "scatter",
         "x": [
          0,
          1,
          2,
          3,
          4,
          5,
          6,
          7,
          8,
          9,
          10
         ],
         "xaxis": "x2",
         "y": [
          0,
          0,
          0,
          0,
          0,
          0,
          0,
          0,
          0,
          0,
          0
         ],
         "yaxis": "y2"
        }
       ],
       "layout": {
        "annotations": [
         {
          "font": {
           "size": 16
          },
          "showarrow": false,
          "text": "LEAK mode",
          "x": 0.5,
          "xanchor": "center",
          "xref": "paper",
          "y": 1,
          "yanchor": "bottom",
          "yref": "paper"
         },
         {
          "font": {
           "size": 16
          },
          "showarrow": false,
          "text": "RUPTURE mode",
          "x": 0.5,
          "xanchor": "center",
          "xref": "paper",
          "y": 0.475,
          "yanchor": "bottom",
          "yref": "paper"
         }
        ],
        "height": 750,
        "margin": {
         "b": 20,
         "l": 20,
         "r": 100,
         "t": 100
        },
        "template": {
         "data": {
          "bar": [
           {
            "error_x": {
             "color": "#2a3f5f"
            },
            "error_y": {
             "color": "#2a3f5f"
            },
            "marker": {
             "line": {
              "color": "#E5ECF6",
              "width": 0.5
             }
            },
            "type": "bar"
           }
          ],
          "barpolar": [
           {
            "marker": {
             "line": {
              "color": "#E5ECF6",
              "width": 0.5
             }
            },
            "type": "barpolar"
           }
          ],
          "carpet": [
           {
            "aaxis": {
             "endlinecolor": "#2a3f5f",
             "gridcolor": "white",
             "linecolor": "white",
             "minorgridcolor": "white",
             "startlinecolor": "#2a3f5f"
            },
            "baxis": {
             "endlinecolor": "#2a3f5f",
             "gridcolor": "white",
             "linecolor": "white",
             "minorgridcolor": "white",
             "startlinecolor": "#2a3f5f"
            },
            "type": "carpet"
           }
          ],
          "choropleth": [
           {
            "colorbar": {
             "outlinewidth": 0,
             "ticks": ""
            },
            "type": "choropleth"
           }
          ],
          "contour": [
           {
            "colorbar": {
             "outlinewidth": 0,
             "ticks": ""
            },
            "colorscale": [
             [
              0,
              "#0d0887"
             ],
             [
              0.1111111111111111,
              "#46039f"
             ],
             [
              0.2222222222222222,
              "#7201a8"
             ],
             [
              0.3333333333333333,
              "#9c179e"
             ],
             [
              0.4444444444444444,
              "#bd3786"
             ],
             [
              0.5555555555555556,
              "#d8576b"
             ],
             [
              0.6666666666666666,
              "#ed7953"
             ],
             [
              0.7777777777777778,
              "#fb9f3a"
             ],
             [
              0.8888888888888888,
              "#fdca26"
             ],
             [
              1,
              "#f0f921"
             ]
            ],
            "type": "contour"
           }
          ],
          "contourcarpet": [
           {
            "colorbar": {
             "outlinewidth": 0,
             "ticks": ""
            },
            "type": "contourcarpet"
           }
          ],
          "heatmap": [
           {
            "colorbar": {
             "outlinewidth": 0,
             "ticks": ""
            },
            "colorscale": [
             [
              0,
              "#0d0887"
             ],
             [
              0.1111111111111111,
              "#46039f"
             ],
             [
              0.2222222222222222,
              "#7201a8"
             ],
             [
              0.3333333333333333,
              "#9c179e"
             ],
             [
              0.4444444444444444,
              "#bd3786"
             ],
             [
              0.5555555555555556,
              "#d8576b"
             ],
             [
              0.6666666666666666,
              "#ed7953"
             ],
             [
              0.7777777777777778,
              "#fb9f3a"
             ],
             [
              0.8888888888888888,
              "#fdca26"
             ],
             [
              1,
              "#f0f921"
             ]
            ],
            "type": "heatmap"
           }
          ],
          "heatmapgl": [
           {
            "colorbar": {
             "outlinewidth": 0,
             "ticks": ""
            },
            "colorscale": [
             [
              0,
              "#0d0887"
             ],
             [
              0.1111111111111111,
              "#46039f"
             ],
             [
              0.2222222222222222,
              "#7201a8"
             ],
             [
              0.3333333333333333,
              "#9c179e"
             ],
             [
              0.4444444444444444,
              "#bd3786"
             ],
             [
              0.5555555555555556,
              "#d8576b"
             ],
             [
              0.6666666666666666,
              "#ed7953"
             ],
             [
              0.7777777777777778,
              "#fb9f3a"
             ],
             [
              0.8888888888888888,
              "#fdca26"
             ],
             [
              1,
              "#f0f921"
             ]
            ],
            "type": "heatmapgl"
           }
          ],
          "histogram": [
           {
            "marker": {
             "colorbar": {
              "outlinewidth": 0,
              "ticks": ""
             }
            },
            "type": "histogram"
           }
          ],
          "histogram2d": [
           {
            "colorbar": {
             "outlinewidth": 0,
             "ticks": ""
            },
            "colorscale": [
             [
              0,
              "#0d0887"
             ],
             [
              0.1111111111111111,
              "#46039f"
             ],
             [
              0.2222222222222222,
              "#7201a8"
             ],
             [
              0.3333333333333333,
              "#9c179e"
             ],
             [
              0.4444444444444444,
              "#bd3786"
             ],
             [
              0.5555555555555556,
              "#d8576b"
             ],
             [
              0.6666666666666666,
              "#ed7953"
             ],
             [
              0.7777777777777778,
              "#fb9f3a"
             ],
             [
              0.8888888888888888,
              "#fdca26"
             ],
             [
              1,
              "#f0f921"
             ]
            ],
            "type": "histogram2d"
           }
          ],
          "histogram2dcontour": [
           {
            "colorbar": {
             "outlinewidth": 0,
             "ticks": ""
            },
            "colorscale": [
             [
              0,
              "#0d0887"
             ],
             [
              0.1111111111111111,
              "#46039f"
             ],
             [
              0.2222222222222222,
              "#7201a8"
             ],
             [
              0.3333333333333333,
              "#9c179e"
             ],
             [
              0.4444444444444444,
              "#bd3786"
             ],
             [
              0.5555555555555556,
              "#d8576b"
             ],
             [
              0.6666666666666666,
              "#ed7953"
             ],
             [
              0.7777777777777778,
              "#fb9f3a"
             ],
             [
              0.8888888888888888,
              "#fdca26"
             ],
             [
              1,
              "#f0f921"
             ]
            ],
            "type": "histogram2dcontour"
           }
          ],
          "mesh3d": [
           {
            "colorbar": {
             "outlinewidth": 0,
             "ticks": ""
            },
            "type": "mesh3d"
           }
          ],
          "parcoords": [
           {
            "line": {
             "colorbar": {
              "outlinewidth": 0,
              "ticks": ""
             }
            },
            "type": "parcoords"
           }
          ],
          "scatter": [
           {
            "marker": {
             "colorbar": {
              "outlinewidth": 0,
              "ticks": ""
             }
            },
            "type": "scatter"
           }
          ],
          "scatter3d": [
           {
            "line": {
             "colorbar": {
              "outlinewidth": 0,
              "ticks": ""
             }
            },
            "marker": {
             "colorbar": {
              "outlinewidth": 0,
              "ticks": ""
             }
            },
            "type": "scatter3d"
           }
          ],
          "scattercarpet": [
           {
            "marker": {
             "colorbar": {
              "outlinewidth": 0,
              "ticks": ""
             }
            },
            "type": "scattercarpet"
           }
          ],
          "scattergeo": [
           {
            "marker": {
             "colorbar": {
              "outlinewidth": 0,
              "ticks": ""
             }
            },
            "type": "scattergeo"
           }
          ],
          "scattergl": [
           {
            "marker": {
             "colorbar": {
              "outlinewidth": 0,
              "ticks": ""
             }
            },
            "type": "scattergl"
           }
          ],
          "scattermapbox": [
           {
            "marker": {
             "colorbar": {
              "outlinewidth": 0,
              "ticks": ""
             }
            },
            "type": "scattermapbox"
           }
          ],
          "scatterpolar": [
           {
            "marker": {
             "colorbar": {
              "outlinewidth": 0,
              "ticks": ""
             }
            },
            "type": "scatterpolar"
           }
          ],
          "scatterpolargl": [
           {
            "marker": {
             "colorbar": {
              "outlinewidth": 0,
              "ticks": ""
             }
            },
            "type": "scatterpolargl"
           }
          ],
          "scatterternary": [
           {
            "marker": {
             "colorbar": {
              "outlinewidth": 0,
              "ticks": ""
             }
            },
            "type": "scatterternary"
           }
          ],
          "surface": [
           {
            "colorbar": {
             "outlinewidth": 0,
             "ticks": ""
            },
            "colorscale": [
             [
              0,
              "#0d0887"
             ],
             [
              0.1111111111111111,
              "#46039f"
             ],
             [
              0.2222222222222222,
              "#7201a8"
             ],
             [
              0.3333333333333333,
              "#9c179e"
             ],
             [
              0.4444444444444444,
              "#bd3786"
             ],
             [
              0.5555555555555556,
              "#d8576b"
             ],
             [
              0.6666666666666666,
              "#ed7953"
             ],
             [
              0.7777777777777778,
              "#fb9f3a"
             ],
             [
              0.8888888888888888,
              "#fdca26"
             ],
             [
              1,
              "#f0f921"
             ]
            ],
            "type": "surface"
           }
          ],
          "table": [
           {
            "cells": {
             "fill": {
              "color": "#EBF0F8"
             },
             "line": {
              "color": "white"
             }
            },
            "header": {
             "fill": {
              "color": "#C8D4E3"
             },
             "line": {
              "color": "white"
             }
            },
            "type": "table"
           }
          ]
         },
         "layout": {
          "annotationdefaults": {
           "arrowcolor": "#2a3f5f",
           "arrowhead": 0,
           "arrowwidth": 1
          },
          "colorscale": {
           "diverging": [
            [
             0,
             "#8e0152"
            ],
            [
             0.1,
             "#c51b7d"
            ],
            [
             0.2,
             "#de77ae"
            ],
            [
             0.3,
             "#f1b6da"
            ],
            [
             0.4,
             "#fde0ef"
            ],
            [
             0.5,
             "#f7f7f7"
            ],
            [
             0.6,
             "#e6f5d0"
            ],
            [
             0.7,
             "#b8e186"
            ],
            [
             0.8,
             "#7fbc41"
            ],
            [
             0.9,
             "#4d9221"
            ],
            [
             1,
             "#276419"
            ]
           ],
           "sequential": [
            [
             0,
             "#0d0887"
            ],
            [
             0.1111111111111111,
             "#46039f"
            ],
            [
             0.2222222222222222,
             "#7201a8"
            ],
            [
             0.3333333333333333,
             "#9c179e"
            ],
            [
             0.4444444444444444,
             "#bd3786"
            ],
            [
             0.5555555555555556,
             "#d8576b"
            ],
            [
             0.6666666666666666,
             "#ed7953"
            ],
            [
             0.7777777777777778,
             "#fb9f3a"
            ],
            [
             0.8888888888888888,
             "#fdca26"
            ],
            [
             1,
             "#f0f921"
            ]
           ],
           "sequentialminus": [
            [
             0,
             "#0d0887"
            ],
            [
             0.1111111111111111,
             "#46039f"
            ],
            [
             0.2222222222222222,
             "#7201a8"
            ],
            [
             0.3333333333333333,
             "#9c179e"
            ],
            [
             0.4444444444444444,
             "#bd3786"
            ],
            [
             0.5555555555555556,
             "#d8576b"
            ],
            [
             0.6666666666666666,
             "#ed7953"
            ],
            [
             0.7777777777777778,
             "#fb9f3a"
            ],
            [
             0.8888888888888888,
             "#fdca26"
            ],
            [
             1,
             "#f0f921"
            ]
           ]
          },
          "colorway": [
           "#636efa",
           "#EF553B",
           "#00cc96",
           "#ab63fa",
           "#FFA15A",
           "#19d3f3",
           "#FF6692",
           "#B6E880",
           "#FF97FF",
           "#FECB52"
          ],
          "font": {
           "color": "#2a3f5f"
          },
          "geo": {
           "bgcolor": "white",
           "lakecolor": "white",
           "landcolor": "#E5ECF6",
           "showlakes": true,
           "showland": true,
           "subunitcolor": "white"
          },
          "hoverlabel": {
           "align": "left"
          },
          "hovermode": "closest",
          "mapbox": {
           "style": "light"
          },
          "paper_bgcolor": "white",
          "plot_bgcolor": "#E5ECF6",
          "polar": {
           "angularaxis": {
            "gridcolor": "white",
            "linecolor": "white",
            "ticks": ""
           },
           "bgcolor": "#E5ECF6",
           "radialaxis": {
            "gridcolor": "white",
            "linecolor": "white",
            "ticks": ""
           }
          },
          "scene": {
           "xaxis": {
            "backgroundcolor": "#E5ECF6",
            "gridcolor": "white",
            "gridwidth": 2,
            "linecolor": "white",
            "showbackground": true,
            "ticks": "",
            "zerolinecolor": "white"
           },
           "yaxis": {
            "backgroundcolor": "#E5ECF6",
            "gridcolor": "white",
            "gridwidth": 2,
            "linecolor": "white",
            "showbackground": true,
            "ticks": "",
            "zerolinecolor": "white"
           },
           "zaxis": {
            "backgroundcolor": "#E5ECF6",
            "gridcolor": "white",
            "gridwidth": 2,
            "linecolor": "white",
            "showbackground": true,
            "ticks": "",
            "zerolinecolor": "white"
           }
          },
          "shapedefaults": {
           "line": {
            "color": "#2a3f5f"
           }
          },
          "ternary": {
           "aaxis": {
            "gridcolor": "white",
            "linecolor": "white",
            "ticks": ""
           },
           "baxis": {
            "gridcolor": "white",
            "linecolor": "white",
            "ticks": ""
           },
           "bgcolor": "#E5ECF6",
           "caxis": {
            "gridcolor": "white",
            "linecolor": "white",
            "ticks": ""
           }
          },
          "title": {
           "x": 0.05
          },
          "xaxis": {
           "automargin": true,
           "gridcolor": "white",
           "linecolor": "white",
           "ticks": "",
           "zerolinecolor": "white",
           "zerolinewidth": 2
          },
          "yaxis": {
           "automargin": true,
           "gridcolor": "white",
           "linecolor": "white",
           "ticks": "",
           "zerolinecolor": "white",
           "zerolinewidth": 2
          }
         }
        },
        "title": {
         "text": "POE Projection for next 10 years"
        },
        "width": 1000,
        "xaxis": {
         "anchor": "y",
         "domain": [
          0,
          1
         ],
         "matches": "x2",
         "showticklabels": false
        },
        "xaxis2": {
         "anchor": "y2",
         "domain": [
          0,
          1
         ],
         "dtick": 1,
         "title": {
          "text": "Years after year of analysis"
         }
        },
        "yaxis": {
         "anchor": "x",
         "domain": [
          0.525,
          1
         ],
         "tickformat": "0.2e",
         "title": {
          "text": "LEAK POE"
         },
         "type": "log"
        },
        "yaxis2": {
         "anchor": "x2",
         "domain": [
          0,
          0.475
         ],
         "tickformat": "0.2e",
         "title": {
          "text": "RUPTURE POE"
         },
         "type": "log"
        }
       }
      },
      "text/html": [
       "<div>\n",
       "        \n",
       "        \n",
       "            <div id=\"7c2ec255-771f-4580-a12b-f4a0fe6dc0b3\" class=\"plotly-graph-div\" style=\"height:750px; width:1000px;\"></div>\n",
       "            <script type=\"text/javascript\">\n",
       "                require([\"plotly\"], function(Plotly) {\n",
       "                    window.PLOTLYENV=window.PLOTLYENV || {};\n",
       "                    \n",
       "                if (document.getElementById(\"7c2ec255-771f-4580-a12b-f4a0fe6dc0b3\")) {\n",
       "                    Plotly.newPlot(\n",
       "                        '7c2ec255-771f-4580-a12b-f4a0fe6dc0b3',\n",
       "                        [{\"hovertext\": \"3.00%, 11.00 mm\", \"name\": \"1088754\", \"type\": \"scatter\", \"x\": [0, 1, 2, 3, 4, 5, 6, 7, 8, 9, 10], \"xaxis\": \"x\", \"y\": [0.0, 0.0, 0.0, 0.0, 0.0, 0.0, 0.0, 0.0, 0.0, 0.0, 0.0], \"yaxis\": \"y\"}, {\"hovertext\": \"4.00%, 11.00 mm\", \"name\": \"1088755\", \"type\": \"scatter\", \"x\": [0, 1, 2, 3, 4, 5, 6, 7, 8, 9, 10], \"xaxis\": \"x\", \"y\": [0.0, 0.0, 0.0, 0.0, 0.0, 0.0, 0.0, 0.0, 0.0, 0.0, 0.0], \"yaxis\": \"y\"}, {\"hovertext\": \"3.00%, 12.00 mm\", \"name\": \"1088756\", \"type\": \"scatter\", \"x\": [0, 1, 2, 3, 4, 5, 6, 7, 8, 9, 10], \"xaxis\": \"x\", \"y\": [0.0, 0.0, 0.0, 0.0, 0.0, 0.0, 0.0, 0.0, 0.0, 0.0, 0.0], \"yaxis\": \"y\"}, {\"hovertext\": \"3.00%, 20.00 mm\", \"name\": \"1088757\", \"type\": \"scatter\", \"x\": [0, 1, 2, 3, 4, 5, 6, 7, 8, 9, 10], \"xaxis\": \"x\", \"y\": [0.0, 0.0, 0.0, 0.0, 0.0, 0.0, 0.0, 0.0, 0.0, 0.0, 0.0], \"yaxis\": \"y\"}, {\"hovertext\": \"4.00%, 12.00 mm\", \"name\": \"1088758\", \"type\": \"scatter\", \"x\": [0, 1, 2, 3, 4, 5, 6, 7, 8, 9, 10], \"xaxis\": \"x\", \"y\": [0.0, 0.0, 0.0, 0.0, 0.0, 0.0, 0.0, 0.0, 0.0, 0.0, 0.0], \"yaxis\": \"y\"}, {\"hovertext\": \"13.00%, 21.00 mm\", \"name\": \"1088759\", \"type\": \"scatter\", \"x\": [0, 1, 2, 3, 4, 5, 6, 7, 8, 9, 10], \"xaxis\": \"x\", \"y\": [0.0, 0.0, 0.0, 0.0, 0.0, 0.0, 0.0, 0.0, 0.0, 0.0, 0.0], \"yaxis\": \"y\"}, {\"hovertext\": \"5.00%, 22.00 mm\", \"name\": \"1088760\", \"type\": \"scatter\", \"x\": [0, 1, 2, 3, 4, 5, 6, 7, 8, 9, 10], \"xaxis\": \"x\", \"y\": [0.0, 0.0, 0.0, 0.0, 0.0, 0.0, 0.0, 0.0, 0.0, 0.0, 0.0], \"yaxis\": \"y\"}, {\"hovertext\": \"5.00%, 33.00 mm\", \"name\": \"1088761\", \"type\": \"scatter\", \"x\": [0, 1, 2, 3, 4, 5, 6, 7, 8, 9, 10], \"xaxis\": \"x\", \"y\": [0.0, 0.0, 0.0, 0.0, 0.0, 0.0, 0.0, 0.0, 0.0, 0.0, 0.0], \"yaxis\": \"y\"}, {\"hovertext\": \"3.00%, 40.00 mm\", \"name\": \"1088762\", \"type\": \"scatter\", \"x\": [0, 1, 2, 3, 4, 5, 6, 7, 8, 9, 10], \"xaxis\": \"x\", \"y\": [0.0, 0.0, 0.0, 0.0, 0.0, 0.0, 0.0, 0.0, 0.0, 0.0, 0.0], \"yaxis\": \"y\"}, {\"hovertext\": \"3.00%, 23.00 mm\", \"name\": \"1088763\", \"type\": \"scatter\", \"x\": [0, 1, 2, 3, 4, 5, 6, 7, 8, 9, 10], \"xaxis\": \"x\", \"y\": [0.0, 0.0, 0.0, 0.0, 0.0, 0.0, 0.0, 0.0, 0.0, 0.0, 0.0], \"yaxis\": \"y\"}, {\"hovertext\": \"3.00%, 13.00 mm\", \"name\": \"1088764\", \"type\": \"scatter\", \"x\": [0, 1, 2, 3, 4, 5, 6, 7, 8, 9, 10], \"xaxis\": \"x\", \"y\": [0.0, 0.0, 0.0, 0.0, 0.0, 0.0, 0.0, 0.0, 0.0, 0.0, 0.0], \"yaxis\": \"y\"}, {\"hovertext\": \"3.00%, 12.00 mm\", \"name\": \"1088765\", \"type\": \"scatter\", \"x\": [0, 1, 2, 3, 4, 5, 6, 7, 8, 9, 10], \"xaxis\": \"x\", \"y\": [0.0, 0.0, 0.0, 0.0, 0.0, 0.0, 0.0, 0.0, 0.0, 0.0, 0.0], \"yaxis\": \"y\"}, {\"hovertext\": \"3.00%, 22.00 mm\", \"name\": \"1088766\", \"type\": \"scatter\", \"x\": [0, 1, 2, 3, 4, 5, 6, 7, 8, 9, 10], \"xaxis\": \"x\", \"y\": [0.0, 0.0, 0.0, 0.0, 0.0, 0.0, 0.0, 0.0, 0.0, 0.0, 0.0], \"yaxis\": \"y\"}, {\"hovertext\": \"3.00%, 19.00 mm\", \"name\": \"1088767\", \"type\": \"scatter\", \"x\": [0, 1, 2, 3, 4, 5, 6, 7, 8, 9, 10], \"xaxis\": \"x\", \"y\": [0.0, 0.0, 0.0, 0.0, 0.0, 0.0, 0.0, 0.0, 0.0, 0.0, 0.0], \"yaxis\": \"y\"}, {\"hovertext\": \"3.00%, 31.00 mm\", \"name\": \"1088768\", \"type\": \"scatter\", \"x\": [0, 1, 2, 3, 4, 5, 6, 7, 8, 9, 10], \"xaxis\": \"x\", \"y\": [0.0, 0.0, 0.0, 0.0, 0.0, 0.0, 0.0, 0.0, 0.0, 0.0, 0.0], \"yaxis\": \"y\"}, {\"hovertext\": \"4.00%, 40.00 mm\", \"name\": \"1088769\", \"type\": \"scatter\", \"x\": [0, 1, 2, 3, 4, 5, 6, 7, 8, 9, 10], \"xaxis\": \"x\", \"y\": [0.0, 0.0, 0.0, 0.0, 0.0, 0.0, 0.0, 0.0, 0.0, 0.0, 0.0], \"yaxis\": \"y\"}, {\"hovertext\": \"3.00%, 21.00 mm\", \"name\": \"1088770\", \"type\": \"scatter\", \"x\": [0, 1, 2, 3, 4, 5, 6, 7, 8, 9, 10], \"xaxis\": \"x\", \"y\": [0.0, 0.0, 0.0, 0.0, 0.0, 0.0, 0.0, 0.0, 0.0, 0.0, 0.0], \"yaxis\": \"y\"}, {\"hovertext\": \"3.00%, 12.00 mm\", \"name\": \"1088771\", \"type\": \"scatter\", \"x\": [0, 1, 2, 3, 4, 5, 6, 7, 8, 9, 10], \"xaxis\": \"x\", \"y\": [0.0, 0.0, 0.0, 0.0, 0.0, 0.0, 0.0, 0.0, 0.0, 0.0, 0.0], \"yaxis\": \"y\"}, {\"hovertext\": \"5.00%, 45.00 mm\", \"name\": \"1088772\", \"type\": \"scatter\", \"x\": [0, 1, 2, 3, 4, 5, 6, 7, 8, 9, 10], \"xaxis\": \"x\", \"y\": [0.0, 0.0, 0.0, 0.0, 0.0, 0.0, 0.0, 0.0, 0.0, 0.0, 0.0], \"yaxis\": \"y\"}, {\"hovertext\": \"5.00%, 60.00 mm\", \"name\": \"1088773\", \"type\": \"scatter\", \"x\": [0, 1, 2, 3, 4, 5, 6, 7, 8, 9, 10], \"xaxis\": \"x\", \"y\": [0.0, 0.0, 0.0, 0.0, 0.0, 0.0, 0.0, 0.0, 0.0, 0.0, 0.0], \"yaxis\": \"y\"}, {\"hovertext\": \"3.00%, 16.00 mm\", \"name\": \"1088774\", \"type\": \"scatter\", \"x\": [0, 1, 2, 3, 4, 5, 6, 7, 8, 9, 10], \"xaxis\": \"x\", \"y\": [0.0, 0.0, 0.0, 0.0, 0.0, 0.0, 0.0, 0.0, 0.0, 0.0, 0.0], \"yaxis\": \"y\"}, {\"hovertext\": \"5.00%, 59.00 mm\", \"name\": \"1088775\", \"type\": \"scatter\", \"x\": [0, 1, 2, 3, 4, 5, 6, 7, 8, 9, 10], \"xaxis\": \"x\", \"y\": [0.0, 0.0, 0.0, 0.0, 0.0, 0.0, 0.0, 0.0, 0.0, 0.0, 0.0], \"yaxis\": \"y\"}, {\"hovertext\": \"4.00%, 16.00 mm\", \"name\": \"1088776\", \"type\": \"scatter\", \"x\": [0, 1, 2, 3, 4, 5, 6, 7, 8, 9, 10], \"xaxis\": \"x\", \"y\": [0.0, 0.0, 0.0, 0.0, 0.0, 0.0, 0.0, 0.0, 0.0, 0.0, 0.0], \"yaxis\": \"y\"}, {\"hovertext\": \"4.00%, 12.00 mm\", \"name\": \"1088777\", \"type\": \"scatter\", \"x\": [0, 1, 2, 3, 4, 5, 6, 7, 8, 9, 10], \"xaxis\": \"x\", \"y\": [0.0, 0.0, 0.0, 0.0, 0.0, 0.0, 0.0, 0.0, 0.0, 0.0, 0.0], \"yaxis\": \"y\"}, {\"hovertext\": \"3.00%, 27.00 mm\", \"name\": \"1088778\", \"type\": \"scatter\", \"x\": [0, 1, 2, 3, 4, 5, 6, 7, 8, 9, 10], \"xaxis\": \"x\", \"y\": [0.0, 0.0, 0.0, 0.0, 0.0, 0.0, 0.0, 0.0, 0.0, 0.0, 0.0], \"yaxis\": \"y\"}, {\"hovertext\": \"4.00%, 12.00 mm\", \"name\": \"1088779\", \"type\": \"scatter\", \"x\": [0, 1, 2, 3, 4, 5, 6, 7, 8, 9, 10], \"xaxis\": \"x\", \"y\": [0.0, 0.0, 0.0, 0.0, 0.0, 0.0, 0.0, 0.0, 0.0, 0.0, 0.0], \"yaxis\": \"y\"}, {\"hovertext\": \"4.00%, 17.00 mm\", \"name\": \"1088780\", \"type\": \"scatter\", \"x\": [0, 1, 2, 3, 4, 5, 6, 7, 8, 9, 10], \"xaxis\": \"x\", \"y\": [0.0, 0.0, 0.0, 0.0, 0.0, 0.0, 0.0, 0.0, 0.0, 0.0, 0.0], \"yaxis\": \"y\"}, {\"hovertext\": \"3.00%, 12.00 mm\", \"name\": \"1088781\", \"type\": \"scatter\", \"x\": [0, 1, 2, 3, 4, 5, 6, 7, 8, 9, 10], \"xaxis\": \"x\", \"y\": [0.0, 0.0, 0.0, 0.0, 0.0, 0.0, 0.0, 0.0, 0.0, 0.0, 0.0], \"yaxis\": \"y\"}, {\"hovertext\": \"4.00%, 12.00 mm\", \"name\": \"1088782\", \"type\": \"scatter\", \"x\": [0, 1, 2, 3, 4, 5, 6, 7, 8, 9, 10], \"xaxis\": \"x\", \"y\": [0.0, 0.0, 0.0, 0.0, 0.0, 0.0, 0.0, 0.0, 0.0, 0.0, 0.0], \"yaxis\": \"y\"}, {\"hovertext\": \"3.00%, 24.00 mm\", \"name\": \"1088783\", \"type\": \"scatter\", \"x\": [0, 1, 2, 3, 4, 5, 6, 7, 8, 9, 10], \"xaxis\": \"x\", \"y\": [0.0, 0.0, 0.0, 0.0, 0.0, 0.0, 0.0, 0.0, 0.0, 0.0, 0.0], \"yaxis\": \"y\"}, {\"hovertext\": \"5.00%, 72.00 mm\", \"name\": \"1088784\", \"type\": \"scatter\", \"x\": [0, 1, 2, 3, 4, 5, 6, 7, 8, 9, 10], \"xaxis\": \"x\", \"y\": [0.0, 0.0, 0.0, 0.0, 0.0, 0.0, 0.0, 0.0, 0.0, 0.0, 0.0], \"yaxis\": \"y\"}, {\"hovertext\": \"10.00%, 40.00 mm\", \"name\": \"1088785\", \"type\": \"scatter\", \"x\": [0, 1, 2, 3, 4, 5, 6, 7, 8, 9, 10], \"xaxis\": \"x\", \"y\": [0.0, 0.0, 0.0, 0.0, 0.0, 0.0, 0.0, 0.0, 0.0, 0.0, 0.0], \"yaxis\": \"y\"}, {\"hovertext\": \"7.00%, 23.00 mm\", \"name\": \"1088786\", \"type\": \"scatter\", \"x\": [0, 1, 2, 3, 4, 5, 6, 7, 8, 9, 10], \"xaxis\": \"x\", \"y\": [0.0, 0.0, 0.0, 0.0, 0.0, 0.0, 0.0, 0.0, 0.0, 0.0, 0.0], \"yaxis\": \"y\"}, {\"hovertext\": \"3.00%, 25.00 mm\", \"name\": \"1088787\", \"type\": \"scatter\", \"x\": [0, 1, 2, 3, 4, 5, 6, 7, 8, 9, 10], \"xaxis\": \"x\", \"y\": [0.0, 0.0, 0.0, 0.0, 0.0, 0.0, 0.0, 0.0, 0.0, 0.0, 0.0], \"yaxis\": \"y\"}, {\"hovertext\": \"4.00%, 67.00 mm\", \"name\": \"1088788\", \"type\": \"scatter\", \"x\": [0, 1, 2, 3, 4, 5, 6, 7, 8, 9, 10], \"xaxis\": \"x\", \"y\": [0.0, 0.0, 0.0, 0.0, 0.0, 0.0, 0.0, 0.0, 0.0, 0.0, 0.0], \"yaxis\": \"y\"}, {\"hovertext\": \"14.00%, 27.00 mm\", \"name\": \"1088789\", \"type\": \"scatter\", \"x\": [0, 1, 2, 3, 4, 5, 6, 7, 8, 9, 10], \"xaxis\": \"x\", \"y\": [0.0, 0.0, 0.0, 0.0, 0.0, 0.0, 0.0, 0.0, 0.0, 0.0, 0.0], \"yaxis\": \"y\"}, {\"hovertext\": \"4.00%, 16.00 mm\", \"name\": \"1088790\", \"type\": \"scatter\", \"x\": [0, 1, 2, 3, 4, 5, 6, 7, 8, 9, 10], \"xaxis\": \"x\", \"y\": [0.0, 0.0, 0.0, 0.0, 0.0, 0.0, 0.0, 0.0, 0.0, 0.0, 0.0], \"yaxis\": \"y\"}, {\"hovertext\": \"3.00%, 18.00 mm\", \"name\": \"1088791\", \"type\": \"scatter\", \"x\": [0, 1, 2, 3, 4, 5, 6, 7, 8, 9, 10], \"xaxis\": \"x\", \"y\": [0.0, 0.0, 0.0, 0.0, 0.0, 0.0, 0.0, 0.0, 0.0, 0.0, 0.0], \"yaxis\": \"y\"}, {\"hovertext\": \"3.00%, 11.00 mm\", \"name\": \"1088792\", \"type\": \"scatter\", \"x\": [0, 1, 2, 3, 4, 5, 6, 7, 8, 9, 10], \"xaxis\": \"x\", \"y\": [0.0, 0.0, 0.0, 0.0, 0.0, 0.0, 0.0, 0.0, 0.0, 0.0, 0.0], \"yaxis\": \"y\"}, {\"hovertext\": \"3.00%, 18.00 mm\", \"name\": \"1088794\", \"type\": \"scatter\", \"x\": [0, 1, 2, 3, 4, 5, 6, 7, 8, 9, 10], \"xaxis\": \"x\", \"y\": [0.0, 0.0, 0.0, 0.0, 0.0, 0.0, 0.0, 0.0, 0.0, 0.0, 0.0], \"yaxis\": \"y\"}, {\"hovertext\": \"3.00%, 15.00 mm\", \"name\": \"1088795\", \"type\": \"scatter\", \"x\": [0, 1, 2, 3, 4, 5, 6, 7, 8, 9, 10], \"xaxis\": \"x\", \"y\": [0.0, 0.0, 0.0, 0.0, 0.0, 0.0, 0.0, 0.0, 0.0, 0.0, 0.0], \"yaxis\": \"y\"}, {\"hovertext\": \"3.00%, 11.00 mm\", \"name\": \"1088796\", \"type\": \"scatter\", \"x\": [0, 1, 2, 3, 4, 5, 6, 7, 8, 9, 10], \"xaxis\": \"x\", \"y\": [0.0, 0.0, 0.0, 0.0, 0.0, 0.0, 0.0, 0.0, 0.0, 0.0, 0.0], \"yaxis\": \"y\"}, {\"hovertext\": \"4.00%, 11.00 mm\", \"name\": \"1088797\", \"type\": \"scatter\", \"x\": [0, 1, 2, 3, 4, 5, 6, 7, 8, 9, 10], \"xaxis\": \"x\", \"y\": [0.0, 0.0, 0.0, 0.0, 0.0, 0.0, 0.0, 0.0, 0.0, 0.0, 0.0], \"yaxis\": \"y\"}, {\"hovertext\": \"3.00%, 11.00 mm\", \"name\": \"1088798\", \"type\": \"scatter\", \"x\": [0, 1, 2, 3, 4, 5, 6, 7, 8, 9, 10], \"xaxis\": \"x\", \"y\": [0.0, 0.0, 0.0, 0.0, 0.0, 0.0, 0.0, 0.0, 0.0, 0.0, 0.0], \"yaxis\": \"y\"}, {\"hovertext\": \"3.00%, 11.00 mm\", \"name\": \"1088799\", \"type\": \"scatter\", \"x\": [0, 1, 2, 3, 4, 5, 6, 7, 8, 9, 10], \"xaxis\": \"x\", \"y\": [0.0, 0.0, 0.0, 0.0, 0.0, 0.0, 0.0, 0.0, 0.0, 0.0, 0.0], \"yaxis\": \"y\"}, {\"hovertext\": \"5.00%, 11.00 mm\", \"name\": \"1088800\", \"type\": \"scatter\", \"x\": [0, 1, 2, 3, 4, 5, 6, 7, 8, 9, 10], \"xaxis\": \"x\", \"y\": [0.0, 0.0, 0.0, 0.0, 0.0, 0.0, 0.0, 0.0, 0.0, 0.0, 0.0], \"yaxis\": \"y\"}, {\"hovertext\": \"5.00%, 25.00 mm\", \"name\": \"1088801\", \"type\": \"scatter\", \"x\": [0, 1, 2, 3, 4, 5, 6, 7, 8, 9, 10], \"xaxis\": \"x\", \"y\": [0.0, 0.0, 0.0, 0.0, 0.0, 0.0, 0.0, 0.0, 0.0, 0.0, 0.0], \"yaxis\": \"y\"}, {\"hovertext\": \"4.00%, 17.00 mm\", \"name\": \"1088802\", \"type\": \"scatter\", \"x\": [0, 1, 2, 3, 4, 5, 6, 7, 8, 9, 10], \"xaxis\": \"x\", \"y\": [0.0, 0.0, 0.0, 0.0, 0.0, 0.0, 0.0, 0.0, 0.0, 0.0, 0.0], \"yaxis\": \"y\"}, {\"hovertext\": \"4.00%, 16.00 mm\", \"name\": \"1088803\", \"type\": \"scatter\", \"x\": [0, 1, 2, 3, 4, 5, 6, 7, 8, 9, 10], \"xaxis\": \"x\", \"y\": [0.0, 0.0, 0.0, 0.0, 0.0, 0.0, 0.0, 0.0, 0.0, 0.0, 0.0], \"yaxis\": \"y\"}, {\"hovertext\": \"3.00%, 17.00 mm\", \"name\": \"1088804\", \"type\": \"scatter\", \"x\": [0, 1, 2, 3, 4, 5, 6, 7, 8, 9, 10], \"xaxis\": \"x\", \"y\": [0.0, 0.0, 0.0, 0.0, 0.0, 0.0, 0.0, 0.0, 0.0, 0.0, 0.0], \"yaxis\": \"y\"}, {\"hovertext\": \"14.00%, 20.00 mm\", \"name\": \"1088805\", \"type\": \"scatter\", \"x\": [0, 1, 2, 3, 4, 5, 6, 7, 8, 9, 10], \"xaxis\": \"x\", \"y\": [0.0, 0.0, 0.0, 0.0, 0.0, 0.0, 0.0, 0.0, 0.0, 0.0, 0.0], \"yaxis\": \"y\"}, {\"hovertext\": \"3.00%, 11.00 mm\", \"name\": \"1088806\", \"type\": \"scatter\", \"x\": [0, 1, 2, 3, 4, 5, 6, 7, 8, 9, 10], \"xaxis\": \"x\", \"y\": [0.0, 0.0, 0.0, 0.0, 0.0, 0.0, 0.0, 0.0, 0.0, 0.0, 0.0], \"yaxis\": \"y\"}, {\"hovertext\": \"17.00%, 47.00 mm\", \"name\": \"1088808\", \"type\": \"scatter\", \"x\": [0, 1, 2, 3, 4, 5, 6, 7, 8, 9, 10], \"xaxis\": \"x\", \"y\": [0.0, 0.0, 0.0, 0.0, 0.0, 0.0, 0.0, 0.0, 0.0, 0.0, 0.0], \"yaxis\": \"y\"}, {\"hovertext\": \"2.00%, 22.00 mm\", \"name\": \"1088809\", \"type\": \"scatter\", \"x\": [0, 1, 2, 3, 4, 5, 6, 7, 8, 9, 10], \"xaxis\": \"x\", \"y\": [0.0, 0.0, 0.0, 0.0, 0.0, 0.0, 0.0, 0.0, 0.0, 0.0, 0.0], \"yaxis\": \"y\"}, {\"hovertext\": \"3.00%, 25.00 mm\", \"name\": \"1088810\", \"type\": \"scatter\", \"x\": [0, 1, 2, 3, 4, 5, 6, 7, 8, 9, 10], \"xaxis\": \"x\", \"y\": [0.0, 0.0, 0.0, 0.0, 0.0, 0.0, 0.0, 0.0, 0.0, 0.0, 0.0], \"yaxis\": \"y\"}, {\"hovertext\": \"3.00%, 34.00 mm\", \"name\": \"1088811\", \"type\": \"scatter\", \"x\": [0, 1, 2, 3, 4, 5, 6, 7, 8, 9, 10], \"xaxis\": \"x\", \"y\": [0.0, 0.0, 0.0, 0.0, 0.0, 0.0, 0.0, 0.0, 0.0, 0.0, 0.0], \"yaxis\": \"y\"}, {\"hovertext\": \"3.00%, 35.00 mm\", \"name\": \"1088812\", \"type\": \"scatter\", \"x\": [0, 1, 2, 3, 4, 5, 6, 7, 8, 9, 10], \"xaxis\": \"x\", \"y\": [0.0, 0.0, 0.0, 0.0, 0.0, 0.0, 0.0, 0.0, 0.0, 0.0, 0.0], \"yaxis\": \"y\"}, {\"hovertext\": \"3.00%, 31.00 mm\", \"name\": \"1088813\", \"type\": \"scatter\", \"x\": [0, 1, 2, 3, 4, 5, 6, 7, 8, 9, 10], \"xaxis\": \"x\", \"y\": [0.0, 0.0, 0.0, 0.0, 0.0, 0.0, 0.0, 0.0, 0.0, 0.0, 0.0], \"yaxis\": \"y\"}, {\"hovertext\": \"3.00%, 11.00 mm\", \"name\": \"1088815\", \"type\": \"scatter\", \"x\": [0, 1, 2, 3, 4, 5, 6, 7, 8, 9, 10], \"xaxis\": \"x\", \"y\": [0.0, 0.0, 0.0, 0.0, 0.0, 0.0, 0.0, 0.0, 0.0, 0.0, 0.0], \"yaxis\": \"y\"}, {\"hovertext\": \"3.00%, 37.00 mm\", \"name\": \"1088816\", \"type\": \"scatter\", \"x\": [0, 1, 2, 3, 4, 5, 6, 7, 8, 9, 10], \"xaxis\": \"x\", \"y\": [0.0, 0.0, 0.0, 0.0, 0.0, 0.0, 0.0, 0.0, 0.0, 0.0, 0.0], \"yaxis\": \"y\"}, {\"hovertext\": \"4.00%, 26.00 mm\", \"name\": \"1088817\", \"type\": \"scatter\", \"x\": [0, 1, 2, 3, 4, 5, 6, 7, 8, 9, 10], \"xaxis\": \"x\", \"y\": [0.0, 0.0, 0.0, 0.0, 0.0, 0.0, 0.0, 0.0, 0.0, 0.0, 0.0], \"yaxis\": \"y\"}, {\"hovertext\": \"3.00%, 19.00 mm\", \"name\": \"1088818\", \"type\": \"scatter\", \"x\": [0, 1, 2, 3, 4, 5, 6, 7, 8, 9, 10], \"xaxis\": \"x\", \"y\": [0.0, 0.0, 0.0, 0.0, 0.0, 0.0, 0.0, 0.0, 0.0, 0.0, 0.0], \"yaxis\": \"y\"}, {\"hovertext\": \"3.00%, 11.00 mm\", \"name\": \"1088819\", \"type\": \"scatter\", \"x\": [0, 1, 2, 3, 4, 5, 6, 7, 8, 9, 10], \"xaxis\": \"x\", \"y\": [0.0, 0.0, 0.0, 0.0, 0.0, 0.0, 0.0, 0.0, 0.0, 0.0, 0.0], \"yaxis\": \"y\"}, {\"hovertext\": \"13.00%, 33.00 mm\", \"name\": \"1088820\", \"type\": \"scatter\", \"x\": [0, 1, 2, 3, 4, 5, 6, 7, 8, 9, 10], \"xaxis\": \"x\", \"y\": [0.0, 0.0, 0.0, 0.0, 0.0, 0.0, 0.0, 0.0, 0.0, 0.0, 0.0], \"yaxis\": \"y\"}, {\"hovertext\": \"3.00%, 11.00 mm\", \"name\": \"1088754\", \"type\": \"scatter\", \"x\": [0, 1, 2, 3, 4, 5, 6, 7, 8, 9, 10], \"xaxis\": \"x2\", \"y\": [0.0, 0.0, 0.0, 0.0, 0.0, 0.0, 0.0, 0.0, 0.0, 0.0, 0.0], \"yaxis\": \"y2\"}, {\"hovertext\": \"4.00%, 11.00 mm\", \"name\": \"1088755\", \"type\": \"scatter\", \"x\": [0, 1, 2, 3, 4, 5, 6, 7, 8, 9, 10], \"xaxis\": \"x2\", \"y\": [0.0, 0.0, 0.0, 0.0, 0.0, 0.0, 0.0, 0.0, 0.0, 0.0, 0.0], \"yaxis\": \"y2\"}, {\"hovertext\": \"3.00%, 12.00 mm\", \"name\": \"1088756\", \"type\": \"scatter\", \"x\": [0, 1, 2, 3, 4, 5, 6, 7, 8, 9, 10], \"xaxis\": \"x2\", \"y\": [0.0, 0.0, 0.0, 0.0, 0.0, 0.0, 0.0, 0.0, 0.0, 0.0, 0.0], \"yaxis\": \"y2\"}, {\"hovertext\": \"3.00%, 20.00 mm\", \"name\": \"1088757\", \"type\": \"scatter\", \"x\": [0, 1, 2, 3, 4, 5, 6, 7, 8, 9, 10], \"xaxis\": \"x2\", \"y\": [0.0, 0.0, 0.0, 0.0, 0.0, 0.0, 0.0, 0.0, 0.0, 0.0, 0.0], \"yaxis\": \"y2\"}, {\"hovertext\": \"4.00%, 12.00 mm\", \"name\": \"1088758\", \"type\": \"scatter\", \"x\": [0, 1, 2, 3, 4, 5, 6, 7, 8, 9, 10], \"xaxis\": \"x2\", \"y\": [0.0, 0.0, 0.0, 0.0, 0.0, 0.0, 0.0, 0.0, 0.0, 0.0, 0.0], \"yaxis\": \"y2\"}, {\"hovertext\": \"13.00%, 21.00 mm\", \"name\": \"1088759\", \"type\": \"scatter\", \"x\": [0, 1, 2, 3, 4, 5, 6, 7, 8, 9, 10], \"xaxis\": \"x2\", \"y\": [0.0, 0.0, 0.0, 0.0, 0.0, 0.0, 0.0, 0.0, 0.0, 0.0, 0.0], \"yaxis\": \"y2\"}, {\"hovertext\": \"5.00%, 22.00 mm\", \"name\": \"1088760\", \"type\": \"scatter\", \"x\": [0, 1, 2, 3, 4, 5, 6, 7, 8, 9, 10], \"xaxis\": \"x2\", \"y\": [0.0, 0.0, 0.0, 0.0, 0.0, 0.0, 0.0, 0.0, 0.0, 0.0, 0.0], \"yaxis\": \"y2\"}, {\"hovertext\": \"5.00%, 33.00 mm\", \"name\": \"1088761\", \"type\": \"scatter\", \"x\": [0, 1, 2, 3, 4, 5, 6, 7, 8, 9, 10], \"xaxis\": \"x2\", \"y\": [0.0, 0.0, 0.0, 0.0, 0.0, 0.0, 0.0, 0.0, 0.0, 0.0, 0.0], \"yaxis\": \"y2\"}, {\"hovertext\": \"3.00%, 40.00 mm\", \"name\": \"1088762\", \"type\": \"scatter\", \"x\": [0, 1, 2, 3, 4, 5, 6, 7, 8, 9, 10], \"xaxis\": \"x2\", \"y\": [0.0, 0.0, 0.0, 0.0, 0.0, 0.0, 0.0, 0.0, 0.0, 0.0, 0.0], \"yaxis\": \"y2\"}, {\"hovertext\": \"3.00%, 23.00 mm\", \"name\": \"1088763\", \"type\": \"scatter\", \"x\": [0, 1, 2, 3, 4, 5, 6, 7, 8, 9, 10], \"xaxis\": \"x2\", \"y\": [0.0, 0.0, 0.0, 0.0, 0.0, 0.0, 0.0, 0.0, 0.0, 0.0, 0.0], \"yaxis\": \"y2\"}, {\"hovertext\": \"3.00%, 13.00 mm\", \"name\": \"1088764\", \"type\": \"scatter\", \"x\": [0, 1, 2, 3, 4, 5, 6, 7, 8, 9, 10], \"xaxis\": \"x2\", \"y\": [0.0, 0.0, 0.0, 0.0, 0.0, 0.0, 0.0, 0.0, 0.0, 0.0, 0.0], \"yaxis\": \"y2\"}, {\"hovertext\": \"3.00%, 12.00 mm\", \"name\": \"1088765\", \"type\": \"scatter\", \"x\": [0, 1, 2, 3, 4, 5, 6, 7, 8, 9, 10], \"xaxis\": \"x2\", \"y\": [0.0, 0.0, 0.0, 0.0, 0.0, 0.0, 0.0, 0.0, 0.0, 0.0, 0.0], \"yaxis\": \"y2\"}, {\"hovertext\": \"3.00%, 22.00 mm\", \"name\": \"1088766\", \"type\": \"scatter\", \"x\": [0, 1, 2, 3, 4, 5, 6, 7, 8, 9, 10], \"xaxis\": \"x2\", \"y\": [0.0, 0.0, 0.0, 0.0, 0.0, 0.0, 0.0, 0.0, 0.0, 0.0, 0.0], \"yaxis\": \"y2\"}, {\"hovertext\": \"3.00%, 19.00 mm\", \"name\": \"1088767\", \"type\": \"scatter\", \"x\": [0, 1, 2, 3, 4, 5, 6, 7, 8, 9, 10], \"xaxis\": \"x2\", \"y\": [0.0, 0.0, 0.0, 0.0, 0.0, 0.0, 0.0, 0.0, 0.0, 0.0, 0.0], \"yaxis\": \"y2\"}, {\"hovertext\": \"3.00%, 31.00 mm\", \"name\": \"1088768\", \"type\": \"scatter\", \"x\": [0, 1, 2, 3, 4, 5, 6, 7, 8, 9, 10], \"xaxis\": \"x2\", \"y\": [0.0, 0.0, 0.0, 0.0, 0.0, 0.0, 0.0, 0.0, 0.0, 0.0, 0.0], \"yaxis\": \"y2\"}, {\"hovertext\": \"4.00%, 40.00 mm\", \"name\": \"1088769\", \"type\": \"scatter\", \"x\": [0, 1, 2, 3, 4, 5, 6, 7, 8, 9, 10], \"xaxis\": \"x2\", \"y\": [0.0, 0.0, 0.0, 0.0, 0.0, 0.0, 0.0, 0.0, 0.0, 0.0, 0.0], \"yaxis\": \"y2\"}, {\"hovertext\": \"3.00%, 21.00 mm\", \"name\": \"1088770\", \"type\": \"scatter\", \"x\": [0, 1, 2, 3, 4, 5, 6, 7, 8, 9, 10], \"xaxis\": \"x2\", \"y\": [0.0, 0.0, 0.0, 0.0, 0.0, 0.0, 0.0, 0.0, 0.0, 0.0, 0.0], \"yaxis\": \"y2\"}, {\"hovertext\": \"3.00%, 12.00 mm\", \"name\": \"1088771\", \"type\": \"scatter\", \"x\": [0, 1, 2, 3, 4, 5, 6, 7, 8, 9, 10], \"xaxis\": \"x2\", \"y\": [0.0, 0.0, 0.0, 0.0, 0.0, 0.0, 0.0, 0.0, 0.0, 0.0, 0.0], \"yaxis\": \"y2\"}, {\"hovertext\": \"5.00%, 45.00 mm\", \"name\": \"1088772\", \"type\": \"scatter\", \"x\": [0, 1, 2, 3, 4, 5, 6, 7, 8, 9, 10], \"xaxis\": \"x2\", \"y\": [0.0, 0.0, 0.0, 0.0, 0.0, 0.0, 0.0, 0.0, 0.0, 0.0, 0.0], \"yaxis\": \"y2\"}, {\"hovertext\": \"5.00%, 60.00 mm\", \"name\": \"1088773\", \"type\": \"scatter\", \"x\": [0, 1, 2, 3, 4, 5, 6, 7, 8, 9, 10], \"xaxis\": \"x2\", \"y\": [0.0, 0.0, 0.0, 0.0, 0.0, 0.0, 0.0, 0.0, 0.0, 0.0, 0.0], \"yaxis\": \"y2\"}, {\"hovertext\": \"3.00%, 16.00 mm\", \"name\": \"1088774\", \"type\": \"scatter\", \"x\": [0, 1, 2, 3, 4, 5, 6, 7, 8, 9, 10], \"xaxis\": \"x2\", \"y\": [0.0, 0.0, 0.0, 0.0, 0.0, 0.0, 0.0, 0.0, 0.0, 0.0, 0.0], \"yaxis\": \"y2\"}, {\"hovertext\": \"5.00%, 59.00 mm\", \"name\": \"1088775\", \"type\": \"scatter\", \"x\": [0, 1, 2, 3, 4, 5, 6, 7, 8, 9, 10], \"xaxis\": \"x2\", \"y\": [0.0, 0.0, 0.0, 0.0, 0.0, 0.0, 0.0, 0.0, 0.0, 0.0, 0.0], \"yaxis\": \"y2\"}, {\"hovertext\": \"4.00%, 16.00 mm\", \"name\": \"1088776\", \"type\": \"scatter\", \"x\": [0, 1, 2, 3, 4, 5, 6, 7, 8, 9, 10], \"xaxis\": \"x2\", \"y\": [0.0, 0.0, 0.0, 0.0, 0.0, 0.0, 0.0, 0.0, 0.0, 0.0, 0.0], \"yaxis\": \"y2\"}, {\"hovertext\": \"4.00%, 12.00 mm\", \"name\": \"1088777\", \"type\": \"scatter\", \"x\": [0, 1, 2, 3, 4, 5, 6, 7, 8, 9, 10], \"xaxis\": \"x2\", \"y\": [0.0, 0.0, 0.0, 0.0, 0.0, 0.0, 0.0, 0.0, 0.0, 0.0, 0.0], \"yaxis\": \"y2\"}, {\"hovertext\": \"3.00%, 27.00 mm\", \"name\": \"1088778\", \"type\": \"scatter\", \"x\": [0, 1, 2, 3, 4, 5, 6, 7, 8, 9, 10], \"xaxis\": \"x2\", \"y\": [0.0, 0.0, 0.0, 0.0, 0.0, 0.0, 0.0, 0.0, 0.0, 0.0, 0.0], \"yaxis\": \"y2\"}, {\"hovertext\": \"4.00%, 12.00 mm\", \"name\": \"1088779\", \"type\": \"scatter\", \"x\": [0, 1, 2, 3, 4, 5, 6, 7, 8, 9, 10], \"xaxis\": \"x2\", \"y\": [0.0, 0.0, 0.0, 0.0, 0.0, 0.0, 0.0, 0.0, 0.0, 0.0, 0.0], \"yaxis\": \"y2\"}, {\"hovertext\": \"4.00%, 17.00 mm\", \"name\": \"1088780\", \"type\": \"scatter\", \"x\": [0, 1, 2, 3, 4, 5, 6, 7, 8, 9, 10], \"xaxis\": \"x2\", \"y\": [0.0, 0.0, 0.0, 0.0, 0.0, 0.0, 0.0, 0.0, 0.0, 0.0, 0.0], \"yaxis\": \"y2\"}, {\"hovertext\": \"3.00%, 12.00 mm\", \"name\": \"1088781\", \"type\": \"scatter\", \"x\": [0, 1, 2, 3, 4, 5, 6, 7, 8, 9, 10], \"xaxis\": \"x2\", \"y\": [0.0, 0.0, 0.0, 0.0, 0.0, 0.0, 0.0, 0.0, 0.0, 0.0, 0.0], \"yaxis\": \"y2\"}, {\"hovertext\": \"4.00%, 12.00 mm\", \"name\": \"1088782\", \"type\": \"scatter\", \"x\": [0, 1, 2, 3, 4, 5, 6, 7, 8, 9, 10], \"xaxis\": \"x2\", \"y\": [0.0, 0.0, 0.0, 0.0, 0.0, 0.0, 0.0, 0.0, 0.0, 0.0, 0.0], \"yaxis\": \"y2\"}, {\"hovertext\": \"3.00%, 24.00 mm\", \"name\": \"1088783\", \"type\": \"scatter\", \"x\": [0, 1, 2, 3, 4, 5, 6, 7, 8, 9, 10], \"xaxis\": \"x2\", \"y\": [0.0, 0.0, 0.0, 0.0, 0.0, 0.0, 0.0, 0.0, 0.0, 0.0, 0.0], \"yaxis\": \"y2\"}, {\"hovertext\": \"5.00%, 72.00 mm\", \"name\": \"1088784\", \"type\": \"scatter\", \"x\": [0, 1, 2, 3, 4, 5, 6, 7, 8, 9, 10], \"xaxis\": \"x2\", \"y\": [0.0, 0.0, 0.0, 0.0, 0.0, 0.0, 0.0, 0.0, 0.0, 0.0, 0.0], \"yaxis\": \"y2\"}, {\"hovertext\": \"10.00%, 40.00 mm\", \"name\": \"1088785\", \"type\": \"scatter\", \"x\": [0, 1, 2, 3, 4, 5, 6, 7, 8, 9, 10], \"xaxis\": \"x2\", \"y\": [0.0, 0.0, 0.0, 0.0, 0.0, 0.0, 0.0, 0.0, 0.0, 0.0, 0.0], \"yaxis\": \"y2\"}, {\"hovertext\": \"7.00%, 23.00 mm\", \"name\": \"1088786\", \"type\": \"scatter\", \"x\": [0, 1, 2, 3, 4, 5, 6, 7, 8, 9, 10], \"xaxis\": \"x2\", \"y\": [0.0, 0.0, 0.0, 0.0, 0.0, 0.0, 0.0, 0.0, 0.0, 0.0, 0.0], \"yaxis\": \"y2\"}, {\"hovertext\": \"3.00%, 25.00 mm\", \"name\": \"1088787\", \"type\": \"scatter\", \"x\": [0, 1, 2, 3, 4, 5, 6, 7, 8, 9, 10], \"xaxis\": \"x2\", \"y\": [0.0, 0.0, 0.0, 0.0, 0.0, 0.0, 0.0, 0.0, 0.0, 0.0, 0.0], \"yaxis\": \"y2\"}, {\"hovertext\": \"4.00%, 67.00 mm\", \"name\": \"1088788\", \"type\": \"scatter\", \"x\": [0, 1, 2, 3, 4, 5, 6, 7, 8, 9, 10], \"xaxis\": \"x2\", \"y\": [0.0, 0.0, 0.0, 0.0, 0.0, 0.0, 0.0, 0.0, 0.0, 0.0, 0.0], \"yaxis\": \"y2\"}, {\"hovertext\": \"14.00%, 27.00 mm\", \"name\": \"1088789\", \"type\": \"scatter\", \"x\": [0, 1, 2, 3, 4, 5, 6, 7, 8, 9, 10], \"xaxis\": \"x2\", \"y\": [0.0, 0.0, 0.0, 0.0, 0.0, 0.0, 0.0, 0.0, 0.0, 0.0, 0.0], \"yaxis\": \"y2\"}, {\"hovertext\": \"4.00%, 16.00 mm\", \"name\": \"1088790\", \"type\": \"scatter\", \"x\": [0, 1, 2, 3, 4, 5, 6, 7, 8, 9, 10], \"xaxis\": \"x2\", \"y\": [0.0, 0.0, 0.0, 0.0, 0.0, 0.0, 0.0, 0.0, 0.0, 0.0, 0.0], \"yaxis\": \"y2\"}, {\"hovertext\": \"3.00%, 18.00 mm\", \"name\": \"1088791\", \"type\": \"scatter\", \"x\": [0, 1, 2, 3, 4, 5, 6, 7, 8, 9, 10], \"xaxis\": \"x2\", \"y\": [0.0, 0.0, 0.0, 0.0, 0.0, 0.0, 0.0, 0.0, 0.0, 0.0, 0.0], \"yaxis\": \"y2\"}, {\"hovertext\": \"3.00%, 11.00 mm\", \"name\": \"1088792\", \"type\": \"scatter\", \"x\": [0, 1, 2, 3, 4, 5, 6, 7, 8, 9, 10], \"xaxis\": \"x2\", \"y\": [0.0, 0.0, 0.0, 0.0, 0.0, 0.0, 0.0, 0.0, 0.0, 0.0, 0.0], \"yaxis\": \"y2\"}, {\"hovertext\": \"3.00%, 18.00 mm\", \"name\": \"1088794\", \"type\": \"scatter\", \"x\": [0, 1, 2, 3, 4, 5, 6, 7, 8, 9, 10], \"xaxis\": \"x2\", \"y\": [0.0, 0.0, 0.0, 0.0, 0.0, 0.0, 0.0, 0.0, 0.0, 0.0, 0.0], \"yaxis\": \"y2\"}, {\"hovertext\": \"3.00%, 15.00 mm\", \"name\": \"1088795\", \"type\": \"scatter\", \"x\": [0, 1, 2, 3, 4, 5, 6, 7, 8, 9, 10], \"xaxis\": \"x2\", \"y\": [0.0, 0.0, 0.0, 0.0, 0.0, 0.0, 0.0, 0.0, 0.0, 0.0, 0.0], \"yaxis\": \"y2\"}, {\"hovertext\": \"3.00%, 11.00 mm\", \"name\": \"1088796\", \"type\": \"scatter\", \"x\": [0, 1, 2, 3, 4, 5, 6, 7, 8, 9, 10], \"xaxis\": \"x2\", \"y\": [0.0, 0.0, 0.0, 0.0, 0.0, 0.0, 0.0, 0.0, 0.0, 0.0, 0.0], \"yaxis\": \"y2\"}, {\"hovertext\": \"4.00%, 11.00 mm\", \"name\": \"1088797\", \"type\": \"scatter\", \"x\": [0, 1, 2, 3, 4, 5, 6, 7, 8, 9, 10], \"xaxis\": \"x2\", \"y\": [0.0, 0.0, 0.0, 0.0, 0.0, 0.0, 0.0, 0.0, 0.0, 0.0, 0.0], \"yaxis\": \"y2\"}, {\"hovertext\": \"3.00%, 11.00 mm\", \"name\": \"1088798\", \"type\": \"scatter\", \"x\": [0, 1, 2, 3, 4, 5, 6, 7, 8, 9, 10], \"xaxis\": \"x2\", \"y\": [0.0, 0.0, 0.0, 0.0, 0.0, 0.0, 0.0, 0.0, 0.0, 0.0, 0.0], \"yaxis\": \"y2\"}, {\"hovertext\": \"3.00%, 11.00 mm\", \"name\": \"1088799\", \"type\": \"scatter\", \"x\": [0, 1, 2, 3, 4, 5, 6, 7, 8, 9, 10], \"xaxis\": \"x2\", \"y\": [0.0, 0.0, 0.0, 0.0, 0.0, 0.0, 0.0, 0.0, 0.0, 0.0, 0.0], \"yaxis\": \"y2\"}, {\"hovertext\": \"5.00%, 11.00 mm\", \"name\": \"1088800\", \"type\": \"scatter\", \"x\": [0, 1, 2, 3, 4, 5, 6, 7, 8, 9, 10], \"xaxis\": \"x2\", \"y\": [0.0, 0.0, 0.0, 0.0, 0.0, 0.0, 0.0, 0.0, 0.0, 0.0, 0.0], \"yaxis\": \"y2\"}, {\"hovertext\": \"5.00%, 25.00 mm\", \"name\": \"1088801\", \"type\": \"scatter\", \"x\": [0, 1, 2, 3, 4, 5, 6, 7, 8, 9, 10], \"xaxis\": \"x2\", \"y\": [0.0, 0.0, 0.0, 0.0, 0.0, 0.0, 0.0, 0.0, 0.0, 0.0, 0.0], \"yaxis\": \"y2\"}, {\"hovertext\": \"4.00%, 17.00 mm\", \"name\": \"1088802\", \"type\": \"scatter\", \"x\": [0, 1, 2, 3, 4, 5, 6, 7, 8, 9, 10], \"xaxis\": \"x2\", \"y\": [0.0, 0.0, 0.0, 0.0, 0.0, 0.0, 0.0, 0.0, 0.0, 0.0, 0.0], \"yaxis\": \"y2\"}, {\"hovertext\": \"4.00%, 16.00 mm\", \"name\": \"1088803\", \"type\": \"scatter\", \"x\": [0, 1, 2, 3, 4, 5, 6, 7, 8, 9, 10], \"xaxis\": \"x2\", \"y\": [0.0, 0.0, 0.0, 0.0, 0.0, 0.0, 0.0, 0.0, 0.0, 0.0, 0.0], \"yaxis\": \"y2\"}, {\"hovertext\": \"3.00%, 17.00 mm\", \"name\": \"1088804\", \"type\": \"scatter\", \"x\": [0, 1, 2, 3, 4, 5, 6, 7, 8, 9, 10], \"xaxis\": \"x2\", \"y\": [0.0, 0.0, 0.0, 0.0, 0.0, 0.0, 0.0, 0.0, 0.0, 0.0, 0.0], \"yaxis\": \"y2\"}, {\"hovertext\": \"14.00%, 20.00 mm\", \"name\": \"1088805\", \"type\": \"scatter\", \"x\": [0, 1, 2, 3, 4, 5, 6, 7, 8, 9, 10], \"xaxis\": \"x2\", \"y\": [0.0, 0.0, 0.0, 0.0, 0.0, 0.0, 0.0, 0.0, 0.0, 0.0, 0.0], \"yaxis\": \"y2\"}, {\"hovertext\": \"3.00%, 11.00 mm\", \"name\": \"1088806\", \"type\": \"scatter\", \"x\": [0, 1, 2, 3, 4, 5, 6, 7, 8, 9, 10], \"xaxis\": \"x2\", \"y\": [0.0, 0.0, 0.0, 0.0, 0.0, 0.0, 0.0, 0.0, 0.0, 0.0, 0.0], \"yaxis\": \"y2\"}, {\"hovertext\": \"17.00%, 47.00 mm\", \"name\": \"1088808\", \"type\": \"scatter\", \"x\": [0, 1, 2, 3, 4, 5, 6, 7, 8, 9, 10], \"xaxis\": \"x2\", \"y\": [0.0, 0.0, 0.0, 0.0, 0.0, 0.0, 0.0, 0.0, 0.0, 0.0, 0.0], \"yaxis\": \"y2\"}, {\"hovertext\": \"2.00%, 22.00 mm\", \"name\": \"1088809\", \"type\": \"scatter\", \"x\": [0, 1, 2, 3, 4, 5, 6, 7, 8, 9, 10], \"xaxis\": \"x2\", \"y\": [0.0, 0.0, 0.0, 0.0, 0.0, 0.0, 0.0, 0.0, 0.0, 0.0, 0.0], \"yaxis\": \"y2\"}, {\"hovertext\": \"3.00%, 25.00 mm\", \"name\": \"1088810\", \"type\": \"scatter\", \"x\": [0, 1, 2, 3, 4, 5, 6, 7, 8, 9, 10], \"xaxis\": \"x2\", \"y\": [0.0, 0.0, 0.0, 0.0, 0.0, 0.0, 0.0, 0.0, 0.0, 0.0, 0.0], \"yaxis\": \"y2\"}, {\"hovertext\": \"3.00%, 34.00 mm\", \"name\": \"1088811\", \"type\": \"scatter\", \"x\": [0, 1, 2, 3, 4, 5, 6, 7, 8, 9, 10], \"xaxis\": \"x2\", \"y\": [0.0, 0.0, 0.0, 0.0, 0.0, 0.0, 0.0, 0.0, 0.0, 0.0, 0.0], \"yaxis\": \"y2\"}, {\"hovertext\": \"3.00%, 35.00 mm\", \"name\": \"1088812\", \"type\": \"scatter\", \"x\": [0, 1, 2, 3, 4, 5, 6, 7, 8, 9, 10], \"xaxis\": \"x2\", \"y\": [0.0, 0.0, 0.0, 0.0, 0.0, 0.0, 0.0, 0.0, 0.0, 0.0, 0.0], \"yaxis\": \"y2\"}, {\"hovertext\": \"3.00%, 31.00 mm\", \"name\": \"1088813\", \"type\": \"scatter\", \"x\": [0, 1, 2, 3, 4, 5, 6, 7, 8, 9, 10], \"xaxis\": \"x2\", \"y\": [0.0, 0.0, 0.0, 0.0, 0.0, 0.0, 0.0, 0.0, 0.0, 0.0, 0.0], \"yaxis\": \"y2\"}, {\"hovertext\": \"3.00%, 11.00 mm\", \"name\": \"1088815\", \"type\": \"scatter\", \"x\": [0, 1, 2, 3, 4, 5, 6, 7, 8, 9, 10], \"xaxis\": \"x2\", \"y\": [0.0, 0.0, 0.0, 0.0, 0.0, 0.0, 0.0, 0.0, 0.0, 0.0, 0.0], \"yaxis\": \"y2\"}, {\"hovertext\": \"3.00%, 37.00 mm\", \"name\": \"1088816\", \"type\": \"scatter\", \"x\": [0, 1, 2, 3, 4, 5, 6, 7, 8, 9, 10], \"xaxis\": \"x2\", \"y\": [0.0, 0.0, 0.0, 0.0, 0.0, 0.0, 0.0, 0.0, 0.0, 0.0, 0.0], \"yaxis\": \"y2\"}, {\"hovertext\": \"4.00%, 26.00 mm\", \"name\": \"1088817\", \"type\": \"scatter\", \"x\": [0, 1, 2, 3, 4, 5, 6, 7, 8, 9, 10], \"xaxis\": \"x2\", \"y\": [0.0, 0.0, 0.0, 0.0, 0.0, 0.0, 0.0, 0.0, 0.0, 0.0, 0.0], \"yaxis\": \"y2\"}, {\"hovertext\": \"3.00%, 19.00 mm\", \"name\": \"1088818\", \"type\": \"scatter\", \"x\": [0, 1, 2, 3, 4, 5, 6, 7, 8, 9, 10], \"xaxis\": \"x2\", \"y\": [0.0, 0.0, 0.0, 0.0, 0.0, 0.0, 0.0, 0.0, 0.0, 0.0, 0.0], \"yaxis\": \"y2\"}, {\"hovertext\": \"3.00%, 11.00 mm\", \"name\": \"1088819\", \"type\": \"scatter\", \"x\": [0, 1, 2, 3, 4, 5, 6, 7, 8, 9, 10], \"xaxis\": \"x2\", \"y\": [0.0, 0.0, 0.0, 0.0, 0.0, 0.0, 0.0, 0.0, 0.0, 0.0, 0.0], \"yaxis\": \"y2\"}, {\"hovertext\": \"13.00%, 33.00 mm\", \"name\": \"1088820\", \"type\": \"scatter\", \"x\": [0, 1, 2, 3, 4, 5, 6, 7, 8, 9, 10], \"xaxis\": \"x2\", \"y\": [0.0, 0.0, 0.0, 0.0, 0.0, 0.0, 0.0, 0.0, 0.0, 0.0, 0.0], \"yaxis\": \"y2\"}],\n",
       "                        {\"annotations\": [{\"font\": {\"size\": 16}, \"showarrow\": false, \"text\": \"LEAK mode\", \"x\": 0.5, \"xanchor\": \"center\", \"xref\": \"paper\", \"y\": 1.0, \"yanchor\": \"bottom\", \"yref\": \"paper\"}, {\"font\": {\"size\": 16}, \"showarrow\": false, \"text\": \"RUPTURE mode\", \"x\": 0.5, \"xanchor\": \"center\", \"xref\": \"paper\", \"y\": 0.475, \"yanchor\": \"bottom\", \"yref\": \"paper\"}], \"height\": 750, \"margin\": {\"b\": 20, \"l\": 20, \"r\": 100, \"t\": 100}, \"template\": {\"data\": {\"bar\": [{\"error_x\": {\"color\": \"#2a3f5f\"}, \"error_y\": {\"color\": \"#2a3f5f\"}, \"marker\": {\"line\": {\"color\": \"#E5ECF6\", \"width\": 0.5}}, \"type\": \"bar\"}], \"barpolar\": [{\"marker\": {\"line\": {\"color\": \"#E5ECF6\", \"width\": 0.5}}, \"type\": \"barpolar\"}], \"carpet\": [{\"aaxis\": {\"endlinecolor\": \"#2a3f5f\", \"gridcolor\": \"white\", \"linecolor\": \"white\", \"minorgridcolor\": \"white\", \"startlinecolor\": \"#2a3f5f\"}, \"baxis\": {\"endlinecolor\": \"#2a3f5f\", \"gridcolor\": \"white\", \"linecolor\": \"white\", \"minorgridcolor\": \"white\", \"startlinecolor\": \"#2a3f5f\"}, \"type\": \"carpet\"}], \"choropleth\": [{\"colorbar\": {\"outlinewidth\": 0, \"ticks\": \"\"}, \"type\": \"choropleth\"}], \"contour\": [{\"colorbar\": {\"outlinewidth\": 0, \"ticks\": \"\"}, \"colorscale\": [[0.0, \"#0d0887\"], [0.1111111111111111, \"#46039f\"], [0.2222222222222222, \"#7201a8\"], [0.3333333333333333, \"#9c179e\"], [0.4444444444444444, \"#bd3786\"], [0.5555555555555556, \"#d8576b\"], [0.6666666666666666, \"#ed7953\"], [0.7777777777777778, \"#fb9f3a\"], [0.8888888888888888, \"#fdca26\"], [1.0, \"#f0f921\"]], \"type\": \"contour\"}], \"contourcarpet\": [{\"colorbar\": {\"outlinewidth\": 0, \"ticks\": \"\"}, \"type\": \"contourcarpet\"}], \"heatmap\": [{\"colorbar\": {\"outlinewidth\": 0, \"ticks\": \"\"}, \"colorscale\": [[0.0, \"#0d0887\"], [0.1111111111111111, \"#46039f\"], [0.2222222222222222, \"#7201a8\"], [0.3333333333333333, \"#9c179e\"], [0.4444444444444444, \"#bd3786\"], [0.5555555555555556, \"#d8576b\"], [0.6666666666666666, \"#ed7953\"], [0.7777777777777778, \"#fb9f3a\"], [0.8888888888888888, \"#fdca26\"], [1.0, \"#f0f921\"]], \"type\": \"heatmap\"}], \"heatmapgl\": [{\"colorbar\": {\"outlinewidth\": 0, \"ticks\": \"\"}, \"colorscale\": [[0.0, \"#0d0887\"], [0.1111111111111111, \"#46039f\"], [0.2222222222222222, \"#7201a8\"], [0.3333333333333333, \"#9c179e\"], [0.4444444444444444, \"#bd3786\"], [0.5555555555555556, \"#d8576b\"], [0.6666666666666666, \"#ed7953\"], [0.7777777777777778, \"#fb9f3a\"], [0.8888888888888888, \"#fdca26\"], [1.0, \"#f0f921\"]], \"type\": \"heatmapgl\"}], \"histogram\": [{\"marker\": {\"colorbar\": {\"outlinewidth\": 0, \"ticks\": \"\"}}, \"type\": \"histogram\"}], \"histogram2d\": [{\"colorbar\": {\"outlinewidth\": 0, \"ticks\": \"\"}, \"colorscale\": [[0.0, \"#0d0887\"], [0.1111111111111111, \"#46039f\"], [0.2222222222222222, \"#7201a8\"], [0.3333333333333333, \"#9c179e\"], [0.4444444444444444, \"#bd3786\"], [0.5555555555555556, \"#d8576b\"], [0.6666666666666666, \"#ed7953\"], [0.7777777777777778, \"#fb9f3a\"], [0.8888888888888888, \"#fdca26\"], [1.0, \"#f0f921\"]], \"type\": \"histogram2d\"}], \"histogram2dcontour\": [{\"colorbar\": {\"outlinewidth\": 0, \"ticks\": \"\"}, \"colorscale\": [[0.0, \"#0d0887\"], [0.1111111111111111, \"#46039f\"], [0.2222222222222222, \"#7201a8\"], [0.3333333333333333, \"#9c179e\"], [0.4444444444444444, \"#bd3786\"], [0.5555555555555556, \"#d8576b\"], [0.6666666666666666, \"#ed7953\"], [0.7777777777777778, \"#fb9f3a\"], [0.8888888888888888, \"#fdca26\"], [1.0, \"#f0f921\"]], \"type\": \"histogram2dcontour\"}], \"mesh3d\": [{\"colorbar\": {\"outlinewidth\": 0, \"ticks\": \"\"}, \"type\": \"mesh3d\"}], \"parcoords\": [{\"line\": {\"colorbar\": {\"outlinewidth\": 0, \"ticks\": \"\"}}, \"type\": \"parcoords\"}], \"scatter\": [{\"marker\": {\"colorbar\": {\"outlinewidth\": 0, \"ticks\": \"\"}}, \"type\": \"scatter\"}], \"scatter3d\": [{\"line\": {\"colorbar\": {\"outlinewidth\": 0, \"ticks\": \"\"}}, \"marker\": {\"colorbar\": {\"outlinewidth\": 0, \"ticks\": \"\"}}, \"type\": \"scatter3d\"}], \"scattercarpet\": [{\"marker\": {\"colorbar\": {\"outlinewidth\": 0, \"ticks\": \"\"}}, \"type\": \"scattercarpet\"}], \"scattergeo\": [{\"marker\": {\"colorbar\": {\"outlinewidth\": 0, \"ticks\": \"\"}}, \"type\": \"scattergeo\"}], \"scattergl\": [{\"marker\": {\"colorbar\": {\"outlinewidth\": 0, \"ticks\": \"\"}}, \"type\": \"scattergl\"}], \"scattermapbox\": [{\"marker\": {\"colorbar\": {\"outlinewidth\": 0, \"ticks\": \"\"}}, \"type\": \"scattermapbox\"}], \"scatterpolar\": [{\"marker\": {\"colorbar\": {\"outlinewidth\": 0, \"ticks\": \"\"}}, \"type\": \"scatterpolar\"}], \"scatterpolargl\": [{\"marker\": {\"colorbar\": {\"outlinewidth\": 0, \"ticks\": \"\"}}, \"type\": \"scatterpolargl\"}], \"scatterternary\": [{\"marker\": {\"colorbar\": {\"outlinewidth\": 0, \"ticks\": \"\"}}, \"type\": \"scatterternary\"}], \"surface\": [{\"colorbar\": {\"outlinewidth\": 0, \"ticks\": \"\"}, \"colorscale\": [[0.0, \"#0d0887\"], [0.1111111111111111, \"#46039f\"], [0.2222222222222222, \"#7201a8\"], [0.3333333333333333, \"#9c179e\"], [0.4444444444444444, \"#bd3786\"], [0.5555555555555556, \"#d8576b\"], [0.6666666666666666, \"#ed7953\"], [0.7777777777777778, \"#fb9f3a\"], [0.8888888888888888, \"#fdca26\"], [1.0, \"#f0f921\"]], \"type\": \"surface\"}], \"table\": [{\"cells\": {\"fill\": {\"color\": \"#EBF0F8\"}, \"line\": {\"color\": \"white\"}}, \"header\": {\"fill\": {\"color\": \"#C8D4E3\"}, \"line\": {\"color\": \"white\"}}, \"type\": \"table\"}]}, \"layout\": {\"annotationdefaults\": {\"arrowcolor\": \"#2a3f5f\", \"arrowhead\": 0, \"arrowwidth\": 1}, \"colorscale\": {\"diverging\": [[0, \"#8e0152\"], [0.1, \"#c51b7d\"], [0.2, \"#de77ae\"], [0.3, \"#f1b6da\"], [0.4, \"#fde0ef\"], [0.5, \"#f7f7f7\"], [0.6, \"#e6f5d0\"], [0.7, \"#b8e186\"], [0.8, \"#7fbc41\"], [0.9, \"#4d9221\"], [1, \"#276419\"]], \"sequential\": [[0.0, \"#0d0887\"], [0.1111111111111111, \"#46039f\"], [0.2222222222222222, \"#7201a8\"], [0.3333333333333333, \"#9c179e\"], [0.4444444444444444, \"#bd3786\"], [0.5555555555555556, \"#d8576b\"], [0.6666666666666666, \"#ed7953\"], [0.7777777777777778, \"#fb9f3a\"], [0.8888888888888888, \"#fdca26\"], [1.0, \"#f0f921\"]], \"sequentialminus\": [[0.0, \"#0d0887\"], [0.1111111111111111, \"#46039f\"], [0.2222222222222222, \"#7201a8\"], [0.3333333333333333, \"#9c179e\"], [0.4444444444444444, \"#bd3786\"], [0.5555555555555556, \"#d8576b\"], [0.6666666666666666, \"#ed7953\"], [0.7777777777777778, \"#fb9f3a\"], [0.8888888888888888, \"#fdca26\"], [1.0, \"#f0f921\"]]}, \"colorway\": [\"#636efa\", \"#EF553B\", \"#00cc96\", \"#ab63fa\", \"#FFA15A\", \"#19d3f3\", \"#FF6692\", \"#B6E880\", \"#FF97FF\", \"#FECB52\"], \"font\": {\"color\": \"#2a3f5f\"}, \"geo\": {\"bgcolor\": \"white\", \"lakecolor\": \"white\", \"landcolor\": \"#E5ECF6\", \"showlakes\": true, \"showland\": true, \"subunitcolor\": \"white\"}, \"hoverlabel\": {\"align\": \"left\"}, \"hovermode\": \"closest\", \"mapbox\": {\"style\": \"light\"}, \"paper_bgcolor\": \"white\", \"plot_bgcolor\": \"#E5ECF6\", \"polar\": {\"angularaxis\": {\"gridcolor\": \"white\", \"linecolor\": \"white\", \"ticks\": \"\"}, \"bgcolor\": \"#E5ECF6\", \"radialaxis\": {\"gridcolor\": \"white\", \"linecolor\": \"white\", \"ticks\": \"\"}}, \"scene\": {\"xaxis\": {\"backgroundcolor\": \"#E5ECF6\", \"gridcolor\": \"white\", \"gridwidth\": 2, \"linecolor\": \"white\", \"showbackground\": true, \"ticks\": \"\", \"zerolinecolor\": \"white\"}, \"yaxis\": {\"backgroundcolor\": \"#E5ECF6\", \"gridcolor\": \"white\", \"gridwidth\": 2, \"linecolor\": \"white\", \"showbackground\": true, \"ticks\": \"\", \"zerolinecolor\": \"white\"}, \"zaxis\": {\"backgroundcolor\": \"#E5ECF6\", \"gridcolor\": \"white\", \"gridwidth\": 2, \"linecolor\": \"white\", \"showbackground\": true, \"ticks\": \"\", \"zerolinecolor\": \"white\"}}, \"shapedefaults\": {\"line\": {\"color\": \"#2a3f5f\"}}, \"ternary\": {\"aaxis\": {\"gridcolor\": \"white\", \"linecolor\": \"white\", \"ticks\": \"\"}, \"baxis\": {\"gridcolor\": \"white\", \"linecolor\": \"white\", \"ticks\": \"\"}, \"bgcolor\": \"#E5ECF6\", \"caxis\": {\"gridcolor\": \"white\", \"linecolor\": \"white\", \"ticks\": \"\"}}, \"title\": {\"x\": 0.05}, \"xaxis\": {\"automargin\": true, \"gridcolor\": \"white\", \"linecolor\": \"white\", \"ticks\": \"\", \"zerolinecolor\": \"white\", \"zerolinewidth\": 2}, \"yaxis\": {\"automargin\": true, \"gridcolor\": \"white\", \"linecolor\": \"white\", \"ticks\": \"\", \"zerolinecolor\": \"white\", \"zerolinewidth\": 2}}}, \"title\": {\"text\": \"POE Projection for next 10 years\"}, \"width\": 1000, \"xaxis\": {\"anchor\": \"y\", \"domain\": [0.0, 1.0], \"matches\": \"x2\", \"showticklabels\": false}, \"xaxis2\": {\"anchor\": \"y2\", \"domain\": [0.0, 1.0], \"dtick\": 1, \"title\": {\"text\": \"Years after year of analysis\"}}, \"yaxis\": {\"anchor\": \"x\", \"domain\": [0.525, 1.0], \"tickformat\": \"0.2e\", \"title\": {\"text\": \"LEAK POE\"}, \"type\": \"log\"}, \"yaxis2\": {\"anchor\": \"x2\", \"domain\": [0.0, 0.475], \"tickformat\": \"0.2e\", \"title\": {\"text\": \"RUPTURE POE\"}, \"type\": \"log\"}},\n",
       "                        {\"responsive\": true}\n",
       "                    ).then(function(){\n",
       "                            \n",
       "var gd = document.getElementById('7c2ec255-771f-4580-a12b-f4a0fe6dc0b3');\n",
       "var x = new MutationObserver(function (mutations, observer) {{\n",
       "        var display = window.getComputedStyle(gd).display;\n",
       "        if (!display || display === 'none') {{\n",
       "            console.log([gd, 'removed!']);\n",
       "            Plotly.purge(gd);\n",
       "            observer.disconnect();\n",
       "        }}\n",
       "}});\n",
       "\n",
       "// Listen for the removal of the full notebook cells\n",
       "var notebookContainer = gd.closest('#notebook-container');\n",
       "if (notebookContainer) {{\n",
       "    x.observe(notebookContainer, {childList: true});\n",
       "}}\n",
       "\n",
       "// Listen for the clearing of the current output cell\n",
       "var outputEl = gd.closest('.output');\n",
       "if (outputEl) {{\n",
       "    x.observe(outputEl, {childList: true});\n",
       "}}\n",
       "\n",
       "                        })\n",
       "                };\n",
       "                });\n",
       "            </script>\n",
       "        </div>"
      ]
     },
     "metadata": {},
     "output_type": "display_data"
    }
   ],
   "source": [
    "# create subplots\n",
    "fig = make_subplots(rows=2, cols=1, shared_xaxes=True, vertical_spacing=0.05,\n",
    "                   subplot_titles=(\"LEAK mode\",\"RUPTURE mode\"))\n",
    "\n",
    "f_mode = \"leak\" # leak | rupture | fail\n",
    "\n",
    "# add leak POE data to the figure\n",
    "for col in df.set_index('FeatureID').join(result).filter(regex=f_mode).T:\n",
    "         fig.add_trace({\"x\":list(range(0,11)),\n",
    "                        \"y\":df.set_index('FeatureID').join(result).filter(regex=f_mode).T.loc[:,col],\n",
    "                        \"name\":str(df.set_index('FeatureID').join(result).filter(regex=f_mode).T.loc[:,col].name),\n",
    "                       \"hovertext\":f\"{df.set_index('FeatureID').join(result).loc[col,['depth_fraction']].values[0]:.2%}, {df.set_index('FeatureID').join(result).loc[col,['length_mm']].values[0]:.2f} mm\"},\n",
    "                        row=1, col=1)\n",
    "                              \n",
    "                        \n",
    "f_mode = \"rupture\" # leak | rupture | fail\n",
    "\n",
    "# add the rupture POE data to the figure\n",
    "for col in df.set_index('FeatureID').join(result).filter(regex=f_mode).T:\n",
    "         fig.add_trace({\"x\":list(range(0,11)),\n",
    "                        \"y\":df.set_index('FeatureID').join(result).filter(regex=f_mode).T.loc[:,col],\n",
    "                        \"name\":str(df.set_index('FeatureID').join(result).filter(regex=f_mode).T.loc[:,col].name),\n",
    "                       \"hovertext\":f\"{df.set_index('FeatureID').join(result).loc[col,['depth_fraction']].values[0]:.2%}, {df.set_index('FeatureID').join(result).loc[col,['length_mm']].values[0]:.2f} mm\"},\n",
    "                        row=2, col=1)\n",
    "\n",
    "                        \n",
    "# create layout object for formating\n",
    "lay = go.Layout(\n",
    "        title=go.layout.Title(text=f\"POE Projection for next 10 years\"),\n",
    "#         xaxis1=go.layout.XAxis(title=\"Years after year of analysis\",dtick=1),\n",
    "        yaxis1=go.layout.YAxis(title=\"LEAK POE\", type='log', tickformat = '0.2e'),\n",
    "        xaxis2=go.layout.XAxis(title=\"Years after year of analysis\",dtick=1),\n",
    "        yaxis2=go.layout.YAxis(title=\"RUPTURE POE\", type='log', tickformat = '0.2e'),\n",
    "        width=1000,\n",
    "        height=750,\n",
    "        margin=dict(l=20,r=100,t=100,b=20))\n",
    "                        \n",
    "# updating the figure layout\n",
    "fig['layout'].update(lay)\n",
    "pyo.iplot(fig)"
   ]
  },
  {
   "cell_type": "code",
   "execution_count": null,
   "metadata": {},
   "outputs": [],
   "source": [
    "f_mode = \"fail\" # leak | rupture | fail\n",
    "\n",
    "## plotly approach ---------------------------\n",
    "lay = go.Layout(\n",
    "        title=go.layout.Title(text=f\"{f_mode.upper()} mode POE Projection for next 10 years\"),\n",
    "        xaxis=go.layout.XAxis(title=\"Years after year of analysis\",dtick=1),\n",
    "        yaxis=go.layout.YAxis(title=\"POE\", type='log', tickformat = '0.2e'),\n",
    "        width=1000,\n",
    "        height=500,\n",
    "        margin=dict(l=20,r=100,t=30,b=20)\n",
    ")\n",
    "data = [{\"x\":list(range(0,11)),\n",
    "        \"y\":df.set_index('FeatureID').join(result).filter(regex=f_mode).T.loc[:,col],\n",
    "        \"name\":str(df.set_index('FeatureID').join(result).filter(regex=f_mode).T.loc[:,col].name),\n",
    "        \"hovertext\":f\"{df.set_index('FeatureID').join(result).loc[col,['depth_fraction']].values[0]:.2%}, {df.set_index('FeatureID').join(result).loc[col,['length_mm']].values[0]:.2f} mm\"} for col in df.set_index('FeatureID').join(result).filter(regex=f_mode).T]\n",
    "\n",
    "fig = go.Figure(data=data,layout=lay)\n",
    "\n",
    "# adding the lines at each order of magnitude         \n",
    "for x in 10**np.arange(-5,0,1, dtype=float):\n",
    "    fig.add_trace(go.Scatter(x=list(range(0,11)),\n",
    "                             y=[x]*len(range(0,11)),\n",
    "                            mode='lines',\n",
    "                            line=dict(dash='dot',color='rgba(0,0,0,0.50)', width=1),\n",
    "                            showlegend=False,\n",
    "                            hoverinfo='skip'))      \n",
    "\n",
    "pyo.iplot(fig)"
   ]
  },
  {
   "cell_type": "markdown",
   "metadata": {},
   "source": [
    "## Case Study with Selected Pipelines"
   ]
  },
  {
   "cell_type": "markdown",
   "metadata": {},
   "source": [
    "Pembina wanted to do 1 new and 1 old pipeline for their validation.\n",
    "\n",
    "For the new pipeline they mentioned __16” Laglace to Wapiti__ or __Vantage__\n",
    "* NPS 16 LA GLACE TO WAPITI\n",
    "    * No ILI Ranges\n",
    "* NPS 10 VANTAGE - TIOGA TO BV 10\n",
    "    * ILIRID 939 - 42 records in **InlineInspectionFeature** Table\n",
    "* NPS 10 VANTAGE - BV 27 TO EMPRESS PUMP STATION\n",
    "    * ILIRID 1244 - 9607 records in **InlineInspectionFeature** Table\n",
    "* NPS 8 WEST SPUR LATERAL\n",
    "    * ILIRID 1431 - 103 records in **InlineInspectionFeature** Table\n",
    "* NPS 10 VANTAGE - ASSINIBOIA PUMP STATION TO BV 27\n",
    "    * ILIRID 941 - 335 records in **InlineInspectionFeature** Table\n",
    "\n",
    "For the old Pipeline they mentioned __Western 2-4__ or __20” Fox Creek to Edmonton__ (segment with Whitecourt)\n",
    "* NPS 12 WESTERN NORTH STATION 2-4\n",
    "    * ILIRID 1557 - 60,685 records in **InlineInspectionFeature** Table\n",
    "    * ILIRID 1814 - 68,313 records in **InlineInspectionFeature** Table (2019 ILI, latest with features)\n",
    "    * ILIRID 1558 - 106,818 records in **InlineInspectionFeature** Table\n",
    "    * ILIRID 780 - 72,361 records in **InlineInspectionFeature** Table\n",
    "    * ILIRID 1556 - 62,860 records in **InlineInspectionFeature** Table\n",
    "* NPS 20 FOX CREEK TO EDMONTON\n",
    "    * ILIRID 1146 - 81,805 records in **InlineInspectionFeature** Table\n",
    "    * ILIRID 1148 - 83,959 records in **InlineInspectionFeature** Table\n",
    "    * ILIRID 1149 - 113,181 records in **InlineInspectionFeature** Table\n",
    "    * ILIRID 15 - 81,894 records in **InlineInspectionFeature** Table\n",
    "    * ILIRID 16 - 101,250 records in **InlineInspectionFeature** Table\n",
    "    * ILIRID 1150 - 92,532 records in **InlineInspectionFeature** Table\n",
    "    * ILIRID 23 - 115,504 records in **InlineInspectionFeature** Table\n",
    "    * ILIRID 1147 - 89,717 records in **InlineInspectionFeature** Table (2015 ILI, latest with features)"
   ]
  },
  {
   "cell_type": "markdown",
   "metadata": {},
   "source": [
    "### NPS 10 VANTAGE - TIOGA TO BV 10\n",
    "* ILIRID 939"
   ]
  },
  {
   "cell_type": "code",
   "execution_count": null,
   "metadata": {
    "scrolled": false
   },
   "outputs": [],
   "source": [
    "%%time\n",
    "cs_df1 = get_features_for_poe(939)\n",
    "display(cs_df1.groupby(['ILIFSurfaceInd','status','type']).describe(include='all'))\n",
    "gc.collect()"
   ]
  },
  {
   "cell_type": "code",
   "execution_count": null,
   "metadata": {
    "scrolled": false
   },
   "outputs": [],
   "source": [
    "%%time\n",
    "\n",
    "cs_df1.install_date = pd.to_datetime(cs_df1.install_date)\n",
    "cs_df1.ILIRStartDate = pd.to_datetime(cs_df1.ILIRStartDate)\n",
    "cs_df1.loc[:, 'time_delta'] = ((cs_df1.ILIRStartDate - cs_df1.install_date).dt.days/365.25)\n",
    "cs_df1.loc[:, 'growth_rate_mmpyr'] = (cs_df1.depth_fraction*cs_df1.WT_mm)/cs_df1.time_delta\n",
    "\n",
    "# Assumption #1 for growth rate, uses the weibull_fitter.py function\n",
    "#   filters applies conditional statement to detect whether features is internal or external, filters out anything with a CGR less than 0.01mm/yr, and features in pipe older than 5y\n",
    "# Assumption #2, uses the weibull_fitter.py function\n",
    "#   filters applies conditional statement to detect whether features is internal or external, filters out anything with a CGR less than 0.01mm/yr, and features in pipe younger than 5y or older than 40y\n",
    "# Assumption #3, uses the weibull_fitter.py function\n",
    "#   filters applies conditional statement to detect whether features is internal or external, filters out anything with a CGR less than 0.01mm/yr, and features in pipe younger than 40y\n",
    "\n",
    "noise_filter = \"growth_rate_mmpyr>0.01\"\n",
    "query_1_e = \"ILIFSurfaceInd == 'E' & time_delta < 5.\"\n",
    "query_1_i = \"ILIFSurfaceInd == 'I' & time_delta < 5.\"\n",
    "query_2_e = \"ILIFSurfaceInd == 'E' & time_delta < 40. & time_delta > 5\"\n",
    "query_2_i = \"ILIFSurfaceInd == 'I' & time_delta < 40. & time_delta > 5\"\n",
    "query_3_e = \"ILIFSurfaceInd == 'E' & time_delta > 40.\"\n",
    "query_3_i = \"ILIFSurfaceInd == 'I' & time_delta > 40.\"\n",
    "\n",
    "cs_df1 = cs_df1.combine_first(cs_df1.apply(lambda x: weibull_fitter(cs_df1.query(f\"{query_1_e}\").loc[:,['growth_rate_mmpyr']]),result_type='expand', axis=1).loc[cs_df1.query(query_1_e).index,:])\n",
    "cs_df1 = cs_df1.combine_first(cs_df1.apply(lambda x: weibull_fitter(cs_df1.query(f\"{query_1_i}\").loc[:,['growth_rate_mmpyr']]),result_type='expand', axis=1).loc[cs_df1.query(query_1_i).index,:])\n",
    "cs_df1 = cs_df1.combine_first(cs_df1.apply(lambda x: weibull_fitter(cs_df1.query(f\"{query_2_e}\").loc[:,['growth_rate_mmpyr']]),result_type='expand', axis=1).loc[cs_df1.query(query_2_e).index,:])\n",
    "cs_df1 = cs_df1.combine_first(cs_df1.apply(lambda x: weibull_fitter(cs_df1.query(f\"{query_2_i}\").loc[:,['growth_rate_mmpyr']]),result_type='expand', axis=1).loc[cs_df1.query(query_2_i).index,:])\n",
    "cs_df1 = cs_df1.combine_first(cs_df1.apply(lambda x: weibull_fitter(cs_df1.query(f\"{query_3_e}\").loc[:,['growth_rate_mmpyr']]),result_type='expand', axis=1).loc[cs_df1.query(query_3_e).index,:])\n",
    "cs_df1 = cs_df1.combine_first(cs_df1.apply(lambda x: weibull_fitter(cs_df1.query(f\"{query_3_i}\").loc[:,['growth_rate_mmpyr']]),result_type='expand', axis=1).loc[cs_df1.query(query_3_i).index,:])\n",
    "cs_df1.rename({0:'shape',1:'scale'}, axis=1, inplace=True)\n",
    "\n",
    "iter = 100000\n",
    "result = corrpoe(cs_df1.query(\"ILIFSurfaceInd=='E'\"),iter,cga_rate=16.)\n",
    "\n",
    "result.iloc[:, 3:] = result.iloc[:,3:].apply(lambda x: x/iter)\n",
    "result.loc[:,'iterations'] = result.loc[:,'iterations'].apply('{:,.0f}'.format)\n",
    "\n",
    "result_cs_df1 = cs_df1.set_index('FeatureID').join(result)\n",
    "\n",
    "del result\n",
    "gc.collect()\n",
    "\n",
    "display(result_cs_df1.query(\"ILIFSurfaceInd == 'E'\").loc[:,'depth_fraction':].filter(regex=\"fail\").T)"
   ]
  },
  {
   "cell_type": "code",
   "execution_count": null,
   "metadata": {},
   "outputs": [],
   "source": [
    "result_cs_df1.loc[(result_cs_df1.filter(regex=\"fail\") > 0.).any(axis=1)==True,['depth_fraction','length_mm','fail_count_Y10']]"
   ]
  },
  {
   "cell_type": "code",
   "execution_count": null,
   "metadata": {},
   "outputs": [],
   "source": [
    "xlim = [0,100]\n",
    "ylim = [0.,1.]\n",
    "\n",
    "fail_curve_l = np.linspace(xlim[0],xlim[1],100)\n",
    "fail_curve_d = critical_depth_modified_b31g(result_cs_df1.OD_inch.mode()[0]*25.4,\n",
    "                                            result_cs_df1.WT_mm.mode()[0],\n",
    "                                            result_cs_df1.grade_MPa.mode()[0]*1000,\n",
    "                                            result_cs_df1.MAOP_kPa.mode()[0],\n",
    "                                            fail_curve_l)\n",
    "\n",
    "ax = result_cs_df1.loc[lambda x: x.ILIFSurfaceInd=='E',:].plot.scatter(x='length_mm', y='depth_fraction', marker=\"x\", c=\"#0000ffff\", s=75, xlim=xlim, ylim=ylim, label='pipeline #1')\n",
    "ax.plot(fail_curve_l,fail_curve_d, c='red', linewidth=2, label='failure pressure curve')\n",
    "ax.legend(fontsize='x-large')"
   ]
  },
  {
   "cell_type": "code",
   "execution_count": null,
   "metadata": {},
   "outputs": [],
   "source": [
    "f_mode = \"fail\" # leak | rupture | fail\n",
    "\n",
    "## plotly approach ---------------------------\n",
    "lay = go.Layout(\n",
    "        title=go.layout.Title(text=f\"{f_mode.upper()} mode POE Projection for next 10 years\"),\n",
    "        xaxis=go.layout.XAxis(title=\"Years after year of analysis\",dtick=1),\n",
    "        yaxis=go.layout.YAxis(title=\"POE\", type='log', tickformat = '0.2e'),\n",
    "        width=1000,\n",
    "        height=500,\n",
    "        margin=dict(l=20,r=100,t=30,b=20)\n",
    ")\n",
    "data = [{\"x\":list(range(0,11)),\n",
    "        \"y\":result_cs_df1.filter(regex=f_mode).T.loc[:,col],\n",
    "        \"name\":str(result_cs_df1.filter(regex=f_mode).T.loc[:,col].name),\n",
    "        \"hovertext\":f\"{result_cs_df1.loc[col,['depth_fraction']].values[0]:.2%}, {result_cs_df1.loc[col,['length_mm']].values[0]:.2f} mm\"} for col in result_cs_df1.filter(regex=f_mode).T]\n",
    "\n",
    "fig = go.Figure(data=data,layout=lay)\n",
    "\n",
    "pyo.iplot(fig)"
   ]
  },
  {
   "cell_type": "code",
   "execution_count": null,
   "metadata": {},
   "outputs": [],
   "source": [
    "# np.where(cs_df1.depth_fraction.values>0.10,cs_df1.depth_fraction.values*4./10,0.4)\n",
    "((datetime.datetime.now().date() - pd.to_datetime(cs_df1.install_date).dt.date).dt.days/365.25).unique()"
   ]
  },
  {
   "cell_type": "markdown",
   "metadata": {},
   "source": [
    "### NPS 10 VANTAGE - BV 27 TO EMPRESS PUMP STATION\n",
    "* ILIRID 1244 - 9607 records in InlineInspectionFeature Table"
   ]
  },
  {
   "cell_type": "code",
   "execution_count": null,
   "metadata": {
    "scrolled": false
   },
   "outputs": [],
   "source": [
    "%%time\n",
    "cs_df2 = get_features_for_poe(1244)\n",
    "display(cs_df2.groupby(['ILIFSurfaceInd','status','type']).describe(include='all'))\n",
    "gc.collect()"
   ]
  },
  {
   "cell_type": "code",
   "execution_count": null,
   "metadata": {
    "scrolled": false
   },
   "outputs": [],
   "source": [
    "%%time\n",
    "\n",
    "cs_df2.install_date = pd.to_datetime(cs_df2.install_date)\n",
    "cs_df2.ILIRStartDate = pd.to_datetime(cs_df2.ILIRStartDate)\n",
    "cs_df2.loc[:, 'time_delta'] = ((cs_df2.ILIRStartDate - cs_df2.install_date).dt.days/365.25)\n",
    "cs_df2.loc[:, 'growth_rate_mmpyr'] = (cs_df2.depth_fraction*cs_df2.WT_mm)/cs_df2.time_delta\n",
    "\n",
    "# Assumption #1 for growth rate, uses the weibull_fitter.py function\n",
    "#   filters applies conditional statement to detect whether features is internal or external, filters out anything with a CGR less than 0.01mm/yr, and features in pipe older than 5y\n",
    "# Assumption #2, uses the weibull_fitter.py function\n",
    "#   filters applies conditional statement to detect whether features is internal or external, filters out anything with a CGR less than 0.01mm/yr, and features in pipe younger than 5y or older than 40y\n",
    "# Assumption #3, uses the weibull_fitter.py function\n",
    "#   filters applies conditional statement to detect whether features is internal or external, filters out anything with a CGR less than 0.01mm/yr, and features in pipe younger than 40y\n",
    "\n",
    "noise_filter = \"growth_rate_mmpyr>0.01\"\n",
    "query_1_e = \"ILIFSurfaceInd == 'E' & time_delta < 5.\"\n",
    "query_1_i = \"ILIFSurfaceInd == 'I' & time_delta < 5.\"\n",
    "query_2_e = \"ILIFSurfaceInd == 'E' & time_delta < 40. & time_delta > 5\"\n",
    "query_2_i = \"ILIFSurfaceInd == 'I' & time_delta < 40. & time_delta > 5\"\n",
    "query_3_e = \"ILIFSurfaceInd == 'E' & time_delta > 40.\"\n",
    "query_3_i = \"ILIFSurfaceInd == 'I' & time_delta > 40.\"\n",
    "\n",
    "cs_df2 = cs_df2.combine_first(cs_df2.apply(lambda x: weibull_fitter(cs_df2.query(f\"{query_1_e}\").loc[:,['growth_rate_mmpyr']]),result_type='expand', axis=1).loc[cs_df2.query(query_1_e).index,:])\n",
    "cs_df2 = cs_df2.combine_first(cs_df2.apply(lambda x: weibull_fitter(cs_df2.query(f\"{query_1_i}\").loc[:,['growth_rate_mmpyr']]),result_type='expand', axis=1).loc[cs_df2.query(query_1_i).index,:])\n",
    "cs_df2 = cs_df2.combine_first(cs_df2.apply(lambda x: weibull_fitter(cs_df2.query(f\"{query_2_e}\").loc[:,['growth_rate_mmpyr']]),result_type='expand', axis=1).loc[cs_df2.query(query_2_e).index,:])\n",
    "cs_df2 = cs_df2.combine_first(cs_df2.apply(lambda x: weibull_fitter(cs_df2.query(f\"{query_2_i}\").loc[:,['growth_rate_mmpyr']]),result_type='expand', axis=1).loc[cs_df2.query(query_2_i).index,:])\n",
    "cs_df2 = cs_df2.combine_first(cs_df2.apply(lambda x: weibull_fitter(cs_df2.query(f\"{query_3_e}\").loc[:,['growth_rate_mmpyr']]),result_type='expand', axis=1).loc[cs_df2.query(query_3_e).index,:])\n",
    "cs_df2 = cs_df2.combine_first(cs_df2.apply(lambda x: weibull_fitter(cs_df2.query(f\"{query_3_i}\").loc[:,['growth_rate_mmpyr']]),result_type='expand', axis=1).loc[cs_df2.query(query_3_i).index,:])\n",
    "cs_df2.rename({0:'shape',1:'scale'}, axis=1, inplace=True)\n",
    "\n",
    "iter = 100000\n",
    "result = corrpoe(cs_df2.query(\"ILIFSurfaceInd == 'E'\"),iter,cga_rate=16.0)\n",
    "\n",
    "result.iloc[:, 3:] = result.iloc[:,3:].apply(lambda x: x/iter)#.applymap('{:.3e}'.format)\n",
    "result.loc[:,'iterations'] = result.loc[:,'iterations'].apply('{:,.0f}'.format)\n",
    "\n",
    "result_cs_df2 = cs_df2.set_index('FeatureID').join(result)\n",
    "\n",
    "del result\n",
    "gc.collect()\n",
    "\n",
    "display(result_cs_df2.query(\"ILIFSurfaceInd == 'E'\").loc[:,'depth_fraction':].filter(regex=\"fail\").T)"
   ]
  },
  {
   "cell_type": "code",
   "execution_count": null,
   "metadata": {},
   "outputs": [],
   "source": [
    "# np.where(cs_df1.depth_fraction.values>0.10,cs_df1.depth_fraction.values*4./10,0.4)\n",
    "((datetime.datetime.now().date() - pd.to_datetime(cs_df2.install_date).dt.date).dt.days/365.25).unique()"
   ]
  },
  {
   "cell_type": "code",
   "execution_count": null,
   "metadata": {},
   "outputs": [],
   "source": [
    "f_mode = \"fail\" # leak | rupture | fail\n",
    "\n",
    "## plotly approach ---------------------------\n",
    "lay = go.Layout(\n",
    "        title=go.layout.Title(text=f\"{f_mode.upper()} mode POE Projection for next 10 years\"),\n",
    "        xaxis=go.layout.XAxis(title=\"Years after year of analysis\",dtick=1),\n",
    "        yaxis=go.layout.YAxis(title=\"POE\", type='log', tickformat = '0.2e'),\n",
    "        width=1000,\n",
    "        height=500,\n",
    "        margin=dict(l=20,r=100,t=30,b=20)\n",
    ")\n",
    "data = [{\"x\":list(range(0,11)),\n",
    "        \"y\":result_cs_df2.filter(regex=f_mode).T.loc[:,col],\n",
    "        \"name\":str(result_cs_df2.filter(regex=f_mode).T.loc[:,col].name),\n",
    "        \"hovertext\":f\"{result_cs_df2.loc[col,['depth_fraction']].values[0]:.2%}, {result_cs_df2.loc[col,['length_mm']].values[0]:.2f} mm\"} for col in result_cs_df2.filter(regex=f_mode).T]\n",
    "\n",
    "fig = go.Figure(data=data,layout=lay)\n",
    "\n",
    "pyo.iplot(fig)"
   ]
  },
  {
   "cell_type": "code",
   "execution_count": null,
   "metadata": {
    "scrolled": false
   },
   "outputs": [],
   "source": [
    "# result_cs_df2.loc[(result_cs_df2.filter(regex=\"fail\") > 0.).any(axis=1)==True,['depth_fraction','length_mm','fail_count_Y10']]\n",
    "\n",
    "xlim = [0,100]\n",
    "ylim = [0.,1.]\n",
    "\n",
    "fail_curve_l = np.linspace(xlim[0],xlim[1],100)\n",
    "fail_curve_d = critical_depth_modified_b31g(result_cs_df2.OD_inch.mode()[0]*25.4,\n",
    "                                            result_cs_df2.WT_mm.mode()[0],\n",
    "                                            result_cs_df2.grade_MPa.mode()[0]*1000,\n",
    "                                            result_cs_df2.MAOP_kPa.mode()[0],\n",
    "                                            fail_curve_l)\n",
    "\n",
    "ax = result_cs_df2.loc[lambda x: x.ILIFSurfaceInd=='E',:].plot.scatter(x='length_mm', y='depth_fraction', marker=\"x\", c=\"#0000ffff\", s=75, xlim=xlim, ylim=ylim, label='pipeline #2')\n",
    "ax.plot(fail_curve_l,fail_curve_d, c='red', linewidth=2, label='failure pressure curve')\n",
    "ax.legend(fontsize='x-large')\n",
    "# result_cs_df2.loc[lambda x: x.ILIFSurfaceInd=='E',:].plot.scatter(x='length_mm', y='depth_fraction', c='darkblue', s=100, xlim=[0,100], ylim=[0,0.25])\n"
   ]
  },
  {
   "cell_type": "markdown",
   "metadata": {},
   "source": [
    "### NPS 8 WEST SPUR LATERAL\n",
    "* ILIRID 1431 - 103 records in InlineInspectionFeature Table"
   ]
  },
  {
   "cell_type": "code",
   "execution_count": null,
   "metadata": {
    "scrolled": false
   },
   "outputs": [],
   "source": [
    "%%time\n",
    "cs_df3 = get_features_for_poe(1431)\n",
    "display(cs_df3.groupby(['ILIFSurfaceInd','status','type']).describe(include='all'))\n",
    "gc.collect()"
   ]
  },
  {
   "cell_type": "code",
   "execution_count": null,
   "metadata": {
    "scrolled": false
   },
   "outputs": [],
   "source": [
    "%%time\n",
    "\n",
    "cs_df3.install_date = pd.to_datetime(cs_df3.install_date)\n",
    "cs_df3.ILIRStartDate = pd.to_datetime(cs_df3.ILIRStartDate)\n",
    "cs_df3.loc[:, 'time_delta'] = ((cs_df3.ILIRStartDate - cs_df3.install_date).dt.days/365.25)\n",
    "cs_df3.loc[:, 'growth_rate_mmpyr'] = (cs_df3.depth_fraction*cs_df3.WT_mm)/cs_df3.time_delta\n",
    "\n",
    "# Assumption #1 for growth rate, uses the weibull_fitter.py function\n",
    "#   filters applies conditional statement to detect whether features is internal or external, filters out anything with a CGR less than 0.01mm/yr, and features in pipe older than 5y\n",
    "# Assumption #2, uses the weibull_fitter.py function\n",
    "#   filters applies conditional statement to detect whether features is internal or external, filters out anything with a CGR less than 0.01mm/yr, and features in pipe younger than 5y or older than 40y\n",
    "# Assumption #3, uses the weibull_fitter.py function\n",
    "#   filters applies conditional statement to detect whether features is internal or external, filters out anything with a CGR less than 0.01mm/yr, and features in pipe younger than 40y\n",
    "\n",
    "noise_filter = \"growth_rate_mmpyr>0.01\"\n",
    "query_1_e = \"ILIFSurfaceInd == 'E' & time_delta < 5.\"\n",
    "query_1_i = \"ILIFSurfaceInd == 'I' & time_delta < 5.\"\n",
    "query_2_e = \"ILIFSurfaceInd == 'E' & time_delta < 40. & time_delta > 5\"\n",
    "query_2_i = \"ILIFSurfaceInd == 'I' & time_delta < 40. & time_delta > 5\"\n",
    "query_3_e = \"ILIFSurfaceInd == 'E' & time_delta > 40.\"\n",
    "query_3_i = \"ILIFSurfaceInd == 'I' & time_delta > 40.\"\n",
    "\n",
    "cs_df3 = cs_df3.combine_first(cs_df3.apply(lambda x: weibull_fitter(cs_df3.query(f\"{query_1_e}\").loc[:,['growth_rate_mmpyr']]),result_type='expand', axis=1).loc[cs_df3.query(query_1_e).index,:])\n",
    "cs_df3 = cs_df3.combine_first(cs_df3.apply(lambda x: weibull_fitter(cs_df3.query(f\"{query_1_i}\").loc[:,['growth_rate_mmpyr']]),result_type='expand', axis=1).loc[cs_df3.query(query_1_i).index,:])\n",
    "cs_df3 = cs_df3.combine_first(cs_df3.apply(lambda x: weibull_fitter(cs_df3.query(f\"{query_2_e}\").loc[:,['growth_rate_mmpyr']]),result_type='expand', axis=1).loc[cs_df3.query(query_2_e).index,:])\n",
    "cs_df3 = cs_df3.combine_first(cs_df3.apply(lambda x: weibull_fitter(cs_df3.query(f\"{query_2_i}\").loc[:,['growth_rate_mmpyr']]),result_type='expand', axis=1).loc[cs_df3.query(query_2_i).index,:])\n",
    "cs_df3 = cs_df3.combine_first(cs_df3.apply(lambda x: weibull_fitter(cs_df3.query(f\"{query_3_e}\").loc[:,['growth_rate_mmpyr']]),result_type='expand', axis=1).loc[cs_df3.query(query_3_e).index,:])\n",
    "cs_df3 = cs_df3.combine_first(cs_df3.apply(lambda x: weibull_fitter(cs_df3.query(f\"{query_3_i}\").loc[:,['growth_rate_mmpyr']]),result_type='expand', axis=1).loc[cs_df3.query(query_3_i).index,:])\n",
    "cs_df3.rename({0:'shape',1:'scale'}, axis=1, inplace=True)\n",
    "\n",
    "iter = 1000000\n",
    "result = corrpoe(cs_df3.query(\"ILIFSurfaceInd == 'E'\"),iter,cga_rate=16.0)\n",
    "\n",
    "result.iloc[:, 3:] = result.iloc[:,3:].apply(lambda x: x/iter)#.applymap('{:.3e}'.format)\n",
    "result.loc[:,'iterations'] = result.loc[:,'iterations'].apply('{:,.0f}'.format)\n",
    "\n",
    "result_cs_df3 = cs_df3.set_index('FeatureID').join(result)\n",
    "\n",
    "del result\n",
    "gc.collect()\n",
    "\n",
    "display(result_cs_df3.query(\"ILIFSurfaceInd == 'E'\").loc[:,'depth_fraction':].filter(regex=\"fail\").T)"
   ]
  },
  {
   "cell_type": "code",
   "execution_count": null,
   "metadata": {},
   "outputs": [],
   "source": [
    "result_cs_df3.loc[(result_cs_df3.filter(regex=\"fail\") > 0.).any(axis=1)==True,['depth_fraction','length_mm','fail_count_Y10']]"
   ]
  },
  {
   "cell_type": "code",
   "execution_count": null,
   "metadata": {},
   "outputs": [],
   "source": [
    "((datetime.datetime.now().date() - pd.to_datetime(cs_df3.install_date).dt.date).dt.days/365.25).unique()"
   ]
  },
  {
   "cell_type": "code",
   "execution_count": null,
   "metadata": {
    "scrolled": false
   },
   "outputs": [],
   "source": [
    "f_mode = \"fail\" # leak | rupture | fail\n",
    "\n",
    "result_cs_df3_1 = result_cs_df3.loc[(result_cs_df3.filter(regex=\"fail\") > 0.).any(axis=1)==True,:]\n",
    "\n",
    "## plotly approach ---------------------------\n",
    "lay = go.Layout(\n",
    "        title=go.layout.Title(text=f\"{f_mode.upper()} mode POE Projection for next 10 years\"),\n",
    "        xaxis=go.layout.XAxis(title=\"Years after year of analysis\",dtick=1),\n",
    "        yaxis=go.layout.YAxis(title=\"POE\", type='log', tickformat = '0.2e'),\n",
    "        width=1000,\n",
    "        height=500,\n",
    "        margin=dict(l=20,r=100,t=30,b=20)\n",
    ")\n",
    "data = [{\"x\":list(range(0,11)),\n",
    "        \"y\":result_cs_df3_1.filter(regex=f_mode).T.loc[:,col],\n",
    "        \"name\":str(result_cs_df3_1.filter(regex=f_mode).T.loc[:,col].name),\n",
    "        \"hovertext\":f\"{result_cs_df3_1.loc[col,['depth_fraction']].values[0]:.2%}, {result_cs_df3_1.loc[col,['length_mm']].values[0]:.2f} mm\",\n",
    "        \"mode\":'lines+markers',\n",
    "        } for col in result_cs_df3_1.filter(regex=f_mode).T]\n",
    "\n",
    "fig = go.Figure(data=data,layout=lay, )\n",
    "\n",
    "pyo.iplot(fig)\n",
    "del result_cs_df3_1"
   ]
  },
  {
   "cell_type": "code",
   "execution_count": null,
   "metadata": {
    "scrolled": false
   },
   "outputs": [],
   "source": [
    "# result_cs_df3.loc[(result_cs_df3.filter(regex=\"fail\") > 0.).any(axis=1)==True,['depth_fraction','length_mm','fail_count_Y10']]\n",
    "xlim = [0,200]\n",
    "ylim = [0.,1.]\n",
    "\n",
    "fail_curve_l = np.linspace(xlim[0],xlim[1],100)\n",
    "fail_curve_d = critical_depth_modified_b31g(result_cs_df3.OD_inch.mode()[0]*25.4,\n",
    "                                            result_cs_df3.WT_mm.mode()[0],\n",
    "                                            result_cs_df3.grade_MPa.mode()[0]*1000,\n",
    "                                            result_cs_df3.MAOP_kPa.mode()[0],\n",
    "                                            fail_curve_l)\n",
    "\n",
    "ax = result_cs_df3.loc[lambda x: x.ILIFSurfaceInd=='E',:].plot.scatter(x='length_mm', y='depth_fraction', marker=\"x\", c=\"#0000ffff\", s=75, xlim=xlim, ylim=ylim, label='pipeline #3')\n",
    "ax.plot(fail_curve_l,fail_curve_d, c='red', linewidth=2, label='failure pressure curve')\n",
    "ax.legend(fontsize='x-large')"
   ]
  },
  {
   "cell_type": "markdown",
   "metadata": {},
   "source": [
    "### NPS 10 VANTAGE - ASSINIBOIA PUMP STATION TO BV 27\n",
    "* ILIRID 941 - 335 records in InlineInspectionFeature Table"
   ]
  },
  {
   "cell_type": "code",
   "execution_count": null,
   "metadata": {
    "scrolled": false
   },
   "outputs": [],
   "source": [
    "%%time\n",
    "cs_df4 = get_features_for_poe(941)\n",
    "display(cs_df4.groupby(['ILIFSurfaceInd','status','type']).describe(include='all'))\n",
    "gc.collect()"
   ]
  },
  {
   "cell_type": "code",
   "execution_count": null,
   "metadata": {
    "scrolled": false
   },
   "outputs": [],
   "source": [
    "%%time\n",
    "\n",
    "cs_df4.install_date = pd.to_datetime(cs_df4.install_date)\n",
    "cs_df4.ILIRStartDate = pd.to_datetime(cs_df4.ILIRStartDate)\n",
    "cs_df4.loc[:, 'time_delta'] = ((cs_df4.ILIRStartDate - cs_df4.install_date).dt.days/365.25)\n",
    "cs_df4.loc[:, 'growth_rate_mmpyr'] = (cs_df4.depth_fraction*cs_df4.WT_mm)/cs_df4.time_delta\n",
    "\n",
    "# Assumption #1 for growth rate, uses the weibull_fitter.py function\n",
    "#   filters applies conditional statement to detect whether features is internal or external, filters out anything with a CGR less than 0.01mm/yr, and features in pipe older than 5y\n",
    "# Assumption #2, uses the weibull_fitter.py function\n",
    "#   filters applies conditional statement to detect whether features is internal or external, filters out anything with a CGR less than 0.01mm/yr, and features in pipe younger than 5y or older than 40y\n",
    "# Assumption #3, uses the weibull_fitter.py function\n",
    "#   filters applies conditional statement to detect whether features is internal or external, filters out anything with a CGR less than 0.01mm/yr, and features in pipe younger than 40y\n",
    "\n",
    "noise_filter = \"growth_rate_mmpyr>0.01\"\n",
    "query_1_e = \"ILIFSurfaceInd == 'E' & time_delta < 5.\"\n",
    "query_1_i = \"ILIFSurfaceInd == 'I' & time_delta < 5.\"\n",
    "query_2_e = \"ILIFSurfaceInd == 'E' & time_delta < 40. & time_delta > 5\"\n",
    "query_2_i = \"ILIFSurfaceInd == 'I' & time_delta < 40. & time_delta > 5\"\n",
    "query_3_e = \"ILIFSurfaceInd == 'E' & time_delta > 40.\"\n",
    "query_3_i = \"ILIFSurfaceInd == 'I' & time_delta > 40.\"\n",
    "\n",
    "cs_df4 = cs_df4.combine_first(cs_df4.apply(lambda x: weibull_fitter(cs_df4.query(f\"{query_1_e}\").loc[:,['growth_rate_mmpyr']]),result_type='expand', axis=1).loc[cs_df4.query(query_1_e).index,:])\n",
    "cs_df4 = cs_df4.combine_first(cs_df4.apply(lambda x: weibull_fitter(cs_df4.query(f\"{query_1_i}\").loc[:,['growth_rate_mmpyr']]),result_type='expand', axis=1).loc[cs_df4.query(query_1_i).index,:])\n",
    "cs_df4 = cs_df4.combine_first(cs_df4.apply(lambda x: weibull_fitter(cs_df4.query(f\"{query_2_e}\").loc[:,['growth_rate_mmpyr']]),result_type='expand', axis=1).loc[cs_df4.query(query_2_e).index,:])\n",
    "cs_df4 = cs_df4.combine_first(cs_df4.apply(lambda x: weibull_fitter(cs_df4.query(f\"{query_2_i}\").loc[:,['growth_rate_mmpyr']]),result_type='expand', axis=1).loc[cs_df4.query(query_2_i).index,:])\n",
    "cs_df4 = cs_df4.combine_first(cs_df4.apply(lambda x: weibull_fitter(cs_df4.query(f\"{query_3_e}\").loc[:,['growth_rate_mmpyr']]),result_type='expand', axis=1).loc[cs_df4.query(query_3_e).index,:])\n",
    "cs_df4 = cs_df4.combine_first(cs_df4.apply(lambda x: weibull_fitter(cs_df4.query(f\"{query_3_i}\").loc[:,['growth_rate_mmpyr']]),result_type='expand', axis=1).loc[cs_df4.query(query_3_i).index,:])\n",
    "cs_df4.rename({0:'shape',1:'scale'}, axis=1, inplace=True)\n",
    "\n",
    "iter = 100000\n",
    "result = corrpoe(cs_df4.query(\"ILIFSurfaceInd == 'E'\"),iter, cga_rate=16.)\n",
    "\n",
    "result.iloc[:, 3:] = result.iloc[:,3:].apply(lambda x: x/iter)#.applymap('{:.3e}'.format)\n",
    "result.loc[:,'iterations'] = result.loc[:,'iterations'].apply('{:,.0f}'.format)\n",
    "\n",
    "result_cs_df4 = cs_df4.set_index('FeatureID').join(result)\n",
    "\n",
    "del result\n",
    "gc.collect()\n",
    "\n",
    "display(result_cs_df4.query(\"ILIFSurfaceInd == 'E'\").loc[:,'depth_fraction':].filter(regex=\"fail\").T)"
   ]
  },
  {
   "cell_type": "code",
   "execution_count": null,
   "metadata": {},
   "outputs": [],
   "source": [
    "result_cs_df4.loc[(result_cs_df4.filter(regex=\"fail\") > 0.).any(axis=1)==True,['depth_fraction','length_mm','fail_count_Y10']]"
   ]
  },
  {
   "cell_type": "code",
   "execution_count": null,
   "metadata": {},
   "outputs": [],
   "source": [
    "((datetime.datetime.now().date() - pd.to_datetime(cs_df4.install_date).dt.date).dt.days/365.25).unique()"
   ]
  },
  {
   "cell_type": "code",
   "execution_count": null,
   "metadata": {
    "scrolled": false
   },
   "outputs": [],
   "source": [
    "f_mode = \"fail\" # leak | rupture | fail\n",
    "\n",
    "## plotly approach ---------------------------\n",
    "lay = go.Layout(\n",
    "        title=go.layout.Title(text=f\"{f_mode.upper()} mode POE Projection for next 10 years\"),\n",
    "        xaxis=go.layout.XAxis(title=\"Years after year of analysis\",dtick=1),\n",
    "        yaxis=go.layout.YAxis(title=\"POE\", type='log', tickformat = '0.2e'),\n",
    "        width=1000,\n",
    "        height=500,\n",
    "        margin=dict(l=20,r=100,t=30,b=20)\n",
    ")\n",
    "data = [{\"x\":list(range(0,11)),\n",
    "        \"y\":result_cs_df4.filter(regex=f_mode).T.loc[:,col],\n",
    "        \"name\":str(result_cs_df4.filter(regex=f_mode).T.loc[:,col].name),\n",
    "        \"hovertext\":f\"{result_cs_df4.loc[col,['depth_fraction']].values[0]:.2%}, {result_cs_df4.loc[col,['length_mm']].values[0]:.2f} mm\",\n",
    "        \"mode\":'lines+markers',\n",
    "        } for col in result_cs_df4.filter(regex=f_mode).T]\n",
    "\n",
    "fig = go.Figure(data=data,layout=lay, )\n",
    "\n",
    "pyo.iplot(fig)"
   ]
  },
  {
   "cell_type": "code",
   "execution_count": null,
   "metadata": {
    "scrolled": false
   },
   "outputs": [],
   "source": [
    "# result_cs_df4.loc[(result_cs_df4.filter(regex=\"fail\") > 0.).any(axis=1)==True,['depth_fraction','length_mm','fail_count_Y10']]\n",
    "xlim = [0,120]\n",
    "ylim = [0.,1.]\n",
    "\n",
    "fail_curve_l = np.linspace(xlim[0],xlim[1],100)\n",
    "fail_curve_d = critical_depth_modified_b31g(result_cs_df4.OD_inch.mode()[0]*25.4,\n",
    "                                            result_cs_df4.WT_mm.mode()[0],\n",
    "                                            result_cs_df4.grade_MPa.mode()[0]*1000,\n",
    "                                            result_cs_df4.MAOP_kPa.mode()[0],\n",
    "                                            fail_curve_l)\n",
    "\n",
    "ax = result_cs_df4.loc[lambda x: x.ILIFSurfaceInd=='E',:].plot.scatter(x='length_mm', y='depth_fraction', marker=\"x\", c=\"#0000ffff\", s=75, xlim=xlim, ylim=ylim, label='pipeline #4')\n",
    "ax.plot(fail_curve_l,fail_curve_d, c='red', linewidth=2, label='failure pressure curve')\n",
    "ax.legend(fontsize='x-large')"
   ]
  },
  {
   "cell_type": "markdown",
   "metadata": {},
   "source": [
    "### NPS 12 WESTERN NORTH STATION 2-4\n",
    "* ILIRID 1814 - 68,313 records in InlineInspectionFeature Table (2019 ILI, latest with features)"
   ]
  },
  {
   "cell_type": "code",
   "execution_count": null,
   "metadata": {
    "scrolled": false
   },
   "outputs": [],
   "source": [
    "%%time\n",
    "cs_df5 = get_features_for_poe(1814)\n",
    "display(cs_df5.groupby(['ILIFSurfaceInd','status','type']).describe(include='all'))\n",
    "gc.collect()"
   ]
  },
  {
   "cell_type": "code",
   "execution_count": null,
   "metadata": {},
   "outputs": [],
   "source": [
    "cs_df5.query(\"ILIFSurfaceInd == 'E' & depth_fraction>=0.10\").describe().length_mm"
   ]
  },
  {
   "cell_type": "code",
   "execution_count": null,
   "metadata": {
    "scrolled": false
   },
   "outputs": [],
   "source": [
    "%%time\n",
    "\n",
    "cs_df5.install_date = pd.to_datetime(cs_df5.install_date)\n",
    "cs_df5.ILIRStartDate = pd.to_datetime(cs_df5.ILIRStartDate)\n",
    "cs_df5.loc[:, 'time_delta'] = ((cs_df5.ILIRStartDate - cs_df5.install_date).dt.days/365.25)\n",
    "cs_df5.loc[:, 'growth_rate_mmpyr'] = (cs_df5.depth_fraction*cs_df5.WT_mm)/cs_df5.time_delta\n",
    "\n",
    "# Assumption #1 for growth rate, uses the weibull_fitter.py function\n",
    "#   filters applies conditional statement to detect whether features is internal or external, filters out anything with a CGR less than 0.01mm/yr, and features in pipe older than 5y\n",
    "# Assumption #2, uses the weibull_fitter.py function\n",
    "#   filters applies conditional statement to detect whether features is internal or external, filters out anything with a CGR less than 0.01mm/yr, and features in pipe younger than 5y or older than 40y\n",
    "# Assumption #3, uses the weibull_fitter.py function\n",
    "#   filters applies conditional statement to detect whether features is internal or external, filters out anything with a CGR less than 0.01mm/yr, and features in pipe younger than 40y\n",
    "\n",
    "noise_filter = \"growth_rate_mmpyr>0.01\"\n",
    "query_1_e = \"ILIFSurfaceInd == 'E' & time_delta < 5.\"\n",
    "query_1_i = \"ILIFSurfaceInd == 'I' & time_delta < 5.\"\n",
    "query_2_e = \"ILIFSurfaceInd == 'E' & time_delta < 40. & time_delta > 5\"\n",
    "query_2_i = \"ILIFSurfaceInd == 'I' & time_delta < 40. & time_delta > 5\"\n",
    "query_3_e = \"ILIFSurfaceInd == 'E' & time_delta > 40.\"\n",
    "query_3_i = \"ILIFSurfaceInd == 'I' & time_delta > 40.\"\n",
    "\n",
    "cs_df5 = cs_df5.combine_first(cs_df5.apply(lambda x: weibull_fitter(cs_df5.query(f\"{query_1_e}\").loc[:,['growth_rate_mmpyr']]),result_type='expand', axis=1).loc[cs_df5.query(query_1_e).index,:])\n",
    "cs_df5 = cs_df5.combine_first(cs_df5.apply(lambda x: weibull_fitter(cs_df5.query(f\"{query_1_i}\").loc[:,['growth_rate_mmpyr']]),result_type='expand', axis=1).loc[cs_df5.query(query_1_i).index,:])\n",
    "cs_df5 = cs_df5.combine_first(cs_df5.apply(lambda x: weibull_fitter(cs_df5.query(f\"{query_2_e}\").loc[:,['growth_rate_mmpyr']]),result_type='expand', axis=1).loc[cs_df5.query(query_2_e).index,:])\n",
    "cs_df5 = cs_df5.combine_first(cs_df5.apply(lambda x: weibull_fitter(cs_df5.query(f\"{query_2_i}\").loc[:,['growth_rate_mmpyr']]),result_type='expand', axis=1).loc[cs_df5.query(query_2_i).index,:])\n",
    "cs_df5 = cs_df5.combine_first(cs_df5.apply(lambda x: weibull_fitter(cs_df5.query(f\"{query_3_e}\").loc[:,['growth_rate_mmpyr']]),result_type='expand', axis=1).loc[cs_df5.query(query_3_e).index,:])\n",
    "cs_df5 = cs_df5.combine_first(cs_df5.apply(lambda x: weibull_fitter(cs_df5.query(f\"{query_3_i}\").loc[:,['growth_rate_mmpyr']]),result_type='expand', axis=1).loc[cs_df5.query(query_3_i).index,:])\n",
    "cs_df5.rename({0:'shape',1:'scale'}, axis=1, inplace=True)\n",
    "\n",
    "iter = 1000\n",
    "result = corrpoe(cs_df5.query(\"ILIFSurfaceInd == 'E' & depth_fraction>=0.10\"),iter, cga_rate=16.)\n",
    "\n",
    "result.iloc[:, 3:] = result.iloc[:,3:].apply(lambda x: x/iter)#.applymap('{:.3e}'.format)\n",
    "result.loc[:,'iterations'] = result.loc[:,'iterations'].apply('{:,.0f}'.format)\n",
    "\n",
    "result_cs_df5 = cs_df5.set_index('FeatureID').join(result)\n",
    "\n",
    "del result\n",
    "gc.collect()\n",
    "\n",
    "display(result_cs_df5.query(\"ILIFSurfaceInd == 'E' & depth_fraction>=0.10\").loc[:,'depth_fraction':].filter(regex=\"fail\").T)"
   ]
  },
  {
   "cell_type": "code",
   "execution_count": null,
   "metadata": {},
   "outputs": [],
   "source": [
    "result_cs_df5.loc[(result_cs_df5.filter(regex=\"fail_count_YOA\") > 0.).any(axis=1)==True,['depth_fraction','length_mm','install_date','ILIRStartDate','fail_count_YOA','fail_count_Y3','fail_count_Y10']].assign(delta= lambda x: (pd.to_datetime(x.ILIRStartDate)-pd.to_datetime(x.install_date)).dt.days/365.25)\n",
    "# result_cs_df5.loc[(result_cs_df5.fail_count_Y10 > 0.)==True,['depth_fraction','length_mm','install_date','ILIRStartDate','fail_count_Y10']].assign(delta= lambda x: (pd.to_datetime(x.ILIRStartDate)-pd.to_datetime(x.install_date)).dt.days/365.25)"
   ]
  },
  {
   "cell_type": "code",
   "execution_count": null,
   "metadata": {},
   "outputs": [],
   "source": [
    "((datetime.datetime.now().date() - pd.to_datetime(cs_df5.install_date).dt.date).dt.days/365.25).unique()\n",
    "# np.minimum(((datetime.datetime.now().date() - pd.to_datetime(cs_df5.install_date).dt.date).dt.days/365.25),40.).unique()"
   ]
  },
  {
   "cell_type": "code",
   "execution_count": null,
   "metadata": {},
   "outputs": [],
   "source": [
    "f_mode = \"fail\" # leak | rupture | fail\n",
    "\n",
    "result_cs_df5_1 = result_cs_df5.loc[(result_cs_df5.filter(regex=\"fail\") > 0.).any(axis=1)==True,:]\n",
    "\n",
    "## plotly approach ---------------------------\n",
    "lay = go.Layout(\n",
    "        title=go.layout.Title(text=f\"{f_mode.upper()} mode POE Projection for next 10 years\"),\n",
    "        xaxis=go.layout.XAxis(title=\"Years after year of analysis\",dtick=1),\n",
    "        yaxis=go.layout.YAxis(title=\"POE\", type='log', tickformat = '0.2e'),\n",
    "        width=1000,\n",
    "        height=500,\n",
    "        margin=dict(l=20,r=100,t=30,b=20)\n",
    ")\n",
    "data = [{\"x\":list(range(0,11)),\n",
    "        \"y\":result_cs_df5_1.filter(regex=f_mode).T.loc[:,col],\n",
    "        \"name\":str(result_cs_df5_1.filter(regex=f_mode).T.loc[:,col].name),\n",
    "        \"hovertext\":f\"{result_cs_df5_1.loc[col,['depth_fraction']].values[0]:.2%}, {result_cs_df5_1.loc[col,['length_mm']].values[0]:.2f} mm\",\n",
    "        \"mode\":'lines+markers',\n",
    "        } for col in result_cs_df5_1.filter(regex=f_mode).T]\n",
    "\n",
    "fig = go.Figure(data=data,layout=lay, )\n",
    "\n",
    "pyo.iplot(fig)\n",
    "del result_cs_df5_1"
   ]
  },
  {
   "cell_type": "code",
   "execution_count": null,
   "metadata": {
    "scrolled": false
   },
   "outputs": [],
   "source": [
    "# result_cs_df5.loc[(result_cs_df5.filter(regex=\"fail\") > 0.).any(axis=1)==True,['depth_fraction','length_mm','fail_count_Y10']]\n",
    "# result_cs_df5.query(\"ILIFSurfaceInd == 'E' & depth_fraction>=0.10\").loc[(result_cs_df5.fail_count_Y10 > 0.)==True,:].plot.scatter(x='length_mm', y='depth_fraction', c='darkblue', s=100)\n",
    "# result_cs_df5.query(\"ILIFSurfaceInd == 'E' & depth_fraction>=0.10\").plot.scatter(x='length_mm', y='depth_fraction', c='darkblue', s=100)\n",
    "\n",
    "xlim = [0,1150]\n",
    "ylim = [0.,1.]\n",
    "\n",
    "fail_curve_l = np.linspace(xlim[0],xlim[1],100)\n",
    "fail_curve_d = critical_depth_modified_b31g(result_cs_df5.OD_inch.mode()[0]*25.4,\n",
    "                                            result_cs_df5.WT_mm.mode()[0],\n",
    "                                            result_cs_df5.grade_MPa.mode()[0]*1000,\n",
    "                                            result_cs_df5.MAOP_kPa.mode()[0],\n",
    "                                            fail_curve_l)\n",
    "\n",
    "ax = result_cs_df5.loc[(result_cs_df5.filter(regex=\"fail_count_YOA\") > 0.).any(axis=1)==True,:].loc[lambda x: x.ILIFSurfaceInd=='E',:].plot.scatter(x='length_mm', y='depth_fraction', marker=\"x\", c=\"#0000ff60\", s=75, xlim=xlim, ylim=ylim, label='pipeline #5')\n",
    "ax.plot(fail_curve_l,fail_curve_d, c='red', linewidth=2, label='failure pressure curve')\n",
    "ax.legend(fontsize='x-large')"
   ]
  },
  {
   "cell_type": "markdown",
   "metadata": {},
   "source": [
    "### NPS 20 FOX CREEK TO EDMONTON\n",
    "* ILIRID 1147 - 89,717 records in InlineInspectionFeature Table (2015 ILI, latest with features)"
   ]
  },
  {
   "cell_type": "code",
   "execution_count": null,
   "metadata": {
    "scrolled": false
   },
   "outputs": [],
   "source": [
    "%%time\n",
    "cs_df6 = get_features_for_poe(1147)\n",
    "display(cs_df6.query(\"depth_fraction >=0.10\").groupby(['ILIFSurfaceInd','status','type']).describe(include='all'))\n",
    "gc.collect()"
   ]
  },
  {
   "cell_type": "code",
   "execution_count": null,
   "metadata": {
    "scrolled": false
   },
   "outputs": [],
   "source": [
    "%%time\n",
    "\n",
    "cs_df6.install_date = pd.to_datetime(cs_df6.install_date)\n",
    "cs_df6.ILIRStartDate = pd.to_datetime(cs_df6.ILIRStartDate)\n",
    "cs_df6.loc[:, 'time_delta'] = ((cs_df6.ILIRStartDate - cs_df6.install_date).dt.days/365.25)\n",
    "cs_df6.loc[:, 'growth_rate_mmpyr'] = (cs_df6.depth_fraction*cs_df6.WT_mm)/cs_df6.time_delta\n",
    "\n",
    "# Assumption #1 for growth rate, uses the weibull_fitter.py function\n",
    "#   filters applies conditional statement to detect whether features is internal or external, filters out anything with a CGR less than 0.01mm/yr, and features in pipe older than 5y\n",
    "# Assumption #2, uses the weibull_fitter.py function\n",
    "#   filters applies conditional statement to detect whether features is internal or external, filters out anything with a CGR less than 0.01mm/yr, and features in pipe younger than 5y or older than 40y\n",
    "# Assumption #3, uses the weibull_fitter.py function\n",
    "#   filters applies conditional statement to detect whether features is internal or external, filters out anything with a CGR less than 0.01mm/yr, and features in pipe younger than 40y\n",
    "\n",
    "noise_filter = \"growth_rate_mmpyr>0.01\"\n",
    "query_1_e = \"ILIFSurfaceInd == 'E' & time_delta < 5.\"\n",
    "query_1_i = \"ILIFSurfaceInd == 'I' & time_delta < 5.\"\n",
    "query_2_e = \"ILIFSurfaceInd == 'E' & time_delta < 40. & time_delta > 5\"\n",
    "query_2_i = \"ILIFSurfaceInd == 'I' & time_delta < 40. & time_delta > 5\"\n",
    "query_3_e = \"ILIFSurfaceInd == 'E' & time_delta > 40.\"\n",
    "query_3_i = \"ILIFSurfaceInd == 'I' & time_delta > 40.\"\n",
    "\n",
    "cs_df6 = cs_df6.combine_first(cs_df6.apply(lambda x: weibull_fitter(cs_df6.query(f\"{query_1_e}\").loc[:,['growth_rate_mmpyr']]),result_type='expand', axis=1).loc[cs_df6.query(query_1_e).index,:])\n",
    "cs_df6 = cs_df6.combine_first(cs_df6.apply(lambda x: weibull_fitter(cs_df6.query(f\"{query_1_i}\").loc[:,['growth_rate_mmpyr']]),result_type='expand', axis=1).loc[cs_df6.query(query_1_i).index,:])\n",
    "cs_df6 = cs_df6.combine_first(cs_df6.apply(lambda x: weibull_fitter(cs_df6.query(f\"{query_2_e}\").loc[:,['growth_rate_mmpyr']]),result_type='expand', axis=1).loc[cs_df6.query(query_2_e).index,:])\n",
    "cs_df6 = cs_df6.combine_first(cs_df6.apply(lambda x: weibull_fitter(cs_df6.query(f\"{query_2_i}\").loc[:,['growth_rate_mmpyr']]),result_type='expand', axis=1).loc[cs_df6.query(query_2_i).index,:])\n",
    "cs_df6 = cs_df6.combine_first(cs_df6.apply(lambda x: weibull_fitter(cs_df6.query(f\"{query_3_e}\").loc[:,['growth_rate_mmpyr']]),result_type='expand', axis=1).loc[cs_df6.query(query_3_e).index,:])\n",
    "cs_df6 = cs_df6.combine_first(cs_df6.apply(lambda x: weibull_fitter(cs_df6.query(f\"{query_3_i}\").loc[:,['growth_rate_mmpyr']]),result_type='expand', axis=1).loc[cs_df6.query(query_3_i).index,:])\n",
    "cs_df6.rename({0:'shape',1:'scale'}, axis=1, inplace=True)\n",
    "\n",
    "iter = 1000\n",
    "result = corrpoe(cs_df6.query(\"ILIFSurfaceInd == 'E' & status=='Active' & depth_fraction>=0.10\"),iter,cga_rate=16.)\n",
    "\n",
    "result.iloc[:, 3:] = result.iloc[:,3:].apply(lambda x: x/iter)#.applymap('{:.3e}'.format)\n",
    "result.loc[:,'iterations'] = result.loc[:,'iterations'].apply('{:,.0f}'.format)\n",
    "\n",
    "result_cs_df6 = cs_df6.set_index('FeatureID').join(result)\n",
    "\n",
    "del result\n",
    "gc.collect()\n",
    "\n",
    "display(result_cs_df6.query(\"ILIFSurfaceInd == 'E' & status=='Active' & depth_fraction>=0.10\").loc[:,'depth_fraction':].filter(regex=\"fail\").T)"
   ]
  },
  {
   "cell_type": "code",
   "execution_count": null,
   "metadata": {},
   "outputs": [],
   "source": [
    "result_cs_df6.loc[(result_cs_df6.filter(regex=\"fail_count_YOA\") > 0.).any(axis=1)==True,['depth_fraction','length_mm','install_date','ILIRStartDate','fail_count_YOA','fail_count_Y3','fail_count_Y10']].assign(delta= lambda x: (pd.to_datetime(x.ILIRStartDate)-pd.to_datetime(x.install_date)).dt.days/365.25)\n",
    "# result_cs_df6.loc[(result_cs_df6.fail_count_YOA > 0.)==True,['depth_fraction','length_mm','install_date','ILIRStartDate','fail_count_YOA']].assign(delta= lambda x: (pd.to_datetime(x.ILIRStartDate)-pd.to_datetime(x.install_date)).dt.days/365.25)"
   ]
  },
  {
   "cell_type": "code",
   "execution_count": null,
   "metadata": {
    "scrolled": false
   },
   "outputs": [],
   "source": [
    "# ((datetime.datetime.now().date() - pd.to_datetime(cs_df5.install_date).dt.date).dt.days/365.25).unique()\n",
    "np.minimum(((datetime.datetime.now().date() - pd.to_datetime(cs_df6.install_date).dt.date).dt.days/365.25),np.inf).unique()"
   ]
  },
  {
   "cell_type": "code",
   "execution_count": null,
   "metadata": {
    "scrolled": false
   },
   "outputs": [],
   "source": [
    "f_mode = \"fail\" # leak | rupture | fail\n",
    "\n",
    "result_cs_df6_1 = result_cs_df6.loc[(result_cs_df6.filter(regex=\"fail_count_Y10\") > 0.).any(axis=1)==True,:]\n",
    "\n",
    "## plotly approach ---------------------------\n",
    "lay = go.Layout(\n",
    "        title=go.layout.Title(text=f\"{f_mode.upper()} mode POE Projection for next 10 years\"),\n",
    "        xaxis=go.layout.XAxis(title=\"Years after year of analysis\",dtick=1),\n",
    "        yaxis=go.layout.YAxis(title=\"POE\", type='log', tickformat = '0.2e'),\n",
    "        width=1000,\n",
    "        height=500,\n",
    "        margin=dict(l=20,r=100,t=30,b=20)\n",
    ")\n",
    "data = [{\"x\":list(range(0,11)),\n",
    "        \"y\":result_cs_df6_1.filter(regex=f_mode).T.loc[:,col],\n",
    "        \"name\":str(result_cs_df6_1.filter(regex=f_mode).T.loc[:,col].name),\n",
    "        \"hovertext\":f\"{result_cs_df6_1.loc[col,['depth_fraction']].values[0]:.2%}, {result_cs_df6_1.loc[col,['length_mm']].values[0]:.2f} mm\",\n",
    "        \"mode\":'lines+markers',\n",
    "        } for col in result_cs_df6_1.filter(regex=f_mode).T]\n",
    "\n",
    "fig = go.Figure(data=data,layout=lay, )\n",
    "\n",
    "pyo.iplot(fig)\n",
    "del result_cs_df6_1"
   ]
  },
  {
   "cell_type": "code",
   "execution_count": null,
   "metadata": {
    "scrolled": false
   },
   "outputs": [],
   "source": [
    "# result_cs_df6.loc[(result_cs_df6.filter(regex=\"fail\") > 0.).any(axis=1)==True,['depth_fraction','length_mm','fail_count_Y10']]\n",
    "# result_cs_df6.query(\"status=='Active' & ILIFSurfaceInd == 'E' & depth_fraction>=0.10\").loc[(result_cs_df6.filter(regex=\"fail\") > 0.).any(axis=1)==True,:].plot.scatter(x='length_mm', y='depth_fraction', c='darkblue', s=100)\n",
    "# result_cs_df6.query(\"status=='Active' & ILIFSurfaceInd == 'E' & depth_fraction>=0.10\").plot.scatter(x='length_mm', y='depth_fraction', c='darkblue', s=100)\n",
    "xlim = [0,500]\n",
    "ylim = [0.,1.]\n",
    "\n",
    "fail_curve_l = np.linspace(xlim[0],xlim[1],100)\n",
    "fail_curve_d = critical_depth_modified_b31g(result_cs_df6.OD_inch.mode()[0]*25.4,\n",
    "                                            result_cs_df6.WT_mm.mode()[0],\n",
    "                                            result_cs_df6.grade_MPa.mode()[0]*1000,\n",
    "                                            result_cs_df6.MAOP_kPa.mode()[0],\n",
    "                                            fail_curve_l)\n",
    "\n",
    "ax = result_cs_df6.query(\"status=='Active' & ILIFSurfaceInd == 'E' & depth_fraction >= 0.1\").loc[(result_cs_df6.filter(regex=\"fail_count_YOA\") > 0.).any(axis=1)==True,:].plot.scatter(x='length_mm', y='depth_fraction', marker=\"x\", c=\"#0000ff60\", s=75, xlim=xlim, ylim=ylim, label='pipeline #6')\n",
    "ax.plot(fail_curve_l,fail_curve_d, c='red', linewidth=2)"
   ]
  },
  {
   "cell_type": "markdown",
   "metadata": {},
   "source": [
    "###  Anomaly Size Distributions"
   ]
  },
  {
   "cell_type": "code",
   "execution_count": null,
   "metadata": {},
   "outputs": [],
   "source": [
    "xlim = [0,1156]\n",
    "ylim = [0.,1.]\n",
    "\n",
    "fail_curve_l = np.linspace(xlim[0],xlim[1],100)\n",
    "fail_curve_d = critical_depth_modified_b31g(result_cs_df6.OD_inch.mode()[0]*25.4,\n",
    "                                            result_cs_df6.WT_mm.mode()[0],\n",
    "                                            result_cs_df6.grade_MPa.mode()[0]*1000,\n",
    "                                            result_cs_df6.MAOP_kPa.mode()[0],\n",
    "                                            fail_curve_l)\n",
    "\n",
    "\n",
    "\n",
    "# ax = result_cs_df4.loc[lambda x: x.ILIFSurfaceInd=='E',:].plot.scatter(x='length_mm', y='depth_fraction', marker=\"+\", c='#00000060', s=75, xlim=xlim, ylim=ylim, label='pipeline #4')\n",
    "# result_cs_df1.loc[lambda x: x.ILIFSurfaceInd=='E',:].plot.scatter(x='length_mm', y='depth_fraction', marker=\"x\", c=\"#a9a9a960\", s=75, xlim=xlim, ylim=ylim, ax=ax, label='pipeline #1')\n",
    "# result_cs_df2.loc[lambda x: x.ILIFSurfaceInd=='E',:].plot.scatter(x='length_mm', y='depth_fraction', marker=\"s\", c=\"#ffa50030\", s=75, xlim=xlim, ylim=ylim, ax=ax, label='pipeline #2')\n",
    "# result_cs_df3.loc[lambda x: x.ILIFSurfaceInd=='E',:].plot.scatter(x='length_mm', y='depth_fraction', marker=\"*\", c=\"#000affff\", s=75, xlim=xlim, ylim=ylim, ax=ax, label='pipeline #3')\n",
    "\n",
    "\n",
    "ax = result_cs_df5.query(\"ILIFSurfaceInd == 'E' & depth_fraction>=0.10\").loc[(result_cs_df5.fail_count_Y10 > 0.)==True,:].plot.scatter(x='length_mm', y='depth_fraction', marker='d', c=\"#ff0000ff\", s=75, ylim=ylim, label='pipeline #5')\n",
    "fail_curve_l = np.linspace(xlim[0],xlim[1],100)\n",
    "fail_curve_d = critical_depth_modified_b31g(result_cs_df5.OD_inch.mode()[0]*25.4,\n",
    "                                            result_cs_df5.WT_mm.mode()[0],\n",
    "                                            result_cs_df5.grade_MPa.mode()[0]*1000,\n",
    "                                            result_cs_df5.MAOP_kPa.mode()[0],\n",
    "                                            fail_curve_l)\n",
    "ax.plot(fail_curve_l,fail_curve_d, c='red', linewidth=2, label='pipeline #5 failure pressure curve')\n",
    "\n",
    "result_cs_df6.query(\"status=='Active' & ILIFSurfaceInd == 'E' & depth_fraction>=0.10\").loc[(result_cs_df6.fail_count_Y10 > 0.)==True,:].plot.scatter(x='length_mm', y='depth_fraction', marker=\"v\", c=\"#0000ff50\", s=75, xlim=xlim, ylim=ylim, ax=ax, label='pipeline #6')\n",
    "fail_curve_l = np.linspace(xlim[0],xlim[1],100)\n",
    "fail_curve_d = critical_depth_modified_b31g(result_cs_df6.OD_inch.mode()[0]*25.4,\n",
    "                                            result_cs_df6.WT_mm.mode()[0],\n",
    "                                            result_cs_df6.grade_MPa.mode()[0]*1000,\n",
    "                                            result_cs_df6.MAOP_kPa.mode()[0],\n",
    "                                            fail_curve_l)\n",
    "ax.plot(fail_curve_l,fail_curve_d, c='blue', linewidth=2, label='pipeline #6 failure pressure curve')\n",
    "ax.legend(fontsize='x-large')"
   ]
  },
  {
   "cell_type": "markdown",
   "metadata": {},
   "source": [
    "# Model Error Distribution "
   ]
  },
  {
   "cell_type": "code",
   "execution_count": null,
   "metadata": {},
   "outputs": [],
   "source": [
    "def model_error(p):\n",
    "        return 0.914 + gamma.ppf(p, 2.175, scale=0.225)"
   ]
  },
  {
   "cell_type": "code",
   "execution_count": null,
   "metadata": {},
   "outputs": [],
   "source": [
    "modelError = pd.DataFrame(model_error(np.random.rand(100000)), columns=['Gamma Distribution'])\n",
    "modelError.describe()"
   ]
  },
  {
   "cell_type": "code",
   "execution_count": null,
   "metadata": {},
   "outputs": [],
   "source": [
    "modelError.plot.kde(grid=True)"
   ]
  },
  {
   "cell_type": "code",
   "execution_count": null,
   "metadata": {},
   "outputs": [],
   "source": [
    "modelError.describe().to_clipboard()"
   ]
  },
  {
   "cell_type": "markdown",
   "metadata": {},
   "source": [
    "# Weibull Distribution Creator"
   ]
  },
  {
   "cell_type": "markdown",
   "metadata": {},
   "source": [
    "## Getting the ILI ranges associated with pipelines"
   ]
  },
  {
   "cell_type": "code",
   "execution_count": null,
   "metadata": {},
   "outputs": [],
   "source": [
    "get_ili_ranges('NPS 10 VANTAGE - TIOGA TO BV 10').sort_values(\"ILIRStartDate\", ascending=False)"
   ]
  },
  {
   "cell_type": "markdown",
   "metadata": {},
   "source": [
    "## Getting the features from chosen ILI range"
   ]
  },
  {
   "cell_type": "code",
   "execution_count": null,
   "metadata": {
    "scrolled": false
   },
   "outputs": [],
   "source": [
    "%%time\n",
    "# df = get_features_from_ilir(1147)\n",
    "df = get_features_from_ilir(1814)\n",
    "df.PipeInserviceDate = pd.to_datetime(df.PipeInserviceDate)\n",
    "df.ilirstartdate = pd.to_datetime(df.ilirstartdate)\n",
    "df.loc[:, 'time_delta'] = ((df.ilirstartdate - df.PipeInserviceDate).dt.days/365.25)\n",
    "df.loc[:, 'growth_rate_mmpyr'] = (df.ILIFPeakDepthPct*df.PipeWallThickness)/df.time_delta\n",
    "df.loc[:, 'growth_rate_mmpyr_20'] = (df.ILIFPeakDepthPct*df.PipeWallThickness)/np.minimum(df.time_delta,20.0)\n",
    "df.loc[:, 'growth_rate_mmpyr_30'] = (df.ILIFPeakDepthPct*df.PipeWallThickness)/np.minimum(df.time_delta,30.0)\n",
    "df.loc[:, 'growth_rate_mmpyr_40'] = (df.ILIFPeakDepthPct*df.PipeWallThickness)/np.minimum(df.time_delta,40.0)\n",
    "display(df.loc[lambda x: x.ILIFSurfaceInd =='E',:])"
   ]
  },
  {
   "cell_type": "code",
   "execution_count": null,
   "metadata": {},
   "outputs": [],
   "source": [
    "# df.loc[:,:].query(\"ILIFPeakDepthPct > 0.14 & ILIFSurfaceInd == 'E'\").describe().time_delta\n",
    "df.query(\"growth_rate_mmpyr>0.01 & time_delta < 40. & time_delta > 5\")"
   ]
  },
  {
   "cell_type": "markdown",
   "metadata": {},
   "source": [
    "## Performing Weibull distribution fitting, and COD calculation"
   ]
  },
  {
   "cell_type": "code",
   "execution_count": null,
   "metadata": {
    "scrolled": false
   },
   "outputs": [],
   "source": [
    "%%time\n",
    "print(\"Assumption #1\")\n",
    "shp_1, scl_1 = weibull_fitter(df.query(\"ILIFSurfaceInd == 'E' & growth_rate_mmpyr>0.01 & time_delta < 5.\").loc[:,['growth_rate_mmpyr']])\n",
    "print(\"Assumption #2\")\n",
    "shp_2, scl_2 = weibull_fitter(df.query(\"ILIFSurfaceInd == 'E' & growth_rate_mmpyr>0.01 & time_delta < 40. & time_delta > 5\").loc[:,['growth_rate_mmpyr']])\n",
    "print(\"Assumption #3\")\n",
    "shp_3, scl_3 = weibull_fitter(df.query(\"ILIFSurfaceInd == 'E' & growth_rate_mmpyr>0.01 & time_delta > 40.\").loc[:,['growth_rate_mmpyr']])\n",
    "\n",
    "print(\"Case Study for Assumption #3\")\n",
    "shp_cs, scl_cs = weibull_fitter(df.query(\"ILIFSurfaceInd == 'E' & growth_rate_mmpyr_20>0.01 & time_delta > 20.\").loc[lambda x: x.ILIFSurfaceInd =='E',['growth_rate_mmpyr_20']])"
   ]
  },
  {
   "cell_type": "markdown",
   "metadata": {},
   "source": [
    "## Creating a density curve and histogram for visual representation"
   ]
  },
  {
   "cell_type": "code",
   "execution_count": null,
   "metadata": {
    "scrolled": false
   },
   "outputs": [],
   "source": [
    "bincount = 75\n",
    "# weibullCGR = pd.DataFrame(cgr.cgr_weibull(np.random.rand(100000),shp=shp_1,scl=scl_1), columns=['Weibull Distribution'])\n",
    "# # display(weibullCGR.describe())\n",
    "\n",
    "# weibullCGR.mask(lambda x: x.loc[:,'Weibull Distribution'] > 0.40, 0.40000).plot.kde(grid=True)\n",
    "# ax = weibullCGR.mask(lambda x: x.loc[:,'Weibull Distribution'] > 0.40, 0.40000).plot.hist(bins=bincount, grid=True, color='blue', alpha=0.5, xlim=[0,0.12], label='Weibull')\n",
    "# df.loc[lambda x: x.ILIFSurfaceInd =='E','growth_rate_mmpyr'].plot.hist(bins=bincount, ax=ax,secondary_y=True, color='darkblue', alpha=0.5, label='ILI Data')\n",
    "# ax.legend(loc=0)\n",
    "# # weibullCGR.plot.kde(grid=True)\n",
    "\n",
    "weibullCGR_1 = pd.DataFrame(cgr.cgr_weibull(np.random.rand(100000),shp=shp_1,scl=scl_1), columns=['Assumption #1 Weibull Distribution'])\n",
    "display(weibullCGR_1.mask(lambda x: x.loc[:,'Assumption #1 Weibull Distribution'] > 0.40, 0.40000).describe())\n",
    "weibullCGR_2 = pd.DataFrame(cgr.cgr_weibull(np.random.rand(100000),shp=shp_2,scl=scl_2), columns=['Assumption #2 Weibull Distribution'])\n",
    "display(weibullCGR_2.describe())\n",
    "weibullCGR_3 = pd.DataFrame(cgr.cgr_weibull(np.random.rand(100000),shp=shp_3,scl=scl_3), columns=['Assumption #3 Weibull Distribution'])\n",
    "display(weibullCGR_3.describe())\n",
    "weibullCGR_cs = pd.DataFrame(cgr.cgr_weibull(np.random.rand(100000),shp=shp_cs,scl=scl_cs), columns=['Case Study Weibull Distribution'])\n",
    "display(weibullCGR_cs.describe())\n",
    "\n",
    "ax = weibullCGR_1.mask(lambda x: x.loc[:,'Assumption #1 Weibull Distribution'] > 0.40, 0.40000).plot.kde(grid=True, color='blue', alpha=0.5, xlim=[0,0.4])\n",
    "weibullCGR_2.mask(lambda x: x.loc[:,'Assumption #2 Weibull Distribution'] > 0.40, 0.40000).plot.kde(grid=True, ax=ax, color='orange')\n",
    "weibullCGR_3.mask(lambda x: x.loc[:,'Assumption #3 Weibull Distribution'] > 0.40, 0.40000).plot.kde(grid=True, ax=ax, color='green')\n",
    "# weibullCGR_cs.mask(lambda x: x.loc[:,'Case Study Weibull Distribution'] > 0.40, 0.40000).plot.kde(grid=True, ax=ax, color='red')\n",
    "\n",
    "ax2 = weibullCGR_1.mask(lambda x: x.loc[:,'Assumption #1 Weibull Distribution'] > 0.40, 0.40000).plot.hist(bins=bincount, color='cyan', alpha=0.5, xlim=[0,0.4])\n",
    "# df.query(\"growth_rate_mmpyr > 0.01 & time_delta < 5.\").loc[lambda x: x.ILIFSurfaceInd =='E','growth_rate_mmpyr'].plot.hist(bins=bincount, ax=ax2, color='darkblue', secondary_y=True, alpha=0.25, label='ILI Data')\n",
    "weibullCGR_2.mask(lambda x: x.loc[:,'Assumption #2 Weibull Distribution'] > 0.40, 0.40000).plot.hist(bins=bincount, ax=ax2, color='orange', alpha=0.5)\n",
    "# df.query(\"growth_rate_mmpyr_20 > 0.01 & time_delta > 5. & time_delta < 40.\").loc[lambda x: x.ILIFSurfaceInd =='E','growth_rate_mmpyr_20'].plot.hist(bins=bincount, ax=ax2, color='darkorange', secondary_y=True, alpha=0.25, label='ILI Data (20y)')\n",
    "weibullCGR_3.mask(lambda x: x.loc[:,'Assumption #3 Weibull Distribution'] > 0.40, 0.40000).plot.hist(bins=bincount, ax=ax2, color='green', alpha=0.5)\n",
    "# df.query(\"growth_rate_mmpyr_30 > 0.01 & time_delta > 40.\").loc[lambda x: x.ILIFSurfaceInd =='E','growth_rate_mmpyr_30'].plot.hist(bins=bincount, ax=ax2, color='darkgreen', secondary_y=True, alpha=0.25, label='ILI Data (30y)')\n",
    "# weibullCGR_cs.mask(lambda x: x.loc[:,'Case Study Weibull Distribution'] > 0.40, 0.40000).plot.hist(bins=bincount, ax=ax2, color='pink', alpha=0.25)\n",
    "# df.query(\"growth_rate_mmpyr_40 > 0.01\").loc[lambda x: x.ILIFSurfaceInd =='E','growth_rate_mmpyr_40'].plot.hist(bins=bincount, ax=ax2, color='darkred', secondary_y=True, alpha=0.25, label='ILI Data (40y)')"
   ]
  },
  {
   "cell_type": "code",
   "execution_count": null,
   "metadata": {},
   "outputs": [],
   "source": [
    "print(f\"shape={shp_o:0.4f}\\nscale={scl_o:0.4f}\")"
   ]
  },
  {
   "cell_type": "markdown",
   "metadata": {},
   "source": [
    "| Age | Line Name | InlineInspectionRangeId | Weibull Shape Parameter | Weibull Scale Parameter| Comments |\n",
    "| --- | --- | --- | --- | --- | --- |\n",
    "| New<br>(1.5y) | NPS 16 LA GLACE TO WAPITI | --- | --- | ---| No ILI data available to infer parameters |\n",
    "| New<br>(7.9y) | NPS 10 VANTAGE - TIOGA TO BV 10 | 939 (42 records) | 2.3465 | 0.1067| All anomalies appear inactive |\n",
    "| New<br>(4.4y,6.2y,7.9y) | NPS 10 VANTAGE - BV 27 TO EMPRESS PUMP STATION | 1244 (9607 records) | 3.0890 | 0.0622| All anomalies appear inactive |\n",
    "| New<br>(4.1y) | NPS 8 WEST SPUR LATERAL | 1431 (103 records) | 3.7512 | 0.2489| All anomalies appear inactive |\n",
    "| New<br>(3.4y,5.7y,7.9y) | NPS 10 VANTAGE - ASSINIBOIA PUMP STATION TO BV 27 | 941 (335 records) | 3.3065 | 0.0899 | All anomalies appear inactive |\n",
    "| Old<br>(1.0y,9.6y,58.9y) | NPS 12 WESTERN NORTH STATION 2-4 | 1557 (60,685) <br> 1814 (68,313) <br> 1558 (106,818) <br> 780 (72,361) <br> 1556 (62,860) | 3.8881 (ID1814) | 0.0161 (ID1814) | ILIRID 1814 is the most recent ILI range |\n",
    "| Old<br>(1.1y,12.9y,51.9y) | NPS 20 FOX CREEK TO EDMONTON | 1146 (81,805) <br> 1148 (83,959) <br> 1149 (113,181) <br> 15 (81,894) <br> 16 (101,250) <br> 1150 (92,532) <br> 23 (115,504) <br> 1147 (89,717) | 3.4237 (ID1147) | 0.0185 (ID1147) | Based on second latest ILI range |\n"
   ]
  },
  {
   "cell_type": "code",
   "execution_count": 76,
   "metadata": {},
   "outputs": [
    {
     "data": {
      "text/plain": [
       "Text(0, 0.5, 'Density')"
      ]
     },
     "execution_count": 76,
     "metadata": {},
     "output_type": "execute_result"
    },
    {
     "data": {
      "image/png": "[encoded data removed]",
      "text/plain": [
       "<Figure size 720x504 with 1 Axes>"
      ]
     },
     "metadata": {
      "needs_background": "light"
     },
     "output_type": "display_data"
    }
   ],
   "source": [
    "from matplotlib.colors import hsv_to_rgb\n",
    "\n",
    "def plot_weibull(pdf, ax):\n",
    "    depthScale = 0.3\n",
    "    shp, scl = 1.24959, 0.107359 + depthScale * ((pdf-0.2))\n",
    "    temp = pd.DataFrame(cgr.cgr_weibull(np.random.rand(100000),shp=shp,scl=scl), columns=[f'PDP= {pdf*100:.2f}%'])\n",
    "    temp.plot.kde(grid=True, color=tuple(hsv_to_rgb((1-pdf,1,1-pdf/2))), alpha=0.5, ax=ax)\n",
    "    \n",
    "fig, ax = plt.subplots(1,1, figsize=(10,7))\n",
    "ax.set_xlim(-0.1,)\n",
    "\n",
    "for i in [0.1,0.2,0.3,0.4,0.5,0.6,0.7,0.8]:\n",
    "    plot_weibull(i,ax)\n",
    "\n",
    "ax.legend(fontsize=12)\n",
    "ax.set_xlabel('Growth Rate (mm/yr)', fontsize=12)\n",
    "ax.set_ylabel('Density',fontsize=12)"
   ]
  },
  {
   "cell_type": "code",
   "execution_count": 39,
   "metadata": {},
   "outputs": [
    {
     "data": {
      "text/plain": [
       "array([1000.,    0.,    0.])"
      ]
     },
     "execution_count": 39,
     "metadata": {},
     "output_type": "execute_result"
    }
   ],
   "source": [
    "hsv_to_rgb((1,1,1000))"
   ]
  },
  {
   "cell_type": "markdown",
   "metadata": {},
   "source": [
    "# Choice of Grade Distributions "
   ]
  },
  {
   "cell_type": "code",
   "execution_count": null,
   "metadata": {},
   "outputs": [],
   "source": [
    "qq = \"\"\"select ld2.code [spec], sum(abs(ps.EndStationNum-ps.BeginStationNum)) [length] from PipeSegment ps\n",
    "        join stationseries ss on ps.beginstationseriesid = ss.id\n",
    "        join lineloop ll on ss.lineloopid = ll.id\n",
    "        join listdomain ld on ll.lineloopstatusld = ld.id\n",
    "        join ListDomain ld2 on ps.PipeSpecificationDomainId = ld2.Id\n",
    "        where ps.EffectiveEndDate is null and ld.code = 'O'\n",
    "        group by ld2.code\n",
    "        order by length desc\"\"\"\n",
    "\n",
    "qq2 = \"\"\"select ps.PipeGrade, sum(abs(ps.EndStationNum-ps.BeginStationNum)) [length] from PipeSegment ps\n",
    "        join stationseries ss on ps.beginstationseriesid = ss.id\n",
    "        join lineloop ll on ss.lineloopid = ll.id\n",
    "        join listdomain ld on ll.lineloopstatusld = ld.id\n",
    "        where ps.EffectiveEndDate is null and ld.code = 'RISK2019'\n",
    "        group by ps.PipeGrade\n",
    "        order by length desc\"\"\"\n",
    "\n",
    "# sql_query(qq).set_index('spec').assign(pct = lambda x: x.length/x.length.sum()).pct.plot(kind='bar')\n",
    "display(sql_query(qq2).apply(lambda x: round(x/6.89476,0) if x.name == 'PipeGrade' else x).set_index('PipeGrade').assign(pct = lambda x: x.length/x.length.sum()))\n",
    "sql_query(qq2).apply(lambda x: round(x/6.89476,0) if x.name == 'PipeGrade' else x).set_index('PipeGrade').assign(pct = lambda x: x.length/x.length.sum()).pct.plot(kind='bar')"
   ]
  },
  {
   "cell_type": "markdown",
   "metadata": {},
   "source": [
    "Variable | Distribution Type | Mean | COV,% | Source | Recommended\n",
    "---      |---                |---   |---    |:------:|---\n",
    "SMYS|Normal|1.11|3.4|Jiao et al (1997) API 5L X60 <br>_*Based on 760 tests from different mills._ | \n",
    "SMYS|Normal|1.08|3.3|Jiao et al (1997) API 5L X65 <br>_*Based on 2753 tests from different mills._ | \n",
    "SMYS|N/A|1.07<br>-<br>1.10|2.6<br>-<br>3.6|Jiao et al (1995b) API 5L X80 <br>_*Based on three sets of tests._ |\n",
    "SMYS|Lognormal|1.08|4.0|Sotberg and Leira (1994) <br>_*No information on original source provided._|\n",
    "SMYS|Normal <br>or <br>Lognormal|1.10|3.5|Proprietary data <br>_*Based on mill data for API 5L X60 to X70 pipe._| X\n",
    "\n",
    ">_\"Published distributions of yield and tensile strength are based on data from routine mill tests and are generally not sensitive to steel grade. Jiao et al. (1997) show that the COV can vary by a factor of two depending on the quality of the mill and therefore mill-specific data should be used where possible.\"_\n",
    "\n",
    "CSA Z662 2019, Annex O, Page 695\n",
    "\n",
    "Normal or Lognormal curve appears to cover the broadest range of pipe. Would need to see what could be done for:\n",
    "* X52 (42.14% of RISK2019 pipe)\n",
    "* X42 (11.91% of RISK2019 pipe)\n",
    "* X56 (9.85% of RISK2019 pipe)\n",
    "* X46 (6.88% of RISK2019 pipe)\n",
    "* X30 (2.12% of RISK2019 pipe)\n",
    "* X35 (1.11% of RISK2019 pipe)"
   ]
  },
  {
   "cell_type": "markdown",
   "metadata": {},
   "source": [
    "# Creating Weibull Distribution"
   ]
  },
  {
   "cell_type": "code",
   "execution_count": null,
   "metadata": {},
   "outputs": [],
   "source": [
    "cgrs = np.array([0.0]+[0.02]+[0.04]+[0.06]+[0.08]+[0.10]+[0.12]+[0.14]+[0.16]+[0.18]+[0.20]+[0.22]+[])"
   ]
  },
  {
   "cell_type": "code",
   "execution_count": null,
   "metadata": {},
   "outputs": [],
   "source": [
    "# from scipy.stats import gamma\n",
    "# data_gamma = gamma.rvs(a=0.3, size=100000)\n",
    "\n",
    "# ax = sns.distplot(data_gamma,\n",
    "#                   kde=True,\n",
    "#                   bins=100,\n",
    "#                   color='skyblue',\n",
    "#                   hist_kws={\"linewidth\": 15,'alpha':1})\n",
    "# ax.set(xlabel='Gamma Distribution', ylabel='Frequency', xlim=(0,0.5))\n",
    "\n",
    "# weibullCGR = pd.DataFrame(cgr.cgr_weibull(np.random.rand(100000),shp=1.439,scl=0.1), columns=['Weibull Distribution'])\n",
    "weibullCGR = pd.DataFrame(cgr.cgr_weibull(np.random.rand(100000),shp=1.9,scl=0.12), columns=['Weibull Distribution'])\n",
    "display(weibullCGR.describe())\n",
    "ax = weibullCGR.plot.kde(grid=True, color='blue', alpha=0.5, xlim=[-0.05,0.4])\n",
    "ax2 = weibullCGR.plot.hist(bins = 50, grid=True, color='blue', alpha=0.5, xlim=[-0.05,0.4])"
   ]
  },
  {
   "cell_type": "code",
   "execution_count": null,
   "metadata": {},
   "outputs": [],
   "source": [
    "def get_features_for_cgr_analysis(start=1, amt=4_200_000):\n",
    "    q = f\"\"\"set nocount on;\n",
    "            select * from\n",
    "            (\n",
    "            select\n",
    "            ROW_NUMBER() over(order by f.id asc) as [RN],\n",
    "            --ll.Id as 'LineLoopId',\n",
    "            --f.Id,\n",
    "            --(mlvc.factornum+f.StationNum*mlvc.MultiplierNum) as 'chainage_m',\n",
    "            f.ILIFPeakDepthPct,\n",
    "            f.ILIFSurfaceInd,\n",
    "            r.ILIRStartDate,\n",
    "            --a.LineID,\n",
    "            a.PipeInserviceDate,\n",
    "            a.PipeWallThickness\n",
    "            --a.begin_ps,\n",
    "            --a.end_ps\n",
    "            from InlineInspectionFeature f\n",
    "            join ListDomain ld on f.ILIFStatusDomainId = ld.Id\n",
    "            join MLVCorrection mlvc on f.StationSeriesId = mlvc.StationSeriesId\n",
    "            join InlineInspectionRange r on f.InlineInspectionRangeId = r.Id\n",
    "            join StationSeries ss on f.StationSeriesId = ss.Id\n",
    "            join LineLoop ll on ss.LineLoopId = ll.id\n",
    "            inner join ( select ll.Id [LineID], ps.PipeWallThickness, ps.PipeInserviceDate, (ps.BeginStationNum*mlv1.MultiplierNum+mlv1.FactorNum) [begin_ps], (ps.EndStationNum*mlv2.MultiplierNum+mlv2.FactorNum) [end_ps] from PipeSegment ps\n",
    "                        join MLVCorrection mlv1 on ps.BeginStationSeriesId = mlv1.StationSeriesId\n",
    "                        join MLVCorrection mlv2 on ps.EndStationSeriesId = mlv2.StationSeriesId\n",
    "                        join StationSeries ss on ps.BeginStationSeriesId = ss.Id\n",
    "                        join LineLoop ll on ss.LineLoopId = ll.Id ) a on a.LineID = ll.Id and (mlvc.factornum+f.StationNum*mlvc.MultiplierNum) between a.begin_ps and a.end_ps\n",
    "            where\n",
    "            ld.code = 'Active'\n",
    "            ) sub\n",
    "            where sub.RN between {start} and {start+amt}\n",
    "            order by sub.RN asc\n",
    "            \"\"\"\n",
    "    return sql_query(q)"
   ]
  },
  {
   "cell_type": "code",
   "execution_count": null,
   "metadata": {},
   "outputs": [],
   "source": [
    "%%time\n",
    "cgr_df = get_features_for_cgr_analysis(1,4191677)\n",
    "\n",
    "cgr_df.info(memory_usage='deep')\n",
    "\n",
    "cgr_df.describe(include='all')\n",
    "\n",
    "cgr_df.loc[:, 'time_delta'] = ((cgr_df.ILIRStartDate - cgr_df.PipeInserviceDate).dt.days/365.25)\n",
    "cgr_df.loc[:, 'growth_rate_mmpyr'] = (cgr_df.ILIFPeakDepthPct*cgr_df.PipeWallThickness)/(0.5*cgr_df.time_delta)\n",
    "\n",
    "cgr_df.query(\"growth_rate_mmpyr <= 0\")\n",
    "\n",
    "# shp_data, scl_data = weibull_fitter(cgr_df.loc[:,['growth_rate_mmpyr']])\n",
    "shp_data, scl_data = 1.24959, 0.107359\n",
    "\n",
    "plt.rcParams.update({'font.size': 20, 'font.family': ['Times New Roman']})\n",
    "bincount = 75\n",
    "weibullCGR_1 = pd.DataFrame(cgr.cgr_weibull(np.random.rand(100000),shp=shp_data,scl=scl_data), columns=['PPL Data Weibull Distribution'])\n",
    "display(weibullCGR_1.describe())\n",
    "ax = weibullCGR_1.plot.kde(grid=True, color='darkblue', alpha=0.5, xlim=[0,0.4])\n",
    "ax.get_legend().remove()\n",
    "ax.set_xlabel(\"Growth Rate\")\n",
    "\n",
    "# ax2 = weibullCGR_1.plot.hist(bins=bincount, color='cyan', alpha=0.5, xlim=[0,0.4])\n"
   ]
  },
  {
   "cell_type": "code",
   "execution_count": null,
   "metadata": {},
   "outputs": [],
   "source": [
    "weibullCGR_1.quantile(0.95)"
   ]
  }
 ],
 "metadata": {
  "hide_input": false,
  "kernelspec": {
   "display_name": "Python 3",
   "language": "python",
   "name": "python3"
  },
  "language_info": {
   "codemirror_mode": {
    "name": "ipython",
    "version": 3
   },
   "file_extension": ".py",
   "mimetype": "text/x-python",
   "name": "python",
   "nbconvert_exporter": "python",
   "pygments_lexer": "ipython3",
   "version": "3.6.8"
  },
  "toc": {
   "base_numbering": 1,
   "nav_menu": {
    "height": "405px",
    "width": "418px"
   },
   "number_sections": true,
   "sideBar": true,
   "skip_h1_title": false,
   "title_cell": "Table of Contents",
   "title_sidebar": "Contents",
   "toc_cell": false,
   "toc_position": {
    "height": "calc(100% - 180px)",
    "left": "10px",
    "top": "150px",
    "width": "286.167px"
   },
   "toc_section_display": true,
   "toc_window_display": true
  },
  "varInspector": {
   "cols": {
    "lenName": 16,
    "lenType": 16,
    "lenVar": 40
   },
   "kernels_config": {
    "python": {
     "delete_cmd_postfix": "",
     "delete_cmd_prefix": "del ",
     "library": "var_list.py",
     "varRefreshCmd": "print(var_dic_list())"
    },
    "r": {
     "delete_cmd_postfix": ") ",
     "delete_cmd_prefix": "rm(",
     "library": "var_list.r",
     "varRefreshCmd": "cat(var_dic_list()) "
    }
   },
   "oldHeight": 371.85,
   "position": {
    "height": "133px",
    "left": "1060px",
    "right": "20px",
    "top": "133px",
    "width": "393px"
   },
   "types_to_exclude": [
    "module",
    "function",
    "builtin_function_or_method",
    "instance",
    "_Feature"
   ],
   "varInspector_section_display": "none",
   "window_display": false
  }
 },
 "nbformat": 4,
 "nbformat_minor": 2
}
