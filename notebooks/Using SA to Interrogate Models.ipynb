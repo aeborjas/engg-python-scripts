{
 "cells": [
  {
   "cell_type": "markdown",
   "metadata": {
    "slideshow": {
     "slide_type": "slide"
    }
   },
   "source": [
    "# DMDU 2019 Training Day - Introduction to SALib\n",
    "\n",
    "Will Usher\n",
    "\n",
    "- Assistant Professor, Division of Energy Systems Analysis, KTH Royal Institute of Technology\n",
    "- Honorary Research Associate, Environmental Change Institute, University of Oxford \n",
    "\n",
    "DMDU Training Day, Delft\n",
    "\n",
    "Tuesday 5th November 2019"
   ]
  },
  {
   "cell_type": "markdown",
   "metadata": {
    "slideshow": {
     "slide_type": "skip"
    }
   },
   "source": [
    "## How to use this notebook\n",
    "\n",
    "There are several alternative ways in which you can use this Jupyter Notebook.\n",
    "\n",
    "1. Access online here [![Binder](http://mybinder.org/badge.svg)](http://mybinder.org/repo/salib/satut) (changes won't be saved)\n",
    "2. [Download](http://www.github.com/SALib/SATut) the notebooks, and install jupyter and python\n",
    "    1. For Mac, open terminal and type\n",
    "        ```bash\n",
    "        git clone http://www.github.com/SALib/SATut\n",
    "        cd SATut\n",
    "        pip install jupyter notebook ipython\n",
    "        ```\n",
    "    2. Then\n",
    "        ```bash\n",
    "        jupyter notebook\n",
    "        ```"
   ]
  },
  {
   "cell_type": "markdown",
   "metadata": {
    "slideshow": {
     "slide_type": "slide"
    }
   },
   "source": [
    "# Agenda\n",
    "\n",
    "1. [What is Sensitivity Analysis?](#What-is-Sensitivity-Analysis?)\n",
    "1. [Sensitivity Analysis Techniques](#Sensitivity-Analysis-Techniques)\n",
    "1. [An Interactive Example](#Sensitivity-Analysis-in-Practice:-Vehicle-to-Grid)\n",
    "1. [Summary](#Summary)"
   ]
  },
  {
   "cell_type": "code",
   "execution_count": 2,
   "metadata": {
    "slideshow": {
     "slide_type": "skip"
    }
   },
   "outputs": [],
   "source": [
    "from ipywidgets import widgets, interact\n",
    "from IPython.display import display\n",
    "import seaborn as sbn\n",
    "import matplotlib.pyplot as plt\n",
    "%matplotlib inline\n",
    "import numpy as np\n",
    "from IPython.core.pylabtools import figsize\n",
    "sbn.set_context(\"talk\", font_scale=.8)\n",
    "figsize(10, 8)\n",
    "\n",
    "# The model used for this seminar is contained in the file model.py\n",
    "from model import (cost_of_vehicle_to_grid, compute_profit, \n",
    "                   annualized_capital_cost, battery_lifetime, \n",
    "                   max_vehicle_power)"
   ]
  },
  {
   "cell_type": "code",
   "execution_count": null,
   "metadata": {
    "slideshow": {
     "slide_type": "skip"
    }
   },
   "outputs": [],
   "source": [
    "# Uncomment the next line and run this cell to view the model code in this notebook\n",
    "# %load model.py"
   ]
  },
  {
   "cell_type": "markdown",
   "metadata": {
    "slideshow": {
     "slide_type": "subslide"
    }
   },
   "source": [
    "# Uncertainty and Modelling\n",
    "\n",
    "We use models to encode natural phenomena, to project and forecast, to understand, to learn.\n",
    "\n",
    "Examples of models:\n",
    "* discounted cash flow analysis\n",
    "* [Gina coefficient](https://en.wikipedia.org/wiki/Gini_coefficient#Based_on_just_two_levels_of_income) (statistical measure of inequality)\n",
    "* OSeMOSYS - open-source energy system model\n",
    "* [MetUM](http://www.metoffice.gov.uk/research/modelling-systems/unified-model) - UK weather forecasting"
   ]
  },
  {
   "cell_type": "markdown",
   "metadata": {
    "slideshow": {
     "slide_type": "slide"
    }
   },
   "source": [
    "## What is Sensitivity Analysis?\n",
    "\n",
    "“...the study of how the uncertainty in the output of a mathematical model or system (numerical or otherwise) can be apportioned to different sources of uncertainty in its inputs.” \n",
    "\n",
    "There are three settings for sensitivity analysis:\n",
    "* **Ranking** (factor prioritisation) - which parameters are most influential?\n",
    "* **Screening** (factor fixing) - which parameters can we ignore?\n",
    "* Factor mapping - which inputs matter for just this space in the model output?\n",
    "\n",
    "There are two types of approaches:\n",
    "* Local approaches\n",
    "* Global approaches\n",
    "\n",
    "And two sampling methods:\n",
    "* One-at-a-time (OAT)\n",
    "* All-at-a-time (AAT)\n",
    "\n",
    "See Pianosi et al. (2016) for a good review."
   ]
  },
  {
   "cell_type": "markdown",
   "metadata": {
    "slideshow": {
     "slide_type": "subslide"
    }
   },
   "source": [
    "### Local versus Global Approaches\n",
    "\n",
    "* Local approaches\n",
    "    * e.g. one-at-a-time (OAT) approach\n",
    "    * low data requirements\n",
    "    * quick and easy to conduct\n",
    "    * do not capture interactions between inputs\n",
    "    * misleading for non-linear models\n",
    "\n",
    "\n",
    "* Global approaches\n",
    "    * e.g. Sobol analysis\n",
    "    * often need probabilistic data\n",
    "    * computationally demanding\n",
    "    * capture interactions between inputs\n",
    "    * handle non-linear and non-additive models"
   ]
  },
  {
   "cell_type": "markdown",
   "metadata": {
    "slideshow": {
     "slide_type": "subslide"
    }
   },
   "source": [
    "### Sensitivity Analysis Techniques \n",
    "\n",
    "(adapted from Flechsig (2012), Saltelli(2008))\n",
    "\n",
    "| Type | Morris | Variance | Factorial | DMIM | Local SA |\n",
    "|:------|------|------|------|------|------|\n",
    "|Model independent? | yes | yes | yes | yes | yes|\n",
    "|Sample source | levels | distributions | levels | distributions | levels |\n",
    "|No. factors | $20-100^1$ | $<20^1$ | $>100^1$ | $<20$ | $<100$ |\n",
    "|Factor range | global | global | global | global | local |\n",
    "|Multi-factor variation | yes | yes | yes | yes | no |\n",
    "|Correlated factors? | no | no | yes | yes | no |\n",
    "|Cost (for k factors)? | $10(k+1)$ | $500(k+2)$ | $k \\to 2k$ | $500+1$ | $2(k+1)$ |\n",
    "|Estimated CPU time$^2$ | 1 day | 11 days | 3 hours | ~2 days | 1 hour |\n",
    "|Best for | Screening | Rank | Screening | Rank | - |\n",
    "  \n",
    "[1] using groups of factors would enable larger numbers of factors to be explored\n",
    "[2] assuming 5 minutes per simulation and 30 groups of factors"
   ]
  },
  {
   "cell_type": "markdown",
   "metadata": {
    "slideshow": {
     "slide_type": "notes"
    }
   },
   "source": [
    "Sensitivity Analysis is strongly linked to uncertainty.\n",
    "\n",
    "When considering the range over which a mode input should be explored, \n",
    "you are actually considering the plausibility of this range.\n",
    "\n",
    "Sensitivity Analysis makes you critically analyse your assumptions."
   ]
  },
  {
   "cell_type": "markdown",
   "metadata": {
    "slideshow": {
     "slide_type": "subslide"
    }
   },
   "source": [
    "### Global Sensitivity Analysis\n",
    "\n",
    "Screening approaches, such as Fractional Factorial and Morris, identify inputs that have/do not have influence upon the output.\n",
    "\n",
    "Variance-based approaches, such as Saltelli and density-based approaches such as DMIM, **score** or **rank** the sensitivity of each input with a numerical value, called the sensitivity index.\n",
    "\n",
    "Sensitivity indices come in several forms:\n",
    "* Total-order index: measures the contribution to the output variance caused by a model input, including both its first-order effects (the input varying alone) and all higher-order interactions.\n",
    "* First-order indices: measures the contribution to the output variance by a single model input alone.\n",
    "* Second-order indices: measures the contribution to the output variance caused by the interaction of two model inputs."
   ]
  },
  {
   "cell_type": "markdown",
   "metadata": {
    "slideshow": {
     "slide_type": "slide"
    }
   },
   "source": [
    "# Sensitivity Analysis in Practice: Vehicle to Grid\n",
    "\n",
    "[Kempton (2005)](http://www.sciencedirect.com/science/article/pii/S0378775305000352) raise the prospect of using battery electric vehicles (BEVs) as mobile storage devices for electricity.  Other than pumped hydro, the electricity grid has virtually no storage devices.  Electricity storage could facilitate the integration of variable output renewable technologies such as wind turbines and solar photovoltaics.\n",
    "\n",
    "The concept of V2G is that the owners of electric (or even hydrogen fuel cell) vehicles could be paid by the System Operator (National Grid in the UK) for the use of their cars as giant batteries.\n",
    "\n",
    "There are three services that Vehicle-to-Grid (V2G) could provide:\n",
    "* Regulation - helps keep the grid operating at 60 Hz by exporting energy during times of extra demand or importing during times of extra supply\n",
    "* Spinning Reserve - an always-available (but not necessarily generating) backup in case a power plant drops offline\n",
    "* Peak Power - exports electricity to the grid during times of peak demand (e.g. 5-7pm)"
   ]
  },
  {
   "cell_type": "markdown",
   "metadata": {
    "slideshow": {
     "slide_type": "subslide"
    }
   },
   "source": [
    "We'll just look at **regulation** services:\n",
    "\n",
    "\n",
    "|Service | Revenue | Cost|\n",
    " |---- | ---- | ----|\n",
    " |**Regulation** | Energy Exported, Saving on Energy Imported | Cost of Energy, Degradation of Battery|\n",
    " |Spinning Reserve | Capacity Available, Energy Exported | Cost of Energy, Degradation of Battery|\n",
    " |Peak Power | Capacity Available, Energy Exported | Cost of Energy, Degradation of Battery|"
   ]
  },
  {
   "cell_type": "markdown",
   "metadata": {
    "slideshow": {
     "slide_type": "subslide"
    }
   },
   "source": [
    "## Tesla Model S\n",
    "\n",
    "![Tesla](https://www.teslamotors.com/sites/default/files/images/model-s/gallery/exterior/hero-01.jpg?20151030)\n",
    "\n",
    "Parameter | Min | Max\n",
    "---| ---| ---\n",
    "Battery Size | 70 kWh | 85 kWh\n",
    "Charge Connectors | 230V 10 Amp (2.3 kW) | 400V 32 Amp (22 kW)\n",
    "Stated efficiency | ~ 5.5 km/kWh |"
   ]
  },
  {
   "cell_type": "markdown",
   "metadata": {
    "slideshow": {
     "slide_type": "subslide"
    }
   },
   "source": [
    "## Nissan Leaf\n",
    "\n",
    "![Nissan Leaf](https://www.nissan-cdn.net/content/dam/Nissan/nissan_europe/vehicles/leaf/product_code/product_version/overview/packshot_colorpicker_Leaf_QAB_small_zero-emission.png.ximg.s_12_m.smart.png)\n",
    "\n",
    "Parameter | Min | Max\n",
    "---| ---| ---\n",
    "Battery Size | 24 kWh | 30 kWh\n",
    "Charge Connectors | 2.3 kW | 6.6 kW\n",
    "Stated efficiency | ~5.5 km/kWh |"
   ]
  },
  {
   "cell_type": "markdown",
   "metadata": {
    "slideshow": {
     "slide_type": "subslide"
    }
   },
   "source": [
    "### One-at-time approach\n",
    "\n",
    "First, we're going to try the **one-at-a-time** (OAT) approach.\n",
    "\n",
    "Find the sliders in the example which are set up for the parameters of the Nissan Leaf.\n",
    "\n",
    "Which is the most influential variable? What is difficult to understand in this case?"
   ]
  },
  {
   "cell_type": "code",
   "execution_count": 3,
   "metadata": {
    "slideshow": {
     "slide_type": "skip"
    }
   },
   "outputs": [
    {
     "data": {
      "application/vnd.jupyter.widget-view+json": {
       "model_id": "d94b4423dc7f43ccb5e2b211018c0d29",
       "version_major": 2,
       "version_minor": 0
      },
      "text/plain": [
       "interactive(children=(FloatSlider(value=2.3, description='connector', max=22.0, min=2.3, step=0.5), FloatSlide…"
      ]
     },
     "metadata": {},
     "output_type": "display_data"
    }
   ],
   "source": [
    "@interact(connector=widgets.FloatSlider(value=2.3, min=2.3, max=22, step=0.5), \n",
    "          battery_size=widgets.FloatSlider(value=24, min=10, max=100, step=5), \n",
    "          distance_driven=widgets.FloatSlider(value=0, min=0, max=100, step=5), \n",
    "          range_buffer=widgets.FloatSlider(value=0, min=0, max=100, step=10),\n",
    "          dispatch_time=widgets.FloatSlider(value=1.4, min=0.5, max=24, step=0.5))\n",
    "def plot_power(connector: float, battery_size: float, distance_driven: float, \n",
    "               range_buffer: float, dispatch_time: float) -> float :\n",
    "    power = max_vehicle_power(connector,\n",
    "                      battery_size,\n",
    "                      distance_driven,\n",
    "                      range_buffer,\n",
    "                      dispatch_time\n",
    "                      )\n",
    "    return print(\"The maximum power is {} kW\".format(round(power, 2)))"
   ]
  },
  {
   "cell_type": "code",
   "execution_count": 4,
   "metadata": {
    "slideshow": {
     "slide_type": "skip"
    }
   },
   "outputs": [],
   "source": [
    "def monte_carlo_large(data):\n",
    "    dispatch_time = 4\n",
    "    y = max_vehicle_power(data[0], data[1], data[2], data[3], data[6], data[4], data[5])\n",
    "    return y"
   ]
  },
  {
   "cell_type": "markdown",
   "metadata": {
    "slideshow": {
     "slide_type": "subslide"
    }
   },
   "source": [
    "### Scatter plots\n",
    "\n",
    "Scatter plots can tell you quite a lot about the relationship between the model inputs and outputs.\n",
    "\n",
    "Each of the scatter plots shows _all_ the model outputs on the y-axis, but re-ordered by the relationship to the input variable (on the x-axis).\n",
    "\n",
    "![Scatter Plot](./scatter.png)"
   ]
  },
  {
   "cell_type": "code",
   "execution_count": 5,
   "metadata": {
    "slideshow": {
     "slide_type": "skip"
    }
   },
   "outputs": [],
   "source": [
    "number_sims = 1000\n",
    "\n",
    "# Make some random data in the correct ranges\n",
    "mc_connector = np.random.uniform(2.3, 22, number_sims)\n",
    "mc_battery_size = np.random.uniform(50, 100, number_sims)\n",
    "mc_distance_driven = np.random.uniform(0, 80, number_sims)\n",
    "mc_range_buffer = np.random.uniform(0, 80, number_sims)\n",
    "mc_driving_eff = np.random.uniform(2, 6, number_sims)\n",
    "mc_inv_eff = np.random.uniform(0.87, 0.97, number_sims)\n",
    "mc_dispatch_time = np.random.uniform(0.5, 24, number_sims)\n",
    "\n",
    "data = np.array((mc_connector, \n",
    "                 mc_battery_size, \n",
    "                 mc_distance_driven, \n",
    "                 mc_range_buffer, \n",
    "                 mc_driving_eff, \n",
    "                 mc_inv_eff, \n",
    "                 mc_dispatch_time))\n",
    "\n",
    "# Run the code\n",
    "y = monte_carlo_large(data)"
   ]
  },
  {
   "cell_type": "code",
   "execution_count": 6,
   "metadata": {
    "slideshow": {
     "slide_type": "skip"
    }
   },
   "outputs": [
    {
     "data": {
      "image/png": "[encoded data removed]",
      "text/plain": [
       "<Figure size 720x576 with 7 Axes>"
      ]
     },
     "metadata": {
      "needs_background": "light"
     },
     "output_type": "display_data"
    }
   ],
   "source": [
    "# Make some scatter plots to compare the results\n",
    "plt.subplot(241)\n",
    "plt.scatter(mc_connector, y)\n",
    "plt.title(\"Connector size (kW)\")\n",
    "plt.ylabel(\"Max Power (kW)\")\n",
    "plt.subplot(242)\n",
    "plt.scatter(mc_battery_size, y)\n",
    "plt.title(\"Battery Size (kWh)\")\n",
    "# plt.ylabel(\"Max Power (kW)\")\n",
    "plt.subplot(243)\n",
    "plt.scatter(mc_distance_driven, y)\n",
    "plt.title(\"Distance Driven (km)\")\n",
    "# plt.ylabel(\"Max Power (kW)\")\n",
    "plt.subplot(244)\n",
    "plt.scatter(mc_range_buffer, y)\n",
    "plt.title(\"Range Buffer (km)\")\n",
    "# plt.ylabel(\"Max Power (kW)\")\n",
    "plt.subplot(245)\n",
    "plt.scatter(mc_driving_eff, y)\n",
    "plt.title(\"Driving Eff (kWh/km)\")\n",
    "plt.ylabel(\"Max Power (kW)\")\n",
    "plt.subplot(246)\n",
    "plt.scatter(mc_inv_eff, y)\n",
    "plt.title(\"Inverter Eff (%)\")\n",
    "# plt.ylabel(\"Max Power (kW)\")\n",
    "plt.subplot(247)\n",
    "plt.scatter(mc_dispatch_time, y)\n",
    "plt.title(\"Dispatch Time (hours)\")\n",
    "# plt.ylabel(\"Max Power (kW)\")\n",
    "plt.tight_layout()\n",
    "# plt.savefig('scatter.png')"
   ]
  },
  {
   "cell_type": "markdown",
   "metadata": {
    "slideshow": {
     "slide_type": "subslide"
    }
   },
   "source": [
    "You might be tempted to plot a histogram of the model outputs.  This shows how often a particular value occurs in the results, but given that we are only exploring the model variable ranges, don't read too much into this distribution.\n"
   ]
  },
  {
   "cell_type": "code",
   "execution_count": 7,
   "metadata": {
    "slideshow": {
     "slide_type": "fragment"
    }
   },
   "outputs": [
    {
     "data": {
      "text/plain": [
       "Text(0, 0.5, 'Frequency')"
      ]
     },
     "execution_count": 7,
     "metadata": {},
     "output_type": "execute_result"
    },
    {
     "data": {
      "image/png": "[encoded data removed]",
      "text/plain": [
       "<Figure size 720x576 with 1 Axes>"
      ]
     },
     "metadata": {
      "needs_background": "light"
     },
     "output_type": "display_data"
    }
   ],
   "source": [
    "plt.hist(y)\n",
    "plt.xlabel(\"Power (kW)\")\n",
    "plt.ylabel(\"Frequency\")"
   ]
  },
  {
   "cell_type": "markdown",
   "metadata": {
    "slideshow": {
     "slide_type": "slide"
    }
   },
   "source": [
    "# Using SALib to run a Global Sensitivity Analysis"
   ]
  },
  {
   "cell_type": "markdown",
   "metadata": {
    "slideshow": {
     "slide_type": "fragment"
    }
   },
   "source": [
    "SALib is a **free** **open-source** **Python** library\n",
    "\n",
    "If you use Python, you can install it by running the command\n",
    "\n",
    "```python\n",
    "pip install SALib\n",
    "```\n",
    "\n",
    "[Documentation](http://salib.readthedocs.org/) is available online and you can also view the code on [Github](http://salib.github.io/SALib/).\n",
    "\n",
    "The library includes:\n",
    "* Sobol Sensitivity Analysis ([Sobol 2001](http://www.sciencedirect.com/science/article/pii/S0378475400002706), [Saltelli 2002](http://www.sciencedirect.com/science/article/pii/S0010465502002801), [Saltelli et al. 2010](http://www.sciencedirect.com/science/article/pii/S0010465509003087))\n",
    "* Method of Morris, including groups and optimal trajectories ([Morris 1991](http://www.tandfonline.com/doi/abs/10.1080/00401706.1991.10484804), [Campolongo et al. 2007](http://www.sciencedirect.com/science/article/pii/S1364815206002805))\n",
    "* Fourier Amplitude Sensitivity Test (FAST) ([Cukier et al. 1973](http://scitation.aip.org/content/aip/journal/jcp/59/8/10.1063/1.1680571), [Saltelli et al. 1999](http://amstat.tandfonline.com/doi/abs/10.1080/00401706.1999.10485594))\n",
    "* Delta Moment-Independent Measure ([Borgonovo 2007](http://www.sciencedirect.com/science/article/pii/S0951832006000883), [Plischke et al. 2013](http://www.sciencedirect.com/science/article/pii/S0377221712008995))\n",
    "* Derivative-based Global Sensitivity Measure (DGSM) ([Sobol and Kucherenko 2009](http://www.sciencedirect.com/science/article/pii/S0378475409000354))\n",
    "* Fractional Factorial Sensitivity Analysis ([Saltelli et al. 2008](http://www.wiley.com/WileyCDA/WileyTitle/productCd-0470059974.html))"
   ]
  },
  {
   "cell_type": "markdown",
   "metadata": {
    "slideshow": {
     "slide_type": "subslide"
    }
   },
   "source": [
    "## Why you should use SALib...\n",
    "\n",
    "There are several advantages to using SALib:\n",
    "\n",
    "- many powerful global sensitivity analysis methods are already implemented\n",
    "- focus on robust implementations, readable code, simple structure, and well tested\n",
    "- SALib is widely used (over 100 citations)\n",
    "- consistent interface across the different methods - easy to switch between methods\n",
    "- SALib has a knowledgable community of users (see questions and answers on http://github.com/SALib/SALib/issues)"
   ]
  },
  {
   "cell_type": "markdown",
   "metadata": {
    "slideshow": {
     "slide_type": "subslide"
    }
   },
   "source": [
    "### Import the package"
   ]
  },
  {
   "cell_type": "code",
   "execution_count": 8,
   "metadata": {
    "slideshow": {
     "slide_type": "fragment"
    }
   },
   "outputs": [],
   "source": [
    "from SALib.sample import morris as ms\n",
    "from SALib.analyze import morris as ma\n",
    "from SALib.plotting import morris as mp"
   ]
  },
  {
   "cell_type": "markdown",
   "metadata": {
    "slideshow": {
     "slide_type": "subslide"
    }
   },
   "source": [
    "### Define a problem file\n",
    "\n",
    "In the code below, a problem file is used to define the variables we wish to explore"
   ]
  },
  {
   "cell_type": "code",
   "execution_count": 9,
   "metadata": {
    "slideshow": {
     "slide_type": "fragment"
    }
   },
   "outputs": [],
   "source": [
    "morris_problem = {\n",
    "    # There are n variables\n",
    "    'num_vars': 7,\n",
    "    # These are their names\n",
    "    'names': ['conn', 'batt', 'dist', 'range', \n",
    "              'dri_eff', 'inv_eff', 'dispatch_time'],\n",
    "    # Plausible ranges over which we'll move the variables\n",
    "    'bounds': [[2.3, 22], # connection_power (kW)\n",
    "               [50, 100], # battery size (kWh)\n",
    "               [0, 80], # distance driven (km)\n",
    "               [0, 80], # range buffer (km)\n",
    "               [4,5.5], # driving efficiency (kWh/km)\n",
    "               [0.87,0.97], # inverter efficienct (%)\n",
    "               [0.5, 24] # dispatch time - hours of the day in which \n",
    "                         # the energy is dispatched\n",
    "              ],\n",
    "    # I don't want to group any of these variables together\n",
    "    'groups': None\n",
    "    }"
   ]
  },
  {
   "cell_type": "markdown",
   "metadata": {
    "slideshow": {
     "slide_type": "subslide"
    }
   },
   "source": [
    "### Generate a Sample\n",
    "\n",
    "We then generate a sample using the `morris.sample()` procedure from the SALib package."
   ]
  },
  {
   "cell_type": "code",
   "execution_count": 10,
   "metadata": {
    "slideshow": {
     "slide_type": "fragment"
    }
   },
   "outputs": [],
   "source": [
    "number_of_trajectories = 1000\n",
    "sample = ms.sample(morris_problem, number_of_trajectories, num_levels=4)"
   ]
  },
  {
   "cell_type": "markdown",
   "metadata": {
    "slideshow": {
     "slide_type": "subslide"
    }
   },
   "source": [
    "### Ranking\n",
    "\n",
    "We'll run a sensitivity analysis of the power module to see which is the most influential parameter.\n",
    "\n",
    "The results parameters are called **mu**, **sigma** and **mu_star**.\n",
    "\n",
    "* **Mu** is the mean effect caused by the input parameter being moved over its range.\n",
    "* **Sigma** is the standard deviation of the mean effect.\n",
    "* **Mu_star** is the mean absolute effect."
   ]
  },
  {
   "cell_type": "code",
   "execution_count": 11,
   "metadata": {
    "slideshow": {
     "slide_type": "subslide"
    }
   },
   "outputs": [
    {
     "name": "stdout",
     "output_type": "stream",
     "text": [
      "Name                      mu mu_star   sigma\n",
      "conn                    5.89    5.89    8.21\n",
      "batt                    1.90    1.90    1.95\n",
      "dist                 -  0.70    0.70    0.70\n",
      "range                -  0.64    0.64    0.65\n",
      "dri_eff                 0.22    0.22    0.27\n",
      "inv_eff                 0.24    0.24    0.26\n",
      "dispatch_time        -  9.47    9.47    8.85\n"
     ]
    }
   ],
   "source": [
    "# Run the sample through the monte carlo procedure of the power model\n",
    "output = monte_carlo_large(sample.T)\n",
    "# Store the results for plotting of the analysis\n",
    "Si = ma.analyze(morris_problem, sample, output, print_to_console=False)\n",
    "print(\"{:20s} {:>7s} {:>7s} {:>7s}\".format(\"Name\", \"mu\", \"mu_star\", \"sigma\"))\n",
    "for name, s1, st, mean in zip(morris_problem['names'], \n",
    "                              Si['mu'], \n",
    "                              Si['mu_star'], \n",
    "                              Si['sigma']):\n",
    "    print(\"{:20s} {:=7.2f} {:=7.2f} {:=7.2f}\".format(name, s1, st, mean))"
   ]
  },
  {
   "cell_type": "markdown",
   "metadata": {
    "slideshow": {
     "slide_type": "subslide"
    }
   },
   "source": [
    "We can plot the results"
   ]
  },
  {
   "cell_type": "code",
   "execution_count": 12,
   "metadata": {
    "slideshow": {
     "slide_type": "fragment"
    }
   },
   "outputs": [
    {
     "data": {
      "text/plain": [
       "<matplotlib.collections.PathCollection at 0x15c2a396ac8>"
      ]
     },
     "execution_count": 12,
     "metadata": {},
     "output_type": "execute_result"
    },
    {
     "data": {
      "image/png": "[encoded data removed]",
      "text/plain": [
       "<Figure size 720x576 with 2 Axes>"
      ]
     },
     "metadata": {
      "needs_background": "light"
     },
     "output_type": "display_data"
    }
   ],
   "source": [
    "fig, (ax1, ax2) = plt.subplots(1,2)\n",
    "mp.horizontal_bar_plot(ax1, Si, {})\n",
    "mp.covariance_plot(ax2, Si, {})"
   ]
  },
  {
   "cell_type": "markdown",
   "metadata": {
    "slideshow": {
     "slide_type": "slide"
    }
   },
   "source": [
    "## A More Complicated Example\n",
    "\n",
    "Lets look at a more complicated example.  This now integrates the previous power module into a simple cost-benefit analysis.\n",
    "\n",
    "Trying to work out anything with all those sliders is pretty difficult.  We need to strip out the uneccesssary parameters and focus our efforts on the influential inputs."
   ]
  },
  {
   "cell_type": "code",
   "execution_count": 13,
   "metadata": {
    "slideshow": {
     "slide_type": "skip"
    }
   },
   "outputs": [
    {
     "data": {
      "application/vnd.jupyter.widget-view+json": {
       "model_id": "1ebdd94390f6450983e1222726f03b36",
       "version_major": 2,
       "version_minor": 0
      },
      "text/plain": [
       "interactive(children=(FloatSlider(value=24.0, description='battery_size', min=10.0, step=5.0), FloatSlider(val…"
      ]
     },
     "metadata": {},
     "output_type": "display_data"
    }
   ],
   "source": [
    "@interact(battery_size=widgets.FloatSlider(value=24, min=10, max=100, step=5), \n",
    "          battery_unit_cost=widgets.FloatSlider(value=350, min=100, max=400, step=50),\n",
    "          connector_power=widgets.FloatSlider(value=2.3, min=2.3, max=22, step=0.5), \n",
    "          lifetime_cycles=widgets.FloatSlider(value=2000, min=1000, max=10000, step=1000),\n",
    "          depth_of_discharge=widgets.FloatSlider(value=0.8, min=0.5, max=1.0, step=0.1),\n",
    "          electricity_price=widgets.FloatSlider(value=0.1, min=0.01, max=0.5, step=0.01),\n",
    "          purchased_energy_cost=widgets.FloatSlider(value=0.1, min=0.01, max=0.5, step=0.01),\n",
    "          capacity_price=widgets.FloatSlider(value=0.007, min=0.001, max=0.01, step=0.001),\n",
    "          round_trip_efficiency=widgets.FloatSlider(value=0.73, min=0.50, max=1.0, step=0.01),\n",
    "          cost_of_v2g_equip=widgets.FloatSlider(value=2000, min=100, max=5000, step=100),\n",
    "          discount_rate=widgets.FloatSlider(value=0.10, min=0.0, max=0.2, step=0.01),\n",
    "          economic_lifetime=widgets.FloatSlider(value=10, min=3, max=25, step=1),\n",
    "          ratio_dispatch_to_contract=widgets.FloatSlider(value=0.10, min=0.01, max=0.50, step=0.01),\n",
    "          distance_driven=widgets.FloatSlider(value=0, min=0, max=100, step=5), \n",
    "          range_buffer=widgets.FloatSlider(value=0, min=0, max=100, step=10),\n",
    "          hours_connected_per_day=widgets.FloatSlider(value=18, min=0.5, max=24, step=0.5))\n",
    "def plot_profit(battery_size,\n",
    "                battery_unit_cost,\n",
    "                connector_power,\n",
    "                lifetime_cycles,\n",
    "                depth_of_discharge,\n",
    "                electricity_price,\n",
    "                purchased_energy_cost,\n",
    "                capacity_price,\n",
    "                round_trip_efficiency,\n",
    "                cost_of_v2g_equip,\n",
    "                discount_rate,\n",
    "                economic_lifetime,\n",
    "                distance_driven,\n",
    "                range_buffer,\n",
    "                ratio_dispatch_to_contract,\n",
    "                hours_connected_per_day):\n",
    "    profit, revenue, cost = compute_profit(battery_size,\n",
    "                                           battery_unit_cost,\n",
    "                                           connector_power,\n",
    "                                           lifetime_cycles,\n",
    "                                           depth_of_discharge,\n",
    "                                           electricity_price,\n",
    "                                           purchased_energy_cost,\n",
    "                                           capacity_price,\n",
    "                                           round_trip_efficiency,\n",
    "                                           cost_of_v2g_equip,\n",
    "                                           discount_rate,\n",
    "                                           economic_lifetime,\n",
    "                                           distance_driven,\n",
    "                                           range_buffer,\n",
    "                                           ratio_dispatch_to_contract,\n",
    "                                           hours_connected_per_day\n",
    "                                           )\n",
    "    return print(\"Profit £{} = £{} - £{}\".format(np.round(profit,2), np.round(revenue, 2), np.round(cost,2) ))"
   ]
  },
  {
   "cell_type": "markdown",
   "metadata": {
    "slideshow": {
     "slide_type": "subslide"
    }
   },
   "source": [
    "### Screening\n",
    "\n",
    "We'll perform a **screening** sensitivity analysis using a variance-based approach method - that of Sobol. The results parameters are called:\n",
    "\n",
    "- S1 - first order sensitivity index - the fraction of total variance that a parameter is responsible for by itself\n",
    "- ST - total sensitivity index - the fraction of total variance that a parameter is responsible for, including interactions with other parameters"
   ]
  },
  {
   "cell_type": "code",
   "execution_count": 14,
   "metadata": {
    "slideshow": {
     "slide_type": "skip"
    }
   },
   "outputs": [],
   "source": [
    "from SALib.sample.saltelli import sample as ss\n",
    "from SALib.analyze.sobol import analyze as sa\n",
    "\n",
    "problem = {\n",
    "    # There are sixteen variables\n",
    "    'num_vars': 16,\n",
    "    # These are their names\n",
    "    'names': ['battery_size',\n",
    "              'battery_unit_cost',\n",
    "              'connector_power',\n",
    "              'lifetime_cycles',\n",
    "              'depth_of_discharge',\n",
    "              'electricity_price',\n",
    "              'purchased_energy_cost',\n",
    "              'capacity_price',\n",
    "              'round_trip_efficiency',\n",
    "              'cost_of_v2g_equip',\n",
    "              'discount_rate',\n",
    "              'economic_lifetime',\n",
    "              'distance_driven',\n",
    "              'range_buffer',\n",
    "              'ratio_dispatch_to_contract',\n",
    "              'hours_connected_per_day'],\n",
    "    # These are their plausible ranges over which we'll move the variables\n",
    "    'bounds': [       \n",
    "                [10, 100],\n",
    "                [100, 400],\n",
    "                [2.3, 22],\n",
    "                [1000, 10000],\n",
    "                [0.5, 1.0],\n",
    "                [0.01, 0.2], \n",
    "                [0.01, 0.2],\n",
    "                [0.001, 0.01], \n",
    "                [0.65, 1.0],\n",
    "                [100, 5000],\n",
    "                [0.0, 0.2], \n",
    "                [3, 25],\n",
    "                [0, 100], \n",
    "                [0, 100], \n",
    "                [0.01, 0.50],\n",
    "                [0.5, 24],\n",
    "              ],\n",
    "    # I don't want to group any of these variables together\n",
    "    'groups': None\n",
    "    }"
   ]
  },
  {
   "cell_type": "code",
   "execution_count": 15,
   "metadata": {
    "slideshow": {
     "slide_type": "skip"
    }
   },
   "outputs": [
    {
     "name": "stdout",
     "output_type": "stream",
     "text": [
      "Name                           1st Total Mean of Input\n",
      "battery_size                 -0.00  0.25 (       55.00)\n",
      "battery_unit_cost             0.01  0.03 (      250.10)\n",
      "connector_power               0.01  0.04 (       12.14)\n",
      "lifetime_cycles               0.05  0.09 (     5501.03)\n",
      "depth_of_discharge            0.00  0.03 (        0.75)\n",
      "electricity_price             0.01  0.06 (        0.10)\n",
      "purchased_energy_cost         0.03  0.13 (        0.10)\n",
      "capacity_price                0.01  0.03 (        0.01)\n",
      "round_trip_efficiency        -0.00  0.01 (        0.82)\n",
      "cost_of_v2g_equip             0.28  0.34 (     2549.62)\n",
      "discount_rate                 0.05  0.08 (        0.10)\n",
      "economic_lifetime             0.13  0.16 (       14.00)\n",
      "distance_driven              -0.01  0.03 (       49.96)\n",
      "range_buffer                 -0.01  0.03 (       50.01)\n",
      "ratio_dispatch_to_contract    0.07  0.27 (        0.26)\n",
      "hours_connected_per_day      -0.01  0.06 (       12.26)\n",
      "\n",
      "ST sums to 1.63\n"
     ]
    }
   ],
   "source": [
    "sample = ss(problem, 1000, calc_second_order=False)\n",
    "profit, revenue, cost = compute_profit(sample[:, 0], sample[:, 1], sample[:, 2], \n",
    "                                       sample[:, 3], sample[:, 4], sample[:, 5], \n",
    "                                       sample[:, 6], sample[:, 7], sample[:, 8], \n",
    "                                       sample[:, 9], sample[:, 10], sample[:, 11], \n",
    "                                       sample[:, 12], sample[:, 13], sample[:, 14], \n",
    "                                       sample[:, 15])\n",
    "SI = sa(problem, profit, parallel=True, n_processors=4, calc_second_order=False, print_to_console=False)\n",
    "print(\"{:28s} {:>5s} {:>5s} {:>12s}\".format(\"Name\", \"1st\", \"Total\", \"Mean of Input\"))\n",
    "for name, s1, st, mean in zip(problem['names'], SI['S1'], SI['ST'], sample.mean(axis=0)):\n",
    "    print(\"{:28s} {:=5.2f} {:=5.2f} ({:=12.2f})\".format(name, s1, st, mean))\n",
    "    \n",
    "print(\"\\nST sums to {:.2f}\".format(SI['ST'].sum()))"
   ]
  },
  {
   "cell_type": "markdown",
   "metadata": {
    "slideshow": {
     "slide_type": "subslide"
    }
   },
   "source": [
    "The results should look something like this:\n",
    "\n",
    "|Name                      |     1st |Total  |Mean of Input|\n",
    "| :--- | ---:| ---: | ---: |\n",
    "|battery_size               |  -0.01  |0.25 |       55.00|\n",
    "|battery_unit_cost          |  0.01   |0.03 |      250.10|\n",
    "|connector_power            |   0.01  |0.04 |       12.14|\n",
    "|lifetime_cycles            |   0.05  |0.09 |     5501.03|\n",
    "|depth_of_discharge         |   0.00  |0.03 |        0.75|\n",
    "|electricity_price          |   0.01  |0.06 |        0.10|\n",
    "|purchased_energy_cost      |   0.02  |0.13 |        0.10|\n",
    "|capacity_price             |  0.01   |0.03 |        0.01|\n",
    "|round_trip_efficiency      |   0.00  |0.01 |        0.82|\n",
    "|cost_of_v2g_equip          |   0.27  |0.34 |     2549.62|\n",
    "|discount_rate              |   0.05  |0.08 |        0.10|\n",
    "|economic_lifetime          |   0.13  |0.16 |       14.00|\n",
    "|distance_driven            |  -0.00  |0.03 |       49.96|\n",
    "|range_buffer               |  -0.01  |0.03 |       50.01|\n",
    "|ratio_dispatch_to_contract |   0.07  |0.27 |        0.26|\n",
    "|hours_connected_per_day    |  -0.01  |0.06 |       12.26|\n"
   ]
  },
  {
   "cell_type": "markdown",
   "metadata": {
    "slideshow": {
     "slide_type": "subslide"
    }
   },
   "source": [
    "Looking at the total sensitivity index (`ST`), the results show that the most important parameters are:\n",
    "* Capital cost of the V2G equipment\n",
    "* Ratio of dispatch to contract\n",
    "* Battery size\n",
    "* Economic lifetime\n",
    "* Purchased energy cost\n",
    "\n",
    "By comparing 1st-order and total sensitivity indices:\n",
    "* __Lifetime cycles__ has a reasonably important first order effect so we can include that too.\n",
    "* __Battery size__ has much more important interaction effects than first-order effects\n",
    "* Same for __Purchased_energy_cost__\n",
    "\n",
    "We can now fix the other parameters and revisit our slider model to perform some analysis."
   ]
  },
  {
   "cell_type": "code",
   "execution_count": 16,
   "metadata": {
    "slideshow": {
     "slide_type": "skip"
    }
   },
   "outputs": [
    {
     "data": {
      "application/vnd.jupyter.widget-view+json": {
       "model_id": "07d67fd8f0a14df39b829376db5abcdb",
       "version_major": 2,
       "version_minor": 0
      },
      "text/plain": [
       "interactive(children=(FloatSlider(value=70.0, description='battery_size', min=10.0, step=5.0), FloatSlider(val…"
      ]
     },
     "metadata": {},
     "output_type": "display_data"
    }
   ],
   "source": [
    "@interact(battery_size=widgets.FloatSlider(value=70, min=10, max=100, step=5), \n",
    "          purchased_energy_cost=widgets.FloatSlider(value=0.1, min=0.01, max=0.5, step=0.01),\n",
    "          cost_of_v2g_equip=widgets.FloatSlider(value=2000, min=100, max=5000, step=100),\n",
    "          economic_lifetime=widgets.FloatSlider(value=10, min=3, max=25, step=1),\n",
    "          ratio_dispatch_to_contract=widgets.FloatSlider(value=0.10, min=0.01, max=0.50, step=0.01),\n",
    "         lifetime_cycles=widgets.FloatSlider(value=2000, min=1000, max=10000, step=500))\n",
    "def plot_profit(battery_size,\n",
    "                purchased_energy_cost,\n",
    "                cost_of_v2g_equip,\n",
    "                economic_lifetime,\n",
    "                ratio_dispatch_to_contract,\n",
    "                lifetime_cycles):\n",
    "    profit, revenue, cost = compute_profit(lifetime_cycles=lifetime_cycles,\n",
    "                                           battery_size=battery_size,\n",
    "                                           purchased_energy_cost=purchased_energy_cost,\n",
    "                                           cost_of_v2g_equip=cost_of_v2g_equip,\n",
    "                                           economic_lifetime=economic_lifetime,\n",
    "                                           ratio_dispatch_to_contract=ratio_dispatch_to_contract\n",
    "                                           )\n",
    "    return print(\"Profit £{} = £{} - £{}\".format(np.round(profit,2), \n",
    "                                                 np.round(revenue, 2), \n",
    "                                                 np.round(cost,2) ))"
   ]
  },
  {
   "cell_type": "markdown",
   "metadata": {
    "slideshow": {
     "slide_type": "slide"
    }
   },
   "source": [
    "# Summary\n",
    "\n",
    "Global sensitivity analysis helps you:\n",
    "\n",
    "* Think through your assumptions\n",
    "* Focus on the most influential uncertainties first\n",
    "* Better understand the behaviour of your model\n",
    "\n",
    "**SALib** is an open-source, community developed Python package. It relies upon contributions from **you**.\n",
    "\n",
    "- Please do submit questions and ideas as Github issues at http://github.com/SALib/SALib\n",
    "- Developer team are investigating options for funding open-source development\n",
    "  - If you are not a developer, perhaps you could fund a developer to work on SALib?\n",
    "  - Main constraint is time of Jon and Will (not just for coding, but for helping to run the community)\n",
    "- SALib 2.0 is being discussed\n",
    "  - better integration with the SciPy stack\n",
    "  - visualisation and plotting\n",
    "  - more methods\n",
    "  - extending documentation to include guidance\n",
    "\n",
    "Similar packages to [SALib]() for other languages/programmes:\n",
    "\n",
    "* [Matlab Toolbox **SAFE** for GSA](http://www.sciencedirect.com/science/article/pii/S1364815215001188)\n",
    "* [`sensitivity` package for R](https://cran.r-project.org/web/packages/sensitivity/index.html)"
   ]
  },
  {
   "cell_type": "markdown",
   "metadata": {
    "slideshow": {
     "slide_type": "slide"
    }
   },
   "source": [
    "# References\n",
    "\n",
    "Pianosi, F., Beven, K., Freer, J., Hall, J. W., Rougier, J., Stephenson, D. B., & Wagener, T. (2016). _Sensitivity analysis of environmental models: A systematic review with practical workflow._ Environmental Modelling & Software, 79, 214–232. https://doi.org/10.1016/j.envsoft.2016.02.008"
   ]
  }
 ],
 "metadata": {
  "celltoolbar": "Slideshow",
  "kernelspec": {
   "display_name": "Python 3",
   "language": "python",
   "name": "python3"
  },
  "language_info": {
   "codemirror_mode": {
    "name": "ipython",
    "version": 3
   },
   "file_extension": ".py",
   "mimetype": "text/x-python",
   "name": "python",
   "nbconvert_exporter": "python",
   "pygments_lexer": "ipython3",
   "version": "3.6.8"
  },
  "toc": {
   "base_numbering": 1,
   "nav_menu": {},
   "number_sections": true,
   "sideBar": true,
   "skip_h1_title": false,
   "title_cell": "Table of Contents",
   "title_sidebar": "Contents",
   "toc_cell": false,
   "toc_position": {},
   "toc_section_display": true,
   "toc_window_display": true
  }
 },
 "nbformat": 4,
 "nbformat_minor": 1
}
