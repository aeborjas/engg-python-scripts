{
 "cells": [
  {
   "cell_type": "markdown",
   "metadata": {},
   "source": [
    "Declaration of libraries"
   ]
  },
  {
   "cell_type": "code",
   "execution_count": null,
   "metadata": {},
   "outputs": [],
   "source": [
    "import pandas as pd\n",
    "import numpy as np\n",
    "import pyodbc\n",
    "pd.set_option(\"display.max_columns\", 999)\n",
    "pd.set_option(\"display.max_rows\", 999)"
   ]
  },
  {
   "cell_type": "markdown",
   "metadata": {},
   "source": [
    "SQL query to gather some sample data"
   ]
  },
  {
   "cell_type": "code",
   "execution_count": null,
   "metadata": {},
   "outputs": [],
   "source": [
    "driver = '{SQL Server Native Client 11.0}'\n",
    "server = 'sql2012'\n",
    "db = 'og_irasv6_stage'\n",
    "conn = pyodbc.connect(\"Driver=\"+driver+\";Server=\"+server+\";Database=\"+db+\";Trusted_Connection=yes;\")\n",
    "\n",
    "# performing query to database\n",
    "\n",
    "q1 = \"\"\"set nocount on;\n",
    "        select * from mop\"\"\"\n",
    "\n",
    "q2 = \"\"\"set nocount on;\n",
    "        select ld1.code [material_type], ld2.code [seam_type], ld3.code [gwd_type], ld4.code [manufacturer], ps.* from pipesegment ps\n",
    "        join listdomain ld1 on ps.PipeMaterialDomainId = ld1.id\n",
    "        join listdomain ld2 on ps.PipeSeamDomainId = ld2.id\n",
    "        join listdomain ld3 on ps.PipeGirthWeldDomainID = ld3.id\n",
    "        join listdomain ld4 on ps.PipeManufacturerDomainId = ld4.id\"\"\"\n",
    "\n",
    "mop = pd.read_sql_query(q1,conn)\n",
    "ps = pd.read_sql_query(q2,conn)\n",
    "ps.loc[:,'PipeInserviceDate'] =  pd.to_datetime(ps.loc[:,'PipeInserviceDate'])\n",
    "\n",
    "conn.close()"
   ]
  },
  {
   "cell_type": "code",
   "execution_count": null,
   "metadata": {},
   "outputs": [],
   "source": [
    "mop.describe(include='all').loc[:,'DesignPressure']"
   ]
  },
  {
   "cell_type": "code",
   "execution_count": null,
   "metadata": {},
   "outputs": [],
   "source": [
    "ps.describe(include='all').loc[:,['PipeInserviceDate',\n",
    "                                  'PipeOutsideDiameter',\n",
    "                                  'PipeWallThickness',\n",
    "                                  'PipeGrade',\n",
    "                                  'PipeToughness',\n",
    "                                  'material_type',\n",
    "                                  'seam_type',\n",
    "                                  'gwd_type',\n",
    "                                  'manufacturer']]"
   ]
  },
  {
   "cell_type": "markdown",
   "metadata": {},
   "source": [
    "Loading the data variable list, and filtering out the fields in order to only obtain event tables"
   ]
  },
  {
   "cell_type": "code",
   "execution_count": null,
   "metadata": {},
   "outputs": [],
   "source": [
    "dvl = pd.read_excel(\"OneGas Qualitative R-data-vars_2019-09-18.xlsx\")"
   ]
  },
  {
   "cell_type": "code",
   "execution_count": null,
   "metadata": {
    "scrolled": true
   },
   "outputs": [],
   "source": [
    "tbls = dvl.loc[dvl.DataConfigVariable.isnull(),['TableName','ColumnName','DataTableType']].query(\"DataTableType != 'Virtual' & DataTableType != 'Unknown' & ~DataTableType.isnull()\")\n",
    "tbls"
   ]
  },
  {
   "cell_type": "code",
   "execution_count": null,
   "metadata": {},
   "outputs": [],
   "source": [
    "tbls.loc[tbls.ColumnName.str.contains('DomainId'),'DataType'] = 'category'\n",
    "# tbls.loc[tbls.DataType.isnull(),:]\n",
    "# ~pd.isnull(tbls.head(1).values[:,3])\n",
    "tbls"
   ]
  },
  {
   "cell_type": "markdown",
   "metadata": {},
   "source": [
    "Declaration of a function that will perform a query to select all data from a table and column given, and close the connection"
   ]
  },
  {
   "cell_type": "code",
   "execution_count": null,
   "metadata": {},
   "outputs": [],
   "source": [
    "def get_table_from_IRAS(table,column):\n",
    "    driver = '{SQL Server Native Client 11.0}'\n",
    "    server = 'sql2012'\n",
    "    db = 'og_irasv6_stage'\n",
    "    conn = pyodbc.connect(\"Driver=\"+driver+\";Server=\"+server+\";Database=\"+db+\";Trusted_Connection=yes;\")\n",
    "\n",
    "    qd = f\"\"\"set nocount on;\n",
    "            select {column} as [{table}_{column}] from {table}\"\"\"\n",
    "    qdf = pd.read_sql_query(qd,conn)\n",
    "#     if ~pd.isnull(dtype):\n",
    "#         qdf = qdf.astype('category')\n",
    "#     conn.close()\n",
    "    return qdf.describe(include='all')"
   ]
  },
  {
   "cell_type": "markdown",
   "metadata": {},
   "source": [
    "APPLY statement is able to perform the query for every combination of table and column given from the filtered dataframe  from the step above"
   ]
  },
  {
   "cell_type": "code",
   "execution_count": null,
   "metadata": {},
   "outputs": [],
   "source": [
    "analysis = tbls.apply(lambda x: get_table_from_IRAS(x.TableName,x.ColumnName), axis=1)"
   ]
  },
  {
   "cell_type": "markdown",
   "metadata": {},
   "source": [
    "Combining all results into a single dataframe for ease of analysis"
   ]
  },
  {
   "cell_type": "code",
   "execution_count": null,
   "metadata": {
    "scrolled": false
   },
   "outputs": [],
   "source": [
    "temp = pd.DataFrame(index=['count', 'mean', 'std', 'min', '25%', '50%', '75%', 'max'])\n",
    "for x in analysis:\n",
    "    temp = pd.merge(temp,x, left_index=True, right_index=True, how='outer')"
   ]
  },
  {
   "cell_type": "code",
   "execution_count": null,
   "metadata": {},
   "outputs": [],
   "source": [
    "temp"
   ]
  },
  {
   "cell_type": "code",
   "execution_count": null,
   "metadata": {},
   "outputs": [],
   "source": [
    "%ls"
   ]
  }
 ],
 "metadata": {
  "hide_input": false,
  "kernelspec": {
   "display_name": "Python 3",
   "language": "python",
   "name": "python3"
  },
  "language_info": {
   "codemirror_mode": {
    "name": "ipython",
    "version": 3
   },
   "file_extension": ".py",
   "mimetype": "text/x-python",
   "name": "python",
   "nbconvert_exporter": "python",
   "pygments_lexer": "ipython3",
   "version": "3.6.8"
  },
  "toc": {
   "base_numbering": 1,
   "nav_menu": {},
   "number_sections": true,
   "sideBar": true,
   "skip_h1_title": false,
   "title_cell": "Table of Contents",
   "title_sidebar": "Contents",
   "toc_cell": false,
   "toc_position": {
    "height": "calc(100% - 180px)",
    "left": "10px",
    "top": "150px",
    "width": "165px"
   },
   "toc_section_display": true,
   "toc_window_display": false
  },
  "varInspector": {
   "cols": {
    "lenName": 16,
    "lenType": 16,
    "lenVar": 40
   },
   "kernels_config": {
    "python": {
     "delete_cmd_postfix": "",
     "delete_cmd_prefix": "del ",
     "library": "var_list.py",
     "varRefreshCmd": "print(var_dic_list())"
    },
    "r": {
     "delete_cmd_postfix": ") ",
     "delete_cmd_prefix": "rm(",
     "library": "var_list.r",
     "varRefreshCmd": "cat(var_dic_list()) "
    }
   },
   "types_to_exclude": [
    "module",
    "function",
    "builtin_function_or_method",
    "instance",
    "_Feature"
   ],
   "window_display": false
  }
 },
 "nbformat": 4,
 "nbformat_minor": 2
}
