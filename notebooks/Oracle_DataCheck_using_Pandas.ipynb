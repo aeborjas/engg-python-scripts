{
 "cells": [
  {
   "cell_type": "code",
   "execution_count": 1,
   "metadata": {},
   "outputs": [
    {
     "data": {
      "text/plain": [
       "'C:\\\\Users\\\\armando_borjas\\\\Documents\\\\Python'"
      ]
     },
     "execution_count": 1,
     "metadata": {},
     "output_type": "execute_result"
    }
   ],
   "source": [
    "%pwd"
   ]
  },
  {
   "cell_type": "code",
   "execution_count": 1,
   "metadata": {},
   "outputs": [],
   "source": [
    "import pandas as pd\n",
    "import pyodbc\n",
    "import pandas_profiling\n",
    "import cx_Oracle\n",
    "import matplotlib.pyplot as plt\n",
    "import numpy as np\n",
    "\n",
    "pd.set_option(\"display.max_columns\",999)\n",
    "pd.set_option(\"display.max_rows\",100)\n",
    "pd.set_option('display.width', 10000)\n",
    "pd.set_option('display.expand_frame_repr',True)\n",
    "plt.rcParams[\"figure.figsize\"]=20,20"
   ]
  },
  {
   "cell_type": "markdown",
   "metadata": {},
   "source": [
    "# setting up database connection strings"
   ]
  },
  {
   "cell_type": "code",
   "execution_count": 2,
   "metadata": {},
   "outputs": [],
   "source": [
    "##SQL SERVER SETUP\n",
    "# driver = '{SQL Server Native Client 11.0}'\n",
    "# server = 'sql2017'\n",
    "# db = 'dras_irasv6_training'\n",
    "# conn = pyodbc.connect(\"Driver=\"+driver+\";Server=\"+server+\";Database=\"+db+\";Trusted_Connection=yes;\")\n",
    "\n",
    "##ORACLE SERVER SETUP\n",
    "# ip = 'ORA12C' #use the name of the server\n",
    "# port = '1521' #default is 1521\n",
    "# SID = 'ORA12C'#not too sure about this one\n",
    "# dsn_tns = cx_Oracle.makedsn(ip, port, SID)\n",
    "\n",
    "# conn = cx_Oracle.connect(user=r'ATCO_IRASV5_STAGE', password='atco', dsn='ORA12C')\n",
    "\n",
    "# q0 = \"\"\"select ld.code , c.* from coating c\n",
    "#         join listdomain ld on c.coatinglinedomainid = ld.id\"\"\"\n",
    "\n",
    "# q1 = \"\"\"select ps.* from pipesegment ps\"\"\"\n",
    "\n",
    "# q2 = \"\"\"select maop.* from maop maop\"\"\"\n",
    "\n",
    "# q3 = \"\"\"select * from pipesegment ps\n",
    "#         inner join stationseries ss on ps.beginstationseriesid = ss.id\n",
    "#         inner join maop on maop.beginstationseriesid = ss.id\"\"\"\n",
    "# df1 = pd.read_sql_query(q1,conn)\n",
    "# maop = pd.read_sql_query(q2,conn)\n",
    "# data = pd.read_sql_query(q3,conn)\n",
    "\n",
    "def oracle_sql(q,user=r'ug_irasv6_gtech_poe_stage', password='ug', dsn='ORA12C'):\n",
    "    conn = cx_Oracle.connect(user, password, dsn)\n",
    "\n",
    "    t_data = pd.read_sql_query(q,conn)\n",
    "\n",
    "    conn.close()\n",
    "    \n",
    "    return t_data\n",
    "\n",
    "def sqlserver_sql(q, server = 'SQL2012', db = 'EEC_US_TRANS_IRASV6_STAGE'):\n",
    "    driver = '{SQL Server Native Client 11.0}'\n",
    "    conn = pyodbc.connect(\"Driver=\"+driver+\";Server=\"+server+\";Database=\"+db+\";Trusted_Connection=yes;\")\n",
    "\n",
    "    # performing query to database\n",
    "    df = pd.read_sql_query(q,conn)\n",
    "\n",
    "    conn.close()\n",
    "    return df"
   ]
  },
  {
   "cell_type": "code",
   "execution_count": 5,
   "metadata": {},
   "outputs": [
    {
     "data": {
      "text/html": [
       "<div>\n",
       "<style scoped>\n",
       "    .dataframe tbody tr th:only-of-type {\n",
       "        vertical-align: middle;\n",
       "    }\n",
       "\n",
       "    .dataframe tbody tr th {\n",
       "        vertical-align: top;\n",
       "    }\n",
       "\n",
       "    .dataframe thead th {\n",
       "        text-align: right;\n",
       "    }\n",
       "</style>\n",
       "<table border=\"1\" class=\"dataframe\">\n",
       "  <thead>\n",
       "    <tr style=\"text-align: right;\">\n",
       "      <th></th>\n",
       "      <th>GLOBAL_NAME</th>\n",
       "    </tr>\n",
       "  </thead>\n",
       "  <tbody>\n",
       "    <tr>\n",
       "      <th>0</th>\n",
       "      <td>ORA12C.CGY.DYNAMICRISK.NET</td>\n",
       "    </tr>\n",
       "  </tbody>\n",
       "</table>\n",
       "</div>"
      ],
      "text/plain": [
       "                  GLOBAL_NAME\n",
       "0  ORA12C.CGY.DYNAMICRISK.NET"
      ]
     },
     "execution_count": 5,
     "metadata": {},
     "output_type": "execute_result"
    }
   ],
   "source": [
    "q1 = \"\"\"select * from MonteCarloPOE poe\"\"\"\n",
    "q2 = \"\"\"select * from MonteCarloPOECalc poe\"\"\"\n",
    "q3 = \"\"\"select * from MonteCarloPOEYear poe\"\"\"\n",
    "\n",
    "q4 = \"\"\"select * from global_name\"\"\"\n",
    "\n",
    "oracle_sql(q4)#.to_csv('MonteCarloPOEYear.csv')#.describe(include='all')"
   ]
  },
  {
   "cell_type": "code",
   "execution_count": 39,
   "metadata": {
    "scrolled": false
   },
   "outputs": [
    {
     "data": {
      "text/html": [
       "<div>\n",
       "<style scoped>\n",
       "    .dataframe tbody tr th:only-of-type {\n",
       "        vertical-align: middle;\n",
       "    }\n",
       "\n",
       "    .dataframe tbody tr th {\n",
       "        vertical-align: top;\n",
       "    }\n",
       "\n",
       "    .dataframe thead th {\n",
       "        text-align: right;\n",
       "    }\n",
       "</style>\n",
       "<table border=\"1\" class=\"dataframe\">\n",
       "  <thead>\n",
       "    <tr style=\"text-align: right;\">\n",
       "      <th></th>\n",
       "      <th>VIEW_NAME</th>\n",
       "      <th>TEXT_LENGTH</th>\n",
       "      <th>TEXT</th>\n",
       "      <th>TEXT_VC</th>\n",
       "      <th>TYPE_TEXT_LENGTH</th>\n",
       "      <th>TYPE_TEXT</th>\n",
       "      <th>OID_TEXT_LENGTH</th>\n",
       "      <th>OID_TEXT</th>\n",
       "      <th>VIEW_TYPE_OWNER</th>\n",
       "      <th>VIEW_TYPE</th>\n",
       "      <th>SUPERVIEW_NAME</th>\n",
       "      <th>EDITIONING_VIEW</th>\n",
       "      <th>READ_ONLY</th>\n",
       "      <th>CONTAINER_DATA</th>\n",
       "      <th>BEQUEATH</th>\n",
       "      <th>ORIGIN_CON_ID</th>\n",
       "    </tr>\n",
       "  </thead>\n",
       "  <tbody>\n",
       "    <tr>\n",
       "      <th>111</th>\n",
       "      <td>V_IRAS_WRINKLEBEND</td>\n",
       "      <td>3167</td>\n",
       "      <td>SELECT ER.event_id AS Id,\\n          ER.effect...</td>\n",
       "      <td>SELECT ER.event_id AS Id,\\n          ER.effect...</td>\n",
       "      <td>None</td>\n",
       "      <td>None</td>\n",
       "      <td>None</td>\n",
       "      <td>None</td>\n",
       "      <td>None</td>\n",
       "      <td>None</td>\n",
       "      <td>None</td>\n",
       "      <td>N</td>\n",
       "      <td>N</td>\n",
       "      <td>N</td>\n",
       "      <td>DEFINER</td>\n",
       "      <td>0</td>\n",
       "    </tr>\n",
       "  </tbody>\n",
       "</table>\n",
       "</div>"
      ],
      "text/plain": [
       "              VIEW_NAME  TEXT_LENGTH                                               TEXT                                            TEXT_VC TYPE_TEXT_LENGTH TYPE_TEXT OID_TEXT_LENGTH OID_TEXT VIEW_TYPE_OWNER VIEW_TYPE SUPERVIEW_NAME EDITIONING_VIEW READ_ONLY CONTAINER_DATA BEQUEATH  ORIGIN_CON_ID\n",
       "111  V_IRAS_WRINKLEBEND         3167  SELECT ER.event_id AS Id,\\n          ER.effect...  SELECT ER.event_id AS Id,\\n          ER.effect...             None      None            None     None            None      None           None               N         N              N  DEFINER              0"
      ]
     },
     "execution_count": 39,
     "metadata": {},
     "output_type": "execute_result"
    }
   ],
   "source": [
    "q = \"\"\"select * from user_views\"\"\"\n",
    "oracle_sql(q).loc[lambda x: x.VIEW_NAME.str.contains('wrinkle', case=False)]\n",
    "\n",
    "# q = \"\"\"select * from v_IRAS\"\"\"\n",
    "# oracle_sql(q)"
   ]
  },
  {
   "cell_type": "markdown",
   "metadata": {},
   "source": [
    "# ensuring records are sorted in ascending BeginStationSeriesID and ascending BeginStationNum"
   ]
  },
  {
   "cell_type": "code",
   "execution_count": 3,
   "metadata": {},
   "outputs": [
    {
     "ename": "NameError",
     "evalue": "name 'df1' is not defined",
     "output_type": "error",
     "traceback": [
      "\u001b[1;31m---------------------------------------------------------------------------\u001b[0m",
      "\u001b[1;31mNameError\u001b[0m                                 Traceback (most recent call last)",
      "\u001b[1;32m<ipython-input-3-5fecbbe7dd16>\u001b[0m in \u001b[0;36m<module>\u001b[1;34m\u001b[0m\n\u001b[1;32m----> 1\u001b[1;33m \u001b[0mdf1\u001b[0m \u001b[1;33m=\u001b[0m \u001b[0mdf1\u001b[0m\u001b[1;33m.\u001b[0m\u001b[0msort_values\u001b[0m\u001b[1;33m(\u001b[0m\u001b[0mby\u001b[0m\u001b[1;33m=\u001b[0m\u001b[1;33m[\u001b[0m\u001b[1;34m'BeginStationSeriesId'\u001b[0m\u001b[1;33m,\u001b[0m\u001b[1;34m'BeginStationNum'\u001b[0m\u001b[1;33m]\u001b[0m\u001b[1;33m)\u001b[0m\u001b[1;33m.\u001b[0m\u001b[0mreset_index\u001b[0m\u001b[1;33m(\u001b[0m\u001b[0mdrop\u001b[0m\u001b[1;33m=\u001b[0m\u001b[1;32mTrue\u001b[0m\u001b[1;33m)\u001b[0m\u001b[1;33m\u001b[0m\u001b[1;33m\u001b[0m\u001b[0m\n\u001b[0m",
      "\u001b[1;31mNameError\u001b[0m: name 'df1' is not defined"
     ]
    }
   ],
   "source": [
    "df1 = df1.sort_values(by=['BeginStationSeriesId','BeginStationNum']).reset_index(drop=True)"
   ]
  },
  {
   "cell_type": "markdown",
   "metadata": {},
   "source": [
    "# creating subset of full query pertaining to only the StationSeries extents "
   ]
  },
  {
   "cell_type": "code",
   "execution_count": null,
   "metadata": {},
   "outputs": [],
   "source": [
    "coating_df = df1[['BeginStationSeriesId','BeginStationNum','EndStationSeriesId','EndStationNum']]\n",
    "coating_df.head()"
   ]
  },
  {
   "cell_type": "markdown",
   "metadata": {},
   "source": [
    "# the following Pandas groupby will:\n",
    "    # 1. Group the dataframe based on BeginStationSeriesId and EndStationSeriesId\n",
    "    # 2. Apply a calculation to subtract the current record EndStationNum from the next BeginStationNum\n",
    "    # Improvement might be to convert this to chainage, group by lineloopID, and repeat this with chaingages instead\n",
    "    # Another improvement might be to also gather MLVCorrection records, or StationSeries records, and also check that the observed data covers entire pipeline"
   ]
  },
  {
   "cell_type": "code",
   "execution_count": null,
   "metadata": {},
   "outputs": [],
   "source": [
    "coating_df.groupby(['BeginStationSeriesId','EndStationSeriesId']).apply(lambda x: x['BeginStationNum'].shift(-1)-x['EndStationNum'])"
   ]
  },
  {
   "cell_type": "markdown",
   "metadata": {},
   "source": [
    "# following statement collapses grouped dataset into dataframe, and filters for any record differences NOT EQUAL TO 0.0"
   ]
  },
  {
   "cell_type": "code",
   "execution_count": null,
   "metadata": {},
   "outputs": [],
   "source": [
    "coating_df_overlaps = coating_df.groupby(['BeginStationSeriesId','EndStationSeriesId']).apply(lambda x: x['BeginStationNum'].shift(-1)-x['EndStationNum']).reset_index(name='record_diff')\n",
    "coating_df_overlaps.query('record_diff!=0.')"
   ]
  },
  {
   "cell_type": "markdown",
   "metadata": {},
   "source": [
    "# from line above, records #36 and #37, belonging to BSSID 1 seem to contain gaps"
   ]
  },
  {
   "cell_type": "code",
   "execution_count": null,
   "metadata": {},
   "outputs": [],
   "source": [
    "coating_df[coating_df['BeginStationSeriesId']==1]"
   ]
  },
  {
   "cell_type": "markdown",
   "metadata": {},
   "source": [
    "# Replicating same exercise above, but this time doing it with MLVCorrection, and converting the linear table's StationNums into chainages"
   ]
  },
  {
   "cell_type": "code",
   "execution_count": null,
   "metadata": {},
   "outputs": [],
   "source": [
    "df2 = pd.read_sql_query(\"\"\"select ld.code [coating type],\n",
    "                            (mlv1.MultiplierNum*c.BeginStationNum+mlv1.FactorNum) [cBeginChainage],\n",
    "                            (mlv2.MultiplierNum*c.EndStationNum+mlv2.FactorNum) [cEndChainage], c.* from coating c\n",
    "                            join listdomain ld on c.coatinglinedomainid = ld.id\n",
    "                            join MlvCorrection mlv1 on mlv1.StationSeriesId = c.BeginstationSeriesId\n",
    "                            join MlVcorrection mlv2 on mlv2.StationseriesId = c.EndStationSeriesId\"\"\",conn)\n",
    "len(df2)"
   ]
  },
  {
   "cell_type": "code",
   "execution_count": null,
   "metadata": {},
   "outputs": [],
   "source": [
    "df2 = df2.sort_values(by=['BeginStationSeriesId','cBeginChainage']).reset_index(drop=True)\n",
    "df2.head()"
   ]
  },
  {
   "cell_type": "code",
   "execution_count": null,
   "metadata": {},
   "outputs": [],
   "source": [
    "cdf2 = df2[['BeginStationSeriesId','cBeginChainage','EndStationSeriesId','cEndChainage']]\n",
    "cdf2.head()"
   ]
  },
  {
   "cell_type": "code",
   "execution_count": null,
   "metadata": {},
   "outputs": [],
   "source": [
    "cdf2.groupby(['BeginStationSeriesId','EndStationSeriesId']).apply(lambda x: x['cBeginChainage'].shift(-1)-x['cEndChainage'])"
   ]
  },
  {
   "cell_type": "code",
   "execution_count": null,
   "metadata": {},
   "outputs": [],
   "source": [
    "cdf2_overlaps = cdf2.groupby(['BeginStationSeriesId','EndStationSeriesId']).apply(lambda x: x['cBeginChainage'].shift(-1)-x['cEndChainage']).reset_index(name='record_diff')\n",
    "cdf2_overlaps.query('record_diff!=0.')"
   ]
  },
  {
   "cell_type": "code",
   "execution_count": null,
   "metadata": {},
   "outputs": [],
   "source": [
    "cdf2[cdf2['BeginStationSeriesId']==1].iloc[36:38,:]"
   ]
  },
  {
   "cell_type": "code",
   "execution_count": null,
   "metadata": {},
   "outputs": [],
   "source": [
    "cdf2_overlaps.query('BeginStationSeriesId==1')"
   ]
  },
  {
   "cell_type": "code",
   "execution_count": null,
   "metadata": {},
   "outputs": [],
   "source": [
    "from ggplot import *\n",
    "df1.head()"
   ]
  },
  {
   "cell_type": "code",
   "execution_count": null,
   "metadata": {},
   "outputs": [],
   "source": [
    "p = ggplot(df1, aes(x='coating type')) + \\\n",
    "        geom_bar(stat = 'count') + theme(axis_text_x = element_text(angle = 90))\n",
    "p"
   ]
  },
  {
   "cell_type": "markdown",
   "metadata": {},
   "source": [
    "# Additional analysis on ORACLE database "
   ]
  },
  {
   "cell_type": "code",
   "execution_count": null,
   "metadata": {},
   "outputs": [],
   "source": [
    "df1.count()"
   ]
  },
  {
   "cell_type": "code",
   "execution_count": null,
   "metadata": {},
   "outputs": [],
   "source": [
    "maop.count()"
   ]
  },
  {
   "cell_type": "code",
   "execution_count": 279,
   "metadata": {
    "scrolled": true
   },
   "outputs": [
    {
     "ename": "AttributeError",
     "evalue": "'DataFrame' object has no attribute 'MAXALLOWABLEPRESSURE'",
     "output_type": "error",
     "traceback": [
      "\u001b[1;31m---------------------------------------------------------------------------\u001b[0m",
      "\u001b[1;31mAttributeError\u001b[0m                            Traceback (most recent call last)",
      "\u001b[1;32m<ipython-input-279-d565133501f5>\u001b[0m in \u001b[0;36m<module>\u001b[1;34m\u001b[0m\n\u001b[1;32m----> 1\u001b[1;33m \u001b[0mps_t\u001b[0m\u001b[1;33m.\u001b[0m\u001b[0massign\u001b[0m\u001b[1;33m(\u001b[0m\u001b[0mcorr_all\u001b[0m\u001b[1;33m=\u001b[0m\u001b[0mps_t\u001b[0m\u001b[1;33m.\u001b[0m\u001b[0mPIPEWALLTHICKNESS\u001b[0m\u001b[1;33m-\u001b[0m\u001b[1;33m(\u001b[0m\u001b[1;33m(\u001b[0m\u001b[0mps_t\u001b[0m\u001b[1;33m.\u001b[0m\u001b[0mPIPEOUTSIDEDIAMETER\u001b[0m\u001b[1;33m*\u001b[0m\u001b[1;36m25.4\u001b[0m\u001b[1;33m*\u001b[0m\u001b[0mps_t\u001b[0m\u001b[1;33m.\u001b[0m\u001b[0mMAXALLOWABLEPRESSURE\u001b[0m\u001b[1;33m)\u001b[0m\u001b[1;33m/\u001b[0m\u001b[1;33m(\u001b[0m\u001b[1;36m2000\u001b[0m\u001b[1;33m*\u001b[0m\u001b[0mps_t\u001b[0m\u001b[1;33m.\u001b[0m\u001b[0mPIPEGRADE\u001b[0m\u001b[1;33m)\u001b[0m\u001b[1;33m)\u001b[0m\u001b[1;33m)\u001b[0m\u001b[1;33m.\u001b[0m\u001b[0mloc\u001b[0m\u001b[1;33m[\u001b[0m\u001b[1;33m:\u001b[0m\u001b[1;33m,\u001b[0m\u001b[1;33m[\u001b[0m\u001b[1;34m'corr_all'\u001b[0m\u001b[1;33m]\u001b[0m\u001b[1;33m]\u001b[0m\u001b[1;33m.\u001b[0m\u001b[0mquery\u001b[0m\u001b[1;33m(\u001b[0m\u001b[1;34m\"corr_all > 0\"\u001b[0m\u001b[1;33m)\u001b[0m\u001b[1;33m.\u001b[0m\u001b[0mhist\u001b[0m\u001b[1;33m(\u001b[0m\u001b[0mbins\u001b[0m\u001b[1;33m=\u001b[0m\u001b[1;36m20\u001b[0m\u001b[1;33m)\u001b[0m\u001b[1;33m\u001b[0m\u001b[1;33m\u001b[0m\u001b[0m\n\u001b[0m",
      "\u001b[1;32mC:\\Python36\\lib\\site-packages\\pandas\\core\\generic.py\u001b[0m in \u001b[0;36m__getattr__\u001b[1;34m(self, name)\u001b[0m\n\u001b[0;32m   5065\u001b[0m             \u001b[1;32mif\u001b[0m \u001b[0mself\u001b[0m\u001b[1;33m.\u001b[0m\u001b[0m_info_axis\u001b[0m\u001b[1;33m.\u001b[0m\u001b[0m_can_hold_identifiers_and_holds_name\u001b[0m\u001b[1;33m(\u001b[0m\u001b[0mname\u001b[0m\u001b[1;33m)\u001b[0m\u001b[1;33m:\u001b[0m\u001b[1;33m\u001b[0m\u001b[1;33m\u001b[0m\u001b[0m\n\u001b[0;32m   5066\u001b[0m                 \u001b[1;32mreturn\u001b[0m \u001b[0mself\u001b[0m\u001b[1;33m[\u001b[0m\u001b[0mname\u001b[0m\u001b[1;33m]\u001b[0m\u001b[1;33m\u001b[0m\u001b[1;33m\u001b[0m\u001b[0m\n\u001b[1;32m-> 5067\u001b[1;33m             \u001b[1;32mreturn\u001b[0m \u001b[0mobject\u001b[0m\u001b[1;33m.\u001b[0m\u001b[0m__getattribute__\u001b[0m\u001b[1;33m(\u001b[0m\u001b[0mself\u001b[0m\u001b[1;33m,\u001b[0m \u001b[0mname\u001b[0m\u001b[1;33m)\u001b[0m\u001b[1;33m\u001b[0m\u001b[1;33m\u001b[0m\u001b[0m\n\u001b[0m\u001b[0;32m   5068\u001b[0m \u001b[1;33m\u001b[0m\u001b[0m\n\u001b[0;32m   5069\u001b[0m     \u001b[1;32mdef\u001b[0m \u001b[0m__setattr__\u001b[0m\u001b[1;33m(\u001b[0m\u001b[0mself\u001b[0m\u001b[1;33m,\u001b[0m \u001b[0mname\u001b[0m\u001b[1;33m,\u001b[0m \u001b[0mvalue\u001b[0m\u001b[1;33m)\u001b[0m\u001b[1;33m:\u001b[0m\u001b[1;33m\u001b[0m\u001b[1;33m\u001b[0m\u001b[0m\n",
      "\u001b[1;31mAttributeError\u001b[0m: 'DataFrame' object has no attribute 'MAXALLOWABLEPRESSURE'"
     ]
    }
   ],
   "source": [
    "ps_t.assign(corr_all=ps_t.PIPEWALLTHICKNESS-((ps_t.PIPEOUTSIDEDIAMETER*25.4*ps_t.MAXALLOWABLEPRESSURE)/(2000*ps_t.PIPEGRADE))).loc[:,['corr_all']].query(\"corr_all > 0\").hist(bins=20)"
   ]
  },
  {
   "cell_type": "code",
   "execution_count": null,
   "metadata": {},
   "outputs": [],
   "source": [
    "query_s = \"\"\"select ld.code, c.* from coating c\n",
    "            inner join listdomain ld on c.coatinglinedomainid = ld.id\"\"\"\n",
    "\n",
    "# oracle_sql(q).groupby('CODE').count().ID.plot(kind='bar')\n",
    "((datetime.datetime.now() - oracle_sql(query_s).EFFECTIVESTARTDATE).dt.days/365.25).hist(bins=50)"
   ]
  },
  {
   "cell_type": "code",
   "execution_count": null,
   "metadata": {},
   "outputs": [],
   "source": [
    "import datetime\n",
    "((datetime.datetime.now() - df1.EFFECTIVESTARTDATE).dt.days/365.25).hist(bins=50)"
   ]
  },
  {
   "cell_type": "code",
   "execution_count": null,
   "metadata": {},
   "outputs": [],
   "source": [
    "query_s = \"\"\"select ll.id, sum(abs(ss.endstationnum-ss.beginstationnum))/1000 as llength from stationseries ss\n",
    "            inner join lineloop ll on ss.lineloopid = ll.id\n",
    "            group by ll.id\n",
    "            order by llength asc\"\"\"\n",
    "\n",
    "oracle_sql(query_s).assign(FF_1 = lambda x: 1.0/(x.LLENGTH*10))\n",
    "# oracle_sql(query_s).plot(kind='bar')"
   ]
  },
  {
   "cell_type": "code",
   "execution_count": null,
   "metadata": {},
   "outputs": [],
   "source": [
    "query_s = \"\"\"select cpr.* from cpsurveyrange cpr\n",
    "            \"\"\"\n",
    "\n",
    "oracle_sql(query_s)#.assign(FF_1 = lambda x: 1.0/(x.LLENGTH*10))\n",
    "# oracle_sql(query_s).plot(kind='bar')c"
   ]
  },
  {
   "cell_type": "code",
   "execution_count": 277,
   "metadata": {},
   "outputs": [],
   "source": [
    "query_ss = \"\"\"select ss.* from stationseries ss\n",
    "            \"\"\"\n",
    "query_ps = \"\"\"select ps.* from pipesegment ps\n",
    "            \"\"\"\n",
    "query_maop = \"\"\"select maop.* from maop maop\n",
    "            \"\"\"\n",
    "\n",
    "ss_t = oracle_sql(query_ss)\n",
    "ps_t = oracle_sql(query_ps)\n",
    "maop_t = oracle_sql(query_maop)"
   ]
  },
  {
   "cell_type": "code",
   "execution_count": null,
   "metadata": {},
   "outputs": [],
   "source": [
    "ss_t"
   ]
  },
  {
   "cell_type": "code",
   "execution_count": 273,
   "metadata": {},
   "outputs": [],
   "source": [
    "smys_t = ss_t.merge(ps_t, how=\"inner\",left_on='ID',right_on='BEGINSTATIONSERIESID',suffixes=('_SS','_PS')).merge(maop_t, left_on='ID_SS', right_on='BEGINSTATIONSERIESID',suffixes=('','_MAOP'))"
   ]
  },
  {
   "cell_type": "code",
   "execution_count": 274,
   "metadata": {},
   "outputs": [
    {
     "data": {
      "text/html": [
       "<div>\n",
       "<style scoped>\n",
       "    .dataframe tbody tr th:only-of-type {\n",
       "        vertical-align: middle;\n",
       "    }\n",
       "\n",
       "    .dataframe tbody tr th {\n",
       "        vertical-align: top;\n",
       "    }\n",
       "\n",
       "    .dataframe thead th {\n",
       "        text-align: right;\n",
       "    }\n",
       "</style>\n",
       "<table border=\"1\" class=\"dataframe\">\n",
       "  <thead>\n",
       "    <tr style=\"text-align: right;\">\n",
       "      <th></th>\n",
       "      <th>PCT_SMYS</th>\n",
       "    </tr>\n",
       "  </thead>\n",
       "  <tbody>\n",
       "    <tr>\n",
       "      <th>count</th>\n",
       "      <td>630129.000000</td>\n",
       "    </tr>\n",
       "    <tr>\n",
       "      <th>mean</th>\n",
       "      <td>53.993903</td>\n",
       "    </tr>\n",
       "    <tr>\n",
       "      <th>std</th>\n",
       "      <td>17.986303</td>\n",
       "    </tr>\n",
       "    <tr>\n",
       "      <th>min</th>\n",
       "      <td>0.000000</td>\n",
       "    </tr>\n",
       "    <tr>\n",
       "      <th>25%</th>\n",
       "      <td>42.526959</td>\n",
       "    </tr>\n",
       "    <tr>\n",
       "      <th>50%</th>\n",
       "      <td>55.975778</td>\n",
       "    </tr>\n",
       "    <tr>\n",
       "      <th>75%</th>\n",
       "      <td>67.504595</td>\n",
       "    </tr>\n",
       "    <tr>\n",
       "      <th>max</th>\n",
       "      <td>96.064690</td>\n",
       "    </tr>\n",
       "  </tbody>\n",
       "</table>\n",
       "</div>"
      ],
      "text/plain": [
       "            PCT_SMYS\n",
       "count  630129.000000\n",
       "mean       53.993903\n",
       "std        17.986303\n",
       "min         0.000000\n",
       "25%        42.526959\n",
       "50%        55.975778\n",
       "75%        67.504595\n",
       "max        96.064690"
      ]
     },
     "execution_count": 274,
     "metadata": {},
     "output_type": "execute_result"
    }
   ],
   "source": [
    "smys_t.loc[:,['ID_SS','PIPEOUTSIDEDIAMETER','PIPEWALLTHICKNESS','PIPEGRADE','MAXALLOWABLEPRESSURE']].dropna().assign(PCT_SMYS  = lambda x: (x.MAXALLOWABLEPRESSURE*x.PIPEOUTSIDEDIAMETER*25.4)/(20*x.PIPEWALLTHICKNESS*x.PIPEGRADE)).query(\"PCT_SMYS<100\").loc[:,['PCT_SMYS']].describe()"
   ]
  },
  {
   "cell_type": "code",
   "execution_count": 271,
   "metadata": {},
   "outputs": [
    {
     "data": {
      "text/plain": [
       "<matplotlib.axes._subplots.AxesSubplot at 0x1be371c5860>"
      ]
     },
     "execution_count": 271,
     "metadata": {},
     "output_type": "execute_result"
    },
    {
     "data": {
      "image/png": "[encoded data removed]",
      "text/plain": [
       "<Figure size 1440x720 with 1 Axes>"
      ]
     },
     "metadata": {
      "needs_background": "light"
     },
     "output_type": "display_data"
    }
   ],
   "source": [
    "ps_t.loc[:,['PIPEOUTSIDEDIAMETER','BEGINSTATIONNUM','ENDSTATIONNUM']].assign(LENGTH = lambda x: x.ENDSTATIONNUM-x.BEGINSTATIONNUM).groupby('PIPEOUTSIDEDIAMETER').sum().LENGTH.plot(kind='bar')"
   ]
  },
  {
   "cell_type": "code",
   "execution_count": null,
   "metadata": {},
   "outputs": [],
   "source": [
    "od_dist = ps_t.loc[:,['PIPEOUTSIDEDIAMETER','BEGINSTATIONNUM','ENDSTATIONNUM']].assign(LENGTH = lambda x: x.ENDSTATIONNUM-x.BEGINSTATIONNUM).groupby('PIPEOUTSIDEDIAMETER').sum()\n",
    "od_dist"
   ]
  },
  {
   "cell_type": "code",
   "execution_count": null,
   "metadata": {},
   "outputs": [],
   "source": [
    "od_b_wt = ps_t.loc[:,['PIPEOUTSIDEDIAMETER','PIPEWALLTHICKNESS','BEGINSTATIONNUM','ENDSTATIONNUM']].assign(ODbT=lambda x: round((x.PIPEOUTSIDEDIAMETER*25.4)/x.PIPEWALLTHICKNESS),\n",
    "                                                                                                LENGTH = lambda x: abs(x.ENDSTATIONNUM-x.BEGINSTATIONNUM)/1000).groupby('ODbT').sum().LENGTH.plot(kind='bar')\n",
    "# To specify the number of ticks on both or any single axes\n",
    "# plt.locator_params(axis='y', nbins=6)\n",
    "# plt.locator_params(axis='x', nbins=99)"
   ]
  },
  {
   "cell_type": "code",
   "execution_count": 269,
   "metadata": {},
   "outputs": [
    {
     "data": {
      "text/plain": [
       "'4.1.1'"
      ]
     },
     "execution_count": 269,
     "metadata": {},
     "output_type": "execute_result"
    }
   ],
   "source": [
    "import plotly\n",
    "plotly.__version__"
   ]
  },
  {
   "cell_type": "code",
   "execution_count": 293,
   "metadata": {
    "scrolled": false
   },
   "outputs": [
    {
     "data": {
      "text/html": [
       "        <script type=\"text/javascript\">\n",
       "        window.PlotlyConfig = {MathJaxConfig: 'local'};\n",
       "        if (window.MathJax) {MathJax.Hub.Config({SVG: {font: \"STIX-Web\"}});}\n",
       "        if (typeof require !== 'undefined') {\n",
       "        require.undef(\"plotly\");\n",
       "        requirejs.config({\n",
       "            paths: {\n",
       "                'plotly': ['https://cdn.plot.ly/plotly-latest.min']\n",
       "            }\n",
       "        });\n",
       "        require(['plotly'], function(Plotly) {\n",
       "            window._Plotly = Plotly;\n",
       "        });\n",
       "        }\n",
       "        </script>\n",
       "        "
      ]
     },
     "metadata": {},
     "output_type": "display_data"
    },
    {
     "data": {
      "text/plain": [
       "<matplotlib.axes._subplots.AxesSubplot at 0x1be48366358>"
      ]
     },
     "execution_count": 293,
     "metadata": {},
     "output_type": "execute_result"
    },
    {
     "data": {
      "image/png": "[encoded data removed]",
      "text/plain": [
       "<Figure size 1440x720 with 1 Axes>"
      ]
     },
     "metadata": {
      "needs_background": "light"
     },
     "output_type": "display_data"
    }
   ],
   "source": [
    "import plotly.graph_objs as go\n",
    "import plotly.offline as pyo #import download_plotlyjs, init_notebook_mode, plot, iplot\n",
    "pyo.init_notebook_mode(connected=True)\n",
    "\n",
    "q1 = \"\"\"select abs(ps.EndStationNum-ps.BeginstationNum) as LENGTH, round(ps.PIPEOUTSIDEDIAMETER*25.4/ps.PIPEWALLTHICKNESS,0) as ODbT  from pipesegment ps\n",
    "            \"\"\"\n",
    "\n",
    "odbwt = oracle_sql(q1)\n",
    "# pd.cut(odbwt.loc[lambda x: ~x.ODBT.isnull(),:].groupby('ODBT').sum().LENGTH, bins=[20, 30, 40, 50, 60, 70, 80, 90])\n",
    "odbwt.loc[lambda x: ~x.ODBT.isnull(),:].assign(binned = pd.cut(odbwt.loc[lambda x: ~x.ODBT.isnull(),'ODBT'], bins=[0, 20, 30, 40, 50, 60, 70, 80, 90,100])).groupby('binned').sum().LENGTH.plot(kind='bar')\n",
    "\n",
    "# trace1 = go.Bar(x = odbwt.loc[lambda x: ~x.ODBT.isnull(),:].groupby('ODBT').sum().index, y = odbwt.loc[lambda x: ~x.ODBT.isnull(),:].groupby('ODBT').sum().LENGTH/1000)\n",
    "\n",
    "# traces = [trace1]\n",
    "\n",
    "# pyo.iplot( {'data':traces} )\n"
   ]
  },
  {
   "cell_type": "code",
   "execution_count": 296,
   "metadata": {},
   "outputs": [
    {
     "data": {
      "text/html": [
       "<div>\n",
       "<style scoped>\n",
       "    .dataframe tbody tr th:only-of-type {\n",
       "        vertical-align: middle;\n",
       "    }\n",
       "\n",
       "    .dataframe tbody tr th {\n",
       "        vertical-align: top;\n",
       "    }\n",
       "\n",
       "    .dataframe thead th {\n",
       "        text-align: right;\n",
       "    }\n",
       "</style>\n",
       "<table border=\"1\" class=\"dataframe\">\n",
       "  <thead>\n",
       "    <tr style=\"text-align: right;\">\n",
       "      <th></th>\n",
       "      <th>DOMAINCATALOGID</th>\n",
       "      <th>TABLENAME</th>\n",
       "      <th>COLUMNNAME</th>\n",
       "      <th>LASTMODBYUSERID</th>\n",
       "      <th>LASTMODDATETIME</th>\n",
       "    </tr>\n",
       "  </thead>\n",
       "  <tbody>\n",
       "    <tr>\n",
       "      <th>0</th>\n",
       "      <td>11</td>\n",
       "      <td>PipeSegment</td>\n",
       "      <td>PipeConstructSeasonDomainId</td>\n",
       "      <td>SYS</td>\n",
       "      <td>2018-04-19 14:20:13</td>\n",
       "    </tr>\n",
       "    <tr>\n",
       "      <th>1</th>\n",
       "      <td>10</td>\n",
       "      <td>PipeSegment</td>\n",
       "      <td>PipeGirthWeldDomainId</td>\n",
       "      <td>SYS</td>\n",
       "      <td>2018-04-19 14:20:13</td>\n",
       "    </tr>\n",
       "    <tr>\n",
       "      <th>2</th>\n",
       "      <td>12</td>\n",
       "      <td>PipeSegment</td>\n",
       "      <td>PipeInstallContractorDomainId</td>\n",
       "      <td>SYS</td>\n",
       "      <td>2018-04-19 14:20:13</td>\n",
       "    </tr>\n",
       "    <tr>\n",
       "      <th>3</th>\n",
       "      <td>5</td>\n",
       "      <td>PipeSegment</td>\n",
       "      <td>PipeManufacturerDomainId</td>\n",
       "      <td>SYS</td>\n",
       "      <td>2018-04-19 14:20:13</td>\n",
       "    </tr>\n",
       "    <tr>\n",
       "      <th>4</th>\n",
       "      <td>7</td>\n",
       "      <td>PipeSegment</td>\n",
       "      <td>PipeMaterialDomainId</td>\n",
       "      <td>SYS</td>\n",
       "      <td>2018-04-19 14:20:13</td>\n",
       "    </tr>\n",
       "    <tr>\n",
       "      <th>5</th>\n",
       "      <td>13</td>\n",
       "      <td>PipeSegment</td>\n",
       "      <td>PipeNDETTypeDomainId</td>\n",
       "      <td>SYS</td>\n",
       "      <td>2018-04-19 14:20:13</td>\n",
       "    </tr>\n",
       "    <tr>\n",
       "      <th>6</th>\n",
       "      <td>8</td>\n",
       "      <td>PipeSegment</td>\n",
       "      <td>PipeSeamDomainId</td>\n",
       "      <td>SYS</td>\n",
       "      <td>2018-04-19 14:20:13</td>\n",
       "    </tr>\n",
       "    <tr>\n",
       "      <th>7</th>\n",
       "      <td>9</td>\n",
       "      <td>PipeSegment</td>\n",
       "      <td>PipeSeamOrientationDomainId</td>\n",
       "      <td>SYS</td>\n",
       "      <td>2018-04-19 14:20:13</td>\n",
       "    </tr>\n",
       "    <tr>\n",
       "      <th>8</th>\n",
       "      <td>6</td>\n",
       "      <td>PipeSegment</td>\n",
       "      <td>PipeSpecificationDomainId</td>\n",
       "      <td>SYS</td>\n",
       "      <td>2018-04-19 14:20:13</td>\n",
       "    </tr>\n",
       "    <tr>\n",
       "      <th>9</th>\n",
       "      <td>348</td>\n",
       "      <td>PipeSegment</td>\n",
       "      <td>PipeSubtypeDomainId</td>\n",
       "      <td>SYS</td>\n",
       "      <td>2018-04-19 14:20:13</td>\n",
       "    </tr>\n",
       "  </tbody>\n",
       "</table>\n",
       "</div>"
      ],
      "text/plain": [
       "   DOMAINCATALOGID    TABLENAME                     COLUMNNAME LASTMODBYUSERID     LASTMODDATETIME\n",
       "0               11  PipeSegment    PipeConstructSeasonDomainId             SYS 2018-04-19 14:20:13\n",
       "1               10  PipeSegment          PipeGirthWeldDomainId             SYS 2018-04-19 14:20:13\n",
       "2               12  PipeSegment  PipeInstallContractorDomainId             SYS 2018-04-19 14:20:13\n",
       "3                5  PipeSegment       PipeManufacturerDomainId             SYS 2018-04-19 14:20:13\n",
       "4                7  PipeSegment           PipeMaterialDomainId             SYS 2018-04-19 14:20:13\n",
       "5               13  PipeSegment           PipeNDETTypeDomainId             SYS 2018-04-19 14:20:13\n",
       "6                8  PipeSegment               PipeSeamDomainId             SYS 2018-04-19 14:20:13\n",
       "7                9  PipeSegment    PipeSeamOrientationDomainId             SYS 2018-04-19 14:20:13\n",
       "8                6  PipeSegment      PipeSpecificationDomainId             SYS 2018-04-19 14:20:13\n",
       "9              348  PipeSegment            PipeSubtypeDomainId             SYS 2018-04-19 14:20:13"
      ]
     },
     "execution_count": 296,
     "metadata": {},
     "output_type": "execute_result"
    }
   ],
   "source": [
    "ps_t\n",
    "\n",
    "q_man_dl = \"\"\"select * from DomainCatalogColXRef dcx\n",
    "                where dcx.Tablename = 'PipeSegment'\n",
    "                \"\"\"\n",
    "q_man_dl2 = \"\"\"select * from ListDomain ld\n",
    "                where ld.DomainCatalogId = 8\n",
    "                \"\"\"\n",
    "q_man_dl3 = \"\"\"select * from HydroTestRange ht\n",
    "                \"\"\"\n",
    "oracle_sql(q_man_dl)#.assign(LENGTH= lambda x: abs(x.ENDSTATIONNUM-x.BEGINSTATIONNUM)).LENGTH.sum()/1000"
   ]
  },
  {
   "cell_type": "code",
   "execution_count": 7,
   "metadata": {},
   "outputs": [
    {
     "data": {
      "application/vnd.plotly.v1+json": {
       "config": {
        "plotlyServerURL": "https://plot.ly"
       },
       "data": [
        {
         "alignmentgroup": "True",
         "customdata": [
          [
           null,
           102487.196
          ],
          [
           34,
           88805.806
          ],
          [
           43,
           217024.072
          ],
          [
           57,
           875645.442
          ],
          [
           51,
           688298.469
          ],
          [
           42,
           802879.472
          ],
          [
           22,
           436369.1
          ],
          [
           30,
           39982.866
          ],
          [
           78,
           124487
          ],
          [
           25,
           1697.752
          ],
          [
           91,
           64140
          ],
          [
           54,
           71493.88
          ],
          [
           100,
           190.58
          ],
          [
           29,
           129572.032
          ],
          [
           11,
           23121.202
          ],
          [
           47,
           122892.04
          ],
          [
           28,
           1004066.36
          ],
          [
           13,
           3544.96
          ],
          [
           59,
           187670.258
          ],
          [
           77,
           233950.542
          ],
          [
           76,
           10178.026
          ],
          [
           6,
           2
          ],
          [
           44,
           28.34
          ],
          [
           31,
           93029.551
          ],
          [
           21,
           719639.766
          ],
          [
           95,
           289447.073
          ],
          [
           20,
           265.32
          ],
          [
           26,
           3323.882
          ],
          [
           72,
           110126.51
          ],
          [
           66,
           178.6
          ],
          [
           70,
           193.118
          ],
          [
           14,
           7
          ],
          [
           68,
           173025.614
          ],
          [
           46,
           565873.076
          ],
          [
           24,
           838403.664
          ],
          [
           53,
           511998.056
          ],
          [
           32,
           10620.343
          ],
          [
           85,
           35503.518
          ],
          [
           96,
           8426.131
          ],
          [
           5,
           76.6
          ],
          [
           61,
           110092.302
          ],
          [
           35,
           894193.519
          ],
          [
           37,
           586.85
          ],
          [
           63,
           576801.171
          ],
          [
           38,
           47014.97
          ],
          [
           55,
           469512.79
          ],
          [
           48,
           6999.918
          ],
          [
           23,
           9469.41
          ],
          [
           17,
           837
          ],
          [
           8,
           533.05
          ],
          [
           69,
           458.8
          ],
          [
           74,
           669.92
          ],
          [
           41,
           152051.106
          ],
          [
           45,
           59147.236
          ],
          [
           50,
           430454.087
          ],
          [
           52,
           103223.24
          ],
          [
           80,
           29568.22
          ],
          [
           40,
           13012.126
          ],
          [
           71,
           36.52
          ],
          [
           33,
           52.88
          ],
          [
           27,
           420692.618
          ],
          [
           7,
           6191.554
          ],
          [
           58,
           810834
          ],
          [
           109,
           0.3
          ],
          [
           36,
           1365770.884
          ],
          [
           49,
           586087.052
          ],
          [
           18,
           290188.038
          ],
          [
           64,
           416963.991
          ],
          [
           62,
           558127.36
          ],
          [
           39,
           614360.1
          ],
          [
           15,
           830210.272
          ],
          [
           12,
           415232.962
          ],
          [
           19,
           327360.418
          ],
          [
           9,
           28812.39
          ],
          [
           73,
           119331.87
          ],
          [
           139,
           0.3
          ],
          [
           79,
           247561.35
          ],
          [
           16,
           51471.064
          ],
          [
           10,
           3367.95
          ],
          [
           67,
           384874.558
          ],
          [
           60,
           52308.94
          ],
          [
           65,
           91.4
          ]
         ],
         "hoverlabel": {
          "namelength": 0
         },
         "hovertemplate": "ODBT=%{marker.color}<br>LENGTH=%{customdata[1]}",
         "legendgroup": "",
         "marker": {
          "color": [
           null,
           34,
           43,
           57,
           51,
           42,
           22,
           30,
           78,
           25,
           91,
           54,
           100,
           29,
           11,
           47,
           28,
           13,
           59,
           77,
           76,
           6,
           44,
           31,
           21,
           95,
           20,
           26,
           72,
           66,
           70,
           14,
           68,
           46,
           24,
           53,
           32,
           85,
           96,
           5,
           61,
           35,
           37,
           63,
           38,
           55,
           48,
           23,
           17,
           8,
           69,
           74,
           41,
           45,
           50,
           52,
           80,
           40,
           71,
           33,
           27,
           7,
           58,
           109,
           36,
           49,
           18,
           64,
           62,
           39,
           15,
           12,
           19,
           9,
           73,
           139,
           79,
           16,
           10,
           67,
           60,
           65
          ],
          "coloraxis": "coloraxis"
         },
         "name": "",
         "offsetgroup": "",
         "orientation": "v",
         "showlegend": false,
         "textposition": "auto",
         "type": "bar",
         "x": [
          null,
          34,
          43,
          57,
          51,
          42,
          22,
          30,
          78,
          25,
          91,
          54,
          100,
          29,
          11,
          47,
          28,
          13,
          59,
          77,
          76,
          6,
          44,
          31,
          21,
          95,
          20,
          26,
          72,
          66,
          70,
          14,
          68,
          46,
          24,
          53,
          32,
          85,
          96,
          5,
          61,
          35,
          37,
          63,
          38,
          55,
          48,
          23,
          17,
          8,
          69,
          74,
          41,
          45,
          50,
          52,
          80,
          40,
          71,
          33,
          27,
          7,
          58,
          109,
          36,
          49,
          18,
          64,
          62,
          39,
          15,
          12,
          19,
          9,
          73,
          139,
          79,
          16,
          10,
          67,
          60,
          65
         ],
         "xaxis": "x",
         "y": [
          102487.196,
          88805.806,
          217024.072,
          875645.442,
          688298.469,
          802879.472,
          436369.1,
          39982.866,
          124487,
          1697.752,
          64140,
          71493.88,
          190.58,
          129572.032,
          23121.202,
          122892.04,
          1004066.36,
          3544.96,
          187670.258,
          233950.542,
          10178.026,
          2,
          28.34,
          93029.551,
          719639.766,
          289447.073,
          265.32,
          3323.882,
          110126.51,
          178.6,
          193.118,
          7,
          173025.614,
          565873.076,
          838403.664,
          511998.056,
          10620.343,
          35503.518,
          8426.131,
          76.6,
          110092.302,
          894193.519,
          586.85,
          576801.171,
          47014.97,
          469512.79,
          6999.918,
          9469.41,
          837,
          533.05,
          458.8,
          669.92,
          152051.106,
          59147.236,
          430454.087,
          103223.24,
          29568.22,
          13012.126,
          36.52,
          52.88,
          420692.618,
          6191.554,
          810834,
          0.3,
          1365770.884,
          586087.052,
          290188.038,
          416963.991,
          558127.36,
          614360.1,
          830210.272,
          415232.962,
          327360.418,
          28812.39,
          119331.87,
          0.3,
          247561.35,
          51471.064,
          3367.95,
          384874.558,
          52308.94,
          91.4
         ],
         "yaxis": "y"
        }
       ],
       "layout": {
        "barmode": "relative",
        "coloraxis": {
         "colorbar": {
          "title": {
           "text": "ODBT"
          }
         },
         "colorscale": [
          [
           0,
           "#0d0887"
          ],
          [
           0.1111111111111111,
           "#46039f"
          ],
          [
           0.2222222222222222,
           "#7201a8"
          ],
          [
           0.3333333333333333,
           "#9c179e"
          ],
          [
           0.4444444444444444,
           "#bd3786"
          ],
          [
           0.5555555555555556,
           "#d8576b"
          ],
          [
           0.6666666666666666,
           "#ed7953"
          ],
          [
           0.7777777777777778,
           "#fb9f3a"
          ],
          [
           0.8888888888888888,
           "#fdca26"
          ],
          [
           1,
           "#f0f921"
          ]
         ]
        },
        "height": 600,
        "legend": {
         "tracegroupgap": 0
        },
        "margin": {
         "t": 60
        },
        "template": {
         "data": {
          "bar": [
           {
            "error_x": {
             "color": "#2a3f5f"
            },
            "error_y": {
             "color": "#2a3f5f"
            },
            "marker": {
             "line": {
              "color": "#E5ECF6",
              "width": 0.5
             }
            },
            "type": "bar"
           }
          ],
          "barpolar": [
           {
            "marker": {
             "line": {
              "color": "#E5ECF6",
              "width": 0.5
             }
            },
            "type": "barpolar"
           }
          ],
          "carpet": [
           {
            "aaxis": {
             "endlinecolor": "#2a3f5f",
             "gridcolor": "white",
             "linecolor": "white",
             "minorgridcolor": "white",
             "startlinecolor": "#2a3f5f"
            },
            "baxis": {
             "endlinecolor": "#2a3f5f",
             "gridcolor": "white",
             "linecolor": "white",
             "minorgridcolor": "white",
             "startlinecolor": "#2a3f5f"
            },
            "type": "carpet"
           }
          ],
          "choropleth": [
           {
            "colorbar": {
             "outlinewidth": 0,
             "ticks": ""
            },
            "type": "choropleth"
           }
          ],
          "contour": [
           {
            "colorbar": {
             "outlinewidth": 0,
             "ticks": ""
            },
            "colorscale": [
             [
              0,
              "#0d0887"
             ],
             [
              0.1111111111111111,
              "#46039f"
             ],
             [
              0.2222222222222222,
              "#7201a8"
             ],
             [
              0.3333333333333333,
              "#9c179e"
             ],
             [
              0.4444444444444444,
              "#bd3786"
             ],
             [
              0.5555555555555556,
              "#d8576b"
             ],
             [
              0.6666666666666666,
              "#ed7953"
             ],
             [
              0.7777777777777778,
              "#fb9f3a"
             ],
             [
              0.8888888888888888,
              "#fdca26"
             ],
             [
              1,
              "#f0f921"
             ]
            ],
            "type": "contour"
           }
          ],
          "contourcarpet": [
           {
            "colorbar": {
             "outlinewidth": 0,
             "ticks": ""
            },
            "type": "contourcarpet"
           }
          ],
          "heatmap": [
           {
            "colorbar": {
             "outlinewidth": 0,
             "ticks": ""
            },
            "colorscale": [
             [
              0,
              "#0d0887"
             ],
             [
              0.1111111111111111,
              "#46039f"
             ],
             [
              0.2222222222222222,
              "#7201a8"
             ],
             [
              0.3333333333333333,
              "#9c179e"
             ],
             [
              0.4444444444444444,
              "#bd3786"
             ],
             [
              0.5555555555555556,
              "#d8576b"
             ],
             [
              0.6666666666666666,
              "#ed7953"
             ],
             [
              0.7777777777777778,
              "#fb9f3a"
             ],
             [
              0.8888888888888888,
              "#fdca26"
             ],
             [
              1,
              "#f0f921"
             ]
            ],
            "type": "heatmap"
           }
          ],
          "heatmapgl": [
           {
            "colorbar": {
             "outlinewidth": 0,
             "ticks": ""
            },
            "colorscale": [
             [
              0,
              "#0d0887"
             ],
             [
              0.1111111111111111,
              "#46039f"
             ],
             [
              0.2222222222222222,
              "#7201a8"
             ],
             [
              0.3333333333333333,
              "#9c179e"
             ],
             [
              0.4444444444444444,
              "#bd3786"
             ],
             [
              0.5555555555555556,
              "#d8576b"
             ],
             [
              0.6666666666666666,
              "#ed7953"
             ],
             [
              0.7777777777777778,
              "#fb9f3a"
             ],
             [
              0.8888888888888888,
              "#fdca26"
             ],
             [
              1,
              "#f0f921"
             ]
            ],
            "type": "heatmapgl"
           }
          ],
          "histogram": [
           {
            "marker": {
             "colorbar": {
              "outlinewidth": 0,
              "ticks": ""
             }
            },
            "type": "histogram"
           }
          ],
          "histogram2d": [
           {
            "colorbar": {
             "outlinewidth": 0,
             "ticks": ""
            },
            "colorscale": [
             [
              0,
              "#0d0887"
             ],
             [
              0.1111111111111111,
              "#46039f"
             ],
             [
              0.2222222222222222,
              "#7201a8"
             ],
             [
              0.3333333333333333,
              "#9c179e"
             ],
             [
              0.4444444444444444,
              "#bd3786"
             ],
             [
              0.5555555555555556,
              "#d8576b"
             ],
             [
              0.6666666666666666,
              "#ed7953"
             ],
             [
              0.7777777777777778,
              "#fb9f3a"
             ],
             [
              0.8888888888888888,
              "#fdca26"
             ],
             [
              1,
              "#f0f921"
             ]
            ],
            "type": "histogram2d"
           }
          ],
          "histogram2dcontour": [
           {
            "colorbar": {
             "outlinewidth": 0,
             "ticks": ""
            },
            "colorscale": [
             [
              0,
              "#0d0887"
             ],
             [
              0.1111111111111111,
              "#46039f"
             ],
             [
              0.2222222222222222,
              "#7201a8"
             ],
             [
              0.3333333333333333,
              "#9c179e"
             ],
             [
              0.4444444444444444,
              "#bd3786"
             ],
             [
              0.5555555555555556,
              "#d8576b"
             ],
             [
              0.6666666666666666,
              "#ed7953"
             ],
             [
              0.7777777777777778,
              "#fb9f3a"
             ],
             [
              0.8888888888888888,
              "#fdca26"
             ],
             [
              1,
              "#f0f921"
             ]
            ],
            "type": "histogram2dcontour"
           }
          ],
          "mesh3d": [
           {
            "colorbar": {
             "outlinewidth": 0,
             "ticks": ""
            },
            "type": "mesh3d"
           }
          ],
          "parcoords": [
           {
            "line": {
             "colorbar": {
              "outlinewidth": 0,
              "ticks": ""
             }
            },
            "type": "parcoords"
           }
          ],
          "scatter": [
           {
            "marker": {
             "colorbar": {
              "outlinewidth": 0,
              "ticks": ""
             }
            },
            "type": "scatter"
           }
          ],
          "scatter3d": [
           {
            "line": {
             "colorbar": {
              "outlinewidth": 0,
              "ticks": ""
             }
            },
            "marker": {
             "colorbar": {
              "outlinewidth": 0,
              "ticks": ""
             }
            },
            "type": "scatter3d"
           }
          ],
          "scattercarpet": [
           {
            "marker": {
             "colorbar": {
              "outlinewidth": 0,
              "ticks": ""
             }
            },
            "type": "scattercarpet"
           }
          ],
          "scattergeo": [
           {
            "marker": {
             "colorbar": {
              "outlinewidth": 0,
              "ticks": ""
             }
            },
            "type": "scattergeo"
           }
          ],
          "scattergl": [
           {
            "marker": {
             "colorbar": {
              "outlinewidth": 0,
              "ticks": ""
             }
            },
            "type": "scattergl"
           }
          ],
          "scattermapbox": [
           {
            "marker": {
             "colorbar": {
              "outlinewidth": 0,
              "ticks": ""
             }
            },
            "type": "scattermapbox"
           }
          ],
          "scatterpolar": [
           {
            "marker": {
             "colorbar": {
              "outlinewidth": 0,
              "ticks": ""
             }
            },
            "type": "scatterpolar"
           }
          ],
          "scatterpolargl": [
           {
            "marker": {
             "colorbar": {
              "outlinewidth": 0,
              "ticks": ""
             }
            },
            "type": "scatterpolargl"
           }
          ],
          "scatterternary": [
           {
            "marker": {
             "colorbar": {
              "outlinewidth": 0,
              "ticks": ""
             }
            },
            "type": "scatterternary"
           }
          ],
          "surface": [
           {
            "colorbar": {
             "outlinewidth": 0,
             "ticks": ""
            },
            "colorscale": [
             [
              0,
              "#0d0887"
             ],
             [
              0.1111111111111111,
              "#46039f"
             ],
             [
              0.2222222222222222,
              "#7201a8"
             ],
             [
              0.3333333333333333,
              "#9c179e"
             ],
             [
              0.4444444444444444,
              "#bd3786"
             ],
             [
              0.5555555555555556,
              "#d8576b"
             ],
             [
              0.6666666666666666,
              "#ed7953"
             ],
             [
              0.7777777777777778,
              "#fb9f3a"
             ],
             [
              0.8888888888888888,
              "#fdca26"
             ],
             [
              1,
              "#f0f921"
             ]
            ],
            "type": "surface"
           }
          ],
          "table": [
           {
            "cells": {
             "fill": {
              "color": "#EBF0F8"
             },
             "line": {
              "color": "white"
             }
            },
            "header": {
             "fill": {
              "color": "#C8D4E3"
             },
             "line": {
              "color": "white"
             }
            },
            "type": "table"
           }
          ]
         },
         "layout": {
          "annotationdefaults": {
           "arrowcolor": "#2a3f5f",
           "arrowhead": 0,
           "arrowwidth": 1
          },
          "colorscale": {
           "diverging": [
            [
             0,
             "#8e0152"
            ],
            [
             0.1,
             "#c51b7d"
            ],
            [
             0.2,
             "#de77ae"
            ],
            [
             0.3,
             "#f1b6da"
            ],
            [
             0.4,
             "#fde0ef"
            ],
            [
             0.5,
             "#f7f7f7"
            ],
            [
             0.6,
             "#e6f5d0"
            ],
            [
             0.7,
             "#b8e186"
            ],
            [
             0.8,
             "#7fbc41"
            ],
            [
             0.9,
             "#4d9221"
            ],
            [
             1,
             "#276419"
            ]
           ],
           "sequential": [
            [
             0,
             "#0d0887"
            ],
            [
             0.1111111111111111,
             "#46039f"
            ],
            [
             0.2222222222222222,
             "#7201a8"
            ],
            [
             0.3333333333333333,
             "#9c179e"
            ],
            [
             0.4444444444444444,
             "#bd3786"
            ],
            [
             0.5555555555555556,
             "#d8576b"
            ],
            [
             0.6666666666666666,
             "#ed7953"
            ],
            [
             0.7777777777777778,
             "#fb9f3a"
            ],
            [
             0.8888888888888888,
             "#fdca26"
            ],
            [
             1,
             "#f0f921"
            ]
           ],
           "sequentialminus": [
            [
             0,
             "#0d0887"
            ],
            [
             0.1111111111111111,
             "#46039f"
            ],
            [
             0.2222222222222222,
             "#7201a8"
            ],
            [
             0.3333333333333333,
             "#9c179e"
            ],
            [
             0.4444444444444444,
             "#bd3786"
            ],
            [
             0.5555555555555556,
             "#d8576b"
            ],
            [
             0.6666666666666666,
             "#ed7953"
            ],
            [
             0.7777777777777778,
             "#fb9f3a"
            ],
            [
             0.8888888888888888,
             "#fdca26"
            ],
            [
             1,
             "#f0f921"
            ]
           ]
          },
          "colorway": [
           "#636efa",
           "#EF553B",
           "#00cc96",
           "#ab63fa",
           "#FFA15A",
           "#19d3f3",
           "#FF6692",
           "#B6E880",
           "#FF97FF",
           "#FECB52"
          ],
          "font": {
           "color": "#2a3f5f"
          },
          "geo": {
           "bgcolor": "white",
           "lakecolor": "white",
           "landcolor": "#E5ECF6",
           "showlakes": true,
           "showland": true,
           "subunitcolor": "white"
          },
          "hoverlabel": {
           "align": "left"
          },
          "hovermode": "closest",
          "mapbox": {
           "style": "light"
          },
          "paper_bgcolor": "white",
          "plot_bgcolor": "#E5ECF6",
          "polar": {
           "angularaxis": {
            "gridcolor": "white",
            "linecolor": "white",
            "ticks": ""
           },
           "bgcolor": "#E5ECF6",
           "radialaxis": {
            "gridcolor": "white",
            "linecolor": "white",
            "ticks": ""
           }
          },
          "scene": {
           "xaxis": {
            "backgroundcolor": "#E5ECF6",
            "gridcolor": "white",
            "gridwidth": 2,
            "linecolor": "white",
            "showbackground": true,
            "ticks": "",
            "zerolinecolor": "white"
           },
           "yaxis": {
            "backgroundcolor": "#E5ECF6",
            "gridcolor": "white",
            "gridwidth": 2,
            "linecolor": "white",
            "showbackground": true,
            "ticks": "",
            "zerolinecolor": "white"
           },
           "zaxis": {
            "backgroundcolor": "#E5ECF6",
            "gridcolor": "white",
            "gridwidth": 2,
            "linecolor": "white",
            "showbackground": true,
            "ticks": "",
            "zerolinecolor": "white"
           }
          },
          "shapedefaults": {
           "line": {
            "color": "#2a3f5f"
           }
          },
          "ternary": {
           "aaxis": {
            "gridcolor": "white",
            "linecolor": "white",
            "ticks": ""
           },
           "baxis": {
            "gridcolor": "white",
            "linecolor": "white",
            "ticks": ""
           },
           "bgcolor": "#E5ECF6",
           "caxis": {
            "gridcolor": "white",
            "linecolor": "white",
            "ticks": ""
           }
          },
          "title": {
           "x": 0.05
          },
          "xaxis": {
           "automargin": true,
           "gridcolor": "white",
           "linecolor": "white",
           "ticks": "",
           "zerolinecolor": "white",
           "zerolinewidth": 2
          },
          "yaxis": {
           "automargin": true,
           "gridcolor": "white",
           "linecolor": "white",
           "ticks": "",
           "zerolinecolor": "white",
           "zerolinewidth": 2
          }
         }
        },
        "xaxis": {
         "anchor": "y",
         "domain": [
          0,
          0.98
         ],
         "title": {
          "text": "ODBT"
         }
        },
        "yaxis": {
         "anchor": "x",
         "domain": [
          0,
          1
         ],
         "title": {
          "text": "LENGTH"
         }
        }
       }
      },
      "text/html": [
       "<div>\n",
       "        \n",
       "        \n",
       "            <div id=\"a15eb46d-092e-4103-8f01-fccd74df9eee\" class=\"plotly-graph-div\" style=\"height:600px; width:100%;\"></div>\n",
       "            <script type=\"text/javascript\">\n",
       "                require([\"plotly\"], function(Plotly) {\n",
       "                    window.PLOTLYENV=window.PLOTLYENV || {};\n",
       "                    \n",
       "                if (document.getElementById(\"a15eb46d-092e-4103-8f01-fccd74df9eee\")) {\n",
       "                    Plotly.newPlot(\n",
       "                        'a15eb46d-092e-4103-8f01-fccd74df9eee',\n",
       "                        [{\"alignmentgroup\": \"True\", \"customdata\": [[null, 102487.196], [34.0, 88805.806], [43.0, 217024.072], [57.0, 875645.442], [51.0, 688298.469], [42.0, 802879.472], [22.0, 436369.1], [30.0, 39982.866], [78.0, 124487.0], [25.0, 1697.752], [91.0, 64140.0], [54.0, 71493.88], [100.0, 190.58], [29.0, 129572.032], [11.0, 23121.202], [47.0, 122892.04], [28.0, 1004066.36], [13.0, 3544.96], [59.0, 187670.258], [77.0, 233950.542], [76.0, 10178.026], [6.0, 2.0], [44.0, 28.34], [31.0, 93029.551], [21.0, 719639.766], [95.0, 289447.073], [20.0, 265.32], [26.0, 3323.882], [72.0, 110126.51], [66.0, 178.6], [70.0, 193.118], [14.0, 7.0], [68.0, 173025.614], [46.0, 565873.076], [24.0, 838403.664], [53.0, 511998.056], [32.0, 10620.343], [85.0, 35503.518], [96.0, 8426.131], [5.0, 76.6], [61.0, 110092.302], [35.0, 894193.519], [37.0, 586.85], [63.0, 576801.171], [38.0, 47014.97], [55.0, 469512.79], [48.0, 6999.918], [23.0, 9469.41], [17.0, 837.0], [8.0, 533.05], [69.0, 458.8], [74.0, 669.92], [41.0, 152051.106], [45.0, 59147.236], [50.0, 430454.087], [52.0, 103223.24], [80.0, 29568.22], [40.0, 13012.126], [71.0, 36.52], [33.0, 52.88], [27.0, 420692.618], [7.0, 6191.554], [58.0, 810834.0], [109.0, 0.3], [36.0, 1365770.884], [49.0, 586087.052], [18.0, 290188.038], [64.0, 416963.991], [62.0, 558127.36], [39.0, 614360.1], [15.0, 830210.272], [12.0, 415232.962], [19.0, 327360.418], [9.0, 28812.39], [73.0, 119331.87], [139.0, 0.3], [79.0, 247561.35], [16.0, 51471.064], [10.0, 3367.95], [67.0, 384874.558], [60.0, 52308.94], [65.0, 91.4]], \"hoverlabel\": {\"namelength\": 0}, \"hovertemplate\": \"ODBT=%{marker.color}<br>LENGTH=%{customdata[1]}\", \"legendgroup\": \"\", \"marker\": {\"color\": [null, 34.0, 43.0, 57.0, 51.0, 42.0, 22.0, 30.0, 78.0, 25.0, 91.0, 54.0, 100.0, 29.0, 11.0, 47.0, 28.0, 13.0, 59.0, 77.0, 76.0, 6.0, 44.0, 31.0, 21.0, 95.0, 20.0, 26.0, 72.0, 66.0, 70.0, 14.0, 68.0, 46.0, 24.0, 53.0, 32.0, 85.0, 96.0, 5.0, 61.0, 35.0, 37.0, 63.0, 38.0, 55.0, 48.0, 23.0, 17.0, 8.0, 69.0, 74.0, 41.0, 45.0, 50.0, 52.0, 80.0, 40.0, 71.0, 33.0, 27.0, 7.0, 58.0, 109.0, 36.0, 49.0, 18.0, 64.0, 62.0, 39.0, 15.0, 12.0, 19.0, 9.0, 73.0, 139.0, 79.0, 16.0, 10.0, 67.0, 60.0, 65.0], \"coloraxis\": \"coloraxis\"}, \"name\": \"\", \"offsetgroup\": \"\", \"orientation\": \"v\", \"showlegend\": false, \"textposition\": \"auto\", \"type\": \"bar\", \"x\": [null, 34.0, 43.0, 57.0, 51.0, 42.0, 22.0, 30.0, 78.0, 25.0, 91.0, 54.0, 100.0, 29.0, 11.0, 47.0, 28.0, 13.0, 59.0, 77.0, 76.0, 6.0, 44.0, 31.0, 21.0, 95.0, 20.0, 26.0, 72.0, 66.0, 70.0, 14.0, 68.0, 46.0, 24.0, 53.0, 32.0, 85.0, 96.0, 5.0, 61.0, 35.0, 37.0, 63.0, 38.0, 55.0, 48.0, 23.0, 17.0, 8.0, 69.0, 74.0, 41.0, 45.0, 50.0, 52.0, 80.0, 40.0, 71.0, 33.0, 27.0, 7.0, 58.0, 109.0, 36.0, 49.0, 18.0, 64.0, 62.0, 39.0, 15.0, 12.0, 19.0, 9.0, 73.0, 139.0, 79.0, 16.0, 10.0, 67.0, 60.0, 65.0], \"xaxis\": \"x\", \"y\": [102487.196, 88805.806, 217024.072, 875645.442, 688298.469, 802879.472, 436369.1, 39982.866, 124487.0, 1697.752, 64140.0, 71493.88, 190.58, 129572.032, 23121.202, 122892.04, 1004066.36, 3544.96, 187670.258, 233950.542, 10178.026, 2.0, 28.34, 93029.551, 719639.766, 289447.073, 265.32, 3323.882, 110126.51, 178.6, 193.118, 7.0, 173025.614, 565873.076, 838403.664, 511998.056, 10620.343, 35503.518, 8426.131, 76.6, 110092.302, 894193.519, 586.85, 576801.171, 47014.97, 469512.79, 6999.918, 9469.41, 837.0, 533.05, 458.8, 669.92, 152051.106, 59147.236, 430454.087, 103223.24, 29568.22, 13012.126, 36.52, 52.88, 420692.618, 6191.554, 810834.0, 0.3, 1365770.884, 586087.052, 290188.038, 416963.991, 558127.36, 614360.1, 830210.272, 415232.962, 327360.418, 28812.39, 119331.87, 0.3, 247561.35, 51471.064, 3367.95, 384874.558, 52308.94, 91.4], \"yaxis\": \"y\"}],\n",
       "                        {\"barmode\": \"relative\", \"coloraxis\": {\"colorbar\": {\"title\": {\"text\": \"ODBT\"}}, \"colorscale\": [[0.0, \"#0d0887\"], [0.1111111111111111, \"#46039f\"], [0.2222222222222222, \"#7201a8\"], [0.3333333333333333, \"#9c179e\"], [0.4444444444444444, \"#bd3786\"], [0.5555555555555556, \"#d8576b\"], [0.6666666666666666, \"#ed7953\"], [0.7777777777777778, \"#fb9f3a\"], [0.8888888888888888, \"#fdca26\"], [1.0, \"#f0f921\"]]}, \"height\": 600, \"legend\": {\"tracegroupgap\": 0}, \"margin\": {\"t\": 60}, \"template\": {\"data\": {\"bar\": [{\"error_x\": {\"color\": \"#2a3f5f\"}, \"error_y\": {\"color\": \"#2a3f5f\"}, \"marker\": {\"line\": {\"color\": \"#E5ECF6\", \"width\": 0.5}}, \"type\": \"bar\"}], \"barpolar\": [{\"marker\": {\"line\": {\"color\": \"#E5ECF6\", \"width\": 0.5}}, \"type\": \"barpolar\"}], \"carpet\": [{\"aaxis\": {\"endlinecolor\": \"#2a3f5f\", \"gridcolor\": \"white\", \"linecolor\": \"white\", \"minorgridcolor\": \"white\", \"startlinecolor\": \"#2a3f5f\"}, \"baxis\": {\"endlinecolor\": \"#2a3f5f\", \"gridcolor\": \"white\", \"linecolor\": \"white\", \"minorgridcolor\": \"white\", \"startlinecolor\": \"#2a3f5f\"}, \"type\": \"carpet\"}], \"choropleth\": [{\"colorbar\": {\"outlinewidth\": 0, \"ticks\": \"\"}, \"type\": \"choropleth\"}], \"contour\": [{\"colorbar\": {\"outlinewidth\": 0, \"ticks\": \"\"}, \"colorscale\": [[0.0, \"#0d0887\"], [0.1111111111111111, \"#46039f\"], [0.2222222222222222, \"#7201a8\"], [0.3333333333333333, \"#9c179e\"], [0.4444444444444444, \"#bd3786\"], [0.5555555555555556, \"#d8576b\"], [0.6666666666666666, \"#ed7953\"], [0.7777777777777778, \"#fb9f3a\"], [0.8888888888888888, \"#fdca26\"], [1.0, \"#f0f921\"]], \"type\": \"contour\"}], \"contourcarpet\": [{\"colorbar\": {\"outlinewidth\": 0, \"ticks\": \"\"}, \"type\": \"contourcarpet\"}], \"heatmap\": [{\"colorbar\": {\"outlinewidth\": 0, \"ticks\": \"\"}, \"colorscale\": [[0.0, \"#0d0887\"], [0.1111111111111111, \"#46039f\"], [0.2222222222222222, \"#7201a8\"], [0.3333333333333333, \"#9c179e\"], [0.4444444444444444, \"#bd3786\"], [0.5555555555555556, \"#d8576b\"], [0.6666666666666666, \"#ed7953\"], [0.7777777777777778, \"#fb9f3a\"], [0.8888888888888888, \"#fdca26\"], [1.0, \"#f0f921\"]], \"type\": \"heatmap\"}], \"heatmapgl\": [{\"colorbar\": {\"outlinewidth\": 0, \"ticks\": \"\"}, \"colorscale\": [[0.0, \"#0d0887\"], [0.1111111111111111, \"#46039f\"], [0.2222222222222222, \"#7201a8\"], [0.3333333333333333, \"#9c179e\"], [0.4444444444444444, \"#bd3786\"], [0.5555555555555556, \"#d8576b\"], [0.6666666666666666, \"#ed7953\"], [0.7777777777777778, \"#fb9f3a\"], [0.8888888888888888, \"#fdca26\"], [1.0, \"#f0f921\"]], \"type\": \"heatmapgl\"}], \"histogram\": [{\"marker\": {\"colorbar\": {\"outlinewidth\": 0, \"ticks\": \"\"}}, \"type\": \"histogram\"}], \"histogram2d\": [{\"colorbar\": {\"outlinewidth\": 0, \"ticks\": \"\"}, \"colorscale\": [[0.0, \"#0d0887\"], [0.1111111111111111, \"#46039f\"], [0.2222222222222222, \"#7201a8\"], [0.3333333333333333, \"#9c179e\"], [0.4444444444444444, \"#bd3786\"], [0.5555555555555556, \"#d8576b\"], [0.6666666666666666, \"#ed7953\"], [0.7777777777777778, \"#fb9f3a\"], [0.8888888888888888, \"#fdca26\"], [1.0, \"#f0f921\"]], \"type\": \"histogram2d\"}], \"histogram2dcontour\": [{\"colorbar\": {\"outlinewidth\": 0, \"ticks\": \"\"}, \"colorscale\": [[0.0, \"#0d0887\"], [0.1111111111111111, \"#46039f\"], [0.2222222222222222, \"#7201a8\"], [0.3333333333333333, \"#9c179e\"], [0.4444444444444444, \"#bd3786\"], [0.5555555555555556, \"#d8576b\"], [0.6666666666666666, \"#ed7953\"], [0.7777777777777778, \"#fb9f3a\"], [0.8888888888888888, \"#fdca26\"], [1.0, \"#f0f921\"]], \"type\": \"histogram2dcontour\"}], \"mesh3d\": [{\"colorbar\": {\"outlinewidth\": 0, \"ticks\": \"\"}, \"type\": \"mesh3d\"}], \"parcoords\": [{\"line\": {\"colorbar\": {\"outlinewidth\": 0, \"ticks\": \"\"}}, \"type\": \"parcoords\"}], \"scatter\": [{\"marker\": {\"colorbar\": {\"outlinewidth\": 0, \"ticks\": \"\"}}, \"type\": \"scatter\"}], \"scatter3d\": [{\"line\": {\"colorbar\": {\"outlinewidth\": 0, \"ticks\": \"\"}}, \"marker\": {\"colorbar\": {\"outlinewidth\": 0, \"ticks\": \"\"}}, \"type\": \"scatter3d\"}], \"scattercarpet\": [{\"marker\": {\"colorbar\": {\"outlinewidth\": 0, \"ticks\": \"\"}}, \"type\": \"scattercarpet\"}], \"scattergeo\": [{\"marker\": {\"colorbar\": {\"outlinewidth\": 0, \"ticks\": \"\"}}, \"type\": \"scattergeo\"}], \"scattergl\": [{\"marker\": {\"colorbar\": {\"outlinewidth\": 0, \"ticks\": \"\"}}, \"type\": \"scattergl\"}], \"scattermapbox\": [{\"marker\": {\"colorbar\": {\"outlinewidth\": 0, \"ticks\": \"\"}}, \"type\": \"scattermapbox\"}], \"scatterpolar\": [{\"marker\": {\"colorbar\": {\"outlinewidth\": 0, \"ticks\": \"\"}}, \"type\": \"scatterpolar\"}], \"scatterpolargl\": [{\"marker\": {\"colorbar\": {\"outlinewidth\": 0, \"ticks\": \"\"}}, \"type\": \"scatterpolargl\"}], \"scatterternary\": [{\"marker\": {\"colorbar\": {\"outlinewidth\": 0, \"ticks\": \"\"}}, \"type\": \"scatterternary\"}], \"surface\": [{\"colorbar\": {\"outlinewidth\": 0, \"ticks\": \"\"}, \"colorscale\": [[0.0, \"#0d0887\"], [0.1111111111111111, \"#46039f\"], [0.2222222222222222, \"#7201a8\"], [0.3333333333333333, \"#9c179e\"], [0.4444444444444444, \"#bd3786\"], [0.5555555555555556, \"#d8576b\"], [0.6666666666666666, \"#ed7953\"], [0.7777777777777778, \"#fb9f3a\"], [0.8888888888888888, \"#fdca26\"], [1.0, \"#f0f921\"]], \"type\": \"surface\"}], \"table\": [{\"cells\": {\"fill\": {\"color\": \"#EBF0F8\"}, \"line\": {\"color\": \"white\"}}, \"header\": {\"fill\": {\"color\": \"#C8D4E3\"}, \"line\": {\"color\": \"white\"}}, \"type\": \"table\"}]}, \"layout\": {\"annotationdefaults\": {\"arrowcolor\": \"#2a3f5f\", \"arrowhead\": 0, \"arrowwidth\": 1}, \"colorscale\": {\"diverging\": [[0, \"#8e0152\"], [0.1, \"#c51b7d\"], [0.2, \"#de77ae\"], [0.3, \"#f1b6da\"], [0.4, \"#fde0ef\"], [0.5, \"#f7f7f7\"], [0.6, \"#e6f5d0\"], [0.7, \"#b8e186\"], [0.8, \"#7fbc41\"], [0.9, \"#4d9221\"], [1, \"#276419\"]], \"sequential\": [[0.0, \"#0d0887\"], [0.1111111111111111, \"#46039f\"], [0.2222222222222222, \"#7201a8\"], [0.3333333333333333, \"#9c179e\"], [0.4444444444444444, \"#bd3786\"], [0.5555555555555556, \"#d8576b\"], [0.6666666666666666, \"#ed7953\"], [0.7777777777777778, \"#fb9f3a\"], [0.8888888888888888, \"#fdca26\"], [1.0, \"#f0f921\"]], \"sequentialminus\": [[0.0, \"#0d0887\"], [0.1111111111111111, \"#46039f\"], [0.2222222222222222, \"#7201a8\"], [0.3333333333333333, \"#9c179e\"], [0.4444444444444444, \"#bd3786\"], [0.5555555555555556, \"#d8576b\"], [0.6666666666666666, \"#ed7953\"], [0.7777777777777778, \"#fb9f3a\"], [0.8888888888888888, \"#fdca26\"], [1.0, \"#f0f921\"]]}, \"colorway\": [\"#636efa\", \"#EF553B\", \"#00cc96\", \"#ab63fa\", \"#FFA15A\", \"#19d3f3\", \"#FF6692\", \"#B6E880\", \"#FF97FF\", \"#FECB52\"], \"font\": {\"color\": \"#2a3f5f\"}, \"geo\": {\"bgcolor\": \"white\", \"lakecolor\": \"white\", \"landcolor\": \"#E5ECF6\", \"showlakes\": true, \"showland\": true, \"subunitcolor\": \"white\"}, \"hoverlabel\": {\"align\": \"left\"}, \"hovermode\": \"closest\", \"mapbox\": {\"style\": \"light\"}, \"paper_bgcolor\": \"white\", \"plot_bgcolor\": \"#E5ECF6\", \"polar\": {\"angularaxis\": {\"gridcolor\": \"white\", \"linecolor\": \"white\", \"ticks\": \"\"}, \"bgcolor\": \"#E5ECF6\", \"radialaxis\": {\"gridcolor\": \"white\", \"linecolor\": \"white\", \"ticks\": \"\"}}, \"scene\": {\"xaxis\": {\"backgroundcolor\": \"#E5ECF6\", \"gridcolor\": \"white\", \"gridwidth\": 2, \"linecolor\": \"white\", \"showbackground\": true, \"ticks\": \"\", \"zerolinecolor\": \"white\"}, \"yaxis\": {\"backgroundcolor\": \"#E5ECF6\", \"gridcolor\": \"white\", \"gridwidth\": 2, \"linecolor\": \"white\", \"showbackground\": true, \"ticks\": \"\", \"zerolinecolor\": \"white\"}, \"zaxis\": {\"backgroundcolor\": \"#E5ECF6\", \"gridcolor\": \"white\", \"gridwidth\": 2, \"linecolor\": \"white\", \"showbackground\": true, \"ticks\": \"\", \"zerolinecolor\": \"white\"}}, \"shapedefaults\": {\"line\": {\"color\": \"#2a3f5f\"}}, \"ternary\": {\"aaxis\": {\"gridcolor\": \"white\", \"linecolor\": \"white\", \"ticks\": \"\"}, \"baxis\": {\"gridcolor\": \"white\", \"linecolor\": \"white\", \"ticks\": \"\"}, \"bgcolor\": \"#E5ECF6\", \"caxis\": {\"gridcolor\": \"white\", \"linecolor\": \"white\", \"ticks\": \"\"}}, \"title\": {\"x\": 0.05}, \"xaxis\": {\"automargin\": true, \"gridcolor\": \"white\", \"linecolor\": \"white\", \"ticks\": \"\", \"zerolinecolor\": \"white\", \"zerolinewidth\": 2}, \"yaxis\": {\"automargin\": true, \"gridcolor\": \"white\", \"linecolor\": \"white\", \"ticks\": \"\", \"zerolinecolor\": \"white\", \"zerolinewidth\": 2}}}, \"xaxis\": {\"anchor\": \"y\", \"domain\": [0.0, 0.98], \"title\": {\"text\": \"ODBT\"}}, \"yaxis\": {\"anchor\": \"x\", \"domain\": [0.0, 1.0], \"title\": {\"text\": \"LENGTH\"}}},\n",
       "                        {\"responsive\": true}\n",
       "                    ).then(function(){\n",
       "                            \n",
       "var gd = document.getElementById('a15eb46d-092e-4103-8f01-fccd74df9eee');\n",
       "var x = new MutationObserver(function (mutations, observer) {{\n",
       "        var display = window.getComputedStyle(gd).display;\n",
       "        if (!display || display === 'none') {{\n",
       "            console.log([gd, 'removed!']);\n",
       "            Plotly.purge(gd);\n",
       "            observer.disconnect();\n",
       "        }}\n",
       "}});\n",
       "\n",
       "// Listen for the removal of the full notebook cells\n",
       "var notebookContainer = gd.closest('#notebook-container');\n",
       "if (notebookContainer) {{\n",
       "    x.observe(notebookContainer, {childList: true});\n",
       "}}\n",
       "\n",
       "// Listen for the clearing of the current output cell\n",
       "var outputEl = gd.closest('.output');\n",
       "if (outputEl) {{\n",
       "    x.observe(outputEl, {childList: true});\n",
       "}}\n",
       "\n",
       "                        })\n",
       "                };\n",
       "                });\n",
       "            </script>\n",
       "        </div>"
      ]
     },
     "metadata": {},
     "output_type": "display_data"
    },
    {
     "data": {
      "text/plain": [
       "<Figure size 1440x864 with 0 Axes>"
      ]
     },
     "metadata": {},
     "output_type": "display_data"
    }
   ],
   "source": [
    "import seaborn as sns\n",
    "from matplotlib import pyplot as plt\n",
    "import plotly.express as px\n",
    "\n",
    "f6 = \"\"\"select sum(abs(ps.EndStationNum-ps.BeginstationNum)) as LENGTH, \n",
    "round(ps.PIPEOUTSIDEDIAMETER*25.4/ps.PIPEWALLTHICKNESS,0) as ODBT  \n",
    "from pipesegment ps\n",
    "group by round(ps.PIPEOUTSIDEDIAMETER*25.4/ps.PIPEWALLTHICKNESS,0)\n",
    "            \"\"\"\n",
    "f6_odbwt = oracle_sql(f6)\n",
    "  \n",
    "#Set figure size with matplotlib\n",
    "plt.figure(figsize=(20,12))\n",
    "fig1 = px.bar(f6_odbwt, x='ODBT', y='LENGTH',\n",
    "            hover_data=['ODBT', 'LENGTH'], color='ODBT'              \n",
    "           )\n",
    "fig1.show()"
   ]
  },
  {
   "cell_type": "code",
   "execution_count": 39,
   "metadata": {},
   "outputs": [
    {
     "data": {
      "text/html": [
       "<div>\n",
       "<style scoped>\n",
       "    .dataframe tbody tr th:only-of-type {\n",
       "        vertical-align: middle;\n",
       "    }\n",
       "\n",
       "    .dataframe tbody tr th {\n",
       "        vertical-align: top;\n",
       "    }\n",
       "\n",
       "    .dataframe thead th {\n",
       "        text-align: right;\n",
       "    }\n",
       "</style>\n",
       "<table border=\"1\" class=\"dataframe\">\n",
       "  <thead>\n",
       "    <tr style=\"text-align: right;\">\n",
       "      <th></th>\n",
       "      <th>TYPE</th>\n",
       "      <th>ID</th>\n",
       "      <th>EFFECTIVESTARTDATE</th>\n",
       "      <th>EFFECTIVEENDDATE</th>\n",
       "      <th>LANDUSEDOMAINID</th>\n",
       "      <th>BEGINSTATIONSERIESID</th>\n",
       "      <th>BEGINSTATIONNUM</th>\n",
       "      <th>ENDSTATIONSERIESID</th>\n",
       "      <th>ENDSTATIONNUM</th>\n",
       "      <th>LASTMODBYUSERID</th>\n",
       "      <th>LASTMODDATETIME</th>\n",
       "      <th>LENGTH</th>\n",
       "    </tr>\n",
       "  </thead>\n",
       "  <tbody>\n",
       "  </tbody>\n",
       "</table>\n",
       "</div>"
      ],
      "text/plain": [
       "Empty DataFrame\n",
       "Columns: [TYPE, ID, EFFECTIVESTARTDATE, EFFECTIVEENDDATE, LANDUSEDOMAINID, BEGINSTATIONSERIESID, BEGINSTATIONNUM, ENDSTATIONSERIESID, ENDSTATIONNUM, LASTMODBYUSERID, LASTMODDATETIME, LENGTH]\n",
       "Index: []"
      ]
     },
     "execution_count": 39,
     "metadata": {},
     "output_type": "execute_result"
    }
   ],
   "source": [
    "q_tpd_dl = \"\"\"select ld.code as type, lu.* from landuse lu\n",
    "                inner join listdomain ld on lu.LANDUSEDOMAINID = ld.id\n",
    "                \"\"\"\n",
    "oracle_sql(q_tpd_dl).assign(LENGTH= lambda x: abs(x.ENDSTATIONNUM-x.BEGINSTATIONNUM))"
   ]
  },
  {
   "cell_type": "code",
   "execution_count": 34,
   "metadata": {},
   "outputs": [],
   "source": [
    "from lxml import etree\n",
    "import zipfile\n",
    "\n",
    "ooXMLns = {'w':'http://schemas.openxmlformats.org/wordprocessingml/2006/main'}\n",
    "\n",
    "def get_comments(docxFileName):\n",
    "    comment_l = {'author':[], 'date': [], 'comment':[]}\n",
    "    docxZip = zipfile.ZipFile(docxFileName)\n",
    "    commentsXML = docxZip.read('word/comments.xml')\n",
    "    et = etree.XML(commentsXML)\n",
    "    comments = et.xpath('//w:comment',namespaces=ooXMLns)\n",
    "    for c in comments:\n",
    "        if \"RAD_DEV\" in c.xpath('string(.)',namespaces=ooXMLns):\n",
    "            # attributes:\n",
    "            comment_l['author'].append(c.xpath('@w:author',namespaces=ooXMLns))\n",
    "            comment_l['date'].append(c.xpath('@w:date',namespaces=ooXMLns))\n",
    "            # string value of the comment:\n",
    "            comment_l['comment'].append(c.xpath('string(.)',namespaces=ooXMLns))\n",
    "        else:\n",
    "            pass\n",
    "    return comment_l\n",
    "\n",
    "RAD_comments = get_comments(\"ATCO Draft Gas Transmission Risk Algorithm Document_20191007_AB.docx\")"
   ]
  },
  {
   "cell_type": "code",
   "execution_count": 40,
   "metadata": {},
   "outputs": [],
   "source": [
    "pd.DataFrame(RAD_comments).to_clipboard()"
   ]
  },
  {
   "cell_type": "code",
   "execution_count": 207,
   "metadata": {
    "scrolled": false
   },
   "outputs": [],
   "source": [
    "q_fa = \"\"\"select ld.code as type, f.* from inlineinspectionfacility f\n",
    "        inner join listdomain ld on f.ILIFACTYPEDOMAINID = ld.id\"\"\"\n",
    "\n",
    "q_n = \"\"\"select ld.code as type, ncd.* from inlineinspectionnoncrsndfct ncd\n",
    "        inner join listdomain ld on ncd.ilincdtypedomainid = ld.id\"\"\"\n",
    "\n",
    "q_j = \"\"\"select j.* from inlineinspectionjoint j\"\"\"\n",
    "\n",
    "q_fab = \"\"\"select ld.code as type, fab.* from fabrication fab\n",
    "            inner join listdomain ld on fab.fabricationtypedomainid = ld.id\"\"\"\n",
    "\n",
    "q_fac_dlxr = \"\"\"select xr.* from DomainCatalogColXRef xr\n",
    "            where xr.tablename like '%InlineInspectionFacility%'\"\"\"\n",
    "\n",
    "q_fac_dl = \"\"\"select ld.* from listdomain ld\n",
    "            where ld.domaincatalogid = 28\"\"\"\n",
    "\n",
    "q_val_dlxr = \"\"\"select xr.* from DomainCatalogColXRef xr\n",
    "            where xr.tablename like '%Valve%'\"\"\"\n",
    "\n",
    "q_val_dl = \"\"\"select ld.* from listdomain ld\n",
    "            where ld.domaincatalogid = 39\"\"\"\n",
    "\n",
    "q_fab_dlxr = \"\"\"select xr.* from DomainCatalogColXRef xr\n",
    "            where xr.tablename like '%Fabrication%'\"\"\"\n",
    "\n",
    "q_fab_dl = \"\"\"select ld.* from listdomain ld\n",
    "            where ld.domaincatalogid = 19\"\"\"\n",
    "# pd.cut(oracle_sql(q_fa).loc[:,'STATIONNUM'], list(range(0,1_000_000,30))).value_counts().ipynb_checkpoints/# oracle_sql(q_n).loc[:,['TYPE','ILINCDCOMMENT']].query(\"ILINCDCOMMENT.str.contains('wrinkle') & ~ILINCDCOMMENT.str.contains('poss')\")\n",
    "# oracle_sql(q_j)\n",
    "# oracle_sql(q_fab).query(\"TYPE=='Flange'\").describe(include='all')\n",
    "oracle_sql(q_fab_dl).loc[:,['CODE']].assign(table='Fabrication').append(oracle_sql(q_val_dl).loc[:,['CODE']].assign(table=\"Valve\")).to_clipboard()"
   ]
  },
  {
   "cell_type": "code",
   "execution_count": 171,
   "metadata": {},
   "outputs": [
    {
     "data": {
      "text/html": [
       "<div>\n",
       "<style scoped>\n",
       "    .dataframe tbody tr th:only-of-type {\n",
       "        vertical-align: middle;\n",
       "    }\n",
       "\n",
       "    .dataframe tbody tr th {\n",
       "        vertical-align: top;\n",
       "    }\n",
       "\n",
       "    .dataframe thead th {\n",
       "        text-align: right;\n",
       "    }\n",
       "</style>\n",
       "<table border=\"1\" class=\"dataframe\">\n",
       "  <thead>\n",
       "    <tr style=\"text-align: right;\">\n",
       "      <th></th>\n",
       "      <th>leak</th>\n",
       "      <th>large_leak</th>\n",
       "      <th>divide_by_1000</th>\n",
       "      <th>multiply_by_1000</th>\n",
       "    </tr>\n",
       "  </thead>\n",
       "  <tbody>\n",
       "    <tr>\n",
       "      <th>0</th>\n",
       "      <td>0.000057</td>\n",
       "      <td>0.000000e+00</td>\n",
       "      <td>0.001900</td>\n",
       "      <td>0.000000</td>\n",
       "    </tr>\n",
       "    <tr>\n",
       "      <th>1</th>\n",
       "      <td>0.000020</td>\n",
       "      <td>7.700000e-08</td>\n",
       "      <td>0.000667</td>\n",
       "      <td>0.000077</td>\n",
       "    </tr>\n",
       "    <tr>\n",
       "      <th>2</th>\n",
       "      <td>0.000011</td>\n",
       "      <td>4.200000e-08</td>\n",
       "      <td>0.000367</td>\n",
       "      <td>0.000042</td>\n",
       "    </tr>\n",
       "  </tbody>\n",
       "</table>\n",
       "</div>"
      ],
      "text/plain": [
       "       leak    large_leak  divide_by_1000  multiply_by_1000\n",
       "0  0.000057  0.000000e+00        0.001900          0.000000\n",
       "1  0.000020  7.700000e-08        0.000667          0.000077\n",
       "2  0.000011  4.200000e-08        0.000367          0.000042"
      ]
     },
     "execution_count": 171,
     "metadata": {},
     "output_type": "execute_result"
    }
   ],
   "source": [
    "freq = {'leak':[5.70E-05,\n",
    "2.00E-05,\n",
    "1.10E-05,\n",
    "3.20E-05,\n",
    "4.30E-05,\n",
    "1.20E-04,\n",
    "1.40E-05,\n",
    "4.80E-05,\n",
    "2.20E-04,\n",
    "2.60E-04,\n",
    "2.30E-04,\n",
    "5.00E-04,\n",
    "1.80E-03,\n",
    "3.70E-03,\n",
    "2.00E-03,\n",
    "2.70E-02],\n",
    "       'large_leak':[0.00E+00,\n",
    "7.70E-08,\n",
    "4.20E-08,\n",
    "0.00E+00,\n",
    "3.60E-07,\n",
    "1.10E-06,\n",
    "0.00E+00,\n",
    "4.90E-07,\n",
    "2.30E-06,\n",
    "1.90E-06,\n",
    "0.00E+00,\n",
    "1.10E-04,\n",
    "2.40E-04,\n",
    "5.20E-04,\n",
    "2.00E-06,\n",
    "1.10E-05]}\n",
    "\n",
    "pd.DataFrame(freq).assign(divide_by_1000= lambda x: x.leak/(30./1000),\n",
    "                         multiply_by_1000= lambda x: x.large_leak*1000).iloc[0:3,:]"
   ]
  },
  {
   "cell_type": "code",
   "execution_count": 247,
   "metadata": {},
   "outputs": [],
   "source": [
    "def transition_p(k, pa=101.325):\n",
    "    return pa*np.power( ((k+1)/2),(k/(k+1)) )\n",
    "\n",
    "def sonic_rate(area, MAOP, T, k, MW=16.0, pa=101.325):\n",
    "    return 0.9*(area/(1000**2))*MAOP*1000*np.sqrt( ( (k*MW)/(8314.4598*(T+274.15)) )*np.power( 2/(k+1),(k+1)/(k-1) ) )\n",
    "\n",
    "def subsonic_rate(area, MAOP, T, k, MW=16.0, pa=101.325):\n",
    "    return 0.9*(area/(1000**2))*MAOP*1000*np.sqrt( (MW/(8314.4598*(T+274.15))) * (2*k/(k-1)) * np.power(pa/MAOP, 2/k) * (1 - np.power(pa/MAOP, (k-1)/k)) )\n",
    "\n",
    "def ratio_of_sp_heats(T=294.0):\n",
    "    cp = 12.3 + (1.50e-1)*(T) - (2.87e-5)*np.power(T,2) - (1.30e-9)*np.power(T,3)\n",
    "    return cp/(cp-(8.314))\n",
    "\n",
    "def get_mass_flow(area, MAOP, T, MW=16.0, pa=101.325):\n",
    "    local_k = ratio_of_sp_heats()\n",
    "    if MAOP > transition_p(local_k):\n",
    "#         print(f\"sonic {sonic_rate(area, MAOP, T, local_k, MW, pa)} kg/s, {area} mm2, {MAOP} kPa, {T} °C, {local_k}, {MW} kg/kmol\")\n",
    "        return sonic_rate(area, MAOP, T, local_k, MW, pa)\n",
    "    else:\n",
    "#         print(f\"subsonic {subsonic_rate(area, MAOP, T, local_k, MW, pa)} kg/s, {area} mm2, {MAOP} kPa, {T} °C, {local_k}, {MW} kg/kmol\")\n",
    "        return subsonic_rate(area, MAOP, T, local_k, MW, pa)"
   ]
  },
  {
   "cell_type": "code",
   "execution_count": 239,
   "metadata": {},
   "outputs": [
    {
     "data": {
      "text/plain": [
       "1.1824355792113819"
      ]
     },
     "execution_count": 239,
     "metadata": {},
     "output_type": "execute_result"
    }
   ],
   "source": [
    "transition_p(1.23)\n",
    "sonic_rate(np.pi*(1/2)**2, 9930.0, 20.0, 1.23)\n",
    "subsonic_rate(np.pi*(1/2)**2, 9930.0, 20.0, 1.23)\n",
    "ratio_of_sp_heats()"
   ]
  },
  {
   "cell_type": "code",
   "execution_count": 248,
   "metadata": {},
   "outputs": [
    {
     "data": {
      "text/plain": [
       "6575.2751904256575"
      ]
     },
     "execution_count": 248,
     "metadata": {},
     "output_type": "execute_result"
    }
   ],
   "source": [
    "get_mass_flow(202682, 9930, 20.0)*2.20"
   ]
  },
  {
   "cell_type": "code",
   "execution_count": 244,
   "metadata": {},
   "outputs": [
    {
     "data": {
      "text/html": [
       "<div>\n",
       "<style scoped>\n",
       "    .dataframe tbody tr th:only-of-type {\n",
       "        vertical-align: middle;\n",
       "    }\n",
       "\n",
       "    .dataframe tbody tr th {\n",
       "        vertical-align: top;\n",
       "    }\n",
       "\n",
       "    .dataframe thead th {\n",
       "        text-align: right;\n",
       "    }\n",
       "</style>\n",
       "<table border=\"1\" class=\"dataframe\">\n",
       "  <thead>\n",
       "    <tr style=\"text-align: right;\">\n",
       "      <th></th>\n",
       "      <th>ID</th>\n",
       "      <th>EFFECTIVESTARTDATE</th>\n",
       "      <th>EFFECTIVEENDDATE</th>\n",
       "      <th>PRODUCTDOMAINID</th>\n",
       "      <th>OPERATINGTEMPERATURE</th>\n",
       "      <th>BEGINSTATIONSERIESID</th>\n",
       "      <th>BEGINSTATIONNUM</th>\n",
       "      <th>ENDSTATIONSERIESID</th>\n",
       "      <th>ENDSTATIONNUM</th>\n",
       "      <th>LASTMODBYUSERID</th>\n",
       "      <th>LASTMODDATETIME</th>\n",
       "    </tr>\n",
       "  </thead>\n",
       "  <tbody>\n",
       "  </tbody>\n",
       "</table>\n",
       "</div>"
      ],
      "text/plain": [
       "Empty DataFrame\n",
       "Columns: [ID, EFFECTIVESTARTDATE, EFFECTIVEENDDATE, PRODUCTDOMAINID, OPERATINGTEMPERATURE, BEGINSTATIONSERIESID, BEGINSTATIONNUM, ENDSTATIONSERIESID, ENDSTATIONNUM, LASTMODBYUSERID, LASTMODDATETIME]\n",
       "Index: []"
      ]
     },
     "execution_count": 244,
     "metadata": {},
     "output_type": "execute_result"
    }
   ],
   "source": [
    "q_product = \"\"\"select * from operatingdata od\n",
    "            \"\"\"\n",
    "\n",
    "oracle_sql(q_product)"
   ]
  },
  {
   "cell_type": "code",
   "execution_count": 264,
   "metadata": {},
   "outputs": [
    {
     "name": "stdout",
     "output_type": "stream",
     "text": [
      "0.00000400\n",
      "0.00033000\n",
      "0.00180000\n",
      "0.01000000\n",
      "\n",
      "0.00397678\n",
      "0.06959357\n",
      "0.82269546\n",
      "6.31810228\n"
     ]
    }
   ],
   "source": [
    "per_hec = np.array([0.04,\n",
    "3.30,\n",
    "18.00,\n",
    "100.00]\n",
    ")\n",
    "for x in per_hec/10000:\n",
    "    \n",
    "    print(f\"{x:,.8f}\")\n",
    "\n",
    "print()\n",
    "\n",
    "per_mi = np.array([6.4,\n",
    "112.0,\n",
    "1324.0,\n",
    "10168.0])\n",
    "\n",
    "for x in per_mi/1609.344:\n",
    "    print(f\"{x:,.8f}\")"
   ]
  },
  {
   "cell_type": "code",
   "execution_count": 266,
   "metadata": {},
   "outputs": [
    {
     "data": {
      "text/plain": [
       "1.0"
      ]
     },
     "execution_count": 266,
     "metadata": {},
     "output_type": "execute_result"
    }
   ],
   "source": [
    "0.10 + 0.15 + 0.20 + 0.20 + 0.15 + 0.20"
   ]
  },
  {
   "cell_type": "code",
   "execution_count": 325,
   "metadata": {},
   "outputs": [
    {
     "data": {
      "text/plain": [
       "<matplotlib.axes._subplots.AxesSubplot at 0x1be628836a0>"
      ]
     },
     "execution_count": 325,
     "metadata": {},
     "output_type": "execute_result"
    },
    {
     "data": {
      "image/png": "[encoded data removed]",
      "text/plain": [
       "<Figure size 1440x720 with 1 Axes>"
      ]
     },
     "metadata": {
      "needs_background": "light"
     },
     "output_type": "display_data"
    }
   ],
   "source": [
    "q_manufacturer = \"\"\"select ld.code as type, ps.* from pipesegment ps\n",
    "                    inner join listdomain ld on ps.PIPEMANUFACTURERDOMAINID = ld.id\"\"\"\n",
    "\n",
    "manufacturer_df = oracle_sql(q_manufacturer)\n",
    "manufacturer_df['INSERVICE_YEAR'] = pd.to_datetime(manufacturer_df.PIPEINSERVICEDATE).dt.year\n",
    "\n",
    "manufacturer_df.assign(LENGTH = lambda x: (x.ENDSTATIONNUM-x.BEGINSTATIONNUM),\n",
    "                      binned_y = pd.cut(manufacturer_df.INSERVICE_YEAR, bins=[0,1970,1980,2000,2019])).groupby(['binned_y','TYPE']).sum().LENGTH.fillna(0.0).unstack().plot(kind='bar',stacked=True)"
   ]
  },
  {
   "cell_type": "code",
   "execution_count": 330,
   "metadata": {},
   "outputs": [
    {
     "data": {
      "text/html": [
       "<div>\n",
       "<style scoped>\n",
       "    .dataframe tbody tr th:only-of-type {\n",
       "        vertical-align: middle;\n",
       "    }\n",
       "\n",
       "    .dataframe tbody tr th {\n",
       "        vertical-align: top;\n",
       "    }\n",
       "\n",
       "    .dataframe thead th {\n",
       "        text-align: right;\n",
       "    }\n",
       "</style>\n",
       "<table border=\"1\" class=\"dataframe\">\n",
       "  <thead>\n",
       "    <tr style=\"text-align: right;\">\n",
       "      <th></th>\n",
       "      <th>landuse</th>\n",
       "      <th>class</th>\n",
       "    </tr>\n",
       "  </thead>\n",
       "  <tbody>\n",
       "    <tr>\n",
       "      <th>0</th>\n",
       "      <td>0.520</td>\n",
       "      <td>0.092</td>\n",
       "    </tr>\n",
       "    <tr>\n",
       "      <th>1</th>\n",
       "      <td>0.260</td>\n",
       "      <td>0.660</td>\n",
       "    </tr>\n",
       "    <tr>\n",
       "      <th>2</th>\n",
       "      <td>0.360</td>\n",
       "      <td>0.380</td>\n",
       "    </tr>\n",
       "    <tr>\n",
       "      <th>3</th>\n",
       "      <td>0.076</td>\n",
       "      <td>0.380</td>\n",
       "    </tr>\n",
       "    <tr>\n",
       "      <th>4</th>\n",
       "      <td>0.060</td>\n",
       "      <td>NaN</td>\n",
       "    </tr>\n",
       "    <tr>\n",
       "      <th>5</th>\n",
       "      <td>0.060</td>\n",
       "      <td>NaN</td>\n",
       "    </tr>\n",
       "  </tbody>\n",
       "</table>\n",
       "</div>"
      ],
      "text/plain": [
       "   landuse  class\n",
       "0    0.520  0.092\n",
       "1    0.260  0.660\n",
       "2    0.360  0.380\n",
       "3    0.076  0.380\n",
       "4    0.060    NaN\n",
       "5    0.060    NaN"
      ]
     },
     "execution_count": 330,
     "metadata": {},
     "output_type": "execute_result"
    }
   ],
   "source": [
    "B1 = {'landuse':[0.26 ,0.13 ,0.18 ,0.038,\n",
    "0.03 ,0.03] ,\n",
    "'class':[0.046,\n",
    "0.330,\n",
    "0.190,\n",
    "0.190,np.nan,np.nan]}\n",
    "pd.DataFrame(B1).apply(lambda x: x*2)"
   ]
  },
  {
   "cell_type": "code",
   "execution_count": 334,
   "metadata": {
    "scrolled": true
   },
   "outputs": [
    {
     "name": "stdout",
     "output_type": "stream",
     "text": [
      " Volume in drive Z is Projects\n",
      " Volume Serial Number is BC71-F23D\n",
      "\n",
      " Directory of Z:\\ATCO\\ATCO Pipelines\\2019-05_RAD Workshop\\3_Engineering\\Documentation\\0 Archived RAD Versions\n",
      "\n",
      "10/15/2019  08:01 AM    <DIR>          .\n",
      "10/15/2019  08:01 AM    <DIR>          ..\n",
      "10/03/2019  12:08 PM         3,024,131 ATCO Draft Gas Transmission Risk Algorithm Document_20191001_AB.docx\n",
      "10/03/2019  12:08 PM         3,024,120 ATCO Draft Gas Transmission Risk Algorithm Document_20191003_AB.docx\n",
      "10/07/2019  04:11 PM         3,348,528 ATCO Draft Gas Transmission Risk Algorithm Document_20191007_AB.docx\n",
      "10/09/2019  08:37 AM         3,356,357 ATCO Draft Gas Transmission Risk Algorithm Document_20191008_1_AB.docx\n",
      "10/08/2019  09:25 AM         3,349,242 ATCO Draft Gas Transmission Risk Algorithm Document_20191008_AB.docx\n",
      "10/09/2019  04:24 PM         3,354,381 ATCO Draft Gas Transmission Risk Algorithm Document_20191009_AB.docx\n",
      "10/11/2019  10:06 AM         3,431,222 ATCO Draft Gas Transmission Risk Algorithm Document_20191010_AB.docx\n",
      "10/11/2019  03:53 PM         1,960,736 ATCO Draft Gas Transmission Risk Algorithm Document_20191011_AB.docx\n",
      "               8 File(s)     24,848,717 bytes\n",
      "               2 Dir(s)  27,239,133,184 bytes free\n"
     ]
    }
   ],
   "source": [
    "%ls \"0 Archived RAD Versions\""
   ]
  },
  {
   "cell_type": "code",
   "execution_count": 364,
   "metadata": {},
   "outputs": [
    {
     "data": {
      "text/plain": [
       "1.0"
      ]
     },
     "execution_count": 364,
     "metadata": {},
     "output_type": "execute_result"
    }
   ],
   "source": [
    "poe_s = 1.0\n",
    "poe_n = 1-pow(1-poe_s,1.0/(30/1000.0))\n",
    "poe_n"
   ]
  },
  {
   "cell_type": "code",
   "execution_count": 366,
   "metadata": {},
   "outputs": [
    {
     "data": {
      "text/plain": [
       "69.92999999999999"
      ]
     },
     "execution_count": 366,
     "metadata": {},
     "output_type": "execute_result"
    }
   ],
   "source": [
    "0.999999/(14.3/1000.0)"
   ]
  },
  {
   "cell_type": "code",
   "execution_count": 16,
   "metadata": {
    "scrolled": false
   },
   "outputs": [
    {
     "data": {
      "text/plain": [
       "<matplotlib.axes._subplots.AxesSubplot at 0x27983972240>"
      ]
     },
     "execution_count": 16,
     "metadata": {},
     "output_type": "execute_result"
    },
    {
     "data": {
      "image/png": "[encoded data removed]",
      "text/plain": [
       "<Figure size 1440x1440 with 1 Axes>"
      ]
     },
     "metadata": {
      "needs_background": "light"
     },
     "output_type": "display_data"
    }
   ],
   "source": [
    "query = \"\"\"select ld.code as type, c.* from coating c\n",
    "           join listdomain ld on c.COATINGLINEDOMAINID = ld.id\n",
    "        \"\"\"\n",
    "\n",
    "oracle_sql(query).assign(ds_length=lambda x: (x.ENDSTATIONNUM-x.BEGINSTATIONNUM)/1000.).groupby(\"TYPE\").sum().sort_values(\"ds_length\").ds_length.plot(kind='bar')"
   ]
  },
  {
   "cell_type": "code",
   "execution_count": 19,
   "metadata": {},
   "outputs": [],
   "source": [
    "q = \"\"\"select ld.code as type, ss.* from stationseries ss\n",
    "        join lineloop ll on ll.id = ss.lineloopid\n",
    "        join listdomain ld on ll.linelooptypeld = ld.id\n",
    "        \"\"\"\n",
    "\n",
    "ssdf = oracle_sql(q)"
   ]
  },
  {
   "cell_type": "code",
   "execution_count": 20,
   "metadata": {},
   "outputs": [
    {
     "data": {
      "text/html": [
       "<div>\n",
       "<style scoped>\n",
       "    .dataframe tbody tr th:only-of-type {\n",
       "        vertical-align: middle;\n",
       "    }\n",
       "\n",
       "    .dataframe tbody tr th {\n",
       "        vertical-align: top;\n",
       "    }\n",
       "\n",
       "    .dataframe thead th {\n",
       "        text-align: right;\n",
       "    }\n",
       "</style>\n",
       "<table border=\"1\" class=\"dataframe\">\n",
       "  <thead>\n",
       "    <tr style=\"text-align: right;\">\n",
       "      <th></th>\n",
       "      <th>TYPE</th>\n",
       "      <th>ID</th>\n",
       "      <th>EFFECTIVESTARTDATE</th>\n",
       "      <th>EFFECTIVEENDDATE</th>\n",
       "      <th>LINELOOPID</th>\n",
       "      <th>DISCHARGESUBSYSTEMID</th>\n",
       "      <th>SERIESVALUENUMBER</th>\n",
       "      <th>BEGINSTATIONNUM</th>\n",
       "      <th>ENDSTATIONNUM</th>\n",
       "      <th>LASTMODBYUSERID</th>\n",
       "      <th>LASTMODDATETIME</th>\n",
       "    </tr>\n",
       "  </thead>\n",
       "  <tbody>\n",
       "    <tr>\n",
       "      <th>0</th>\n",
       "      <td>Non-Piggable</td>\n",
       "      <td>23971</td>\n",
       "      <td>2011-11-16</td>\n",
       "      <td>2019-05-15 13:54:09</td>\n",
       "      <td>810008008</td>\n",
       "      <td>810008008</td>\n",
       "      <td>0000007652.0000</td>\n",
       "      <td>0.00</td>\n",
       "      <td>1.000</td>\n",
       "      <td>ATCO_IRASV5_STAGE</td>\n",
       "      <td>2019-05-15 13:54:10</td>\n",
       "    </tr>\n",
       "    <tr>\n",
       "      <th>1</th>\n",
       "      <td>Non-Piggable</td>\n",
       "      <td>21953</td>\n",
       "      <td>2011-11-16</td>\n",
       "      <td>2019-05-15 13:54:09</td>\n",
       "      <td>810008009</td>\n",
       "      <td>810008009</td>\n",
       "      <td>0000007653.0000</td>\n",
       "      <td>0.00</td>\n",
       "      <td>1.000</td>\n",
       "      <td>ATCO_IRASV5_STAGE</td>\n",
       "      <td>2019-05-15 13:54:10</td>\n",
       "    </tr>\n",
       "    <tr>\n",
       "      <th>2</th>\n",
       "      <td>Piggable</td>\n",
       "      <td>7138</td>\n",
       "      <td>2011-11-16</td>\n",
       "      <td>2019-05-15 13:54:09</td>\n",
       "      <td>810008010</td>\n",
       "      <td>810008010</td>\n",
       "      <td>0076501000.0000</td>\n",
       "      <td>0.00</td>\n",
       "      <td>19759.740</td>\n",
       "      <td>ATCO_IRASV5_STAGE</td>\n",
       "      <td>2019-05-15 13:54:09</td>\n",
       "    </tr>\n",
       "    <tr>\n",
       "      <th>3</th>\n",
       "      <td>Non-Piggable</td>\n",
       "      <td>18895</td>\n",
       "      <td>2011-11-16</td>\n",
       "      <td>2019-05-15 13:54:09</td>\n",
       "      <td>810008011</td>\n",
       "      <td>810008011</td>\n",
       "      <td>0000021941.0000</td>\n",
       "      <td>0.00</td>\n",
       "      <td>6.680</td>\n",
       "      <td>ATCO_IRASV5_STAGE</td>\n",
       "      <td>2019-05-15 13:54:10</td>\n",
       "    </tr>\n",
       "    <tr>\n",
       "      <th>4</th>\n",
       "      <td>Non-Piggable</td>\n",
       "      <td>804283658</td>\n",
       "      <td>1997-01-01</td>\n",
       "      <td>2019-05-15 13:54:09</td>\n",
       "      <td>810008012</td>\n",
       "      <td>810008012</td>\n",
       "      <td>0000011232.0000</td>\n",
       "      <td>1090.77</td>\n",
       "      <td>1190.600</td>\n",
       "      <td>ATCO_IRASV5_STAGE</td>\n",
       "      <td>2019-05-15 13:54:09</td>\n",
       "    </tr>\n",
       "    <tr>\n",
       "      <th>5</th>\n",
       "      <td>Non-Piggable</td>\n",
       "      <td>804306293</td>\n",
       "      <td>2011-11-16</td>\n",
       "      <td>2019-05-15 13:54:09</td>\n",
       "      <td>810008013</td>\n",
       "      <td>810008013</td>\n",
       "      <td>0000000141.0000</td>\n",
       "      <td>6895.90</td>\n",
       "      <td>7634.710</td>\n",
       "      <td>ATCO_IRASV5_STAGE</td>\n",
       "      <td>2019-05-15 13:54:09</td>\n",
       "    </tr>\n",
       "    <tr>\n",
       "      <th>6</th>\n",
       "      <td>Non-Piggable</td>\n",
       "      <td>24917</td>\n",
       "      <td>2011-11-16</td>\n",
       "      <td>2019-05-15 13:54:09</td>\n",
       "      <td>810008015</td>\n",
       "      <td>810008015</td>\n",
       "      <td>0000000111.0000</td>\n",
       "      <td>0.00</td>\n",
       "      <td>8.090</td>\n",
       "      <td>ATCO_IRASV5_STAGE</td>\n",
       "      <td>2019-05-15 13:54:09</td>\n",
       "    </tr>\n",
       "    <tr>\n",
       "      <th>7</th>\n",
       "      <td>Non-Piggable</td>\n",
       "      <td>24945</td>\n",
       "      <td>2011-11-16</td>\n",
       "      <td>2019-05-15 13:54:09</td>\n",
       "      <td>810008016</td>\n",
       "      <td>810008016</td>\n",
       "      <td>0000000112.0000</td>\n",
       "      <td>0.00</td>\n",
       "      <td>1.360</td>\n",
       "      <td>ATCO_IRASV5_STAGE</td>\n",
       "      <td>2019-05-15 13:54:09</td>\n",
       "    </tr>\n",
       "    <tr>\n",
       "      <th>8</th>\n",
       "      <td>Non-Piggable</td>\n",
       "      <td>24948</td>\n",
       "      <td>2011-11-16</td>\n",
       "      <td>2019-05-15 13:54:09</td>\n",
       "      <td>810008017</td>\n",
       "      <td>810008017</td>\n",
       "      <td>0000000113.0000</td>\n",
       "      <td>0.00</td>\n",
       "      <td>1.010</td>\n",
       "      <td>ATCO_IRASV5_STAGE</td>\n",
       "      <td>2019-05-15 13:54:09</td>\n",
       "    </tr>\n",
       "    <tr>\n",
       "      <th>9</th>\n",
       "      <td>Non-Piggable</td>\n",
       "      <td>24941</td>\n",
       "      <td>2011-11-16</td>\n",
       "      <td>2019-05-15 13:54:09</td>\n",
       "      <td>810008018</td>\n",
       "      <td>810008018</td>\n",
       "      <td>0000000114.0000</td>\n",
       "      <td>0.00</td>\n",
       "      <td>16.280</td>\n",
       "      <td>ATCO_IRASV5_STAGE</td>\n",
       "      <td>2019-05-15 13:54:09</td>\n",
       "    </tr>\n",
       "    <tr>\n",
       "      <th>10</th>\n",
       "      <td>Non-Piggable</td>\n",
       "      <td>24952</td>\n",
       "      <td>2011-11-16</td>\n",
       "      <td>2019-05-15 13:54:09</td>\n",
       "      <td>810008019</td>\n",
       "      <td>810008019</td>\n",
       "      <td>0000000115.0000</td>\n",
       "      <td>0.00</td>\n",
       "      <td>0.990</td>\n",
       "      <td>ATCO_IRASV5_STAGE</td>\n",
       "      <td>2019-05-15 13:54:09</td>\n",
       "    </tr>\n",
       "    <tr>\n",
       "      <th>11</th>\n",
       "      <td>Non-Piggable</td>\n",
       "      <td>24919</td>\n",
       "      <td>2011-11-16</td>\n",
       "      <td>2019-05-15 13:54:09</td>\n",
       "      <td>810008020</td>\n",
       "      <td>810008020</td>\n",
       "      <td>0000000116.0000</td>\n",
       "      <td>0.00</td>\n",
       "      <td>4.670</td>\n",
       "      <td>ATCO_IRASV5_STAGE</td>\n",
       "      <td>2019-05-15 13:54:09</td>\n",
       "    </tr>\n",
       "    <tr>\n",
       "      <th>12</th>\n",
       "      <td>Non-Piggable</td>\n",
       "      <td>24915</td>\n",
       "      <td>2011-11-16</td>\n",
       "      <td>2019-05-15 13:54:09</td>\n",
       "      <td>810008021</td>\n",
       "      <td>810008021</td>\n",
       "      <td>0000000117.0000</td>\n",
       "      <td>0.00</td>\n",
       "      <td>10.710</td>\n",
       "      <td>ATCO_IRASV5_STAGE</td>\n",
       "      <td>2019-05-15 13:54:09</td>\n",
       "    </tr>\n",
       "    <tr>\n",
       "      <th>13</th>\n",
       "      <td>Non-Piggable</td>\n",
       "      <td>24954</td>\n",
       "      <td>2011-11-16</td>\n",
       "      <td>2019-05-15 13:54:09</td>\n",
       "      <td>810008022</td>\n",
       "      <td>810008022</td>\n",
       "      <td>0000000118.0000</td>\n",
       "      <td>0.00</td>\n",
       "      <td>0.430</td>\n",
       "      <td>ATCO_IRASV5_STAGE</td>\n",
       "      <td>2019-05-15 13:54:09</td>\n",
       "    </tr>\n",
       "    <tr>\n",
       "      <th>14</th>\n",
       "      <td>Non-Piggable</td>\n",
       "      <td>24847</td>\n",
       "      <td>2011-11-16</td>\n",
       "      <td>2019-05-15 13:54:09</td>\n",
       "      <td>810008023</td>\n",
       "      <td>810008023</td>\n",
       "      <td>0000000119.0000</td>\n",
       "      <td>0.00</td>\n",
       "      <td>1.000</td>\n",
       "      <td>ATCO_IRASV5_STAGE</td>\n",
       "      <td>2019-05-15 13:54:09</td>\n",
       "    </tr>\n",
       "    <tr>\n",
       "      <th>15</th>\n",
       "      <td>Non-Piggable</td>\n",
       "      <td>24943</td>\n",
       "      <td>2011-11-16</td>\n",
       "      <td>2019-05-15 13:54:09</td>\n",
       "      <td>810008024</td>\n",
       "      <td>810008024</td>\n",
       "      <td>0000000012.0000</td>\n",
       "      <td>0.00</td>\n",
       "      <td>2222.570</td>\n",
       "      <td>ATCO_IRASV5_STAGE</td>\n",
       "      <td>2019-05-15 13:54:09</td>\n",
       "    </tr>\n",
       "    <tr>\n",
       "      <th>16</th>\n",
       "      <td>Non-Piggable</td>\n",
       "      <td>24931</td>\n",
       "      <td>2011-11-16</td>\n",
       "      <td>2019-05-15 13:54:09</td>\n",
       "      <td>810008025</td>\n",
       "      <td>810008025</td>\n",
       "      <td>0000000120.0000</td>\n",
       "      <td>0.00</td>\n",
       "      <td>1.870</td>\n",
       "      <td>ATCO_IRASV5_STAGE</td>\n",
       "      <td>2019-05-15 13:54:09</td>\n",
       "    </tr>\n",
       "    <tr>\n",
       "      <th>17</th>\n",
       "      <td>Non-Piggable</td>\n",
       "      <td>24939</td>\n",
       "      <td>2011-11-16</td>\n",
       "      <td>2019-05-15 13:54:09</td>\n",
       "      <td>810008026</td>\n",
       "      <td>810008026</td>\n",
       "      <td>0000000121.0000</td>\n",
       "      <td>0.00</td>\n",
       "      <td>11.740</td>\n",
       "      <td>ATCO_IRASV5_STAGE</td>\n",
       "      <td>2019-05-15 13:54:09</td>\n",
       "    </tr>\n",
       "    <tr>\n",
       "      <th>18</th>\n",
       "      <td>Non-Piggable</td>\n",
       "      <td>24911</td>\n",
       "      <td>2011-11-16</td>\n",
       "      <td>2019-05-15 13:54:09</td>\n",
       "      <td>810008027</td>\n",
       "      <td>810008027</td>\n",
       "      <td>0000000122.0000</td>\n",
       "      <td>0.00</td>\n",
       "      <td>10.310</td>\n",
       "      <td>ATCO_IRASV5_STAGE</td>\n",
       "      <td>2019-05-15 13:54:09</td>\n",
       "    </tr>\n",
       "    <tr>\n",
       "      <th>19</th>\n",
       "      <td>Non-Piggable</td>\n",
       "      <td>22751</td>\n",
       "      <td>2011-11-16</td>\n",
       "      <td>2019-05-15 13:54:09</td>\n",
       "      <td>810008028</td>\n",
       "      <td>810008028</td>\n",
       "      <td>0000000123.0000</td>\n",
       "      <td>0.00</td>\n",
       "      <td>5.610</td>\n",
       "      <td>ATCO_IRASV5_STAGE</td>\n",
       "      <td>2019-05-15 13:54:10</td>\n",
       "    </tr>\n",
       "    <tr>\n",
       "      <th>20</th>\n",
       "      <td>Non-Piggable</td>\n",
       "      <td>24933</td>\n",
       "      <td>2011-11-16</td>\n",
       "      <td>2019-05-15 13:54:09</td>\n",
       "      <td>810008029</td>\n",
       "      <td>810008029</td>\n",
       "      <td>0000000124.0000</td>\n",
       "      <td>0.00</td>\n",
       "      <td>1.140</td>\n",
       "      <td>ATCO_IRASV5_STAGE</td>\n",
       "      <td>2019-05-15 13:54:09</td>\n",
       "    </tr>\n",
       "    <tr>\n",
       "      <th>21</th>\n",
       "      <td>Non-Piggable</td>\n",
       "      <td>24899</td>\n",
       "      <td>2011-11-16</td>\n",
       "      <td>2019-05-15 13:54:09</td>\n",
       "      <td>810008030</td>\n",
       "      <td>810008030</td>\n",
       "      <td>0000000125.0000</td>\n",
       "      <td>0.00</td>\n",
       "      <td>0.750</td>\n",
       "      <td>ATCO_IRASV5_STAGE</td>\n",
       "      <td>2019-05-15 13:54:09</td>\n",
       "    </tr>\n",
       "    <tr>\n",
       "      <th>22</th>\n",
       "      <td>Non-Piggable</td>\n",
       "      <td>24925</td>\n",
       "      <td>2011-11-16</td>\n",
       "      <td>2019-05-15 13:54:09</td>\n",
       "      <td>810008031</td>\n",
       "      <td>810008031</td>\n",
       "      <td>0000000126.0000</td>\n",
       "      <td>0.00</td>\n",
       "      <td>2.220</td>\n",
       "      <td>ATCO_IRASV5_STAGE</td>\n",
       "      <td>2019-05-15 13:54:09</td>\n",
       "    </tr>\n",
       "    <tr>\n",
       "      <th>23</th>\n",
       "      <td>Non-Piggable</td>\n",
       "      <td>24843</td>\n",
       "      <td>2011-11-16</td>\n",
       "      <td>2019-05-15 13:54:09</td>\n",
       "      <td>810008032</td>\n",
       "      <td>810008032</td>\n",
       "      <td>0000000127.0000</td>\n",
       "      <td>0.00</td>\n",
       "      <td>1.000</td>\n",
       "      <td>ATCO_IRASV5_STAGE</td>\n",
       "      <td>2019-05-15 13:54:09</td>\n",
       "    </tr>\n",
       "    <tr>\n",
       "      <th>24</th>\n",
       "      <td>Non-Piggable</td>\n",
       "      <td>24937</td>\n",
       "      <td>2011-11-16</td>\n",
       "      <td>2019-05-15 13:54:09</td>\n",
       "      <td>810008033</td>\n",
       "      <td>810008033</td>\n",
       "      <td>0000000128.0000</td>\n",
       "      <td>0.00</td>\n",
       "      <td>1.730</td>\n",
       "      <td>ATCO_IRASV5_STAGE</td>\n",
       "      <td>2019-05-15 13:54:09</td>\n",
       "    </tr>\n",
       "    <tr>\n",
       "      <th>25</th>\n",
       "      <td>Non-Piggable</td>\n",
       "      <td>24929</td>\n",
       "      <td>2011-11-16</td>\n",
       "      <td>2019-05-15 13:54:09</td>\n",
       "      <td>810008034</td>\n",
       "      <td>810008034</td>\n",
       "      <td>0000000129.0000</td>\n",
       "      <td>0.00</td>\n",
       "      <td>1.630</td>\n",
       "      <td>ATCO_IRASV5_STAGE</td>\n",
       "      <td>2019-05-15 13:54:09</td>\n",
       "    </tr>\n",
       "    <tr>\n",
       "      <th>26</th>\n",
       "      <td>Non-Piggable</td>\n",
       "      <td>9159</td>\n",
       "      <td>2011-11-16</td>\n",
       "      <td>2019-05-15 13:54:09</td>\n",
       "      <td>810008035</td>\n",
       "      <td>810008035</td>\n",
       "      <td>0000000013.0000</td>\n",
       "      <td>0.00</td>\n",
       "      <td>2174.780</td>\n",
       "      <td>ATCO_IRASV5_STAGE</td>\n",
       "      <td>2019-05-15 13:54:09</td>\n",
       "    </tr>\n",
       "    <tr>\n",
       "      <th>27</th>\n",
       "      <td>Non-Piggable</td>\n",
       "      <td>24853</td>\n",
       "      <td>2011-11-16</td>\n",
       "      <td>2019-05-15 13:54:09</td>\n",
       "      <td>810008036</td>\n",
       "      <td>810008036</td>\n",
       "      <td>0000000130.0000</td>\n",
       "      <td>0.00</td>\n",
       "      <td>1.000</td>\n",
       "      <td>ATCO_IRASV5_STAGE</td>\n",
       "      <td>2019-05-15 13:54:09</td>\n",
       "    </tr>\n",
       "    <tr>\n",
       "      <th>28</th>\n",
       "      <td>Non-Piggable</td>\n",
       "      <td>24935</td>\n",
       "      <td>2011-11-16</td>\n",
       "      <td>2019-05-15 13:54:09</td>\n",
       "      <td>810008037</td>\n",
       "      <td>810008037</td>\n",
       "      <td>0000000131.0000</td>\n",
       "      <td>0.00</td>\n",
       "      <td>0.800</td>\n",
       "      <td>ATCO_IRASV5_STAGE</td>\n",
       "      <td>2019-05-15 13:54:09</td>\n",
       "    </tr>\n",
       "    <tr>\n",
       "      <th>29</th>\n",
       "      <td>Non-Piggable</td>\n",
       "      <td>24845</td>\n",
       "      <td>2011-11-16</td>\n",
       "      <td>2019-05-15 13:54:09</td>\n",
       "      <td>810008038</td>\n",
       "      <td>810008038</td>\n",
       "      <td>0000000132.0000</td>\n",
       "      <td>0.00</td>\n",
       "      <td>1.000</td>\n",
       "      <td>ATCO_IRASV5_STAGE</td>\n",
       "      <td>2019-05-15 13:54:09</td>\n",
       "    </tr>\n",
       "    <tr>\n",
       "      <th>30</th>\n",
       "      <td>Non-Piggable</td>\n",
       "      <td>24927</td>\n",
       "      <td>2011-11-16</td>\n",
       "      <td>2019-05-15 13:54:09</td>\n",
       "      <td>810008039</td>\n",
       "      <td>810008039</td>\n",
       "      <td>0000000134.0000</td>\n",
       "      <td>0.00</td>\n",
       "      <td>2.220</td>\n",
       "      <td>ATCO_IRASV5_STAGE</td>\n",
       "      <td>2019-05-15 13:54:09</td>\n",
       "    </tr>\n",
       "    <tr>\n",
       "      <th>31</th>\n",
       "      <td>Non-Piggable</td>\n",
       "      <td>24851</td>\n",
       "      <td>2011-11-16</td>\n",
       "      <td>2019-05-15 13:54:09</td>\n",
       "      <td>810008040</td>\n",
       "      <td>810008040</td>\n",
       "      <td>0000000135.0000</td>\n",
       "      <td>0.00</td>\n",
       "      <td>1.000</td>\n",
       "      <td>ATCO_IRASV5_STAGE</td>\n",
       "      <td>2019-05-15 13:54:09</td>\n",
       "    </tr>\n",
       "    <tr>\n",
       "      <th>32</th>\n",
       "      <td>Non-Piggable</td>\n",
       "      <td>24849</td>\n",
       "      <td>2011-11-16</td>\n",
       "      <td>2019-05-15 13:54:09</td>\n",
       "      <td>810008041</td>\n",
       "      <td>810008041</td>\n",
       "      <td>0000000136.0000</td>\n",
       "      <td>0.00</td>\n",
       "      <td>1.000</td>\n",
       "      <td>ATCO_IRASV5_STAGE</td>\n",
       "      <td>2019-05-15 13:54:09</td>\n",
       "    </tr>\n",
       "    <tr>\n",
       "      <th>33</th>\n",
       "      <td>Non-Piggable</td>\n",
       "      <td>24855</td>\n",
       "      <td>2011-11-16</td>\n",
       "      <td>2019-05-15 13:54:09</td>\n",
       "      <td>810008042</td>\n",
       "      <td>810008042</td>\n",
       "      <td>0000000137.0000</td>\n",
       "      <td>0.00</td>\n",
       "      <td>3.400</td>\n",
       "      <td>ATCO_IRASV5_STAGE</td>\n",
       "      <td>2019-05-15 13:54:09</td>\n",
       "    </tr>\n",
       "    <tr>\n",
       "      <th>34</th>\n",
       "      <td>Non-Piggable</td>\n",
       "      <td>24857</td>\n",
       "      <td>2011-11-16</td>\n",
       "      <td>2019-05-15 13:54:09</td>\n",
       "      <td>810008043</td>\n",
       "      <td>810008043</td>\n",
       "      <td>0000000138.0000</td>\n",
       "      <td>0.00</td>\n",
       "      <td>23.340</td>\n",
       "      <td>ATCO_IRASV5_STAGE</td>\n",
       "      <td>2019-05-15 13:54:09</td>\n",
       "    </tr>\n",
       "    <tr>\n",
       "      <th>35</th>\n",
       "      <td>Non-Piggable</td>\n",
       "      <td>24950</td>\n",
       "      <td>2011-11-16</td>\n",
       "      <td>2019-05-15 13:54:09</td>\n",
       "      <td>810008044</td>\n",
       "      <td>810008044</td>\n",
       "      <td>0000000139.0000</td>\n",
       "      <td>0.00</td>\n",
       "      <td>1.170</td>\n",
       "      <td>ATCO_IRASV5_STAGE</td>\n",
       "      <td>2019-05-15 13:54:09</td>\n",
       "    </tr>\n",
       "    <tr>\n",
       "      <th>36</th>\n",
       "      <td>Non-Piggable</td>\n",
       "      <td>24913</td>\n",
       "      <td>2011-11-16</td>\n",
       "      <td>2019-05-15 13:54:09</td>\n",
       "      <td>810008045</td>\n",
       "      <td>810008045</td>\n",
       "      <td>0000000014.0000</td>\n",
       "      <td>0.00</td>\n",
       "      <td>419.370</td>\n",
       "      <td>ATCO_IRASV5_STAGE</td>\n",
       "      <td>2019-05-15 13:54:09</td>\n",
       "    </tr>\n",
       "    <tr>\n",
       "      <th>37</th>\n",
       "      <td>Non-Piggable</td>\n",
       "      <td>9179</td>\n",
       "      <td>2011-11-16</td>\n",
       "      <td>2019-05-15 13:54:09</td>\n",
       "      <td>810008046</td>\n",
       "      <td>810008046</td>\n",
       "      <td>0000000017.0000</td>\n",
       "      <td>0.00</td>\n",
       "      <td>1780.290</td>\n",
       "      <td>ATCO_IRASV5_STAGE</td>\n",
       "      <td>2019-05-15 13:54:09</td>\n",
       "    </tr>\n",
       "    <tr>\n",
       "      <th>38</th>\n",
       "      <td>Non-Piggable</td>\n",
       "      <td>25893</td>\n",
       "      <td>2011-11-16</td>\n",
       "      <td>2019-05-15 13:54:09</td>\n",
       "      <td>810008047</td>\n",
       "      <td>810008047</td>\n",
       "      <td>0000000018.0000</td>\n",
       "      <td>0.00</td>\n",
       "      <td>693.850</td>\n",
       "      <td>ATCO_IRASV5_STAGE</td>\n",
       "      <td>2019-05-15 13:54:09</td>\n",
       "    </tr>\n",
       "    <tr>\n",
       "      <th>39</th>\n",
       "      <td>Non-Piggable</td>\n",
       "      <td>24897</td>\n",
       "      <td>2011-11-16</td>\n",
       "      <td>2019-05-15 13:54:09</td>\n",
       "      <td>810008048</td>\n",
       "      <td>810008048</td>\n",
       "      <td>0000000019.0000</td>\n",
       "      <td>0.00</td>\n",
       "      <td>829.980</td>\n",
       "      <td>ATCO_IRASV5_STAGE</td>\n",
       "      <td>2019-05-15 13:54:09</td>\n",
       "    </tr>\n",
       "    <tr>\n",
       "      <th>40</th>\n",
       "      <td>Non-Piggable</td>\n",
       "      <td>24909</td>\n",
       "      <td>2011-11-16</td>\n",
       "      <td>2019-05-15 13:54:09</td>\n",
       "      <td>810008049</td>\n",
       "      <td>810008049</td>\n",
       "      <td>0000000903.0000</td>\n",
       "      <td>0.00</td>\n",
       "      <td>1.900</td>\n",
       "      <td>ATCO_IRASV5_STAGE</td>\n",
       "      <td>2019-05-15 13:54:09</td>\n",
       "    </tr>\n",
       "    <tr>\n",
       "      <th>41</th>\n",
       "      <td>Non-Piggable</td>\n",
       "      <td>804258786</td>\n",
       "      <td>1997-01-01</td>\n",
       "      <td>2019-05-15 13:54:09</td>\n",
       "      <td>810008050</td>\n",
       "      <td>810008050</td>\n",
       "      <td>0000000904.0000</td>\n",
       "      <td>0.00</td>\n",
       "      <td>558.910</td>\n",
       "      <td>ATCO_IRASV5_STAGE</td>\n",
       "      <td>2019-05-15 13:54:09</td>\n",
       "    </tr>\n",
       "    <tr>\n",
       "      <th>42</th>\n",
       "      <td>Non-Piggable</td>\n",
       "      <td>9913</td>\n",
       "      <td>2011-11-16</td>\n",
       "      <td>2019-05-15 13:54:09</td>\n",
       "      <td>810008051</td>\n",
       "      <td>810008051</td>\n",
       "      <td>0000005011.0000</td>\n",
       "      <td>0.00</td>\n",
       "      <td>11442.550</td>\n",
       "      <td>ATCO_IRASV5_STAGE</td>\n",
       "      <td>2019-05-15 13:54:09</td>\n",
       "    </tr>\n",
       "    <tr>\n",
       "      <th>43</th>\n",
       "      <td>Non-Piggable</td>\n",
       "      <td>20529</td>\n",
       "      <td>2011-11-16</td>\n",
       "      <td>2019-05-15 13:54:09</td>\n",
       "      <td>810008052</td>\n",
       "      <td>810008052</td>\n",
       "      <td>0000050110.0000</td>\n",
       "      <td>0.00</td>\n",
       "      <td>1.000</td>\n",
       "      <td>ATCO_IRASV5_STAGE</td>\n",
       "      <td>2019-05-15 13:54:10</td>\n",
       "    </tr>\n",
       "    <tr>\n",
       "      <th>44</th>\n",
       "      <td>Non-Piggable</td>\n",
       "      <td>20539</td>\n",
       "      <td>2011-11-16</td>\n",
       "      <td>2019-05-15 13:54:09</td>\n",
       "      <td>810008053</td>\n",
       "      <td>810008053</td>\n",
       "      <td>0000050111.0000</td>\n",
       "      <td>0.00</td>\n",
       "      <td>1.000</td>\n",
       "      <td>ATCO_IRASV5_STAGE</td>\n",
       "      <td>2019-05-15 13:54:10</td>\n",
       "    </tr>\n",
       "    <tr>\n",
       "      <th>45</th>\n",
       "      <td>Non-Piggable</td>\n",
       "      <td>17153</td>\n",
       "      <td>2011-11-16</td>\n",
       "      <td>2019-05-15 13:54:09</td>\n",
       "      <td>810008054</td>\n",
       "      <td>810008054</td>\n",
       "      <td>0000005012.0000</td>\n",
       "      <td>0.00</td>\n",
       "      <td>1268.950</td>\n",
       "      <td>ATCO_IRASV5_STAGE</td>\n",
       "      <td>2019-05-15 13:54:09</td>\n",
       "    </tr>\n",
       "    <tr>\n",
       "      <th>46</th>\n",
       "      <td>Non-Piggable</td>\n",
       "      <td>20537</td>\n",
       "      <td>2011-11-16</td>\n",
       "      <td>2019-05-15 13:54:09</td>\n",
       "      <td>810008055</td>\n",
       "      <td>810008055</td>\n",
       "      <td>0000005013.0000</td>\n",
       "      <td>0.00</td>\n",
       "      <td>1.000</td>\n",
       "      <td>ATCO_IRASV5_STAGE</td>\n",
       "      <td>2019-05-15 13:54:10</td>\n",
       "    </tr>\n",
       "    <tr>\n",
       "      <th>47</th>\n",
       "      <td>Non-Piggable</td>\n",
       "      <td>20523</td>\n",
       "      <td>2011-11-16</td>\n",
       "      <td>2019-05-15 13:54:09</td>\n",
       "      <td>810008056</td>\n",
       "      <td>810008056</td>\n",
       "      <td>0000005014.0000</td>\n",
       "      <td>0.00</td>\n",
       "      <td>2.000</td>\n",
       "      <td>ATCO_IRASV5_STAGE</td>\n",
       "      <td>2019-05-15 13:54:10</td>\n",
       "    </tr>\n",
       "    <tr>\n",
       "      <th>48</th>\n",
       "      <td>Non-Piggable</td>\n",
       "      <td>20527</td>\n",
       "      <td>2011-11-16</td>\n",
       "      <td>2019-05-15 13:54:09</td>\n",
       "      <td>810008057</td>\n",
       "      <td>810008057</td>\n",
       "      <td>0000005015.0000</td>\n",
       "      <td>0.00</td>\n",
       "      <td>1.000</td>\n",
       "      <td>ATCO_IRASV5_STAGE</td>\n",
       "      <td>2019-05-15 13:54:10</td>\n",
       "    </tr>\n",
       "    <tr>\n",
       "      <th>49</th>\n",
       "      <td>Non-Piggable</td>\n",
       "      <td>20531</td>\n",
       "      <td>2011-11-16</td>\n",
       "      <td>2019-05-15 13:54:09</td>\n",
       "      <td>810008058</td>\n",
       "      <td>810008058</td>\n",
       "      <td>0000005016.0000</td>\n",
       "      <td>0.00</td>\n",
       "      <td>1.000</td>\n",
       "      <td>ATCO_IRASV5_STAGE</td>\n",
       "      <td>2019-05-15 13:54:10</td>\n",
       "    </tr>\n",
       "    <tr>\n",
       "      <th>...</th>\n",
       "      <td>...</td>\n",
       "      <td>...</td>\n",
       "      <td>...</td>\n",
       "      <td>...</td>\n",
       "      <td>...</td>\n",
       "      <td>...</td>\n",
       "      <td>...</td>\n",
       "      <td>...</td>\n",
       "      <td>...</td>\n",
       "      <td>...</td>\n",
       "      <td>...</td>\n",
       "    </tr>\n",
       "    <tr>\n",
       "      <th>14196</th>\n",
       "      <td>Non-Piggable</td>\n",
       "      <td>810039803</td>\n",
       "      <td>2019-10-25</td>\n",
       "      <td>NaT</td>\n",
       "      <td>810037337</td>\n",
       "      <td>810037337</td>\n",
       "      <td>0000000168.0000</td>\n",
       "      <td>0.00</td>\n",
       "      <td>1733.570</td>\n",
       "      <td>ATCO_IRASV5_STAGE</td>\n",
       "      <td>2019-10-28 10:44:12</td>\n",
       "    </tr>\n",
       "    <tr>\n",
       "      <th>14197</th>\n",
       "      <td>Non-Piggable</td>\n",
       "      <td>810042961</td>\n",
       "      <td>2019-10-25</td>\n",
       "      <td>NaT</td>\n",
       "      <td>810037338</td>\n",
       "      <td>810037338</td>\n",
       "      <td>0000000017.0000</td>\n",
       "      <td>0.00</td>\n",
       "      <td>1780.290</td>\n",
       "      <td>ATCO_IRASV5_STAGE</td>\n",
       "      <td>2019-10-28 10:44:13</td>\n",
       "    </tr>\n",
       "    <tr>\n",
       "      <th>14198</th>\n",
       "      <td>Non-Piggable</td>\n",
       "      <td>810039966</td>\n",
       "      <td>2019-10-25</td>\n",
       "      <td>NaT</td>\n",
       "      <td>810037339</td>\n",
       "      <td>810037339</td>\n",
       "      <td>0000000727.0000</td>\n",
       "      <td>0.00</td>\n",
       "      <td>1337.740</td>\n",
       "      <td>ATCO_IRASV5_STAGE</td>\n",
       "      <td>2019-10-28 10:44:13</td>\n",
       "    </tr>\n",
       "    <tr>\n",
       "      <th>14199</th>\n",
       "      <td>Non-Piggable</td>\n",
       "      <td>810044312</td>\n",
       "      <td>2019-10-25</td>\n",
       "      <td>NaT</td>\n",
       "      <td>810037340</td>\n",
       "      <td>810037340</td>\n",
       "      <td>0000029109.0000</td>\n",
       "      <td>0.00</td>\n",
       "      <td>159.140</td>\n",
       "      <td>ATCO_IRASV5_STAGE</td>\n",
       "      <td>2019-10-28 10:44:13</td>\n",
       "    </tr>\n",
       "    <tr>\n",
       "      <th>14200</th>\n",
       "      <td>Non-Piggable</td>\n",
       "      <td>810043959</td>\n",
       "      <td>2019-10-25</td>\n",
       "      <td>NaT</td>\n",
       "      <td>810037341</td>\n",
       "      <td>810037341</td>\n",
       "      <td>0000005371.0000</td>\n",
       "      <td>0.00</td>\n",
       "      <td>1443.320</td>\n",
       "      <td>ATCO_IRASV5_STAGE</td>\n",
       "      <td>2019-10-28 10:44:13</td>\n",
       "    </tr>\n",
       "    <tr>\n",
       "      <th>14201</th>\n",
       "      <td>Non-Piggable</td>\n",
       "      <td>810041533</td>\n",
       "      <td>2019-10-25</td>\n",
       "      <td>NaT</td>\n",
       "      <td>810037342</td>\n",
       "      <td>810037342</td>\n",
       "      <td>0000006411.0000</td>\n",
       "      <td>0.00</td>\n",
       "      <td>890.500</td>\n",
       "      <td>ATCO_IRASV5_STAGE</td>\n",
       "      <td>2019-10-28 10:44:13</td>\n",
       "    </tr>\n",
       "    <tr>\n",
       "      <th>14202</th>\n",
       "      <td>Non-Piggable</td>\n",
       "      <td>810043651</td>\n",
       "      <td>2019-10-25</td>\n",
       "      <td>NaT</td>\n",
       "      <td>810037343</td>\n",
       "      <td>810037343</td>\n",
       "      <td>0000007310.0000</td>\n",
       "      <td>0.00</td>\n",
       "      <td>3614.830</td>\n",
       "      <td>ATCO_IRASV5_STAGE</td>\n",
       "      <td>2019-10-28 10:44:13</td>\n",
       "    </tr>\n",
       "    <tr>\n",
       "      <th>14203</th>\n",
       "      <td>Non-Piggable</td>\n",
       "      <td>810042470</td>\n",
       "      <td>2019-10-25</td>\n",
       "      <td>NaT</td>\n",
       "      <td>810037344</td>\n",
       "      <td>810037344</td>\n",
       "      <td>0000000419.0000</td>\n",
       "      <td>0.00</td>\n",
       "      <td>6812.200</td>\n",
       "      <td>ATCO_IRASV5_STAGE</td>\n",
       "      <td>2019-10-28 10:44:13</td>\n",
       "    </tr>\n",
       "    <tr>\n",
       "      <th>14204</th>\n",
       "      <td>Non-Piggable</td>\n",
       "      <td>810040314</td>\n",
       "      <td>2019-10-25</td>\n",
       "      <td>NaT</td>\n",
       "      <td>810037345</td>\n",
       "      <td>810037345</td>\n",
       "      <td>0000000344.0000</td>\n",
       "      <td>0.00</td>\n",
       "      <td>3447.410</td>\n",
       "      <td>ATCO_IRASV5_STAGE</td>\n",
       "      <td>2019-10-28 10:44:13</td>\n",
       "    </tr>\n",
       "    <tr>\n",
       "      <th>14205</th>\n",
       "      <td>Non-Piggable</td>\n",
       "      <td>810042017</td>\n",
       "      <td>2019-10-25</td>\n",
       "      <td>NaT</td>\n",
       "      <td>810037346</td>\n",
       "      <td>810037346</td>\n",
       "      <td>0000000032.0000</td>\n",
       "      <td>0.00</td>\n",
       "      <td>988.270</td>\n",
       "      <td>ATCO_IRASV5_STAGE</td>\n",
       "      <td>2019-10-28 10:44:13</td>\n",
       "    </tr>\n",
       "    <tr>\n",
       "      <th>14206</th>\n",
       "      <td>Non-Piggable</td>\n",
       "      <td>810038750</td>\n",
       "      <td>2019-10-25</td>\n",
       "      <td>NaT</td>\n",
       "      <td>810037347</td>\n",
       "      <td>810037347</td>\n",
       "      <td>0000002932.0000</td>\n",
       "      <td>0.00</td>\n",
       "      <td>3266.360</td>\n",
       "      <td>ATCO_IRASV5_STAGE</td>\n",
       "      <td>2019-10-28 10:44:12</td>\n",
       "    </tr>\n",
       "    <tr>\n",
       "      <th>14207</th>\n",
       "      <td>Non-Piggable</td>\n",
       "      <td>810044515</td>\n",
       "      <td>2019-10-25</td>\n",
       "      <td>NaT</td>\n",
       "      <td>810037348</td>\n",
       "      <td>810037348</td>\n",
       "      <td>0000000494.0000</td>\n",
       "      <td>0.00</td>\n",
       "      <td>812.340</td>\n",
       "      <td>ATCO_IRASV5_STAGE</td>\n",
       "      <td>2019-10-28 10:44:13</td>\n",
       "    </tr>\n",
       "    <tr>\n",
       "      <th>14208</th>\n",
       "      <td>Non-Piggable</td>\n",
       "      <td>810038375</td>\n",
       "      <td>2019-10-25</td>\n",
       "      <td>NaT</td>\n",
       "      <td>810037349</td>\n",
       "      <td>810037349</td>\n",
       "      <td>0000011518.0000</td>\n",
       "      <td>0.00</td>\n",
       "      <td>443.130</td>\n",
       "      <td>ATCO_IRASV5_STAGE</td>\n",
       "      <td>2019-10-28 10:44:12</td>\n",
       "    </tr>\n",
       "    <tr>\n",
       "      <th>14209</th>\n",
       "      <td>Non-Piggable</td>\n",
       "      <td>810038962</td>\n",
       "      <td>2019-10-25</td>\n",
       "      <td>NaT</td>\n",
       "      <td>810037350</td>\n",
       "      <td>810037350</td>\n",
       "      <td>0000000308.0000</td>\n",
       "      <td>0.00</td>\n",
       "      <td>2596.430</td>\n",
       "      <td>ATCO_IRASV5_STAGE</td>\n",
       "      <td>2019-10-28 10:44:12</td>\n",
       "    </tr>\n",
       "    <tr>\n",
       "      <th>14210</th>\n",
       "      <td>Non-Piggable</td>\n",
       "      <td>810041730</td>\n",
       "      <td>2019-10-25</td>\n",
       "      <td>NaT</td>\n",
       "      <td>810037351</td>\n",
       "      <td>810037351</td>\n",
       "      <td>0000079513.0000</td>\n",
       "      <td>0.00</td>\n",
       "      <td>523.870</td>\n",
       "      <td>ATCO_IRASV5_STAGE</td>\n",
       "      <td>2019-10-28 10:44:13</td>\n",
       "    </tr>\n",
       "    <tr>\n",
       "      <th>14211</th>\n",
       "      <td>Non-Piggable</td>\n",
       "      <td>810040553</td>\n",
       "      <td>2019-10-25</td>\n",
       "      <td>NaT</td>\n",
       "      <td>810037352</td>\n",
       "      <td>810037352</td>\n",
       "      <td>0000007201.0000</td>\n",
       "      <td>0.00</td>\n",
       "      <td>1055.720</td>\n",
       "      <td>ATCO_IRASV5_STAGE</td>\n",
       "      <td>2019-10-28 10:44:13</td>\n",
       "    </tr>\n",
       "    <tr>\n",
       "      <th>14212</th>\n",
       "      <td>Non-Piggable</td>\n",
       "      <td>810039228</td>\n",
       "      <td>2019-10-25</td>\n",
       "      <td>NaT</td>\n",
       "      <td>810037353</td>\n",
       "      <td>810037353</td>\n",
       "      <td>0000007211.0000</td>\n",
       "      <td>0.00</td>\n",
       "      <td>23332.130</td>\n",
       "      <td>ATCO_IRASV5_STAGE</td>\n",
       "      <td>2019-10-28 10:44:12</td>\n",
       "    </tr>\n",
       "    <tr>\n",
       "      <th>14213</th>\n",
       "      <td>Non-Piggable</td>\n",
       "      <td>810041392</td>\n",
       "      <td>2019-10-25</td>\n",
       "      <td>NaT</td>\n",
       "      <td>810037354</td>\n",
       "      <td>810037354</td>\n",
       "      <td>0000005011.0000</td>\n",
       "      <td>0.00</td>\n",
       "      <td>11442.550</td>\n",
       "      <td>ATCO_IRASV5_STAGE</td>\n",
       "      <td>2019-10-28 10:44:13</td>\n",
       "    </tr>\n",
       "    <tr>\n",
       "      <th>14214</th>\n",
       "      <td>Non-Piggable</td>\n",
       "      <td>810042620</td>\n",
       "      <td>2019-10-25</td>\n",
       "      <td>NaT</td>\n",
       "      <td>810037355</td>\n",
       "      <td>810037355</td>\n",
       "      <td>0000007091.0000</td>\n",
       "      <td>0.00</td>\n",
       "      <td>7253.810</td>\n",
       "      <td>ATCO_IRASV5_STAGE</td>\n",
       "      <td>2019-10-28 10:44:13</td>\n",
       "    </tr>\n",
       "    <tr>\n",
       "      <th>14215</th>\n",
       "      <td>Non-Piggable</td>\n",
       "      <td>810041403</td>\n",
       "      <td>2019-10-25</td>\n",
       "      <td>NaT</td>\n",
       "      <td>810037356</td>\n",
       "      <td>810037356</td>\n",
       "      <td>0000007401.0000</td>\n",
       "      <td>0.00</td>\n",
       "      <td>4151.800</td>\n",
       "      <td>ATCO_IRASV5_STAGE</td>\n",
       "      <td>2019-10-28 10:44:13</td>\n",
       "    </tr>\n",
       "    <tr>\n",
       "      <th>14216</th>\n",
       "      <td>Non-Piggable</td>\n",
       "      <td>810042134</td>\n",
       "      <td>2019-10-25</td>\n",
       "      <td>NaT</td>\n",
       "      <td>810037357</td>\n",
       "      <td>810037357</td>\n",
       "      <td>0000007181.0000</td>\n",
       "      <td>0.00</td>\n",
       "      <td>10677.960</td>\n",
       "      <td>ATCO_IRASV5_STAGE</td>\n",
       "      <td>2019-10-28 10:44:13</td>\n",
       "    </tr>\n",
       "    <tr>\n",
       "      <th>14217</th>\n",
       "      <td>Non-Piggable</td>\n",
       "      <td>810038459</td>\n",
       "      <td>2019-10-25</td>\n",
       "      <td>NaT</td>\n",
       "      <td>810037375</td>\n",
       "      <td>810037375</td>\n",
       "      <td>0000943802.0000</td>\n",
       "      <td>1.00</td>\n",
       "      <td>192.900</td>\n",
       "      <td>ATCO_IRASV5_STAGE</td>\n",
       "      <td>2019-10-28 10:44:12</td>\n",
       "    </tr>\n",
       "    <tr>\n",
       "      <th>14218</th>\n",
       "      <td>Non-Piggable</td>\n",
       "      <td>810040518</td>\n",
       "      <td>2019-10-25</td>\n",
       "      <td>NaT</td>\n",
       "      <td>810037376</td>\n",
       "      <td>810037376</td>\n",
       "      <td>0000943803.0000</td>\n",
       "      <td>0.00</td>\n",
       "      <td>131.290</td>\n",
       "      <td>ATCO_IRASV5_STAGE</td>\n",
       "      <td>2019-10-28 10:44:13</td>\n",
       "    </tr>\n",
       "    <tr>\n",
       "      <th>14219</th>\n",
       "      <td>Non-Piggable</td>\n",
       "      <td>810037752</td>\n",
       "      <td>2019-10-25</td>\n",
       "      <td>NaT</td>\n",
       "      <td>810037377</td>\n",
       "      <td>810037377</td>\n",
       "      <td>0000943804.0000</td>\n",
       "      <td>0.00</td>\n",
       "      <td>34.040</td>\n",
       "      <td>ATCO_IRASV5_STAGE</td>\n",
       "      <td>2019-10-28 10:44:12</td>\n",
       "    </tr>\n",
       "    <tr>\n",
       "      <th>14220</th>\n",
       "      <td>Non-Piggable</td>\n",
       "      <td>810042728</td>\n",
       "      <td>2019-10-25</td>\n",
       "      <td>NaT</td>\n",
       "      <td>810037378</td>\n",
       "      <td>810037378</td>\n",
       "      <td>0009438012.0000</td>\n",
       "      <td>0.70</td>\n",
       "      <td>1.000</td>\n",
       "      <td>ATCO_IRASV5_STAGE</td>\n",
       "      <td>2019-10-28 10:44:13</td>\n",
       "    </tr>\n",
       "    <tr>\n",
       "      <th>14221</th>\n",
       "      <td>Non-Piggable</td>\n",
       "      <td>810038465</td>\n",
       "      <td>2019-10-25</td>\n",
       "      <td>NaT</td>\n",
       "      <td>810037379</td>\n",
       "      <td>810037379</td>\n",
       "      <td>0000080112.0000</td>\n",
       "      <td>0.00</td>\n",
       "      <td>53.100</td>\n",
       "      <td>ATCO_IRASV5_STAGE</td>\n",
       "      <td>2019-10-28 10:44:12</td>\n",
       "    </tr>\n",
       "    <tr>\n",
       "      <th>14222</th>\n",
       "      <td>Non-Piggable</td>\n",
       "      <td>810042065</td>\n",
       "      <td>2019-10-25</td>\n",
       "      <td>NaT</td>\n",
       "      <td>810037380</td>\n",
       "      <td>810037380</td>\n",
       "      <td>0000055812.0000</td>\n",
       "      <td>0.00</td>\n",
       "      <td>8.600</td>\n",
       "      <td>ATCO_IRASV5_STAGE</td>\n",
       "      <td>2019-10-28 10:44:13</td>\n",
       "    </tr>\n",
       "    <tr>\n",
       "      <th>14223</th>\n",
       "      <td>Non-Piggable</td>\n",
       "      <td>810044196</td>\n",
       "      <td>2019-10-25</td>\n",
       "      <td>NaT</td>\n",
       "      <td>810037381</td>\n",
       "      <td>810037381</td>\n",
       "      <td>0000110101.0000</td>\n",
       "      <td>0.00</td>\n",
       "      <td>32.600</td>\n",
       "      <td>ATCO_IRASV5_STAGE</td>\n",
       "      <td>2019-10-28 10:44:13</td>\n",
       "    </tr>\n",
       "    <tr>\n",
       "      <th>14224</th>\n",
       "      <td>Non-Piggable</td>\n",
       "      <td>810037815</td>\n",
       "      <td>2019-10-25</td>\n",
       "      <td>NaT</td>\n",
       "      <td>810037382</td>\n",
       "      <td>810037382</td>\n",
       "      <td>0000794100.0000</td>\n",
       "      <td>0.00</td>\n",
       "      <td>9.500</td>\n",
       "      <td>ATCO_IRASV5_STAGE</td>\n",
       "      <td>2019-10-28 10:44:12</td>\n",
       "    </tr>\n",
       "    <tr>\n",
       "      <th>14225</th>\n",
       "      <td>Non-Piggable</td>\n",
       "      <td>810042652</td>\n",
       "      <td>2019-10-25</td>\n",
       "      <td>NaT</td>\n",
       "      <td>810037383</td>\n",
       "      <td>810037383</td>\n",
       "      <td>0000003701.0000</td>\n",
       "      <td>0.00</td>\n",
       "      <td>21.100</td>\n",
       "      <td>ATCO_IRASV5_STAGE</td>\n",
       "      <td>2019-10-28 10:44:13</td>\n",
       "    </tr>\n",
       "    <tr>\n",
       "      <th>14226</th>\n",
       "      <td>Non-Piggable</td>\n",
       "      <td>810043645</td>\n",
       "      <td>2019-10-25</td>\n",
       "      <td>NaT</td>\n",
       "      <td>810037384</td>\n",
       "      <td>810037384</td>\n",
       "      <td>0000794101.0000</td>\n",
       "      <td>0.00</td>\n",
       "      <td>20.100</td>\n",
       "      <td>ATCO_IRASV5_STAGE</td>\n",
       "      <td>2019-10-28 10:44:13</td>\n",
       "    </tr>\n",
       "    <tr>\n",
       "      <th>14227</th>\n",
       "      <td>Non-Piggable</td>\n",
       "      <td>810043670</td>\n",
       "      <td>2019-10-25</td>\n",
       "      <td>NaT</td>\n",
       "      <td>810037385</td>\n",
       "      <td>810037385</td>\n",
       "      <td>0000068761.0000</td>\n",
       "      <td>12968.50</td>\n",
       "      <td>15281.600</td>\n",
       "      <td>ATCO_IRASV5_STAGE</td>\n",
       "      <td>2019-10-28 10:44:13</td>\n",
       "    </tr>\n",
       "    <tr>\n",
       "      <th>14228</th>\n",
       "      <td>Non-Piggable</td>\n",
       "      <td>810039411</td>\n",
       "      <td>2019-10-25</td>\n",
       "      <td>NaT</td>\n",
       "      <td>810037386</td>\n",
       "      <td>810037386</td>\n",
       "      <td>0000068762.0000</td>\n",
       "      <td>0.00</td>\n",
       "      <td>11.000</td>\n",
       "      <td>ATCO_IRASV5_STAGE</td>\n",
       "      <td>2019-10-28 10:44:12</td>\n",
       "    </tr>\n",
       "    <tr>\n",
       "      <th>14229</th>\n",
       "      <td>Non-Piggable</td>\n",
       "      <td>810037770</td>\n",
       "      <td>2019-10-25</td>\n",
       "      <td>NaT</td>\n",
       "      <td>810037387</td>\n",
       "      <td>810037387</td>\n",
       "      <td>0000727140.0000</td>\n",
       "      <td>2223.10</td>\n",
       "      <td>4308.080</td>\n",
       "      <td>ATCO_IRASV5_STAGE</td>\n",
       "      <td>2019-10-28 10:44:12</td>\n",
       "    </tr>\n",
       "    <tr>\n",
       "      <th>14230</th>\n",
       "      <td>Non-Piggable</td>\n",
       "      <td>810042539</td>\n",
       "      <td>2019-10-25</td>\n",
       "      <td>NaT</td>\n",
       "      <td>810037388</td>\n",
       "      <td>810037388</td>\n",
       "      <td>0000003801.0000</td>\n",
       "      <td>0.00</td>\n",
       "      <td>4869.900</td>\n",
       "      <td>ATCO_IRASV5_STAGE</td>\n",
       "      <td>2019-10-28 10:44:13</td>\n",
       "    </tr>\n",
       "    <tr>\n",
       "      <th>14231</th>\n",
       "      <td>Non-Piggable</td>\n",
       "      <td>810044617</td>\n",
       "      <td>2019-10-25</td>\n",
       "      <td>NaT</td>\n",
       "      <td>810044609</td>\n",
       "      <td>810044609</td>\n",
       "      <td>0000001202.0000</td>\n",
       "      <td>0.00</td>\n",
       "      <td>17.950</td>\n",
       "      <td>ATCO_IRASV5_STAGE</td>\n",
       "      <td>2019-10-28 10:44:13</td>\n",
       "    </tr>\n",
       "    <tr>\n",
       "      <th>14232</th>\n",
       "      <td>Non-Piggable</td>\n",
       "      <td>810044622</td>\n",
       "      <td>2019-10-25</td>\n",
       "      <td>NaT</td>\n",
       "      <td>810044610</td>\n",
       "      <td>810044610</td>\n",
       "      <td>0000050928.0000</td>\n",
       "      <td>18.63</td>\n",
       "      <td>37.260</td>\n",
       "      <td>ATCO_IRASV5_STAGE</td>\n",
       "      <td>2019-10-28 10:44:13</td>\n",
       "    </tr>\n",
       "    <tr>\n",
       "      <th>14233</th>\n",
       "      <td>Non-Piggable</td>\n",
       "      <td>810044620</td>\n",
       "      <td>2019-10-25</td>\n",
       "      <td>NaT</td>\n",
       "      <td>810044611</td>\n",
       "      <td>810044611</td>\n",
       "      <td>0000012055.0000</td>\n",
       "      <td>0.00</td>\n",
       "      <td>9.700</td>\n",
       "      <td>ATCO_IRASV5_STAGE</td>\n",
       "      <td>2019-10-28 10:44:13</td>\n",
       "    </tr>\n",
       "    <tr>\n",
       "      <th>14234</th>\n",
       "      <td>Non-Piggable</td>\n",
       "      <td>810044619</td>\n",
       "      <td>2019-10-25</td>\n",
       "      <td>NaT</td>\n",
       "      <td>810044612</td>\n",
       "      <td>810044612</td>\n",
       "      <td>0000001203.0000</td>\n",
       "      <td>0.00</td>\n",
       "      <td>0.700</td>\n",
       "      <td>ATCO_IRASV5_STAGE</td>\n",
       "      <td>2019-10-28 10:44:13</td>\n",
       "    </tr>\n",
       "    <tr>\n",
       "      <th>14235</th>\n",
       "      <td>Non-Piggable</td>\n",
       "      <td>810044623</td>\n",
       "      <td>2019-10-25</td>\n",
       "      <td>NaT</td>\n",
       "      <td>810044613</td>\n",
       "      <td>810044613</td>\n",
       "      <td>0000001204.0000</td>\n",
       "      <td>0.00</td>\n",
       "      <td>16.360</td>\n",
       "      <td>ATCO_IRASV5_STAGE</td>\n",
       "      <td>2019-10-28 10:44:13</td>\n",
       "    </tr>\n",
       "    <tr>\n",
       "      <th>14236</th>\n",
       "      <td>Non-Piggable</td>\n",
       "      <td>810044616</td>\n",
       "      <td>2019-10-25</td>\n",
       "      <td>NaT</td>\n",
       "      <td>810044614</td>\n",
       "      <td>810044614</td>\n",
       "      <td>0000108121.0000</td>\n",
       "      <td>12367.16</td>\n",
       "      <td>13269.180</td>\n",
       "      <td>ATCO_IRASV5_STAGE</td>\n",
       "      <td>2019-10-28 10:44:13</td>\n",
       "    </tr>\n",
       "    <tr>\n",
       "      <th>14237</th>\n",
       "      <td>Non-Piggable</td>\n",
       "      <td>810044668</td>\n",
       "      <td>2019-10-25</td>\n",
       "      <td>NaT</td>\n",
       "      <td>810044651</td>\n",
       "      <td>810044651</td>\n",
       "      <td>0000068032.0000</td>\n",
       "      <td>0.00</td>\n",
       "      <td>9.382</td>\n",
       "      <td>ATCO_IRASV5_STAGE</td>\n",
       "      <td>2019-10-28 10:44:13</td>\n",
       "    </tr>\n",
       "    <tr>\n",
       "      <th>14238</th>\n",
       "      <td>Non-Piggable</td>\n",
       "      <td>810044671</td>\n",
       "      <td>2019-10-25</td>\n",
       "      <td>NaT</td>\n",
       "      <td>810044654</td>\n",
       "      <td>810044654</td>\n",
       "      <td>0000068033.0000</td>\n",
       "      <td>0.00</td>\n",
       "      <td>4.207</td>\n",
       "      <td>ATCO_IRASV5_STAGE</td>\n",
       "      <td>2019-10-28 10:44:13</td>\n",
       "    </tr>\n",
       "    <tr>\n",
       "      <th>14239</th>\n",
       "      <td>Non-Piggable</td>\n",
       "      <td>810044662</td>\n",
       "      <td>2019-10-25</td>\n",
       "      <td>NaT</td>\n",
       "      <td>810044661</td>\n",
       "      <td>810044661</td>\n",
       "      <td>0000131391.0000</td>\n",
       "      <td>580.50</td>\n",
       "      <td>586.700</td>\n",
       "      <td>ATCO_IRASV5_STAGE</td>\n",
       "      <td>2019-10-28 10:44:13</td>\n",
       "    </tr>\n",
       "    <tr>\n",
       "      <th>14240</th>\n",
       "      <td>Non-Piggable</td>\n",
       "      <td>810044711</td>\n",
       "      <td>2019-10-25</td>\n",
       "      <td>NaT</td>\n",
       "      <td>810044677</td>\n",
       "      <td>810044677</td>\n",
       "      <td>0000003809.0000</td>\n",
       "      <td>0.00</td>\n",
       "      <td>15.700</td>\n",
       "      <td>ATCO_IRASV5_STAGE</td>\n",
       "      <td>2019-10-28 10:44:12</td>\n",
       "    </tr>\n",
       "    <tr>\n",
       "      <th>14241</th>\n",
       "      <td>Non-Piggable</td>\n",
       "      <td>810044717</td>\n",
       "      <td>2019-10-25</td>\n",
       "      <td>NaT</td>\n",
       "      <td>810044682</td>\n",
       "      <td>810044682</td>\n",
       "      <td>0000000009.0000</td>\n",
       "      <td>0.00</td>\n",
       "      <td>6.904</td>\n",
       "      <td>ATCO_IRASV5_STAGE</td>\n",
       "      <td>2019-10-28 10:44:12</td>\n",
       "    </tr>\n",
       "    <tr>\n",
       "      <th>14242</th>\n",
       "      <td>Non-Piggable</td>\n",
       "      <td>810044703</td>\n",
       "      <td>2019-10-25</td>\n",
       "      <td>NaT</td>\n",
       "      <td>810044684</td>\n",
       "      <td>810044684</td>\n",
       "      <td>0000003807.0000</td>\n",
       "      <td>0.00</td>\n",
       "      <td>43.698</td>\n",
       "      <td>ATCO_IRASV5_STAGE</td>\n",
       "      <td>2019-10-28 10:44:12</td>\n",
       "    </tr>\n",
       "    <tr>\n",
       "      <th>14243</th>\n",
       "      <td>Non-Piggable</td>\n",
       "      <td>810044704</td>\n",
       "      <td>2019-10-25</td>\n",
       "      <td>NaT</td>\n",
       "      <td>810044688</td>\n",
       "      <td>810044688</td>\n",
       "      <td>0000000010.0000</td>\n",
       "      <td>0.00</td>\n",
       "      <td>2.405</td>\n",
       "      <td>ATCO_IRASV5_STAGE</td>\n",
       "      <td>2019-10-28 10:44:12</td>\n",
       "    </tr>\n",
       "    <tr>\n",
       "      <th>14244</th>\n",
       "      <td>Non-Piggable</td>\n",
       "      <td>810044715</td>\n",
       "      <td>2019-10-25</td>\n",
       "      <td>NaT</td>\n",
       "      <td>810044697</td>\n",
       "      <td>810044697</td>\n",
       "      <td>0000000011.0000</td>\n",
       "      <td>0.00</td>\n",
       "      <td>4.454</td>\n",
       "      <td>ATCO_IRASV5_STAGE</td>\n",
       "      <td>2019-10-28 10:44:12</td>\n",
       "    </tr>\n",
       "    <tr>\n",
       "      <th>14245</th>\n",
       "      <td>Non-Piggable</td>\n",
       "      <td>810044706</td>\n",
       "      <td>2019-10-25</td>\n",
       "      <td>NaT</td>\n",
       "      <td>810044699</td>\n",
       "      <td>810044699</td>\n",
       "      <td>0000000012.0000</td>\n",
       "      <td>0.00</td>\n",
       "      <td>6.000</td>\n",
       "      <td>ATCO_IRASV5_STAGE</td>\n",
       "      <td>2019-10-28 10:44:12</td>\n",
       "    </tr>\n",
       "  </tbody>\n",
       "</table>\n",
       "<p>14246 rows × 11 columns</p>\n",
       "</div>"
      ],
      "text/plain": [
       "               TYPE         ID EFFECTIVESTARTDATE    EFFECTIVEENDDATE  LINELOOPID  DISCHARGESUBSYSTEMID SERIESVALUENUMBER  BEGINSTATIONNUM  ENDSTATIONNUM    LASTMODBYUSERID     LASTMODDATETIME\n",
       "0      Non-Piggable      23971         2011-11-16 2019-05-15 13:54:09   810008008             810008008   0000007652.0000             0.00          1.000  ATCO_IRASV5_STAGE 2019-05-15 13:54:10\n",
       "1      Non-Piggable      21953         2011-11-16 2019-05-15 13:54:09   810008009             810008009   0000007653.0000             0.00          1.000  ATCO_IRASV5_STAGE 2019-05-15 13:54:10\n",
       "2          Piggable       7138         2011-11-16 2019-05-15 13:54:09   810008010             810008010   0076501000.0000             0.00      19759.740  ATCO_IRASV5_STAGE 2019-05-15 13:54:09\n",
       "3      Non-Piggable      18895         2011-11-16 2019-05-15 13:54:09   810008011             810008011   0000021941.0000             0.00          6.680  ATCO_IRASV5_STAGE 2019-05-15 13:54:10\n",
       "4      Non-Piggable  804283658         1997-01-01 2019-05-15 13:54:09   810008012             810008012   0000011232.0000          1090.77       1190.600  ATCO_IRASV5_STAGE 2019-05-15 13:54:09\n",
       "5      Non-Piggable  804306293         2011-11-16 2019-05-15 13:54:09   810008013             810008013   0000000141.0000          6895.90       7634.710  ATCO_IRASV5_STAGE 2019-05-15 13:54:09\n",
       "6      Non-Piggable      24917         2011-11-16 2019-05-15 13:54:09   810008015             810008015   0000000111.0000             0.00          8.090  ATCO_IRASV5_STAGE 2019-05-15 13:54:09\n",
       "7      Non-Piggable      24945         2011-11-16 2019-05-15 13:54:09   810008016             810008016   0000000112.0000             0.00          1.360  ATCO_IRASV5_STAGE 2019-05-15 13:54:09\n",
       "8      Non-Piggable      24948         2011-11-16 2019-05-15 13:54:09   810008017             810008017   0000000113.0000             0.00          1.010  ATCO_IRASV5_STAGE 2019-05-15 13:54:09\n",
       "9      Non-Piggable      24941         2011-11-16 2019-05-15 13:54:09   810008018             810008018   0000000114.0000             0.00         16.280  ATCO_IRASV5_STAGE 2019-05-15 13:54:09\n",
       "10     Non-Piggable      24952         2011-11-16 2019-05-15 13:54:09   810008019             810008019   0000000115.0000             0.00          0.990  ATCO_IRASV5_STAGE 2019-05-15 13:54:09\n",
       "11     Non-Piggable      24919         2011-11-16 2019-05-15 13:54:09   810008020             810008020   0000000116.0000             0.00          4.670  ATCO_IRASV5_STAGE 2019-05-15 13:54:09\n",
       "12     Non-Piggable      24915         2011-11-16 2019-05-15 13:54:09   810008021             810008021   0000000117.0000             0.00         10.710  ATCO_IRASV5_STAGE 2019-05-15 13:54:09\n",
       "13     Non-Piggable      24954         2011-11-16 2019-05-15 13:54:09   810008022             810008022   0000000118.0000             0.00          0.430  ATCO_IRASV5_STAGE 2019-05-15 13:54:09\n",
       "14     Non-Piggable      24847         2011-11-16 2019-05-15 13:54:09   810008023             810008023   0000000119.0000             0.00          1.000  ATCO_IRASV5_STAGE 2019-05-15 13:54:09\n",
       "15     Non-Piggable      24943         2011-11-16 2019-05-15 13:54:09   810008024             810008024   0000000012.0000             0.00       2222.570  ATCO_IRASV5_STAGE 2019-05-15 13:54:09\n",
       "16     Non-Piggable      24931         2011-11-16 2019-05-15 13:54:09   810008025             810008025   0000000120.0000             0.00          1.870  ATCO_IRASV5_STAGE 2019-05-15 13:54:09\n",
       "17     Non-Piggable      24939         2011-11-16 2019-05-15 13:54:09   810008026             810008026   0000000121.0000             0.00         11.740  ATCO_IRASV5_STAGE 2019-05-15 13:54:09\n",
       "18     Non-Piggable      24911         2011-11-16 2019-05-15 13:54:09   810008027             810008027   0000000122.0000             0.00         10.310  ATCO_IRASV5_STAGE 2019-05-15 13:54:09\n",
       "19     Non-Piggable      22751         2011-11-16 2019-05-15 13:54:09   810008028             810008028   0000000123.0000             0.00          5.610  ATCO_IRASV5_STAGE 2019-05-15 13:54:10\n",
       "20     Non-Piggable      24933         2011-11-16 2019-05-15 13:54:09   810008029             810008029   0000000124.0000             0.00          1.140  ATCO_IRASV5_STAGE 2019-05-15 13:54:09\n",
       "21     Non-Piggable      24899         2011-11-16 2019-05-15 13:54:09   810008030             810008030   0000000125.0000             0.00          0.750  ATCO_IRASV5_STAGE 2019-05-15 13:54:09\n",
       "22     Non-Piggable      24925         2011-11-16 2019-05-15 13:54:09   810008031             810008031   0000000126.0000             0.00          2.220  ATCO_IRASV5_STAGE 2019-05-15 13:54:09\n",
       "23     Non-Piggable      24843         2011-11-16 2019-05-15 13:54:09   810008032             810008032   0000000127.0000             0.00          1.000  ATCO_IRASV5_STAGE 2019-05-15 13:54:09\n",
       "24     Non-Piggable      24937         2011-11-16 2019-05-15 13:54:09   810008033             810008033   0000000128.0000             0.00          1.730  ATCO_IRASV5_STAGE 2019-05-15 13:54:09\n",
       "25     Non-Piggable      24929         2011-11-16 2019-05-15 13:54:09   810008034             810008034   0000000129.0000             0.00          1.630  ATCO_IRASV5_STAGE 2019-05-15 13:54:09\n",
       "26     Non-Piggable       9159         2011-11-16 2019-05-15 13:54:09   810008035             810008035   0000000013.0000             0.00       2174.780  ATCO_IRASV5_STAGE 2019-05-15 13:54:09\n",
       "27     Non-Piggable      24853         2011-11-16 2019-05-15 13:54:09   810008036             810008036   0000000130.0000             0.00          1.000  ATCO_IRASV5_STAGE 2019-05-15 13:54:09\n",
       "28     Non-Piggable      24935         2011-11-16 2019-05-15 13:54:09   810008037             810008037   0000000131.0000             0.00          0.800  ATCO_IRASV5_STAGE 2019-05-15 13:54:09\n",
       "29     Non-Piggable      24845         2011-11-16 2019-05-15 13:54:09   810008038             810008038   0000000132.0000             0.00          1.000  ATCO_IRASV5_STAGE 2019-05-15 13:54:09\n",
       "30     Non-Piggable      24927         2011-11-16 2019-05-15 13:54:09   810008039             810008039   0000000134.0000             0.00          2.220  ATCO_IRASV5_STAGE 2019-05-15 13:54:09\n",
       "31     Non-Piggable      24851         2011-11-16 2019-05-15 13:54:09   810008040             810008040   0000000135.0000             0.00          1.000  ATCO_IRASV5_STAGE 2019-05-15 13:54:09\n",
       "32     Non-Piggable      24849         2011-11-16 2019-05-15 13:54:09   810008041             810008041   0000000136.0000             0.00          1.000  ATCO_IRASV5_STAGE 2019-05-15 13:54:09\n",
       "33     Non-Piggable      24855         2011-11-16 2019-05-15 13:54:09   810008042             810008042   0000000137.0000             0.00          3.400  ATCO_IRASV5_STAGE 2019-05-15 13:54:09\n",
       "34     Non-Piggable      24857         2011-11-16 2019-05-15 13:54:09   810008043             810008043   0000000138.0000             0.00         23.340  ATCO_IRASV5_STAGE 2019-05-15 13:54:09\n",
       "35     Non-Piggable      24950         2011-11-16 2019-05-15 13:54:09   810008044             810008044   0000000139.0000             0.00          1.170  ATCO_IRASV5_STAGE 2019-05-15 13:54:09\n",
       "36     Non-Piggable      24913         2011-11-16 2019-05-15 13:54:09   810008045             810008045   0000000014.0000             0.00        419.370  ATCO_IRASV5_STAGE 2019-05-15 13:54:09\n",
       "37     Non-Piggable       9179         2011-11-16 2019-05-15 13:54:09   810008046             810008046   0000000017.0000             0.00       1780.290  ATCO_IRASV5_STAGE 2019-05-15 13:54:09\n",
       "38     Non-Piggable      25893         2011-11-16 2019-05-15 13:54:09   810008047             810008047   0000000018.0000             0.00        693.850  ATCO_IRASV5_STAGE 2019-05-15 13:54:09\n",
       "39     Non-Piggable      24897         2011-11-16 2019-05-15 13:54:09   810008048             810008048   0000000019.0000             0.00        829.980  ATCO_IRASV5_STAGE 2019-05-15 13:54:09\n",
       "40     Non-Piggable      24909         2011-11-16 2019-05-15 13:54:09   810008049             810008049   0000000903.0000             0.00          1.900  ATCO_IRASV5_STAGE 2019-05-15 13:54:09\n",
       "41     Non-Piggable  804258786         1997-01-01 2019-05-15 13:54:09   810008050             810008050   0000000904.0000             0.00        558.910  ATCO_IRASV5_STAGE 2019-05-15 13:54:09\n",
       "42     Non-Piggable       9913         2011-11-16 2019-05-15 13:54:09   810008051             810008051   0000005011.0000             0.00      11442.550  ATCO_IRASV5_STAGE 2019-05-15 13:54:09\n",
       "43     Non-Piggable      20529         2011-11-16 2019-05-15 13:54:09   810008052             810008052   0000050110.0000             0.00          1.000  ATCO_IRASV5_STAGE 2019-05-15 13:54:10\n",
       "44     Non-Piggable      20539         2011-11-16 2019-05-15 13:54:09   810008053             810008053   0000050111.0000             0.00          1.000  ATCO_IRASV5_STAGE 2019-05-15 13:54:10\n",
       "45     Non-Piggable      17153         2011-11-16 2019-05-15 13:54:09   810008054             810008054   0000005012.0000             0.00       1268.950  ATCO_IRASV5_STAGE 2019-05-15 13:54:09\n",
       "46     Non-Piggable      20537         2011-11-16 2019-05-15 13:54:09   810008055             810008055   0000005013.0000             0.00          1.000  ATCO_IRASV5_STAGE 2019-05-15 13:54:10\n",
       "47     Non-Piggable      20523         2011-11-16 2019-05-15 13:54:09   810008056             810008056   0000005014.0000             0.00          2.000  ATCO_IRASV5_STAGE 2019-05-15 13:54:10\n",
       "48     Non-Piggable      20527         2011-11-16 2019-05-15 13:54:09   810008057             810008057   0000005015.0000             0.00          1.000  ATCO_IRASV5_STAGE 2019-05-15 13:54:10\n",
       "49     Non-Piggable      20531         2011-11-16 2019-05-15 13:54:09   810008058             810008058   0000005016.0000             0.00          1.000  ATCO_IRASV5_STAGE 2019-05-15 13:54:10\n",
       "...             ...        ...                ...                 ...         ...                   ...               ...              ...            ...                ...                 ...\n",
       "14196  Non-Piggable  810039803         2019-10-25                 NaT   810037337             810037337   0000000168.0000             0.00       1733.570  ATCO_IRASV5_STAGE 2019-10-28 10:44:12\n",
       "14197  Non-Piggable  810042961         2019-10-25                 NaT   810037338             810037338   0000000017.0000             0.00       1780.290  ATCO_IRASV5_STAGE 2019-10-28 10:44:13\n",
       "14198  Non-Piggable  810039966         2019-10-25                 NaT   810037339             810037339   0000000727.0000             0.00       1337.740  ATCO_IRASV5_STAGE 2019-10-28 10:44:13\n",
       "14199  Non-Piggable  810044312         2019-10-25                 NaT   810037340             810037340   0000029109.0000             0.00        159.140  ATCO_IRASV5_STAGE 2019-10-28 10:44:13\n",
       "14200  Non-Piggable  810043959         2019-10-25                 NaT   810037341             810037341   0000005371.0000             0.00       1443.320  ATCO_IRASV5_STAGE 2019-10-28 10:44:13\n",
       "14201  Non-Piggable  810041533         2019-10-25                 NaT   810037342             810037342   0000006411.0000             0.00        890.500  ATCO_IRASV5_STAGE 2019-10-28 10:44:13\n",
       "14202  Non-Piggable  810043651         2019-10-25                 NaT   810037343             810037343   0000007310.0000             0.00       3614.830  ATCO_IRASV5_STAGE 2019-10-28 10:44:13\n",
       "14203  Non-Piggable  810042470         2019-10-25                 NaT   810037344             810037344   0000000419.0000             0.00       6812.200  ATCO_IRASV5_STAGE 2019-10-28 10:44:13\n",
       "14204  Non-Piggable  810040314         2019-10-25                 NaT   810037345             810037345   0000000344.0000             0.00       3447.410  ATCO_IRASV5_STAGE 2019-10-28 10:44:13\n",
       "14205  Non-Piggable  810042017         2019-10-25                 NaT   810037346             810037346   0000000032.0000             0.00        988.270  ATCO_IRASV5_STAGE 2019-10-28 10:44:13\n",
       "14206  Non-Piggable  810038750         2019-10-25                 NaT   810037347             810037347   0000002932.0000             0.00       3266.360  ATCO_IRASV5_STAGE 2019-10-28 10:44:12\n",
       "14207  Non-Piggable  810044515         2019-10-25                 NaT   810037348             810037348   0000000494.0000             0.00        812.340  ATCO_IRASV5_STAGE 2019-10-28 10:44:13\n",
       "14208  Non-Piggable  810038375         2019-10-25                 NaT   810037349             810037349   0000011518.0000             0.00        443.130  ATCO_IRASV5_STAGE 2019-10-28 10:44:12\n",
       "14209  Non-Piggable  810038962         2019-10-25                 NaT   810037350             810037350   0000000308.0000             0.00       2596.430  ATCO_IRASV5_STAGE 2019-10-28 10:44:12\n",
       "14210  Non-Piggable  810041730         2019-10-25                 NaT   810037351             810037351   0000079513.0000             0.00        523.870  ATCO_IRASV5_STAGE 2019-10-28 10:44:13\n",
       "14211  Non-Piggable  810040553         2019-10-25                 NaT   810037352             810037352   0000007201.0000             0.00       1055.720  ATCO_IRASV5_STAGE 2019-10-28 10:44:13\n",
       "14212  Non-Piggable  810039228         2019-10-25                 NaT   810037353             810037353   0000007211.0000             0.00      23332.130  ATCO_IRASV5_STAGE 2019-10-28 10:44:12\n",
       "14213  Non-Piggable  810041392         2019-10-25                 NaT   810037354             810037354   0000005011.0000             0.00      11442.550  ATCO_IRASV5_STAGE 2019-10-28 10:44:13\n",
       "14214  Non-Piggable  810042620         2019-10-25                 NaT   810037355             810037355   0000007091.0000             0.00       7253.810  ATCO_IRASV5_STAGE 2019-10-28 10:44:13\n",
       "14215  Non-Piggable  810041403         2019-10-25                 NaT   810037356             810037356   0000007401.0000             0.00       4151.800  ATCO_IRASV5_STAGE 2019-10-28 10:44:13\n",
       "14216  Non-Piggable  810042134         2019-10-25                 NaT   810037357             810037357   0000007181.0000             0.00      10677.960  ATCO_IRASV5_STAGE 2019-10-28 10:44:13\n",
       "14217  Non-Piggable  810038459         2019-10-25                 NaT   810037375             810037375   0000943802.0000             1.00        192.900  ATCO_IRASV5_STAGE 2019-10-28 10:44:12\n",
       "14218  Non-Piggable  810040518         2019-10-25                 NaT   810037376             810037376   0000943803.0000             0.00        131.290  ATCO_IRASV5_STAGE 2019-10-28 10:44:13\n",
       "14219  Non-Piggable  810037752         2019-10-25                 NaT   810037377             810037377   0000943804.0000             0.00         34.040  ATCO_IRASV5_STAGE 2019-10-28 10:44:12\n",
       "14220  Non-Piggable  810042728         2019-10-25                 NaT   810037378             810037378   0009438012.0000             0.70          1.000  ATCO_IRASV5_STAGE 2019-10-28 10:44:13\n",
       "14221  Non-Piggable  810038465         2019-10-25                 NaT   810037379             810037379   0000080112.0000             0.00         53.100  ATCO_IRASV5_STAGE 2019-10-28 10:44:12\n",
       "14222  Non-Piggable  810042065         2019-10-25                 NaT   810037380             810037380   0000055812.0000             0.00          8.600  ATCO_IRASV5_STAGE 2019-10-28 10:44:13\n",
       "14223  Non-Piggable  810044196         2019-10-25                 NaT   810037381             810037381   0000110101.0000             0.00         32.600  ATCO_IRASV5_STAGE 2019-10-28 10:44:13\n",
       "14224  Non-Piggable  810037815         2019-10-25                 NaT   810037382             810037382   0000794100.0000             0.00          9.500  ATCO_IRASV5_STAGE 2019-10-28 10:44:12\n",
       "14225  Non-Piggable  810042652         2019-10-25                 NaT   810037383             810037383   0000003701.0000             0.00         21.100  ATCO_IRASV5_STAGE 2019-10-28 10:44:13\n",
       "14226  Non-Piggable  810043645         2019-10-25                 NaT   810037384             810037384   0000794101.0000             0.00         20.100  ATCO_IRASV5_STAGE 2019-10-28 10:44:13\n",
       "14227  Non-Piggable  810043670         2019-10-25                 NaT   810037385             810037385   0000068761.0000         12968.50      15281.600  ATCO_IRASV5_STAGE 2019-10-28 10:44:13\n",
       "14228  Non-Piggable  810039411         2019-10-25                 NaT   810037386             810037386   0000068762.0000             0.00         11.000  ATCO_IRASV5_STAGE 2019-10-28 10:44:12\n",
       "14229  Non-Piggable  810037770         2019-10-25                 NaT   810037387             810037387   0000727140.0000          2223.10       4308.080  ATCO_IRASV5_STAGE 2019-10-28 10:44:12\n",
       "14230  Non-Piggable  810042539         2019-10-25                 NaT   810037388             810037388   0000003801.0000             0.00       4869.900  ATCO_IRASV5_STAGE 2019-10-28 10:44:13\n",
       "14231  Non-Piggable  810044617         2019-10-25                 NaT   810044609             810044609   0000001202.0000             0.00         17.950  ATCO_IRASV5_STAGE 2019-10-28 10:44:13\n",
       "14232  Non-Piggable  810044622         2019-10-25                 NaT   810044610             810044610   0000050928.0000            18.63         37.260  ATCO_IRASV5_STAGE 2019-10-28 10:44:13\n",
       "14233  Non-Piggable  810044620         2019-10-25                 NaT   810044611             810044611   0000012055.0000             0.00          9.700  ATCO_IRASV5_STAGE 2019-10-28 10:44:13\n",
       "14234  Non-Piggable  810044619         2019-10-25                 NaT   810044612             810044612   0000001203.0000             0.00          0.700  ATCO_IRASV5_STAGE 2019-10-28 10:44:13\n",
       "14235  Non-Piggable  810044623         2019-10-25                 NaT   810044613             810044613   0000001204.0000             0.00         16.360  ATCO_IRASV5_STAGE 2019-10-28 10:44:13\n",
       "14236  Non-Piggable  810044616         2019-10-25                 NaT   810044614             810044614   0000108121.0000         12367.16      13269.180  ATCO_IRASV5_STAGE 2019-10-28 10:44:13\n",
       "14237  Non-Piggable  810044668         2019-10-25                 NaT   810044651             810044651   0000068032.0000             0.00          9.382  ATCO_IRASV5_STAGE 2019-10-28 10:44:13\n",
       "14238  Non-Piggable  810044671         2019-10-25                 NaT   810044654             810044654   0000068033.0000             0.00          4.207  ATCO_IRASV5_STAGE 2019-10-28 10:44:13\n",
       "14239  Non-Piggable  810044662         2019-10-25                 NaT   810044661             810044661   0000131391.0000           580.50        586.700  ATCO_IRASV5_STAGE 2019-10-28 10:44:13\n",
       "14240  Non-Piggable  810044711         2019-10-25                 NaT   810044677             810044677   0000003809.0000             0.00         15.700  ATCO_IRASV5_STAGE 2019-10-28 10:44:12\n",
       "14241  Non-Piggable  810044717         2019-10-25                 NaT   810044682             810044682   0000000009.0000             0.00          6.904  ATCO_IRASV5_STAGE 2019-10-28 10:44:12\n",
       "14242  Non-Piggable  810044703         2019-10-25                 NaT   810044684             810044684   0000003807.0000             0.00         43.698  ATCO_IRASV5_STAGE 2019-10-28 10:44:12\n",
       "14243  Non-Piggable  810044704         2019-10-25                 NaT   810044688             810044688   0000000010.0000             0.00          2.405  ATCO_IRASV5_STAGE 2019-10-28 10:44:12\n",
       "14244  Non-Piggable  810044715         2019-10-25                 NaT   810044697             810044697   0000000011.0000             0.00          4.454  ATCO_IRASV5_STAGE 2019-10-28 10:44:12\n",
       "14245  Non-Piggable  810044706         2019-10-25                 NaT   810044699             810044699   0000000012.0000             0.00          6.000  ATCO_IRASV5_STAGE 2019-10-28 10:44:12\n",
       "\n",
       "[14246 rows x 11 columns]"
      ]
     },
     "execution_count": 20,
     "metadata": {},
     "output_type": "execute_result"
    }
   ],
   "source": [
    "ssdf"
   ]
  },
  {
   "cell_type": "code",
   "execution_count": 31,
   "metadata": {},
   "outputs": [
    {
     "data": {
      "text/plain": [
       "9359848.341"
      ]
     },
     "execution_count": 31,
     "metadata": {},
     "output_type": "execute_result"
    }
   ],
   "source": [
    "ssdf.assign(length = lambda x: x.ENDSTATIONNUM-x.BEGINSTATIONNUM)\\\n",
    ".query(\"EFFECTIVEENDDATE.isnull()\")\\\n",
    ".length.sum()"
   ]
  },
  {
   "cell_type": "code",
   "execution_count": 23,
   "metadata": {},
   "outputs": [],
   "source": [
    "l = 9_359_848.341/1000."
   ]
  },
  {
   "cell_type": "code",
   "execution_count": 25,
   "metadata": {},
   "outputs": [
    {
     "data": {
      "text/plain": [
       "0.00010683933794307191"
      ]
     },
     "execution_count": 25,
     "metadata": {},
     "output_type": "execute_result"
    }
   ],
   "source": [
    "1/(l*1)"
   ]
  },
  {
   "cell_type": "code",
   "execution_count": 26,
   "metadata": {},
   "outputs": [
    {
     "data": {
      "text/plain": [
       "0.03333333333333333"
      ]
     },
     "execution_count": 26,
     "metadata": {},
     "output_type": "execute_result"
    }
   ],
   "source": [
    "1/(1*30)"
   ]
  }
 ],
 "metadata": {
  "hide_input": false,
  "kernelspec": {
   "display_name": "Python 3",
   "language": "python",
   "name": "python3"
  },
  "language_info": {
   "codemirror_mode": {
    "name": "ipython",
    "version": 3
   },
   "file_extension": ".py",
   "mimetype": "text/x-python",
   "name": "python",
   "nbconvert_exporter": "python",
   "pygments_lexer": "ipython3",
   "version": "3.6.8"
  },
  "toc": {
   "base_numbering": 1,
   "nav_menu": {},
   "number_sections": true,
   "sideBar": true,
   "skip_h1_title": false,
   "title_cell": "Table of Contents",
   "title_sidebar": "Contents",
   "toc_cell": false,
   "toc_position": {
    "height": "calc(100% - 180px)",
    "left": "10px",
    "top": "150px",
    "width": "283.8px"
   },
   "toc_section_display": true,
   "toc_window_display": true
  },
  "varInspector": {
   "cols": {
    "lenName": 16,
    "lenType": 16,
    "lenVar": 40
   },
   "kernels_config": {
    "python": {
     "delete_cmd_postfix": "",
     "delete_cmd_prefix": "del ",
     "library": "var_list.py",
     "varRefreshCmd": "print(var_dic_list())"
    },
    "r": {
     "delete_cmd_postfix": ") ",
     "delete_cmd_prefix": "rm(",
     "library": "var_list.r",
     "varRefreshCmd": "cat(var_dic_list()) "
    }
   },
   "types_to_exclude": [
    "module",
    "function",
    "builtin_function_or_method",
    "instance",
    "_Feature"
   ],
   "window_display": false
  }
 },
 "nbformat": 4,
 "nbformat_minor": 2
}
